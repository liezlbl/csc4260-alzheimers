{
 "cells": [
  {
   "cell_type": "code",
   "execution_count": 1,
   "id": "ccde1686",
   "metadata": {},
   "outputs": [
    {
     "name": "stdout",
     "output_type": "stream",
     "text": [
      "Defaulting to user installation because normal site-packages is not writeable\n",
      "Requirement already satisfied: numpy in /home/tntech.edu/lblaurel42/.local/lib/python3.10/site-packages (from -r requirements.txt (line 1)) (1.26.4)\n",
      "Requirement already satisfied: tensorflow in /home/tntech.edu/lblaurel42/.local/lib/python3.10/site-packages (from -r requirements.txt (line 2)) (2.16.1)\n",
      "Requirement already satisfied: nibabel in /home/tntech.edu/lblaurel42/.local/lib/python3.10/site-packages (from -r requirements.txt (line 3)) (5.2.1)\n",
      "Requirement already satisfied: scikit-learn in /home/tntech.edu/lblaurel42/.local/lib/python3.10/site-packages (from -r requirements.txt (line 4)) (1.4.1.post1)\n",
      "Requirement already satisfied: nilearn in /home/tntech.edu/lblaurel42/.local/lib/python3.10/site-packages (from -r requirements.txt (line 5)) (0.10.3)\n",
      "Requirement already satisfied: opencv-python in /home/tntech.edu/lblaurel42/.local/lib/python3.10/site-packages (from -r requirements.txt (line 6)) (4.9.0.80)\n",
      "Requirement already satisfied: astunparse>=1.6.0 in /home/tntech.edu/lblaurel42/.local/lib/python3.10/site-packages (from tensorflow->-r requirements.txt (line 2)) (1.6.3)\n",
      "Requirement already satisfied: packaging in /opt/ohpc/pub/spack/v0.20.1/opt/spack/linux-rocky8-x86_64_v3/gcc-8.5.0/py-packaging-23.0-37h5zhk354n7of2enhbh2woin4yhcxkd/lib/python3.10/site-packages (from tensorflow->-r requirements.txt (line 2)) (23.0)\n",
      "Requirement already satisfied: termcolor>=1.1.0 in /home/tntech.edu/lblaurel42/.local/lib/python3.10/site-packages (from tensorflow->-r requirements.txt (line 2)) (2.4.0)\n",
      "Requirement already satisfied: ml-dtypes~=0.3.1 in /home/tntech.edu/lblaurel42/.local/lib/python3.10/site-packages (from tensorflow->-r requirements.txt (line 2)) (0.3.2)\n",
      "Requirement already satisfied: requests<3,>=2.21.0 in /home/tntech.edu/lblaurel42/.local/lib/python3.10/site-packages (from tensorflow->-r requirements.txt (line 2)) (2.31.0)\n",
      "Requirement already satisfied: libclang>=13.0.0 in /home/tntech.edu/lblaurel42/.local/lib/python3.10/site-packages (from tensorflow->-r requirements.txt (line 2)) (18.1.1)\n",
      "Requirement already satisfied: setuptools in /opt/ohpc/pub/spack/v0.20.1/opt/spack/linux-rocky8-x86_64_v3/gcc-8.5.0/py-setuptools-67.6.0-jrtke74ly4p6fpcw2zfkfbofmadbpknf/lib/python3.10/site-packages (from tensorflow->-r requirements.txt (line 2)) (67.6.0)\n",
      "Requirement already satisfied: h5py>=3.10.0 in /home/tntech.edu/lblaurel42/.local/lib/python3.10/site-packages (from tensorflow->-r requirements.txt (line 2)) (3.10.0)\n",
      "Requirement already satisfied: absl-py>=1.0.0 in /home/tntech.edu/lblaurel42/.local/lib/python3.10/site-packages (from tensorflow->-r requirements.txt (line 2)) (2.1.0)\n",
      "Requirement already satisfied: google-pasta>=0.1.1 in /home/tntech.edu/lblaurel42/.local/lib/python3.10/site-packages (from tensorflow->-r requirements.txt (line 2)) (0.2.0)\n",
      "Requirement already satisfied: flatbuffers>=23.5.26 in /home/tntech.edu/lblaurel42/.local/lib/python3.10/site-packages (from tensorflow->-r requirements.txt (line 2)) (24.3.7)\n",
      "Requirement already satisfied: tensorboard<2.17,>=2.16 in /home/tntech.edu/lblaurel42/.local/lib/python3.10/site-packages (from tensorflow->-r requirements.txt (line 2)) (2.16.2)\n",
      "Requirement already satisfied: tensorflow-io-gcs-filesystem>=0.23.1 in /home/tntech.edu/lblaurel42/.local/lib/python3.10/site-packages (from tensorflow->-r requirements.txt (line 2)) (0.36.0)\n",
      "Requirement already satisfied: protobuf!=4.21.0,!=4.21.1,!=4.21.2,!=4.21.3,!=4.21.4,!=4.21.5,<5.0.0dev,>=3.20.3 in /home/tntech.edu/lblaurel42/.local/lib/python3.10/site-packages (from tensorflow->-r requirements.txt (line 2)) (4.25.3)\n",
      "Requirement already satisfied: wrapt>=1.11.0 in /home/tntech.edu/lblaurel42/.local/lib/python3.10/site-packages (from tensorflow->-r requirements.txt (line 2)) (1.16.0)\n",
      "Requirement already satisfied: opt-einsum>=2.3.2 in /home/tntech.edu/lblaurel42/.local/lib/python3.10/site-packages (from tensorflow->-r requirements.txt (line 2)) (3.3.0)\n",
      "Requirement already satisfied: six>=1.12.0 in /opt/ohpc/pub/spack/v0.20.1/opt/spack/linux-rocky8-x86_64_v3/gcc-8.5.0/py-six-1.16.0-6dgvezhlg4ldd7kwubyekohfdgd27wkz/lib/python3.10/site-packages (from tensorflow->-r requirements.txt (line 2)) (1.16.0)\n",
      "Requirement already satisfied: keras>=3.0.0 in /home/tntech.edu/lblaurel42/.local/lib/python3.10/site-packages (from tensorflow->-r requirements.txt (line 2)) (3.1.1)\n",
      "Requirement already satisfied: grpcio<2.0,>=1.24.3 in /home/tntech.edu/lblaurel42/.local/lib/python3.10/site-packages (from tensorflow->-r requirements.txt (line 2)) (1.62.1)\n",
      "Requirement already satisfied: typing-extensions>=3.6.6 in /opt/ohpc/pub/spack/v0.20.1/opt/spack/linux-rocky8-x86_64_v3/gcc-8.5.0/py-typing-extensions-4.5.0-jdrgbkgow6psxfljmfvdponaveuz3d3z/lib/python3.10/site-packages (from tensorflow->-r requirements.txt (line 2)) (4.5.0)\n",
      "Requirement already satisfied: gast!=0.5.0,!=0.5.1,!=0.5.2,>=0.2.1 in /home/tntech.edu/lblaurel42/.local/lib/python3.10/site-packages (from tensorflow->-r requirements.txt (line 2)) (0.5.4)\n",
      "Requirement already satisfied: threadpoolctl>=2.0.0 in /home/tntech.edu/lblaurel42/.local/lib/python3.10/site-packages (from scikit-learn->-r requirements.txt (line 4)) (3.4.0)\n",
      "Requirement already satisfied: joblib>=1.2.0 in /home/tntech.edu/lblaurel42/.local/lib/python3.10/site-packages (from scikit-learn->-r requirements.txt (line 4)) (1.3.2)\n",
      "Requirement already satisfied: scipy>=1.6.0 in /home/tntech.edu/lblaurel42/.local/lib/python3.10/site-packages (from scikit-learn->-r requirements.txt (line 4)) (1.12.0)\n",
      "Requirement already satisfied: lxml in /opt/ohpc/pub/spack/v0.20.1/opt/spack/linux-rocky8-x86_64_v3/gcc-8.5.0/py-lxml-4.9.1-n4mxujk5mt2nxmj2344dyioitsk32d2w/lib/python3.10/site-packages (from nilearn->-r requirements.txt (line 5)) (4.9.1)\n",
      "Requirement already satisfied: pandas>=1.1.5 in /home/tntech.edu/lblaurel42/.local/lib/python3.10/site-packages (from nilearn->-r requirements.txt (line 5)) (2.2.1)\n",
      "Requirement already satisfied: wheel<1.0,>=0.23.0 in /opt/ohpc/pub/spack/v0.20.1/opt/spack/linux-rocky8-x86_64_v3/gcc-8.5.0/py-wheel-0.37.1-c5uwc7cvg4tbxge45gpdi4d3252vd7rt/lib/python3.10/site-packages (from astunparse>=1.6.0->tensorflow->-r requirements.txt (line 2)) (0.37.1)\n",
      "Requirement already satisfied: optree in /home/tntech.edu/lblaurel42/.local/lib/python3.10/site-packages (from keras>=3.0.0->tensorflow->-r requirements.txt (line 2)) (0.11.0)\n",
      "Requirement already satisfied: namex in /home/tntech.edu/lblaurel42/.local/lib/python3.10/site-packages (from keras>=3.0.0->tensorflow->-r requirements.txt (line 2)) (0.0.7)\n",
      "Requirement already satisfied: rich in /home/tntech.edu/lblaurel42/.local/lib/python3.10/site-packages (from keras>=3.0.0->tensorflow->-r requirements.txt (line 2)) (13.7.1)\n",
      "Requirement already satisfied: pytz>=2020.1 in /home/tntech.edu/lblaurel42/.local/lib/python3.10/site-packages (from pandas>=1.1.5->nilearn->-r requirements.txt (line 5)) (2024.1)\n",
      "Requirement already satisfied: tzdata>=2022.7 in /home/tntech.edu/lblaurel42/.local/lib/python3.10/site-packages (from pandas>=1.1.5->nilearn->-r requirements.txt (line 5)) (2024.1)\n",
      "Requirement already satisfied: python-dateutil>=2.8.2 in /opt/ohpc/pub/spack/v0.20.1/opt/spack/linux-rocky8-x86_64_v3/gcc-8.5.0/py-python-dateutil-2.8.2-jzo7od4rj3bjnksztda6tzljfalwczcd/lib/python3.10/site-packages (from pandas>=1.1.5->nilearn->-r requirements.txt (line 5)) (2.8.2)\n",
      "Requirement already satisfied: certifi>=2017.4.17 in /home/tntech.edu/lblaurel42/.local/lib/python3.10/site-packages (from requests<3,>=2.21.0->tensorflow->-r requirements.txt (line 2)) (2024.2.2)\n",
      "Requirement already satisfied: urllib3<3,>=1.21.1 in /home/tntech.edu/lblaurel42/.local/lib/python3.10/site-packages (from requests<3,>=2.21.0->tensorflow->-r requirements.txt (line 2)) (2.2.1)\n",
      "Requirement already satisfied: idna<4,>=2.5 in /home/tntech.edu/lblaurel42/.local/lib/python3.10/site-packages (from requests<3,>=2.21.0->tensorflow->-r requirements.txt (line 2)) (3.6)\n",
      "Requirement already satisfied: charset-normalizer<4,>=2 in /home/tntech.edu/lblaurel42/.local/lib/python3.10/site-packages (from requests<3,>=2.21.0->tensorflow->-r requirements.txt (line 2)) (3.3.2)\n"
     ]
    },
    {
     "name": "stdout",
     "output_type": "stream",
     "text": [
      "Requirement already satisfied: werkzeug>=1.0.1 in /home/tntech.edu/lblaurel42/.local/lib/python3.10/site-packages (from tensorboard<2.17,>=2.16->tensorflow->-r requirements.txt (line 2)) (3.0.1)\n",
      "Requirement already satisfied: tensorboard-data-server<0.8.0,>=0.7.0 in /home/tntech.edu/lblaurel42/.local/lib/python3.10/site-packages (from tensorboard<2.17,>=2.16->tensorflow->-r requirements.txt (line 2)) (0.7.2)\n",
      "Requirement already satisfied: markdown>=2.6.8 in /home/tntech.edu/lblaurel42/.local/lib/python3.10/site-packages (from tensorboard<2.17,>=2.16->tensorflow->-r requirements.txt (line 2)) (3.6)\n",
      "Requirement already satisfied: MarkupSafe>=2.1.1 in /opt/ohpc/pub/spack/v0.20.1/opt/spack/linux-rocky8-x86_64_v3/gcc-8.5.0/py-markupsafe-2.1.1-cg2ztutnuytp2qg2jotjnfkpochyw5ho/lib/python3.10/site-packages (from werkzeug>=1.0.1->tensorboard<2.17,>=2.16->tensorflow->-r requirements.txt (line 2)) (2.1.1)\n",
      "Requirement already satisfied: pygments<3.0.0,>=2.13.0 in /opt/ohpc/pub/spack/v0.20.1/opt/spack/linux-rocky8-x86_64_v3/gcc-8.5.0/py-pygments-2.13.0-czh52376oa42x7l7vdbl5i5q4xm43yfg/lib/python3.10/site-packages (from rich->keras>=3.0.0->tensorflow->-r requirements.txt (line 2)) (2.13.0)\n",
      "Requirement already satisfied: markdown-it-py>=2.2.0 in /home/tntech.edu/lblaurel42/.local/lib/python3.10/site-packages (from rich->keras>=3.0.0->tensorflow->-r requirements.txt (line 2)) (3.0.0)\n",
      "Requirement already satisfied: mdurl~=0.1 in /home/tntech.edu/lblaurel42/.local/lib/python3.10/site-packages (from markdown-it-py>=2.2.0->rich->keras>=3.0.0->tensorflow->-r requirements.txt (line 2)) (0.1.2)\n",
      "\n",
      "\u001b[1m[\u001b[0m\u001b[34;49mnotice\u001b[0m\u001b[1;39;49m]\u001b[0m\u001b[39;49m A new release of pip is available: \u001b[0m\u001b[31;49m23.0\u001b[0m\u001b[39;49m -> \u001b[0m\u001b[32;49m24.0\u001b[0m\n",
      "\u001b[1m[\u001b[0m\u001b[34;49mnotice\u001b[0m\u001b[1;39;49m]\u001b[0m\u001b[39;49m To update, run: \u001b[0m\u001b[32;49m/opt/ohpc/pub/spack/v0.20.1/opt/spack/linux-rocky8-x86_64_v3/gcc-8.5.0/python-3.10.10-pfj3kn4eqy4hivj33qcmazddy3xivrld/bin/python3.10 -m pip install --upgrade pip\u001b[0m\n",
      "Note: you may need to restart the kernel to use updated packages.\n"
     ]
    }
   ],
   "source": [
    "pip install -r requirements.txt"
   ]
  },
  {
   "cell_type": "code",
   "execution_count": 2,
   "id": "33c9439d",
   "metadata": {},
   "outputs": [
    {
     "name": "stderr",
     "output_type": "stream",
     "text": [
      "2024-04-12 12:37:07.638430: I external/local_tsl/tsl/cuda/cudart_stub.cc:32] Could not find cuda drivers on your machine, GPU will not be used.\n",
      "2024-04-12 12:37:07.645090: I external/local_tsl/tsl/cuda/cudart_stub.cc:32] Could not find cuda drivers on your machine, GPU will not be used.\n",
      "2024-04-12 12:37:07.714916: I tensorflow/core/platform/cpu_feature_guard.cc:210] This TensorFlow binary is optimized to use available CPU instructions in performance-critical operations.\n",
      "To enable the following instructions: AVX2 FMA, in other operations, rebuild TensorFlow with the appropriate compiler flags.\n",
      "2024-04-12 12:37:12.533304: W tensorflow/compiler/tf2tensorrt/utils/py_utils.cc:38] TF-TRT Warning: Could not find TensorRT\n"
     ]
    }
   ],
   "source": [
    "import numpy as np\n",
    "import os\n",
    "import tensorflow as tf\n",
    "import nibabel as nib\n",
    "import nilearn.image as nl_img\n",
    "from sklearn.model_selection import train_test_split\n",
    "from sklearn.utils import shuffle\n",
    "from sklearn.model_selection import train_test_split\n",
    "from tensorflow.keras import models, layers\n",
    "from tensorflow.keras.layers import Conv3D, MaxPooling3D, Flatten, Dense\n",
    "import matplotlib.pyplot as plt\n",
    "import cv2\n",
    "from nilearn.image import resample_img\n",
    "from scipy import ndimage\n",
    "from scipy import interpolate\n",
    "from scipy.interpolate import RectBivariateSpline\n",
    "import itertools"
   ]
  },
  {
   "cell_type": "code",
   "execution_count": 3,
   "id": "2fb76d11",
   "metadata": {},
   "outputs": [],
   "source": [
    "def read_nifti_file(filepath):\n",
    "    slices = []\n",
    "    scan = nib.load(filepath)\n",
    "    # Get raw data\n",
    "    scan = scan.get_fdata()\n",
    "    sagittal = scan.shape[2]\n",
    "    lower_quartile = int(sagittal * 0.25)\n",
    "    upper_quartile = int(sagittal * 0.75)\n",
    "    # Extract slices within the interquartile range\n",
    "    for i in range(lower_quartile, upper_quartile):\n",
    "        slice_img = (scan[:, :, i])\n",
    "        slices.append(slice_img.astype(np.float32))\n",
    "    return slices"
   ]
  },
  {
   "cell_type": "code",
   "execution_count": 4,
   "id": "f8ecdce8",
   "metadata": {},
   "outputs": [],
   "source": [
    "def reshape_image(img):\n",
    "    # Define the new shape\n",
    "    new_shape = (256, 256)\n",
    "    # Define x and y coordinates for original and new shape\n",
    "    x_old = np.linspace(0, 1, img.shape[1])\n",
    "    y_old = np.linspace(0, 1, img.shape[0])\n",
    "    x_new = np.linspace(0, 1, new_shape[1])\n",
    "    y_new = np.linspace(0, 1, new_shape[0])\n",
    "\n",
    "    interp_func = RectBivariateSpline(y_old, x_old, img, kx=1, ky=1)\n",
    "\n",
    "    # Perform interpolation to get the reshaped slice\n",
    "    reshaped_slice = interp_func(y_new, x_new)\n",
    "    \n",
    "    reshaped_slice = np.expand_dims(reshaped_slice, axis=-1)  # Adding channel dimension\n",
    "#     reshaped_slice = np.expand_dims(reshaped_slice, axis=0)\n",
    "    return reshaped_slice"
   ]
  },
  {
   "cell_type": "code",
   "execution_count": 5,
   "id": "99461a9e",
   "metadata": {},
   "outputs": [],
   "source": [
    "# Function to read and preprocess MRI data\n",
    "def process_data(data_dir):\n",
    "    final_data = []\n",
    "    file_paths = [\n",
    "        os.path.join(data_dir, x)\n",
    "        for x in os.listdir(data_dir)\n",
    "        if os.path.isfile(os.path.join(data_dir, x)) and x.endswith('.nii')\n",
    "    ]\n",
    "    mri_data = [read_nifti_file(path) for path in file_paths]\n",
    "    mri_data = list(itertools.chain(*mri_data))\n",
    "    mri_data = [reshape_image(img) for img in mri_data]\n",
    "    return mri_data"
   ]
  },
  {
   "cell_type": "code",
   "execution_count": 6,
   "id": "001ce6d5",
   "metadata": {},
   "outputs": [
    {
     "name": "stdout",
     "output_type": "stream",
     "text": [
      "6261\n",
      "10270\n",
      "11651\n"
     ]
    }
   ],
   "source": [
    "ad_dir = \"ADNI/AD\"\n",
    "cn_dir = \"ADNI/CN\"\n",
    "mci_dir = \"ADNI/MCI\"\n",
    "\n",
    "# Process MRI data for each class\n",
    "ad_mri = process_data(ad_dir)\n",
    "cn_mri = process_data(cn_dir)\n",
    "mci_mri = process_data(mci_dir)\n",
    "\n",
    "print(len(ad_mri))\n",
    "print(len(cn_mri))\n",
    "print(len(mci_mri))"
   ]
  },
  {
   "cell_type": "code",
   "execution_count": null,
   "id": "b38f3daa",
   "metadata": {},
   "outputs": [],
   "source": [
    "print(len(ad_mri))\n",
    "print(len(cn_mri))\n",
    "print(len(mci_mri))\n",
    "\n",
    "test_ad = []\n",
    "test_cn = []\n",
    "test_mci = []\n",
    "while (len(ad_mri) > 5000):\n",
    "    test_ad.append(ad_mri.pop())\n",
    "    \n",
    "while (len(cn_mri) > 5000):\n",
    "    while (len(test_cn) < len(test_ad)):\n",
    "        test_cn.append(cn_mri.pop())\n",
    "    cn_mri.pop()\n",
    "        \n",
    "while (len(mci_mri) > 5000):\n",
    "    while (len(test_mci) < len(test_ad)):\n",
    "        test_mci.append(mci_mri.pop())\n",
    "    mci_mri.pop()\n",
    "\n",
    "print(len(ad_mri))\n",
    "print(len(cn_mri))\n",
    "print(len(mci_mri))\n",
    "\n",
    "print(len(test_ad))\n",
    "print(len(test_cn))\n",
    "print(len(test_mci))"
   ]
  },
  {
   "cell_type": "code",
   "execution_count": null,
   "id": "83843b04",
   "metadata": {},
   "outputs": [],
   "source": [
    "# Define the CNN model\n",
    "def create_cnn(input_shape):\n",
    "    model = models.Sequential([\n",
    "        layers.Conv2D(32, (3, 3), activation='relu', input_shape=input_shape),\n",
    "        layers.MaxPooling2D((2, 2)),\n",
    "        layers.Conv2D(64, (3, 3), activation='relu'),\n",
    "        layers.MaxPooling2D((2, 2)),\n",
    "        layers.Conv2D(128, (3, 3), activation='relu'),\n",
    "        layers.MaxPooling2D((2, 2)),\n",
    "        layers.Conv2D(128, (3, 3), activation='relu'),\n",
    "        layers.MaxPooling2D((2, 2)),\n",
    "        layers.Flatten(),\n",
    "        layers.Dense(512, activation='relu'),\n",
    "        layers.Dropout(0.5),\n",
    "        layers.Dense(3, activation='softmax')  # 3 classes: AD, MCI, CN\n",
    "    ])\n",
    "    return model"
   ]
  },
  {
   "cell_type": "code",
   "execution_count": null,
   "id": "fff5f91c",
   "metadata": {},
   "outputs": [],
   "source": [
    "# Define input shape (shape of the MRI slices)\n",
    "input_shape = (256, 256, 1)  # Assuming all MRI slices have the same shape\n",
    "\n",
    "# batch_size = 32\n",
    "\n",
    "model = create_cnn(input_shape)\n",
    "\n",
    "# Compile the model\n",
    "model.compile(optimizer='adam',\n",
    "              loss='sparse_categorical_crossentropy',\n",
    "              metrics=['accuracy'])\n",
    "\n",
    "# Prepare data and labels\n",
    "X_train = ad_mri + cn_mri + mci_mri\n",
    "y_train = [0] * len(ad_mri) + [1] * len(cn_mri) + [2] * len(mci_mri)  # AD: 0, CN: 1, MCI: 2\n",
    "# X_train = ad_mri + cn_mri\n",
    "# y_train = [0] * len(ad_mri) + [1] * len(cn_mri)  # AD: 0, CN: 1, MCI: 2\n",
    "# Convert data and labels to numpy arrays\n",
    "X_train = np.array(X_train)\n",
    "y_train = np.array(y_train)\n",
    "\n",
    "# Shuffle data\n",
    "indices = np.arange(X_train.shape[0])\n",
    "np.random.shuffle(indices)\n",
    "X_train = X_train[indices]\n",
    "y_train = y_train[indices]"
   ]
  },
  {
   "cell_type": "code",
   "execution_count": null,
   "id": "24e09abd",
   "metadata": {},
   "outputs": [],
   "source": [
    "# Train the model and record metrics\n",
    "history = model.fit(X_train, y_train, epochs=3, batch_size=32, validation_split=0.2)\n",
    "\n",
    "# Plot learning curve\n",
    "plt.figure(figsize=(10, 6))\n",
    "\n",
    "# Plot training & validation accuracy values\n",
    "plt.plot(history.history['accuracy'])\n",
    "plt.plot(history.history['val_accuracy'])\n",
    "plt.title('Model accuracy')\n",
    "plt.ylabel('Accuracy')\n",
    "plt.xlabel('Epoch')\n",
    "plt.legend(['Train', 'Validation'], loc='upper left')\n",
    "plt.show()\n",
    "\n",
    "# Plot training & validation loss values\n",
    "plt.figure(figsize=(10, 6))\n",
    "plt.plot(history.history['loss'])\n",
    "plt.plot(history.history['val_loss'])\n",
    "plt.title('Model loss')\n",
    "plt.ylabel('Loss')\n",
    "plt.xlabel('Epoch')\n",
    "plt.legend(['Train', 'Validation'], loc='upper left')\n",
    "plt.show()"
   ]
  },
  {
   "cell_type": "code",
   "execution_count": null,
   "id": "94191fe4",
   "metadata": {},
   "outputs": [],
   "source": [
    "X_test = test_ad + test_cn + test_mci\n",
    "y_test = [0] * len(test_ad) + [1] * len(test_cn) + [2] * len(test_mci)\n",
    "\n",
    "X_test = np.array(X_test)\n",
    "y_test = np.array(y_test)\n",
    "\n",
    "test_loss, test_accuracy = model.evaluate(X_test, y_test)\n",
    "\n",
    "print(\"Test Loss:\", test_loss)\n",
    "print(\"Test Accuracy:\", test_accuracy)"
   ]
  },
  {
   "cell_type": "code",
   "execution_count": null,
   "id": "d7dcdfb5",
   "metadata": {},
   "outputs": [],
   "source": []
  }
 ],
 "metadata": {
  "kernelspec": {
   "display_name": "Python 3 (ipykernel)",
   "language": "python",
   "name": "python3"
  },
  "language_info": {
   "codemirror_mode": {
    "name": "ipython",
    "version": 3
   },
   "file_extension": ".py",
   "mimetype": "text/x-python",
   "name": "python",
   "nbconvert_exporter": "python",
   "pygments_lexer": "ipython3",
   "version": "3.10.13"
  }
 },
 "nbformat": 4,
 "nbformat_minor": 5
}
