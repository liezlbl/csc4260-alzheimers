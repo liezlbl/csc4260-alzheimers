{
  "nbformat": 4,
  "nbformat_minor": 0,
  "metadata": {
    "colab": {
      "provenance": []
    },
    "kernelspec": {
      "name": "python3",
      "display_name": "Python 3"
    },
    "language_info": {
      "name": "python"
    }
  },
  "cells": [
    {
      "cell_type": "markdown",
      "source": [
        "# More Exploration\n",
        "\n",
        "Key Documentation PDF: https://adni.loni.usc.edu/wp-content/themes/freshnews-dev-v2/documents/bio/inst_about_data.pdf\n",
        "\n",
        "and the ADNIMERGE_Methods PDF which is in the related Google Drive Folder"
      ],
      "metadata": {
        "id": "55umuT8uNEdL"
      }
    },
    {
      "cell_type": "code",
      "execution_count": null,
      "metadata": {
        "id": "MmxTnXT0M8F8"
      },
      "outputs": [],
      "source": [
        "# Imports\n",
        "import numpy as np\n",
        "import pandas as pd\n",
        "from google.colab import drive\n",
        "import matplotlib.pyplot as plt"
      ]
    },
    {
      "cell_type": "code",
      "source": [
        "drive.mount('/content/drive')\n",
        "full_df = pd.read_csv(\"/content/drive/MyDrive/Data_Science_Alzheimers_ADNI/ADNIMERGE_08Feb2024.csv\")\n",
        "\n",
        "#running as Liezl\n",
        "#full_df = pd.read_csv(\"/content/drive/MyDrive/ADNIMERGE_08Feb2024.csv\")\n",
        "full_df.head()"
      ],
      "metadata": {
        "colab": {
          "base_uri": "https://localhost:8080/",
          "height": 291
        },
        "id": "IHccec8UNPye",
        "outputId": "fde1c6d4-444b-4417-b4d7-b5e1afcbf179"
      },
      "execution_count": null,
      "outputs": [
        {
          "output_type": "stream",
          "name": "stdout",
          "text": [
            "Drive already mounted at /content/drive; to attempt to forcibly remount, call drive.mount(\"/content/drive\", force_remount=True).\n"
          ]
        },
        {
          "output_type": "stream",
          "name": "stderr",
          "text": [
            "<ipython-input-32-3ff74ce15991>:2: DtypeWarning: Columns (19,20,21,50,51,104,105,106) have mixed types. Specify dtype option on import or set low_memory=False.\n",
            "  full_df = pd.read_csv(\"/content/drive/MyDrive/Data_Science_Alzheimers_ADNI/ADNIMERGE_08Feb2024.csv\")\n"
          ]
        },
        {
          "output_type": "execute_result",
          "data": {
            "text/plain": [
              "   RID COLPROT ORIGPROT        PTID  SITE VISCODE    EXAMDATE DX_bl   AGE  \\\n",
              "0    2   ADNI1    ADNI1  011_S_0002    11      bl  2005-09-08    CN  74.3   \n",
              "1    3   ADNI1    ADNI1  011_S_0003    11      bl  2005-09-12    AD  81.3   \n",
              "2    3   ADNI1    ADNI1  011_S_0003    11     m06  2006-03-13    AD  81.3   \n",
              "3    3   ADNI1    ADNI1  011_S_0003    11     m12  2006-09-12    AD  81.3   \n",
              "4    3   ADNI1    ADNI1  011_S_0003    11     m24  2007-09-12    AD  81.3   \n",
              "\n",
              "  PTGENDER  ...  PTAU_bl   FDG_bl PIB_bl AV45_bl  FBB_bl  Years_bl  Month_bl  \\\n",
              "0     Male  ...      NaN  1.33615    NaN     NaN     NaN  0.000000   0.00000   \n",
              "1     Male  ...    22.83  1.10860    NaN     NaN     NaN  0.000000   0.00000   \n",
              "2     Male  ...    22.83  1.10860    NaN     NaN     NaN  0.498289   5.96721   \n",
              "3     Male  ...    22.83  1.10860    NaN     NaN     NaN  0.999316  11.96720   \n",
              "4     Male  ...    22.83  1.10860    NaN     NaN     NaN  1.998630  23.93440   \n",
              "\n",
              "   Month   M           update_stamp  \n",
              "0      0   0  2023-07-07 04:59:40.0  \n",
              "1      0   0  2023-07-07 04:59:40.0  \n",
              "2      6   6  2023-07-07 04:59:40.0  \n",
              "3     12  12  2023-07-07 04:59:40.0  \n",
              "4     24  24  2023-07-07 04:59:40.0  \n",
              "\n",
              "[5 rows x 116 columns]"
            ],
            "text/html": [
              "\n",
              "  <div id=\"df-46d5f2a1-8ad5-4b63-a9c4-261dbe2e4fb2\" class=\"colab-df-container\">\n",
              "    <div>\n",
              "<style scoped>\n",
              "    .dataframe tbody tr th:only-of-type {\n",
              "        vertical-align: middle;\n",
              "    }\n",
              "\n",
              "    .dataframe tbody tr th {\n",
              "        vertical-align: top;\n",
              "    }\n",
              "\n",
              "    .dataframe thead th {\n",
              "        text-align: right;\n",
              "    }\n",
              "</style>\n",
              "<table border=\"1\" class=\"dataframe\">\n",
              "  <thead>\n",
              "    <tr style=\"text-align: right;\">\n",
              "      <th></th>\n",
              "      <th>RID</th>\n",
              "      <th>COLPROT</th>\n",
              "      <th>ORIGPROT</th>\n",
              "      <th>PTID</th>\n",
              "      <th>SITE</th>\n",
              "      <th>VISCODE</th>\n",
              "      <th>EXAMDATE</th>\n",
              "      <th>DX_bl</th>\n",
              "      <th>AGE</th>\n",
              "      <th>PTGENDER</th>\n",
              "      <th>...</th>\n",
              "      <th>PTAU_bl</th>\n",
              "      <th>FDG_bl</th>\n",
              "      <th>PIB_bl</th>\n",
              "      <th>AV45_bl</th>\n",
              "      <th>FBB_bl</th>\n",
              "      <th>Years_bl</th>\n",
              "      <th>Month_bl</th>\n",
              "      <th>Month</th>\n",
              "      <th>M</th>\n",
              "      <th>update_stamp</th>\n",
              "    </tr>\n",
              "  </thead>\n",
              "  <tbody>\n",
              "    <tr>\n",
              "      <th>0</th>\n",
              "      <td>2</td>\n",
              "      <td>ADNI1</td>\n",
              "      <td>ADNI1</td>\n",
              "      <td>011_S_0002</td>\n",
              "      <td>11</td>\n",
              "      <td>bl</td>\n",
              "      <td>2005-09-08</td>\n",
              "      <td>CN</td>\n",
              "      <td>74.3</td>\n",
              "      <td>Male</td>\n",
              "      <td>...</td>\n",
              "      <td>NaN</td>\n",
              "      <td>1.33615</td>\n",
              "      <td>NaN</td>\n",
              "      <td>NaN</td>\n",
              "      <td>NaN</td>\n",
              "      <td>0.000000</td>\n",
              "      <td>0.00000</td>\n",
              "      <td>0</td>\n",
              "      <td>0</td>\n",
              "      <td>2023-07-07 04:59:40.0</td>\n",
              "    </tr>\n",
              "    <tr>\n",
              "      <th>1</th>\n",
              "      <td>3</td>\n",
              "      <td>ADNI1</td>\n",
              "      <td>ADNI1</td>\n",
              "      <td>011_S_0003</td>\n",
              "      <td>11</td>\n",
              "      <td>bl</td>\n",
              "      <td>2005-09-12</td>\n",
              "      <td>AD</td>\n",
              "      <td>81.3</td>\n",
              "      <td>Male</td>\n",
              "      <td>...</td>\n",
              "      <td>22.83</td>\n",
              "      <td>1.10860</td>\n",
              "      <td>NaN</td>\n",
              "      <td>NaN</td>\n",
              "      <td>NaN</td>\n",
              "      <td>0.000000</td>\n",
              "      <td>0.00000</td>\n",
              "      <td>0</td>\n",
              "      <td>0</td>\n",
              "      <td>2023-07-07 04:59:40.0</td>\n",
              "    </tr>\n",
              "    <tr>\n",
              "      <th>2</th>\n",
              "      <td>3</td>\n",
              "      <td>ADNI1</td>\n",
              "      <td>ADNI1</td>\n",
              "      <td>011_S_0003</td>\n",
              "      <td>11</td>\n",
              "      <td>m06</td>\n",
              "      <td>2006-03-13</td>\n",
              "      <td>AD</td>\n",
              "      <td>81.3</td>\n",
              "      <td>Male</td>\n",
              "      <td>...</td>\n",
              "      <td>22.83</td>\n",
              "      <td>1.10860</td>\n",
              "      <td>NaN</td>\n",
              "      <td>NaN</td>\n",
              "      <td>NaN</td>\n",
              "      <td>0.498289</td>\n",
              "      <td>5.96721</td>\n",
              "      <td>6</td>\n",
              "      <td>6</td>\n",
              "      <td>2023-07-07 04:59:40.0</td>\n",
              "    </tr>\n",
              "    <tr>\n",
              "      <th>3</th>\n",
              "      <td>3</td>\n",
              "      <td>ADNI1</td>\n",
              "      <td>ADNI1</td>\n",
              "      <td>011_S_0003</td>\n",
              "      <td>11</td>\n",
              "      <td>m12</td>\n",
              "      <td>2006-09-12</td>\n",
              "      <td>AD</td>\n",
              "      <td>81.3</td>\n",
              "      <td>Male</td>\n",
              "      <td>...</td>\n",
              "      <td>22.83</td>\n",
              "      <td>1.10860</td>\n",
              "      <td>NaN</td>\n",
              "      <td>NaN</td>\n",
              "      <td>NaN</td>\n",
              "      <td>0.999316</td>\n",
              "      <td>11.96720</td>\n",
              "      <td>12</td>\n",
              "      <td>12</td>\n",
              "      <td>2023-07-07 04:59:40.0</td>\n",
              "    </tr>\n",
              "    <tr>\n",
              "      <th>4</th>\n",
              "      <td>3</td>\n",
              "      <td>ADNI1</td>\n",
              "      <td>ADNI1</td>\n",
              "      <td>011_S_0003</td>\n",
              "      <td>11</td>\n",
              "      <td>m24</td>\n",
              "      <td>2007-09-12</td>\n",
              "      <td>AD</td>\n",
              "      <td>81.3</td>\n",
              "      <td>Male</td>\n",
              "      <td>...</td>\n",
              "      <td>22.83</td>\n",
              "      <td>1.10860</td>\n",
              "      <td>NaN</td>\n",
              "      <td>NaN</td>\n",
              "      <td>NaN</td>\n",
              "      <td>1.998630</td>\n",
              "      <td>23.93440</td>\n",
              "      <td>24</td>\n",
              "      <td>24</td>\n",
              "      <td>2023-07-07 04:59:40.0</td>\n",
              "    </tr>\n",
              "  </tbody>\n",
              "</table>\n",
              "<p>5 rows × 116 columns</p>\n",
              "</div>\n",
              "    <div class=\"colab-df-buttons\">\n",
              "\n",
              "  <div class=\"colab-df-container\">\n",
              "    <button class=\"colab-df-convert\" onclick=\"convertToInteractive('df-46d5f2a1-8ad5-4b63-a9c4-261dbe2e4fb2')\"\n",
              "            title=\"Convert this dataframe to an interactive table.\"\n",
              "            style=\"display:none;\">\n",
              "\n",
              "  <svg xmlns=\"http://www.w3.org/2000/svg\" height=\"24px\" viewBox=\"0 -960 960 960\">\n",
              "    <path d=\"M120-120v-720h720v720H120Zm60-500h600v-160H180v160Zm220 220h160v-160H400v160Zm0 220h160v-160H400v160ZM180-400h160v-160H180v160Zm440 0h160v-160H620v160ZM180-180h160v-160H180v160Zm440 0h160v-160H620v160Z\"/>\n",
              "  </svg>\n",
              "    </button>\n",
              "\n",
              "  <style>\n",
              "    .colab-df-container {\n",
              "      display:flex;\n",
              "      gap: 12px;\n",
              "    }\n",
              "\n",
              "    .colab-df-convert {\n",
              "      background-color: #E8F0FE;\n",
              "      border: none;\n",
              "      border-radius: 50%;\n",
              "      cursor: pointer;\n",
              "      display: none;\n",
              "      fill: #1967D2;\n",
              "      height: 32px;\n",
              "      padding: 0 0 0 0;\n",
              "      width: 32px;\n",
              "    }\n",
              "\n",
              "    .colab-df-convert:hover {\n",
              "      background-color: #E2EBFA;\n",
              "      box-shadow: 0px 1px 2px rgba(60, 64, 67, 0.3), 0px 1px 3px 1px rgba(60, 64, 67, 0.15);\n",
              "      fill: #174EA6;\n",
              "    }\n",
              "\n",
              "    .colab-df-buttons div {\n",
              "      margin-bottom: 4px;\n",
              "    }\n",
              "\n",
              "    [theme=dark] .colab-df-convert {\n",
              "      background-color: #3B4455;\n",
              "      fill: #D2E3FC;\n",
              "    }\n",
              "\n",
              "    [theme=dark] .colab-df-convert:hover {\n",
              "      background-color: #434B5C;\n",
              "      box-shadow: 0px 1px 3px 1px rgba(0, 0, 0, 0.15);\n",
              "      filter: drop-shadow(0px 1px 2px rgba(0, 0, 0, 0.3));\n",
              "      fill: #FFFFFF;\n",
              "    }\n",
              "  </style>\n",
              "\n",
              "    <script>\n",
              "      const buttonEl =\n",
              "        document.querySelector('#df-46d5f2a1-8ad5-4b63-a9c4-261dbe2e4fb2 button.colab-df-convert');\n",
              "      buttonEl.style.display =\n",
              "        google.colab.kernel.accessAllowed ? 'block' : 'none';\n",
              "\n",
              "      async function convertToInteractive(key) {\n",
              "        const element = document.querySelector('#df-46d5f2a1-8ad5-4b63-a9c4-261dbe2e4fb2');\n",
              "        const dataTable =\n",
              "          await google.colab.kernel.invokeFunction('convertToInteractive',\n",
              "                                                    [key], {});\n",
              "        if (!dataTable) return;\n",
              "\n",
              "        const docLinkHtml = 'Like what you see? Visit the ' +\n",
              "          '<a target=\"_blank\" href=https://colab.research.google.com/notebooks/data_table.ipynb>data table notebook</a>'\n",
              "          + ' to learn more about interactive tables.';\n",
              "        element.innerHTML = '';\n",
              "        dataTable['output_type'] = 'display_data';\n",
              "        await google.colab.output.renderOutput(dataTable, element);\n",
              "        const docLink = document.createElement('div');\n",
              "        docLink.innerHTML = docLinkHtml;\n",
              "        element.appendChild(docLink);\n",
              "      }\n",
              "    </script>\n",
              "  </div>\n",
              "\n",
              "\n",
              "<div id=\"df-11e276b2-6db2-4aee-88c4-e93fc402b95b\">\n",
              "  <button class=\"colab-df-quickchart\" onclick=\"quickchart('df-11e276b2-6db2-4aee-88c4-e93fc402b95b')\"\n",
              "            title=\"Suggest charts\"\n",
              "            style=\"display:none;\">\n",
              "\n",
              "<svg xmlns=\"http://www.w3.org/2000/svg\" height=\"24px\"viewBox=\"0 0 24 24\"\n",
              "     width=\"24px\">\n",
              "    <g>\n",
              "        <path d=\"M19 3H5c-1.1 0-2 .9-2 2v14c0 1.1.9 2 2 2h14c1.1 0 2-.9 2-2V5c0-1.1-.9-2-2-2zM9 17H7v-7h2v7zm4 0h-2V7h2v10zm4 0h-2v-4h2v4z\"/>\n",
              "    </g>\n",
              "</svg>\n",
              "  </button>\n",
              "\n",
              "<style>\n",
              "  .colab-df-quickchart {\n",
              "      --bg-color: #E8F0FE;\n",
              "      --fill-color: #1967D2;\n",
              "      --hover-bg-color: #E2EBFA;\n",
              "      --hover-fill-color: #174EA6;\n",
              "      --disabled-fill-color: #AAA;\n",
              "      --disabled-bg-color: #DDD;\n",
              "  }\n",
              "\n",
              "  [theme=dark] .colab-df-quickchart {\n",
              "      --bg-color: #3B4455;\n",
              "      --fill-color: #D2E3FC;\n",
              "      --hover-bg-color: #434B5C;\n",
              "      --hover-fill-color: #FFFFFF;\n",
              "      --disabled-bg-color: #3B4455;\n",
              "      --disabled-fill-color: #666;\n",
              "  }\n",
              "\n",
              "  .colab-df-quickchart {\n",
              "    background-color: var(--bg-color);\n",
              "    border: none;\n",
              "    border-radius: 50%;\n",
              "    cursor: pointer;\n",
              "    display: none;\n",
              "    fill: var(--fill-color);\n",
              "    height: 32px;\n",
              "    padding: 0;\n",
              "    width: 32px;\n",
              "  }\n",
              "\n",
              "  .colab-df-quickchart:hover {\n",
              "    background-color: var(--hover-bg-color);\n",
              "    box-shadow: 0 1px 2px rgba(60, 64, 67, 0.3), 0 1px 3px 1px rgba(60, 64, 67, 0.15);\n",
              "    fill: var(--button-hover-fill-color);\n",
              "  }\n",
              "\n",
              "  .colab-df-quickchart-complete:disabled,\n",
              "  .colab-df-quickchart-complete:disabled:hover {\n",
              "    background-color: var(--disabled-bg-color);\n",
              "    fill: var(--disabled-fill-color);\n",
              "    box-shadow: none;\n",
              "  }\n",
              "\n",
              "  .colab-df-spinner {\n",
              "    border: 2px solid var(--fill-color);\n",
              "    border-color: transparent;\n",
              "    border-bottom-color: var(--fill-color);\n",
              "    animation:\n",
              "      spin 1s steps(1) infinite;\n",
              "  }\n",
              "\n",
              "  @keyframes spin {\n",
              "    0% {\n",
              "      border-color: transparent;\n",
              "      border-bottom-color: var(--fill-color);\n",
              "      border-left-color: var(--fill-color);\n",
              "    }\n",
              "    20% {\n",
              "      border-color: transparent;\n",
              "      border-left-color: var(--fill-color);\n",
              "      border-top-color: var(--fill-color);\n",
              "    }\n",
              "    30% {\n",
              "      border-color: transparent;\n",
              "      border-left-color: var(--fill-color);\n",
              "      border-top-color: var(--fill-color);\n",
              "      border-right-color: var(--fill-color);\n",
              "    }\n",
              "    40% {\n",
              "      border-color: transparent;\n",
              "      border-right-color: var(--fill-color);\n",
              "      border-top-color: var(--fill-color);\n",
              "    }\n",
              "    60% {\n",
              "      border-color: transparent;\n",
              "      border-right-color: var(--fill-color);\n",
              "    }\n",
              "    80% {\n",
              "      border-color: transparent;\n",
              "      border-right-color: var(--fill-color);\n",
              "      border-bottom-color: var(--fill-color);\n",
              "    }\n",
              "    90% {\n",
              "      border-color: transparent;\n",
              "      border-bottom-color: var(--fill-color);\n",
              "    }\n",
              "  }\n",
              "</style>\n",
              "\n",
              "  <script>\n",
              "    async function quickchart(key) {\n",
              "      const quickchartButtonEl =\n",
              "        document.querySelector('#' + key + ' button');\n",
              "      quickchartButtonEl.disabled = true;  // To prevent multiple clicks.\n",
              "      quickchartButtonEl.classList.add('colab-df-spinner');\n",
              "      try {\n",
              "        const charts = await google.colab.kernel.invokeFunction(\n",
              "            'suggestCharts', [key], {});\n",
              "      } catch (error) {\n",
              "        console.error('Error during call to suggestCharts:', error);\n",
              "      }\n",
              "      quickchartButtonEl.classList.remove('colab-df-spinner');\n",
              "      quickchartButtonEl.classList.add('colab-df-quickchart-complete');\n",
              "    }\n",
              "    (() => {\n",
              "      let quickchartButtonEl =\n",
              "        document.querySelector('#df-11e276b2-6db2-4aee-88c4-e93fc402b95b button');\n",
              "      quickchartButtonEl.style.display =\n",
              "        google.colab.kernel.accessAllowed ? 'block' : 'none';\n",
              "    })();\n",
              "  </script>\n",
              "</div>\n",
              "\n",
              "    </div>\n",
              "  </div>\n"
            ],
            "application/vnd.google.colaboratory.intrinsic+json": {
              "type": "dataframe",
              "variable_name": "full_df"
            }
          },
          "metadata": {},
          "execution_count": 32
        }
      ]
    },
    {
      "cell_type": "code",
      "source": [
        "# print column labels nicely\n",
        "i = 1\n",
        "for col in sorted(full_df.columns):\n",
        "  print(col, end=\"  \")\n",
        "  if i % 7 == 0:\n",
        "    print('')\n",
        "  i = i+1"
      ],
      "metadata": {
        "id": "oYCWslRXNaaM",
        "colab": {
          "base_uri": "https://localhost:8080/",
          "height": 221
        },
        "outputId": "28533c89-8415-4a13-8059-c5d275933514"
      },
      "execution_count": null,
      "outputs": [
        {
          "output_type": "error",
          "ename": "NameError",
          "evalue": "name 'full_df' is not defined",
          "traceback": [
            "\u001b[0;31m---------------------------------------------------------------------------\u001b[0m",
            "\u001b[0;31mNameError\u001b[0m                                 Traceback (most recent call last)",
            "\u001b[0;32m<ipython-input-2-b5c2ae5276b8>\u001b[0m in \u001b[0;36m<cell line: 3>\u001b[0;34m()\u001b[0m\n\u001b[1;32m      1\u001b[0m \u001b[0;31m# print column labels nicely\u001b[0m\u001b[0;34m\u001b[0m\u001b[0;34m\u001b[0m\u001b[0m\n\u001b[1;32m      2\u001b[0m \u001b[0mi\u001b[0m \u001b[0;34m=\u001b[0m \u001b[0;36m1\u001b[0m\u001b[0;34m\u001b[0m\u001b[0;34m\u001b[0m\u001b[0m\n\u001b[0;32m----> 3\u001b[0;31m \u001b[0;32mfor\u001b[0m \u001b[0mcol\u001b[0m \u001b[0;32min\u001b[0m \u001b[0msorted\u001b[0m\u001b[0;34m(\u001b[0m\u001b[0mfull_df\u001b[0m\u001b[0;34m.\u001b[0m\u001b[0mcolumns\u001b[0m\u001b[0;34m)\u001b[0m\u001b[0;34m:\u001b[0m\u001b[0;34m\u001b[0m\u001b[0;34m\u001b[0m\u001b[0m\n\u001b[0m\u001b[1;32m      4\u001b[0m   \u001b[0mprint\u001b[0m\u001b[0;34m(\u001b[0m\u001b[0mcol\u001b[0m\u001b[0;34m,\u001b[0m \u001b[0mend\u001b[0m\u001b[0;34m=\u001b[0m\u001b[0;34m\"  \"\u001b[0m\u001b[0;34m)\u001b[0m\u001b[0;34m\u001b[0m\u001b[0;34m\u001b[0m\u001b[0m\n\u001b[1;32m      5\u001b[0m   \u001b[0;32mif\u001b[0m \u001b[0mi\u001b[0m \u001b[0;34m%\u001b[0m \u001b[0;36m7\u001b[0m \u001b[0;34m==\u001b[0m \u001b[0;36m0\u001b[0m\u001b[0;34m:\u001b[0m\u001b[0;34m\u001b[0m\u001b[0;34m\u001b[0m\u001b[0m\n",
            "\u001b[0;31mNameError\u001b[0m: name 'full_df' is not defined"
          ]
        }
      ]
    },
    {
      "cell_type": "code",
      "source": [
        "# shows the possible values for visits\n",
        "print(full_df['VISCODE'].unique())"
      ],
      "metadata": {
        "id": "sdNm_dpkPXuT",
        "colab": {
          "base_uri": "https://localhost:8080/"
        },
        "outputId": "65974d8f-7516-4bfa-b7df-91e922b3ae4f"
      },
      "execution_count": null,
      "outputs": [
        {
          "output_type": "stream",
          "name": "stdout",
          "text": [
            "['bl' 'm06' 'm12' 'm24' 'm18' 'm36' 'm48' 'm60' 'm03' 'm30' 'm84' 'm42'\n",
            " 'm72' 'm54' 'm66' 'm78' 'm108' 'm96' 'm90' 'm120' 'm114' 'm102' 'm126'\n",
            " 'm132' 'm144' 'm156' 'm168' 'm180' 'm174' 'm162' 'm186' 'm138' 'm150'\n",
            " 'm0' 'm192' 'm198' 'm204']\n"
          ]
        }
      ]
    },
    {
      "cell_type": "code",
      "source": [
        "# Diagnosis delta\n",
        "dx_delta_df = full_df[full_df['DX_bl'] != full_df[\"DX\"]]\n",
        "print(\"   total changes: \",len(dx_delta_df),'\\n' ,\"unique patients:  \", len(dx_delta_df['PTID'].unique()))"
      ],
      "metadata": {
        "id": "2_iacFimP5GH",
        "colab": {
          "base_uri": "https://localhost:8080/"
        },
        "outputId": "698ec17c-06a1-4b38-e46c-698623d1f89f"
      },
      "execution_count": null,
      "outputs": [
        {
          "output_type": "stream",
          "name": "stdout",
          "text": [
            "   total changes:  13636 \n",
            " unique patients:   2392\n"
          ]
        }
      ]
    },
    {
      "cell_type": "code",
      "source": [
        "# List Diagnosis Possibilities\n",
        "print('Baseline Diagnosis Options: ', full_df['DX_bl'].unique())\n",
        "print('Later Diagnosis Options   : ',full_df['DX'].unique())\n"
      ],
      "metadata": {
        "id": "nRL4xKInSaHy",
        "colab": {
          "base_uri": "https://localhost:8080/"
        },
        "outputId": "49faff1d-dc0f-463b-f25b-162757dc96f1"
      },
      "execution_count": null,
      "outputs": [
        {
          "output_type": "stream",
          "name": "stdout",
          "text": [
            "Baseline Diagnosis Options:  ['CN' 'AD' 'LMCI' 'SMC' 'EMCI' nan]\n",
            "Later Diagnosis Options   :  ['CN' 'Dementia' 'MCI' nan]\n"
          ]
        }
      ]
    },
    {
      "cell_type": "code",
      "source": [
        "# How many patients changed from Cognitevely Normal (CN) to Dementia? (turns out 85 patients)\n",
        "start_cn_patients = full_df[full_df['DX_bl'] == 'CN']\n",
        "cn_to_ad_patients = start_cn_patients[start_cn_patients['DX'] == 'Dementia']\n",
        "print(len(cn_to_ad_patients))\n",
        "\n",
        "cn_to_ad_patient_ids = cn_to_ad_patients['PTID']"
      ],
      "metadata": {
        "id": "uGYlEvoTRruk",
        "colab": {
          "base_uri": "https://localhost:8080/"
        },
        "outputId": "fd110eb4-ea04-48c2-97fc-89672affda4e"
      },
      "execution_count": null,
      "outputs": [
        {
          "output_type": "stream",
          "name": "stdout",
          "text": [
            "85\n"
          ]
        }
      ]
    },
    {
      "cell_type": "code",
      "source": [
        "# How many patients changed from Cognitevely Normal (CN) to Mild Cognitive Impairment (MCI)? (turns out 271 patients)\n",
        "start_cn_patients = full_df[full_df['DX_bl'] == 'CN']\n",
        "cn_to_mci_patients = start_cn_patients[start_cn_patients['DX'] == 'MCI']\n",
        "print(len(cn_to_mci_patients))\n",
        "\n",
        "cn_to_mci_patients = cn_to_ad_patients['PTID']"
      ],
      "metadata": {
        "id": "mR1cR8PYToqe",
        "colab": {
          "base_uri": "https://localhost:8080/"
        },
        "outputId": "60c40ea2-ec66-49eb-b601-c16696ac5c54"
      },
      "execution_count": null,
      "outputs": [
        {
          "output_type": "stream",
          "name": "stdout",
          "text": [
            "271\n"
          ]
        }
      ]
    },
    {
      "cell_type": "markdown",
      "source": [
        "## Begin Modeling based on the patient baseline visits"
      ],
      "metadata": {
        "id": "tyvWhXTrLlMb"
      }
    },
    {
      "cell_type": "code",
      "source": [
        "# then test the predictions on the test dataset\n",
        "test_inputs = test.drop(['DX'], axis=1)\n",
        "\n",
        "# prediction\n",
        "test['prediction'] = clf.predict(test_inputs)"
      ],
      "metadata": {
        "id": "5He4ha3BcQ3v"
      },
      "execution_count": null,
      "outputs": []
    },
    {
      "cell_type": "code",
      "source": [
        "print(len(test))"
      ],
      "metadata": {
        "id": "au1wkwgVaQ2G",
        "colab": {
          "base_uri": "https://localhost:8080/"
        },
        "outputId": "4f8b2316-e73a-47e0-8728-5500b9478c94"
      },
      "execution_count": null,
      "outputs": [
        {
          "output_type": "stream",
          "name": "stdout",
          "text": [
            "723\n"
          ]
        }
      ]
    },
    {
      "cell_type": "code",
      "source": [
        "# number of incorrect answers\n",
        "incorrect = test[test['DX'] != test['prediction']]\n",
        "print(\"Wrong: \", len(incorrect))\n",
        "\n",
        "# difference (num correct)\n",
        "num_correct = len(test)-len(incorrect)\n",
        "\n",
        "# percent\n",
        "print(\"Percent Right:\", num_correct/len(test))"
      ],
      "metadata": {
        "id": "cyFlOtsVfXxS",
        "colab": {
          "base_uri": "https://localhost:8080/",
          "height": 221
        },
        "outputId": "92572cdf-4f2b-4aac-d742-d3b934e36898"
      },
      "execution_count": null,
      "outputs": [
        {
          "output_type": "error",
          "ename": "NameError",
          "evalue": "name 'test' is not defined",
          "traceback": [
            "\u001b[0;31m---------------------------------------------------------------------------\u001b[0m",
            "\u001b[0;31mNameError\u001b[0m                                 Traceback (most recent call last)",
            "\u001b[0;32m<ipython-input-1-94669bb3622f>\u001b[0m in \u001b[0;36m<cell line: 2>\u001b[0;34m()\u001b[0m\n\u001b[1;32m      1\u001b[0m \u001b[0;31m# number of incorrect answers\u001b[0m\u001b[0;34m\u001b[0m\u001b[0;34m\u001b[0m\u001b[0m\n\u001b[0;32m----> 2\u001b[0;31m \u001b[0mincorrect\u001b[0m \u001b[0;34m=\u001b[0m \u001b[0mtest\u001b[0m\u001b[0;34m[\u001b[0m\u001b[0mtest\u001b[0m\u001b[0;34m[\u001b[0m\u001b[0;34m'DX'\u001b[0m\u001b[0;34m]\u001b[0m \u001b[0;34m!=\u001b[0m \u001b[0mtest\u001b[0m\u001b[0;34m[\u001b[0m\u001b[0;34m'prediction'\u001b[0m\u001b[0;34m]\u001b[0m\u001b[0;34m]\u001b[0m\u001b[0;34m\u001b[0m\u001b[0;34m\u001b[0m\u001b[0m\n\u001b[0m\u001b[1;32m      3\u001b[0m \u001b[0mprint\u001b[0m\u001b[0;34m(\u001b[0m\u001b[0;34m\"Wrong: \"\u001b[0m\u001b[0;34m,\u001b[0m \u001b[0mlen\u001b[0m\u001b[0;34m(\u001b[0m\u001b[0mincorrect\u001b[0m\u001b[0;34m)\u001b[0m\u001b[0;34m)\u001b[0m\u001b[0;34m\u001b[0m\u001b[0;34m\u001b[0m\u001b[0m\n\u001b[1;32m      4\u001b[0m \u001b[0;34m\u001b[0m\u001b[0m\n\u001b[1;32m      5\u001b[0m \u001b[0;31m# difference (num correct)\u001b[0m\u001b[0;34m\u001b[0m\u001b[0;34m\u001b[0m\u001b[0m\n",
            "\u001b[0;31mNameError\u001b[0m: name 'test' is not defined"
          ]
        }
      ]
    }
  ]
}