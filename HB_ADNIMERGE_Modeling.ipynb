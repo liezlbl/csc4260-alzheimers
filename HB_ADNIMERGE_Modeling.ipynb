{
  "nbformat": 4,
  "nbformat_minor": 0,
  "metadata": {
    "colab": {
      "provenance": []
    },
    "kernelspec": {
      "name": "python3",
      "display_name": "Python 3"
    },
    "language_info": {
      "name": "python"
    }
  },
  "cells": [
    {
      "cell_type": "markdown",
      "source": [
        "# Basic Modeling with the ADNI Clinical Features\n",
        "\n",
        "Key Documentation PDF: https://adni.loni.usc.edu/wp-content/themes/freshnews-dev-v2/documents/bio/inst_about_data.pdf\n",
        "\n",
        "and the ADNIMERGE_Methods PDF which is in the related Google Drive Folder"
      ],
      "metadata": {
        "id": "55umuT8uNEdL"
      }
    },
    {
      "cell_type": "code",
      "execution_count": 1,
      "metadata": {
        "id": "MmxTnXT0M8F8"
      },
      "outputs": [],
      "source": [
        "# Imports\n",
        "import numpy as np\n",
        "import pandas as pd\n",
        "from google.colab import drive\n",
        "import matplotlib.pyplot as plt\n",
        "import sklearn as sk\n",
        "import math\n",
        "from sklearn.preprocessing import normalize\n",
        "from sklearn.model_selection import train_test_split\n",
        "from sklearn.svm import SVC\n",
        "from sklearn.pipeline import make_pipeline"
      ]
    },
    {
      "cell_type": "code",
      "source": [
        "drive.mount('/content/drive')\n",
        "# full_df = pd.read_csv(\"/content/drive/MyDrive/Data_Science_Alzheimers_ADNI/ADNIMERGE_08Feb2024.csv\")\n",
        "#running as Liezl\n",
        "full_df = pd.read_csv(\"/content/drive/MyDrive/ADNIMERGE_08Feb2024.csv\")\n",
        "full_df.head()"
      ],
      "metadata": {
        "colab": {
          "base_uri": "https://localhost:8080/",
          "height": 374
        },
        "id": "IHccec8UNPye",
        "outputId": "85ffe1cb-21a7-48cb-909d-500fcdf1e2ad"
      },
      "execution_count": 2,
      "outputs": [
        {
          "output_type": "stream",
          "name": "stdout",
          "text": [
            "Mounted at /content/drive\n"
          ]
        },
        {
          "output_type": "stream",
          "name": "stderr",
          "text": [
            "<ipython-input-2-45959a72168a>:4: DtypeWarning: Columns (19,20,21,50,51,104,105,106) have mixed types. Specify dtype option on import or set low_memory=False.\n",
            "  full_df = pd.read_csv(\"/content/drive/MyDrive/ADNIMERGE_08Feb2024.csv\")\n"
          ]
        },
        {
          "output_type": "execute_result",
          "data": {
            "text/plain": [
              "   RID COLPROT ORIGPROT        PTID  SITE VISCODE    EXAMDATE DX_bl   AGE  \\\n",
              "0    2   ADNI1    ADNI1  011_S_0002    11      bl  2005-09-08    CN  74.3   \n",
              "1    3   ADNI1    ADNI1  011_S_0003    11      bl  2005-09-12    AD  81.3   \n",
              "2    3   ADNI1    ADNI1  011_S_0003    11     m06  2006-03-13    AD  81.3   \n",
              "3    3   ADNI1    ADNI1  011_S_0003    11     m12  2006-09-12    AD  81.3   \n",
              "4    3   ADNI1    ADNI1  011_S_0003    11     m24  2007-09-12    AD  81.3   \n",
              "\n",
              "  PTGENDER  ...  PTAU_bl   FDG_bl PIB_bl AV45_bl  FBB_bl  Years_bl  Month_bl  \\\n",
              "0     Male  ...      NaN  1.33615    NaN     NaN     NaN  0.000000   0.00000   \n",
              "1     Male  ...    22.83  1.10860    NaN     NaN     NaN  0.000000   0.00000   \n",
              "2     Male  ...    22.83  1.10860    NaN     NaN     NaN  0.498289   5.96721   \n",
              "3     Male  ...    22.83  1.10860    NaN     NaN     NaN  0.999316  11.96720   \n",
              "4     Male  ...    22.83  1.10860    NaN     NaN     NaN  1.998630  23.93440   \n",
              "\n",
              "   Month   M           update_stamp  \n",
              "0      0   0  2023-07-07 04:59:40.0  \n",
              "1      0   0  2023-07-07 04:59:40.0  \n",
              "2      6   6  2023-07-07 04:59:40.0  \n",
              "3     12  12  2023-07-07 04:59:40.0  \n",
              "4     24  24  2023-07-07 04:59:40.0  \n",
              "\n",
              "[5 rows x 116 columns]"
            ],
            "text/html": [
              "\n",
              "  <div id=\"df-0131b7ac-63a7-4504-9590-ddc23b640d8b\" class=\"colab-df-container\">\n",
              "    <div>\n",
              "<style scoped>\n",
              "    .dataframe tbody tr th:only-of-type {\n",
              "        vertical-align: middle;\n",
              "    }\n",
              "\n",
              "    .dataframe tbody tr th {\n",
              "        vertical-align: top;\n",
              "    }\n",
              "\n",
              "    .dataframe thead th {\n",
              "        text-align: right;\n",
              "    }\n",
              "</style>\n",
              "<table border=\"1\" class=\"dataframe\">\n",
              "  <thead>\n",
              "    <tr style=\"text-align: right;\">\n",
              "      <th></th>\n",
              "      <th>RID</th>\n",
              "      <th>COLPROT</th>\n",
              "      <th>ORIGPROT</th>\n",
              "      <th>PTID</th>\n",
              "      <th>SITE</th>\n",
              "      <th>VISCODE</th>\n",
              "      <th>EXAMDATE</th>\n",
              "      <th>DX_bl</th>\n",
              "      <th>AGE</th>\n",
              "      <th>PTGENDER</th>\n",
              "      <th>...</th>\n",
              "      <th>PTAU_bl</th>\n",
              "      <th>FDG_bl</th>\n",
              "      <th>PIB_bl</th>\n",
              "      <th>AV45_bl</th>\n",
              "      <th>FBB_bl</th>\n",
              "      <th>Years_bl</th>\n",
              "      <th>Month_bl</th>\n",
              "      <th>Month</th>\n",
              "      <th>M</th>\n",
              "      <th>update_stamp</th>\n",
              "    </tr>\n",
              "  </thead>\n",
              "  <tbody>\n",
              "    <tr>\n",
              "      <th>0</th>\n",
              "      <td>2</td>\n",
              "      <td>ADNI1</td>\n",
              "      <td>ADNI1</td>\n",
              "      <td>011_S_0002</td>\n",
              "      <td>11</td>\n",
              "      <td>bl</td>\n",
              "      <td>2005-09-08</td>\n",
              "      <td>CN</td>\n",
              "      <td>74.3</td>\n",
              "      <td>Male</td>\n",
              "      <td>...</td>\n",
              "      <td>NaN</td>\n",
              "      <td>1.33615</td>\n",
              "      <td>NaN</td>\n",
              "      <td>NaN</td>\n",
              "      <td>NaN</td>\n",
              "      <td>0.000000</td>\n",
              "      <td>0.00000</td>\n",
              "      <td>0</td>\n",
              "      <td>0</td>\n",
              "      <td>2023-07-07 04:59:40.0</td>\n",
              "    </tr>\n",
              "    <tr>\n",
              "      <th>1</th>\n",
              "      <td>3</td>\n",
              "      <td>ADNI1</td>\n",
              "      <td>ADNI1</td>\n",
              "      <td>011_S_0003</td>\n",
              "      <td>11</td>\n",
              "      <td>bl</td>\n",
              "      <td>2005-09-12</td>\n",
              "      <td>AD</td>\n",
              "      <td>81.3</td>\n",
              "      <td>Male</td>\n",
              "      <td>...</td>\n",
              "      <td>22.83</td>\n",
              "      <td>1.10860</td>\n",
              "      <td>NaN</td>\n",
              "      <td>NaN</td>\n",
              "      <td>NaN</td>\n",
              "      <td>0.000000</td>\n",
              "      <td>0.00000</td>\n",
              "      <td>0</td>\n",
              "      <td>0</td>\n",
              "      <td>2023-07-07 04:59:40.0</td>\n",
              "    </tr>\n",
              "    <tr>\n",
              "      <th>2</th>\n",
              "      <td>3</td>\n",
              "      <td>ADNI1</td>\n",
              "      <td>ADNI1</td>\n",
              "      <td>011_S_0003</td>\n",
              "      <td>11</td>\n",
              "      <td>m06</td>\n",
              "      <td>2006-03-13</td>\n",
              "      <td>AD</td>\n",
              "      <td>81.3</td>\n",
              "      <td>Male</td>\n",
              "      <td>...</td>\n",
              "      <td>22.83</td>\n",
              "      <td>1.10860</td>\n",
              "      <td>NaN</td>\n",
              "      <td>NaN</td>\n",
              "      <td>NaN</td>\n",
              "      <td>0.498289</td>\n",
              "      <td>5.96721</td>\n",
              "      <td>6</td>\n",
              "      <td>6</td>\n",
              "      <td>2023-07-07 04:59:40.0</td>\n",
              "    </tr>\n",
              "    <tr>\n",
              "      <th>3</th>\n",
              "      <td>3</td>\n",
              "      <td>ADNI1</td>\n",
              "      <td>ADNI1</td>\n",
              "      <td>011_S_0003</td>\n",
              "      <td>11</td>\n",
              "      <td>m12</td>\n",
              "      <td>2006-09-12</td>\n",
              "      <td>AD</td>\n",
              "      <td>81.3</td>\n",
              "      <td>Male</td>\n",
              "      <td>...</td>\n",
              "      <td>22.83</td>\n",
              "      <td>1.10860</td>\n",
              "      <td>NaN</td>\n",
              "      <td>NaN</td>\n",
              "      <td>NaN</td>\n",
              "      <td>0.999316</td>\n",
              "      <td>11.96720</td>\n",
              "      <td>12</td>\n",
              "      <td>12</td>\n",
              "      <td>2023-07-07 04:59:40.0</td>\n",
              "    </tr>\n",
              "    <tr>\n",
              "      <th>4</th>\n",
              "      <td>3</td>\n",
              "      <td>ADNI1</td>\n",
              "      <td>ADNI1</td>\n",
              "      <td>011_S_0003</td>\n",
              "      <td>11</td>\n",
              "      <td>m24</td>\n",
              "      <td>2007-09-12</td>\n",
              "      <td>AD</td>\n",
              "      <td>81.3</td>\n",
              "      <td>Male</td>\n",
              "      <td>...</td>\n",
              "      <td>22.83</td>\n",
              "      <td>1.10860</td>\n",
              "      <td>NaN</td>\n",
              "      <td>NaN</td>\n",
              "      <td>NaN</td>\n",
              "      <td>1.998630</td>\n",
              "      <td>23.93440</td>\n",
              "      <td>24</td>\n",
              "      <td>24</td>\n",
              "      <td>2023-07-07 04:59:40.0</td>\n",
              "    </tr>\n",
              "  </tbody>\n",
              "</table>\n",
              "<p>5 rows × 116 columns</p>\n",
              "</div>\n",
              "    <div class=\"colab-df-buttons\">\n",
              "\n",
              "  <div class=\"colab-df-container\">\n",
              "    <button class=\"colab-df-convert\" onclick=\"convertToInteractive('df-0131b7ac-63a7-4504-9590-ddc23b640d8b')\"\n",
              "            title=\"Convert this dataframe to an interactive table.\"\n",
              "            style=\"display:none;\">\n",
              "\n",
              "  <svg xmlns=\"http://www.w3.org/2000/svg\" height=\"24px\" viewBox=\"0 -960 960 960\">\n",
              "    <path d=\"M120-120v-720h720v720H120Zm60-500h600v-160H180v160Zm220 220h160v-160H400v160Zm0 220h160v-160H400v160ZM180-400h160v-160H180v160Zm440 0h160v-160H620v160ZM180-180h160v-160H180v160Zm440 0h160v-160H620v160Z\"/>\n",
              "  </svg>\n",
              "    </button>\n",
              "\n",
              "  <style>\n",
              "    .colab-df-container {\n",
              "      display:flex;\n",
              "      gap: 12px;\n",
              "    }\n",
              "\n",
              "    .colab-df-convert {\n",
              "      background-color: #E8F0FE;\n",
              "      border: none;\n",
              "      border-radius: 50%;\n",
              "      cursor: pointer;\n",
              "      display: none;\n",
              "      fill: #1967D2;\n",
              "      height: 32px;\n",
              "      padding: 0 0 0 0;\n",
              "      width: 32px;\n",
              "    }\n",
              "\n",
              "    .colab-df-convert:hover {\n",
              "      background-color: #E2EBFA;\n",
              "      box-shadow: 0px 1px 2px rgba(60, 64, 67, 0.3), 0px 1px 3px 1px rgba(60, 64, 67, 0.15);\n",
              "      fill: #174EA6;\n",
              "    }\n",
              "\n",
              "    .colab-df-buttons div {\n",
              "      margin-bottom: 4px;\n",
              "    }\n",
              "\n",
              "    [theme=dark] .colab-df-convert {\n",
              "      background-color: #3B4455;\n",
              "      fill: #D2E3FC;\n",
              "    }\n",
              "\n",
              "    [theme=dark] .colab-df-convert:hover {\n",
              "      background-color: #434B5C;\n",
              "      box-shadow: 0px 1px 3px 1px rgba(0, 0, 0, 0.15);\n",
              "      filter: drop-shadow(0px 1px 2px rgba(0, 0, 0, 0.3));\n",
              "      fill: #FFFFFF;\n",
              "    }\n",
              "  </style>\n",
              "\n",
              "    <script>\n",
              "      const buttonEl =\n",
              "        document.querySelector('#df-0131b7ac-63a7-4504-9590-ddc23b640d8b button.colab-df-convert');\n",
              "      buttonEl.style.display =\n",
              "        google.colab.kernel.accessAllowed ? 'block' : 'none';\n",
              "\n",
              "      async function convertToInteractive(key) {\n",
              "        const element = document.querySelector('#df-0131b7ac-63a7-4504-9590-ddc23b640d8b');\n",
              "        const dataTable =\n",
              "          await google.colab.kernel.invokeFunction('convertToInteractive',\n",
              "                                                    [key], {});\n",
              "        if (!dataTable) return;\n",
              "\n",
              "        const docLinkHtml = 'Like what you see? Visit the ' +\n",
              "          '<a target=\"_blank\" href=https://colab.research.google.com/notebooks/data_table.ipynb>data table notebook</a>'\n",
              "          + ' to learn more about interactive tables.';\n",
              "        element.innerHTML = '';\n",
              "        dataTable['output_type'] = 'display_data';\n",
              "        await google.colab.output.renderOutput(dataTable, element);\n",
              "        const docLink = document.createElement('div');\n",
              "        docLink.innerHTML = docLinkHtml;\n",
              "        element.appendChild(docLink);\n",
              "      }\n",
              "    </script>\n",
              "  </div>\n",
              "\n",
              "\n",
              "<div id=\"df-a7859f57-73e0-4322-a495-50472d20e5ca\">\n",
              "  <button class=\"colab-df-quickchart\" onclick=\"quickchart('df-a7859f57-73e0-4322-a495-50472d20e5ca')\"\n",
              "            title=\"Suggest charts\"\n",
              "            style=\"display:none;\">\n",
              "\n",
              "<svg xmlns=\"http://www.w3.org/2000/svg\" height=\"24px\"viewBox=\"0 0 24 24\"\n",
              "     width=\"24px\">\n",
              "    <g>\n",
              "        <path d=\"M19 3H5c-1.1 0-2 .9-2 2v14c0 1.1.9 2 2 2h14c1.1 0 2-.9 2-2V5c0-1.1-.9-2-2-2zM9 17H7v-7h2v7zm4 0h-2V7h2v10zm4 0h-2v-4h2v4z\"/>\n",
              "    </g>\n",
              "</svg>\n",
              "  </button>\n",
              "\n",
              "<style>\n",
              "  .colab-df-quickchart {\n",
              "      --bg-color: #E8F0FE;\n",
              "      --fill-color: #1967D2;\n",
              "      --hover-bg-color: #E2EBFA;\n",
              "      --hover-fill-color: #174EA6;\n",
              "      --disabled-fill-color: #AAA;\n",
              "      --disabled-bg-color: #DDD;\n",
              "  }\n",
              "\n",
              "  [theme=dark] .colab-df-quickchart {\n",
              "      --bg-color: #3B4455;\n",
              "      --fill-color: #D2E3FC;\n",
              "      --hover-bg-color: #434B5C;\n",
              "      --hover-fill-color: #FFFFFF;\n",
              "      --disabled-bg-color: #3B4455;\n",
              "      --disabled-fill-color: #666;\n",
              "  }\n",
              "\n",
              "  .colab-df-quickchart {\n",
              "    background-color: var(--bg-color);\n",
              "    border: none;\n",
              "    border-radius: 50%;\n",
              "    cursor: pointer;\n",
              "    display: none;\n",
              "    fill: var(--fill-color);\n",
              "    height: 32px;\n",
              "    padding: 0;\n",
              "    width: 32px;\n",
              "  }\n",
              "\n",
              "  .colab-df-quickchart:hover {\n",
              "    background-color: var(--hover-bg-color);\n",
              "    box-shadow: 0 1px 2px rgba(60, 64, 67, 0.3), 0 1px 3px 1px rgba(60, 64, 67, 0.15);\n",
              "    fill: var(--button-hover-fill-color);\n",
              "  }\n",
              "\n",
              "  .colab-df-quickchart-complete:disabled,\n",
              "  .colab-df-quickchart-complete:disabled:hover {\n",
              "    background-color: var(--disabled-bg-color);\n",
              "    fill: var(--disabled-fill-color);\n",
              "    box-shadow: none;\n",
              "  }\n",
              "\n",
              "  .colab-df-spinner {\n",
              "    border: 2px solid var(--fill-color);\n",
              "    border-color: transparent;\n",
              "    border-bottom-color: var(--fill-color);\n",
              "    animation:\n",
              "      spin 1s steps(1) infinite;\n",
              "  }\n",
              "\n",
              "  @keyframes spin {\n",
              "    0% {\n",
              "      border-color: transparent;\n",
              "      border-bottom-color: var(--fill-color);\n",
              "      border-left-color: var(--fill-color);\n",
              "    }\n",
              "    20% {\n",
              "      border-color: transparent;\n",
              "      border-left-color: var(--fill-color);\n",
              "      border-top-color: var(--fill-color);\n",
              "    }\n",
              "    30% {\n",
              "      border-color: transparent;\n",
              "      border-left-color: var(--fill-color);\n",
              "      border-top-color: var(--fill-color);\n",
              "      border-right-color: var(--fill-color);\n",
              "    }\n",
              "    40% {\n",
              "      border-color: transparent;\n",
              "      border-right-color: var(--fill-color);\n",
              "      border-top-color: var(--fill-color);\n",
              "    }\n",
              "    60% {\n",
              "      border-color: transparent;\n",
              "      border-right-color: var(--fill-color);\n",
              "    }\n",
              "    80% {\n",
              "      border-color: transparent;\n",
              "      border-right-color: var(--fill-color);\n",
              "      border-bottom-color: var(--fill-color);\n",
              "    }\n",
              "    90% {\n",
              "      border-color: transparent;\n",
              "      border-bottom-color: var(--fill-color);\n",
              "    }\n",
              "  }\n",
              "</style>\n",
              "\n",
              "  <script>\n",
              "    async function quickchart(key) {\n",
              "      const quickchartButtonEl =\n",
              "        document.querySelector('#' + key + ' button');\n",
              "      quickchartButtonEl.disabled = true;  // To prevent multiple clicks.\n",
              "      quickchartButtonEl.classList.add('colab-df-spinner');\n",
              "      try {\n",
              "        const charts = await google.colab.kernel.invokeFunction(\n",
              "            'suggestCharts', [key], {});\n",
              "      } catch (error) {\n",
              "        console.error('Error during call to suggestCharts:', error);\n",
              "      }\n",
              "      quickchartButtonEl.classList.remove('colab-df-spinner');\n",
              "      quickchartButtonEl.classList.add('colab-df-quickchart-complete');\n",
              "    }\n",
              "    (() => {\n",
              "      let quickchartButtonEl =\n",
              "        document.querySelector('#df-a7859f57-73e0-4322-a495-50472d20e5ca button');\n",
              "      quickchartButtonEl.style.display =\n",
              "        google.colab.kernel.accessAllowed ? 'block' : 'none';\n",
              "    })();\n",
              "  </script>\n",
              "</div>\n",
              "\n",
              "    </div>\n",
              "  </div>\n"
            ],
            "application/vnd.google.colaboratory.intrinsic+json": {
              "type": "dataframe",
              "variable_name": "full_df"
            }
          },
          "metadata": {},
          "execution_count": 2
        }
      ]
    },
    {
      "cell_type": "code",
      "source": [
        "# print column labels nicely\n",
        "i = 1\n",
        "for col in sorted(full_df.columns):\n",
        "  print(col, end=\"  \")\n",
        "  if i % 7 == 0:\n",
        "    print('')\n",
        "  i = i+1"
      ],
      "metadata": {
        "id": "oYCWslRXNaaM",
        "colab": {
          "base_uri": "https://localhost:8080/"
        },
        "outputId": "96172d50-fbab-4807-d8c7-1316fe8a1594"
      },
      "execution_count": 3,
      "outputs": [
        {
          "output_type": "stream",
          "name": "stdout",
          "text": [
            "ABETA  ABETA_bl  ADAS11  ADAS11_bl  ADAS13  ADAS13_bl  ADASQ4  \n",
            "ADASQ4_bl  AGE  APOE4  AV45  AV45_bl  CDRSB  CDRSB_bl  \n",
            "COLPROT  DIGITSCOR  DIGITSCOR_bl  DX  DX_bl  EXAMDATE  EXAMDATE_bl  \n",
            "EcogPtDivatt  EcogPtDivatt_bl  EcogPtLang  EcogPtLang_bl  EcogPtMem  EcogPtMem_bl  EcogPtOrgan  \n",
            "EcogPtOrgan_bl  EcogPtPlan  EcogPtPlan_bl  EcogPtTotal  EcogPtTotal_bl  EcogPtVisspat  EcogPtVisspat_bl  \n",
            "EcogSPDivatt  EcogSPDivatt_bl  EcogSPLang  EcogSPLang_bl  EcogSPMem  EcogSPMem_bl  EcogSPOrgan  \n",
            "EcogSPOrgan_bl  EcogSPPlan  EcogSPPlan_bl  EcogSPTotal  EcogSPTotal_bl  EcogSPVisspat  EcogSPVisspat_bl  \n",
            "Entorhinal  Entorhinal_bl  FAQ  FAQ_bl  FBB  FBB_bl  FDG  \n",
            "FDG_bl  FLDSTRENG  FLDSTRENG_bl  FSVERSION  FSVERSION_bl  Fusiform  Fusiform_bl  \n",
            "Hippocampus  Hippocampus_bl  ICV  ICV_bl  IMAGEUID  IMAGEUID_bl  LDELTOTAL  \n",
            "LDELTOTAL_BL  M  MMSE  MMSE_bl  MOCA  MOCA_bl  MidTemp  \n",
            "MidTemp_bl  Month  Month_bl  ORIGPROT  PIB  PIB_bl  PTAU  \n",
            "PTAU_bl  PTEDUCAT  PTETHCAT  PTGENDER  PTID  PTMARRY  PTRACCAT  \n",
            "RAVLT_forgetting  RAVLT_forgetting_bl  RAVLT_immediate  RAVLT_immediate_bl  RAVLT_learning  RAVLT_learning_bl  RAVLT_perc_forgetting  \n",
            "RAVLT_perc_forgetting_bl  RID  SITE  TAU  TAU_bl  TRABSCOR  TRABSCOR_bl  \n",
            "VISCODE  Ventricles  Ventricles_bl  WholeBrain  WholeBrain_bl  Years_bl  mPACCdigit  \n",
            "mPACCdigit_bl  mPACCtrailsB  mPACCtrailsB_bl  update_stamp  "
          ]
        }
      ]
    },
    {
      "cell_type": "code",
      "source": [
        "# shows the possible values for visits\n",
        "print(full_df['VISCODE'].unique())"
      ],
      "metadata": {
        "id": "sdNm_dpkPXuT",
        "colab": {
          "base_uri": "https://localhost:8080/"
        },
        "outputId": "f7f8ef54-8970-4cd2-cf71-750adce8170e"
      },
      "execution_count": 4,
      "outputs": [
        {
          "output_type": "stream",
          "name": "stdout",
          "text": [
            "['bl' 'm06' 'm12' 'm24' 'm18' 'm36' 'm48' 'm60' 'm03' 'm30' 'm84' 'm42'\n",
            " 'm72' 'm54' 'm66' 'm78' 'm108' 'm96' 'm90' 'm120' 'm114' 'm102' 'm126'\n",
            " 'm132' 'm144' 'm156' 'm168' 'm180' 'm174' 'm162' 'm186' 'm138' 'm150'\n",
            " 'm0' 'm192' 'm198' 'm204']\n"
          ]
        }
      ]
    },
    {
      "cell_type": "code",
      "source": [
        "# Diagnosis delta\n",
        "dx_delta_df = full_df[full_df['DX_bl'] != full_df[\"DX\"]]\n",
        "print(\"   total changes: \",len(dx_delta_df),'\\n' ,\"unique patients:  \", len(dx_delta_df['PTID'].unique()))"
      ],
      "metadata": {
        "id": "2_iacFimP5GH",
        "colab": {
          "base_uri": "https://localhost:8080/"
        },
        "outputId": "e5510b97-279c-4101-d67f-9944e05fb0dc"
      },
      "execution_count": 5,
      "outputs": [
        {
          "output_type": "stream",
          "name": "stdout",
          "text": [
            "   total changes:  13636 \n",
            " unique patients:   2392\n"
          ]
        }
      ]
    },
    {
      "cell_type": "code",
      "source": [
        "# List Diagnosis Possibilities\n",
        "print('Baseline Diagnosis Options: ', full_df['DX_bl'].unique())\n",
        "print('Later Diagnosis Options   : ',full_df['DX'].unique())\n"
      ],
      "metadata": {
        "id": "nRL4xKInSaHy",
        "colab": {
          "base_uri": "https://localhost:8080/"
        },
        "outputId": "8ea1d63d-eedb-4522-a04e-f8c010088fea"
      },
      "execution_count": 6,
      "outputs": [
        {
          "output_type": "stream",
          "name": "stdout",
          "text": [
            "Baseline Diagnosis Options:  ['CN' 'AD' 'LMCI' 'SMC' 'EMCI' nan]\n",
            "Later Diagnosis Options   :  ['CN' 'Dementia' 'MCI' nan]\n"
          ]
        }
      ]
    },
    {
      "cell_type": "code",
      "source": [
        "# How many patients changed from Cognitevely Normal (CN) to Dementia? (turns out 85 patients)\n",
        "start_cn_patients = full_df[full_df['DX_bl'] == 'CN']\n",
        "cn_to_ad_patients = start_cn_patients[start_cn_patients['DX'] == 'Dementia']\n",
        "print(len(cn_to_ad_patients))\n",
        "\n",
        "cn_to_ad_patient_ids = cn_to_ad_patients['PTID']"
      ],
      "metadata": {
        "id": "uGYlEvoTRruk",
        "colab": {
          "base_uri": "https://localhost:8080/"
        },
        "outputId": "76e51bce-bb82-4b88-d99d-831cd02fd402"
      },
      "execution_count": 7,
      "outputs": [
        {
          "output_type": "stream",
          "name": "stdout",
          "text": [
            "85\n"
          ]
        }
      ]
    },
    {
      "cell_type": "code",
      "source": [
        "# How many patients changed from Cognitevely Normal (CN) to Mild Cognitive Impairment (MCI)? (turns out 271 patients)\n",
        "start_cn_patients = full_df[full_df['DX_bl'] == 'CN']\n",
        "cn_to_mci_patients = start_cn_patients[start_cn_patients['DX'] == 'MCI']\n",
        "print(len(cn_to_mci_patients))\n",
        "\n",
        "cn_to_mci_patients = cn_to_ad_patients['PTID']"
      ],
      "metadata": {
        "id": "mR1cR8PYToqe",
        "colab": {
          "base_uri": "https://localhost:8080/"
        },
        "outputId": "728a7f57-85fc-4bbf-9628-f0efb600c088"
      },
      "execution_count": 8,
      "outputs": [
        {
          "output_type": "stream",
          "name": "stdout",
          "text": [
            "271\n"
          ]
        }
      ]
    },
    {
      "cell_type": "markdown",
      "source": [
        "## Begin Modeling based on the patient baseline visits"
      ],
      "metadata": {
        "id": "tyvWhXTrLlMb"
      }
    },
    {
      "cell_type": "markdown",
      "source": [
        "Note: With the help of Dr. Talbert, we have decided to limit our data just to the baseline visits and ignore the time dimensionality of our data\n",
        "\n",
        "##  Data Cleaning\n",
        "* encode values: any string values need to be **hot encoded,** and numeric values need to be **normalized**\n",
        "*  narrow the columns to interesting ones for the SVM (Support Vector machine) to use for its predictions\n",
        "* for now we want to keep the participant rosterID and the participantID to be able to look up their information later"
      ],
      "metadata": {
        "id": "Dv7-GWYJqb76"
      }
    },
    {
      "cell_type": "code",
      "source": [
        "# select the baseline entries for each patient (yields 2430 patients)\n",
        "baseline_df = full_df[full_df['VISCODE'] == 'bl']\n"
      ],
      "metadata": {
        "id": "bsL_0mJzPlvO"
      },
      "execution_count": 9,
      "outputs": []
    },
    {
      "cell_type": "code",
      "source": [
        "# which columns are the datatype of object? (because they will probably be categorical features\n",
        "#     that need to be encoded, or need data cleaning attention)\n",
        "baseline_df.select_dtypes(include=object).columns"
      ],
      "metadata": {
        "id": "e9g1wtZ-5Ghl",
        "colab": {
          "base_uri": "https://localhost:8080/"
        },
        "outputId": "a9d8fd14-71db-4a5f-b7dc-c2f6ec2c66b9"
      },
      "execution_count": 10,
      "outputs": [
        {
          "output_type": "execute_result",
          "data": {
            "text/plain": [
              "Index(['COLPROT', 'ORIGPROT', 'PTID', 'VISCODE', 'EXAMDATE', 'DX_bl',\n",
              "       'PTGENDER', 'PTETHCAT', 'PTRACCAT', 'PTMARRY', 'ABETA', 'TAU', 'PTAU',\n",
              "       'FLDSTRENG', 'FSVERSION', 'DX', 'EXAMDATE_bl', 'FLDSTRENG_bl',\n",
              "       'FSVERSION_bl', 'ABETA_bl', 'TAU_bl', 'PTAU_bl', 'update_stamp'],\n",
              "      dtype='object')"
            ]
          },
          "metadata": {},
          "execution_count": 10
        }
      ]
    },
    {
      "cell_type": "markdown",
      "source": [
        "### Columns We're Choosing To ignore:\n",
        "* colprot -- because it is the protocol under which the data is collected\n",
        "* origprot -- original protocol the subject entered the study under\n",
        "* ptid -- keeping to identify the patient as long as possible, then throwing out during actual training\n",
        "* viscode -- the visit code\n",
        "* SITE\n",
        "* fieldstreng and FLDSTRENG_bl -- 1.5 or 3 Tesla MRI strength -- ignoring for now\n",
        "* FSVERSION and FSVERSION_bl -- something about FreeSurver Version 4.3, 5.1, or 6.0 -- ignore\n",
        "* update_stamp -- a datetime object"
      ],
      "metadata": {
        "id": "axjVsIpF9tG1"
      }
    },
    {
      "cell_type": "code",
      "source": [
        "# make a copy of the baseline_df (to avoid View vs copy issues)\n",
        "baseline_df_cleaned = baseline_df.copy()"
      ],
      "metadata": {
        "id": "aip2OGcdPqaw"
      },
      "execution_count": 11,
      "outputs": []
    },
    {
      "cell_type": "code",
      "source": [
        "# Remove Alligators Function\n",
        "def remove_alligators(val):\n",
        "  if(isinstance(val, float)):\n",
        "    # no problem return\n",
        "    return val\n",
        "\n",
        "  # try to replace the alligators\n",
        "  val = val.replace('>','')\n",
        "  val = val.replace('<','')\n",
        "\n",
        "  return val\n",
        "\n",
        "# Normalize Function (assumes numeric value)\n",
        "def custom_normalize(val, abs_max):\n",
        "  return val/abs_max\n"
      ],
      "metadata": {
        "id": "JOv-c6A6PVPT"
      },
      "execution_count": 12,
      "outputs": []
    },
    {
      "cell_type": "code",
      "source": [
        "# Cleaning the 'ABETA' column which has numeric data with some problem values like >1700\n",
        "\n",
        "baseline_df_cleaned['ABETA'] = baseline_df['ABETA'].apply(remove_alligators)\n",
        "\n",
        "# try to cast the column to float\n",
        "baseline_df_cleaned['ABETA'] = baseline_df_cleaned['ABETA'].astype(np.float64)\n",
        "\n",
        "# calculate the mean\n",
        "abeta_mean = baseline_df_cleaned['ABETA'].mean()\n",
        "\n",
        "# replace nan with the mean\n",
        "baseline_df_cleaned['ABETA'].fillna(value=abeta_mean, inplace=True)\n",
        "\n",
        "# normalize\n",
        "print(\"Before Normalization\")\n",
        "print(baseline_df_cleaned['ABETA'].describe())\n",
        "\n",
        "abs_max = abs(baseline_df_cleaned['ABETA'].max())\n",
        "\n",
        "baseline_df_cleaned['ABETA'] = baseline_df_cleaned.ABETA / abs_max\n",
        "\n",
        "print(\"After Normalization\")\n",
        "print(baseline_df_cleaned['ABETA'].describe())\n"
      ],
      "metadata": {
        "id": "RyKOxf7ULPQL",
        "colab": {
          "base_uri": "https://localhost:8080/"
        },
        "outputId": "d8b4b2c7-5b06-4fc8-9087-c280511fcb63"
      },
      "execution_count": 13,
      "outputs": [
        {
          "output_type": "stream",
          "name": "stdout",
          "text": [
            "Before Normalization\n",
            "count    2430.000000\n",
            "mean      979.928642\n",
            "std       323.299213\n",
            "min       200.000000\n",
            "25%       854.200000\n",
            "50%       979.928642\n",
            "75%       979.928642\n",
            "max      1700.000000\n",
            "Name: ABETA, dtype: float64\n",
            "After Normalization\n",
            "count    2430.000000\n",
            "mean        0.576429\n",
            "std         0.190176\n",
            "min         0.117647\n",
            "25%         0.502471\n",
            "50%         0.576429\n",
            "75%         0.576429\n",
            "max         1.000000\n",
            "Name: ABETA, dtype: float64\n"
          ]
        }
      ]
    },
    {
      "cell_type": "code",
      "source": [
        "# clean ABETA_bl column\n",
        "baseline_df_cleaned['ABETA_bl'] = baseline_df['ABETA_bl'].apply(remove_alligators)\n",
        "\n",
        "# try to cast the column to float\n",
        "baseline_df_cleaned['ABETA_bl'] = baseline_df_cleaned['ABETA_bl'].astype(np.float64)\n",
        "\n",
        "# calculate the mean\n",
        "abeta_mean = baseline_df_cleaned['ABETA_bl'].mean()\n",
        "\n",
        "# replace nan with the mean\n",
        "baseline_df_cleaned['ABETA_bl'].fillna(value=abeta_mean, inplace=True)\n",
        "\n",
        "# normalize\n",
        "abs_max = abs(baseline_df_cleaned['ABETA_bl'].max())\n",
        "baseline_df_cleaned['ABETA_bl'] = baseline_df_cleaned.ABETA_bl / abs_max\n"
      ],
      "metadata": {
        "id": "eG8BdyuW_LCW"
      },
      "execution_count": 14,
      "outputs": []
    },
    {
      "cell_type": "code",
      "source": [
        "# Clean 'TAU' column (problem like >1300)\n",
        "\n",
        "baseline_df_cleaned['TAU'] = baseline_df['TAU'].apply(remove_alligators)\n",
        "\n",
        "# try to cast the column to float\n",
        "baseline_df_cleaned['TAU'] = baseline_df_cleaned['TAU'].astype(np.float64)\n",
        "\n",
        "# get the mean\n",
        "tau_mean = baseline_df_cleaned['TAU'].mean()\n",
        "\n",
        "# replace nan with mean\n",
        "baseline_df_cleaned['TAU'].fillna(value=tau_mean, inplace=True)\n",
        "\n",
        "# normalize\n",
        "abs_max = abs(baseline_df_cleaned['TAU'].max())\n",
        "baseline_df_cleaned['TAU'] = baseline_df_cleaned.TAU / abs_max"
      ],
      "metadata": {
        "id": "jzui79a1-8-W"
      },
      "execution_count": 15,
      "outputs": []
    },
    {
      "cell_type": "code",
      "source": [
        "# clean TAU_bl column\n",
        "\n",
        "baseline_df_cleaned['TAU_bl'] = baseline_df['TAU_bl'].apply(remove_alligators)\n",
        "\n",
        "# try to cast the column to float\n",
        "baseline_df_cleaned['TAU_bl'] = baseline_df_cleaned['TAU_bl'].astype(np.float64)\n",
        "\n",
        "# get the mean\n",
        "tau_mean = baseline_df_cleaned['TAU_bl'].mean()\n",
        "\n",
        "# replace nan with mean\n",
        "baseline_df_cleaned['TAU_bl'].fillna(value=tau_mean, inplace=True)\n",
        "\n",
        "# normalize\n",
        "abs_max = abs(baseline_df_cleaned['TAU_bl'].max())\n",
        "baseline_df_cleaned['TAU_bl'] = baseline_df_cleaned.TAU_bl / abs_max"
      ],
      "metadata": {
        "id": "s3PoZ9yuN3Sy"
      },
      "execution_count": 16,
      "outputs": []
    },
    {
      "cell_type": "code",
      "source": [
        "# clean PTAU column\n",
        "baseline_df_cleaned['PTAU'] = baseline_df['PTAU'].apply(remove_alligators)\n",
        "\n",
        "# cast as float\n",
        "baseline_df_cleaned['PTAU'] = baseline_df_cleaned['PTAU'].astype(np.float64)\n",
        "\n",
        "#get mean\n",
        "ptau_mean = baseline_df_cleaned['PTAU'].mean()\n",
        "\n",
        "# replace nan with mean\n",
        "baseline_df_cleaned['PTAU'].fillna(value=ptau_mean, inplace=True)\n",
        "\n",
        "# normalize\n",
        "abs_max = abs(baseline_df_cleaned['PTAU'].max())\n",
        "baseline_df_cleaned['PTAU'] = baseline_df_cleaned.PTAU / abs_max"
      ],
      "metadata": {
        "id": "n3Vn564E_H3Z"
      },
      "execution_count": 17,
      "outputs": []
    },
    {
      "cell_type": "code",
      "source": [
        "# clean PTAU_bl column\n",
        "baseline_df_cleaned['PTAU_bl'] = baseline_df['PTAU_bl'].apply(remove_alligators)\n",
        "\n",
        "# cast as float\n",
        "baseline_df_cleaned['PTAU_bl'] = baseline_df_cleaned['PTAU_bl'].astype(np.float64)\n",
        "\n",
        "#get mean\n",
        "ptau_mean = baseline_df_cleaned['PTAU_bl'].mean()\n",
        "\n",
        "# replace nan with mean\n",
        "baseline_df_cleaned['PTAU_bl'].fillna(value=ptau_mean, inplace=True)\n",
        "\n",
        "# normalize\n",
        "abs_max = abs(baseline_df_cleaned['PTAU_bl'].max())\n",
        "baseline_df_cleaned['PTAU_bl'] = baseline_df_cleaned.PTAU_bl / abs_max"
      ],
      "metadata": {
        "id": "vhJubWEj83Vm"
      },
      "execution_count": 18,
      "outputs": []
    },
    {
      "cell_type": "code",
      "source": [
        "# Hot Encode Function\n",
        "def hot_encode(categories):\n",
        "  my_dict = {}\n",
        "\n",
        "  i=0\n",
        "  for c in categories:\n",
        "    my_dict[c] = i\n",
        "    i = i+1\n",
        "\n",
        "  return my_dict"
      ],
      "metadata": {
        "id": "A50hz54xWEzP"
      },
      "execution_count": 19,
      "outputs": []
    },
    {
      "cell_type": "code",
      "source": [
        "# # Hot Encode Patient Gender\n",
        "# categories = baseline_df_cleaned['PTGENDER'].unique()\n",
        "# my_dict = hot_encode(categories)\n",
        "\n",
        "# baseline_df_cleaned['PTGENDER'] = baseline_df_cleaned['PTGENDER'].replace(my_dict)\n",
        "\n",
        "# baseline_df_cleaned['PTGENDER'].unique()"
      ],
      "metadata": {
        "id": "t9i6bjVzXkgy"
      },
      "execution_count": 20,
      "outputs": []
    },
    {
      "cell_type": "code",
      "source": [
        "# encode the diagnosis as has alzheimers/MCI(value of 1) or not (value of 0)\n",
        "dx_dict = {\n",
        "    'CN':0,\n",
        "    'Dementia':1,\n",
        "    'AD':1,\n",
        "    'MCI':1\n",
        "}\n",
        "\n",
        "baseline_df_cleaned['DX'] = baseline_df_cleaned['DX'].replace(dx_dict)\n",
        "\n",
        "# drop nan rows where there isn't a diagnosis\n",
        "baseline_df_cleaned = baseline_df_cleaned.dropna(subset=['DX'])"
      ],
      "metadata": {
        "id": "Gim3YmmHP-Z0"
      },
      "execution_count": 21,
      "outputs": []
    },
    {
      "cell_type": "code",
      "source": [
        "# combine normalized columns and encoded columns (all of the cleaning)\n",
        "\n",
        "# select the columns that contain categorical values and encode them\n",
        "# Baseline Diagnosis(DX_bl), Diagnosis(DX), Gender(PTGENDER), Education (PTEDUCAT), Ethnicity(PTETHCAT),\n",
        "# Race(PTRACCAT), Marital Status at BL (PTMARRY)\n",
        "\n",
        "some_columns = ['DX','ABETA', 'TAU', 'PTAU', 'ABETA_bl', 'TAU_bl', 'PTAU_bl']\n",
        "baseline_df_all_cleaned = baseline_df_cleaned[some_columns]"
      ],
      "metadata": {
        "id": "LCzfp7brTllj"
      },
      "execution_count": 22,
      "outputs": []
    },
    {
      "cell_type": "code",
      "source": [
        "# split data into training and test\n",
        "train, test = train_test_split(baseline_df_all_cleaned, random_state=104, test_size=0.30, shuffle=True)"
      ],
      "metadata": {
        "id": "UxVk43i3Lre0"
      },
      "execution_count": 23,
      "outputs": []
    },
    {
      "cell_type": "code",
      "source": [
        "# The SVM requires cleaned, encoded, normalized data\n",
        "\n",
        "# Create a Support Vector Machine for Binary Classification of Dimentia vs CN\n",
        "\n",
        "# input everything but the diagnosis code\n",
        "inputs = train.drop(['DX'], axis=1)\n",
        "\n",
        "# predict the diagnosis code\n",
        "outputs = train['DX']\n",
        "\n",
        "clf = SVC()\n",
        "clf.fit(inputs,outputs)\n",
        "SVC()"
      ],
      "metadata": {
        "id": "xIzXpMkfM_DN",
        "colab": {
          "base_uri": "https://localhost:8080/",
          "height": 74
        },
        "outputId": "1ffffa04-6205-4077-dace-3409d408dd50"
      },
      "execution_count": 24,
      "outputs": [
        {
          "output_type": "execute_result",
          "data": {
            "text/plain": [
              "SVC()"
            ],
            "text/html": [
              "<style>#sk-container-id-1 {color: black;background-color: white;}#sk-container-id-1 pre{padding: 0;}#sk-container-id-1 div.sk-toggleable {background-color: white;}#sk-container-id-1 label.sk-toggleable__label {cursor: pointer;display: block;width: 100%;margin-bottom: 0;padding: 0.3em;box-sizing: border-box;text-align: center;}#sk-container-id-1 label.sk-toggleable__label-arrow:before {content: \"▸\";float: left;margin-right: 0.25em;color: #696969;}#sk-container-id-1 label.sk-toggleable__label-arrow:hover:before {color: black;}#sk-container-id-1 div.sk-estimator:hover label.sk-toggleable__label-arrow:before {color: black;}#sk-container-id-1 div.sk-toggleable__content {max-height: 0;max-width: 0;overflow: hidden;text-align: left;background-color: #f0f8ff;}#sk-container-id-1 div.sk-toggleable__content pre {margin: 0.2em;color: black;border-radius: 0.25em;background-color: #f0f8ff;}#sk-container-id-1 input.sk-toggleable__control:checked~div.sk-toggleable__content {max-height: 200px;max-width: 100%;overflow: auto;}#sk-container-id-1 input.sk-toggleable__control:checked~label.sk-toggleable__label-arrow:before {content: \"▾\";}#sk-container-id-1 div.sk-estimator input.sk-toggleable__control:checked~label.sk-toggleable__label {background-color: #d4ebff;}#sk-container-id-1 div.sk-label input.sk-toggleable__control:checked~label.sk-toggleable__label {background-color: #d4ebff;}#sk-container-id-1 input.sk-hidden--visually {border: 0;clip: rect(1px 1px 1px 1px);clip: rect(1px, 1px, 1px, 1px);height: 1px;margin: -1px;overflow: hidden;padding: 0;position: absolute;width: 1px;}#sk-container-id-1 div.sk-estimator {font-family: monospace;background-color: #f0f8ff;border: 1px dotted black;border-radius: 0.25em;box-sizing: border-box;margin-bottom: 0.5em;}#sk-container-id-1 div.sk-estimator:hover {background-color: #d4ebff;}#sk-container-id-1 div.sk-parallel-item::after {content: \"\";width: 100%;border-bottom: 1px solid gray;flex-grow: 1;}#sk-container-id-1 div.sk-label:hover label.sk-toggleable__label {background-color: #d4ebff;}#sk-container-id-1 div.sk-serial::before {content: \"\";position: absolute;border-left: 1px solid gray;box-sizing: border-box;top: 0;bottom: 0;left: 50%;z-index: 0;}#sk-container-id-1 div.sk-serial {display: flex;flex-direction: column;align-items: center;background-color: white;padding-right: 0.2em;padding-left: 0.2em;position: relative;}#sk-container-id-1 div.sk-item {position: relative;z-index: 1;}#sk-container-id-1 div.sk-parallel {display: flex;align-items: stretch;justify-content: center;background-color: white;position: relative;}#sk-container-id-1 div.sk-item::before, #sk-container-id-1 div.sk-parallel-item::before {content: \"\";position: absolute;border-left: 1px solid gray;box-sizing: border-box;top: 0;bottom: 0;left: 50%;z-index: -1;}#sk-container-id-1 div.sk-parallel-item {display: flex;flex-direction: column;z-index: 1;position: relative;background-color: white;}#sk-container-id-1 div.sk-parallel-item:first-child::after {align-self: flex-end;width: 50%;}#sk-container-id-1 div.sk-parallel-item:last-child::after {align-self: flex-start;width: 50%;}#sk-container-id-1 div.sk-parallel-item:only-child::after {width: 0;}#sk-container-id-1 div.sk-dashed-wrapped {border: 1px dashed gray;margin: 0 0.4em 0.5em 0.4em;box-sizing: border-box;padding-bottom: 0.4em;background-color: white;}#sk-container-id-1 div.sk-label label {font-family: monospace;font-weight: bold;display: inline-block;line-height: 1.2em;}#sk-container-id-1 div.sk-label-container {text-align: center;}#sk-container-id-1 div.sk-container {/* jupyter's `normalize.less` sets `[hidden] { display: none; }` but bootstrap.min.css set `[hidden] { display: none !important; }` so we also need the `!important` here to be able to override the default hidden behavior on the sphinx rendered scikit-learn.org. See: https://github.com/scikit-learn/scikit-learn/issues/21755 */display: inline-block !important;position: relative;}#sk-container-id-1 div.sk-text-repr-fallback {display: none;}</style><div id=\"sk-container-id-1\" class=\"sk-top-container\"><div class=\"sk-text-repr-fallback\"><pre>SVC()</pre><b>In a Jupyter environment, please rerun this cell to show the HTML representation or trust the notebook. <br />On GitHub, the HTML representation is unable to render, please try loading this page with nbviewer.org.</b></div><div class=\"sk-container\" hidden><div class=\"sk-item\"><div class=\"sk-estimator sk-toggleable\"><input class=\"sk-toggleable__control sk-hidden--visually\" id=\"sk-estimator-id-1\" type=\"checkbox\" checked><label for=\"sk-estimator-id-1\" class=\"sk-toggleable__label sk-toggleable__label-arrow\">SVC</label><div class=\"sk-toggleable__content\"><pre>SVC()</pre></div></div></div></div></div>"
            ]
          },
          "metadata": {},
          "execution_count": 24
        }
      ]
    },
    {
      "cell_type": "code",
      "source": [
        "# then test the predictions on the test dataset\n",
        "test_inputs = test.drop(['DX'], axis=1)\n",
        "\n",
        "# prediction\n",
        "test['prediction'] = clf.predict(test_inputs)"
      ],
      "metadata": {
        "id": "5He4ha3BcQ3v"
      },
      "execution_count": 25,
      "outputs": []
    },
    {
      "cell_type": "code",
      "source": [
        "print(len(test))"
      ],
      "metadata": {
        "id": "au1wkwgVaQ2G",
        "colab": {
          "base_uri": "https://localhost:8080/"
        },
        "outputId": "2013f3ca-b64f-4d45-cb6f-cc7d80b03ff6"
      },
      "execution_count": 26,
      "outputs": [
        {
          "output_type": "stream",
          "name": "stdout",
          "text": [
            "723\n"
          ]
        }
      ]
    },
    {
      "cell_type": "code",
      "source": [
        "# number of incorrect answers\n",
        "incorrect = test[test['DX'] != test['prediction']]\n",
        "print(\"Wrong: \", len(incorrect))\n",
        "\n",
        "# difference (num correct)\n",
        "num_correct = len(test)-len(incorrect)\n",
        "\n",
        "# percent\n",
        "print(\"Percent Right:\", num_correct/len(test))"
      ],
      "metadata": {
        "id": "cyFlOtsVfXxS",
        "colab": {
          "base_uri": "https://localhost:8080/"
        },
        "outputId": "36fa2a02-60a3-4cf4-9211-942fffda61ce"
      },
      "execution_count": 27,
      "outputs": [
        {
          "output_type": "stream",
          "name": "stdout",
          "text": [
            "Wrong:  270\n",
            "Percent Right: 0.6265560165975104\n"
          ]
        }
      ]
    }
  ]
}