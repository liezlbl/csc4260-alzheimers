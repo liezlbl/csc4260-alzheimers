{
 "cells": [
  {
   "cell_type": "code",
   "execution_count": 2,
   "id": "fcbc0aac",
   "metadata": {},
   "outputs": [
    {
     "name": "stdout",
     "output_type": "stream",
     "text": [
      "Defaulting to user installation because normal site-packages is not writeable\n",
      "Requirement already satisfied: numpy in /home/tntech.edu/lblaurel42/.local/lib/python3.10/site-packages (from -r requirements.txt (line 1)) (1.26.4)\n",
      "Requirement already satisfied: tensorflow in /home/tntech.edu/lblaurel42/.local/lib/python3.10/site-packages (from -r requirements.txt (line 2)) (2.16.1)\n",
      "Requirement already satisfied: nibabel in /home/tntech.edu/lblaurel42/.local/lib/python3.10/site-packages (from -r requirements.txt (line 3)) (5.2.1)\n",
      "Requirement already satisfied: scikit-learn in /home/tntech.edu/lblaurel42/.local/lib/python3.10/site-packages (from -r requirements.txt (line 4)) (1.4.1.post1)\n",
      "Requirement already satisfied: nilearn in /home/tntech.edu/lblaurel42/.local/lib/python3.10/site-packages (from -r requirements.txt (line 5)) (0.10.3)\n",
      "Requirement already satisfied: absl-py>=1.0.0 in /home/tntech.edu/lblaurel42/.local/lib/python3.10/site-packages (from tensorflow->-r requirements.txt (line 2)) (2.1.0)\n",
      "Requirement already satisfied: requests<3,>=2.21.0 in /home/tntech.edu/lblaurel42/.local/lib/python3.10/site-packages (from tensorflow->-r requirements.txt (line 2)) (2.31.0)\n",
      "Requirement already satisfied: protobuf!=4.21.0,!=4.21.1,!=4.21.2,!=4.21.3,!=4.21.4,!=4.21.5,<5.0.0dev,>=3.20.3 in /home/tntech.edu/lblaurel42/.local/lib/python3.10/site-packages (from tensorflow->-r requirements.txt (line 2)) (4.25.3)\n",
      "Requirement already satisfied: libclang>=13.0.0 in /home/tntech.edu/lblaurel42/.local/lib/python3.10/site-packages (from tensorflow->-r requirements.txt (line 2)) (18.1.1)\n",
      "Requirement already satisfied: astunparse>=1.6.0 in /home/tntech.edu/lblaurel42/.local/lib/python3.10/site-packages (from tensorflow->-r requirements.txt (line 2)) (1.6.3)\n",
      "Requirement already satisfied: grpcio<2.0,>=1.24.3 in /home/tntech.edu/lblaurel42/.local/lib/python3.10/site-packages (from tensorflow->-r requirements.txt (line 2)) (1.62.1)\n",
      "Requirement already satisfied: termcolor>=1.1.0 in /home/tntech.edu/lblaurel42/.local/lib/python3.10/site-packages (from tensorflow->-r requirements.txt (line 2)) (2.4.0)\n",
      "Requirement already satisfied: packaging in /opt/ohpc/pub/spack/v0.20.1/opt/spack/linux-rocky8-x86_64_v3/gcc-8.5.0/py-packaging-23.0-37h5zhk354n7of2enhbh2woin4yhcxkd/lib/python3.10/site-packages (from tensorflow->-r requirements.txt (line 2)) (23.0)\n",
      "Requirement already satisfied: google-pasta>=0.1.1 in /home/tntech.edu/lblaurel42/.local/lib/python3.10/site-packages (from tensorflow->-r requirements.txt (line 2)) (0.2.0)\n",
      "Requirement already satisfied: tensorflow-io-gcs-filesystem>=0.23.1 in /home/tntech.edu/lblaurel42/.local/lib/python3.10/site-packages (from tensorflow->-r requirements.txt (line 2)) (0.36.0)\n",
      "Requirement already satisfied: opt-einsum>=2.3.2 in /home/tntech.edu/lblaurel42/.local/lib/python3.10/site-packages (from tensorflow->-r requirements.txt (line 2)) (3.3.0)\n",
      "Requirement already satisfied: six>=1.12.0 in /opt/ohpc/pub/spack/v0.20.1/opt/spack/linux-rocky8-x86_64_v3/gcc-8.5.0/py-six-1.16.0-6dgvezhlg4ldd7kwubyekohfdgd27wkz/lib/python3.10/site-packages (from tensorflow->-r requirements.txt (line 2)) (1.16.0)\n",
      "Requirement already satisfied: setuptools in /opt/ohpc/pub/spack/v0.20.1/opt/spack/linux-rocky8-x86_64_v3/gcc-8.5.0/py-setuptools-67.6.0-jrtke74ly4p6fpcw2zfkfbofmadbpknf/lib/python3.10/site-packages (from tensorflow->-r requirements.txt (line 2)) (67.6.0)\n",
      "Requirement already satisfied: tensorboard<2.17,>=2.16 in /home/tntech.edu/lblaurel42/.local/lib/python3.10/site-packages (from tensorflow->-r requirements.txt (line 2)) (2.16.2)\n",
      "Requirement already satisfied: typing-extensions>=3.6.6 in /opt/ohpc/pub/spack/v0.20.1/opt/spack/linux-rocky8-x86_64_v3/gcc-8.5.0/py-typing-extensions-4.5.0-jdrgbkgow6psxfljmfvdponaveuz3d3z/lib/python3.10/site-packages (from tensorflow->-r requirements.txt (line 2)) (4.5.0)\n",
      "Requirement already satisfied: h5py>=3.10.0 in /home/tntech.edu/lblaurel42/.local/lib/python3.10/site-packages (from tensorflow->-r requirements.txt (line 2)) (3.10.0)\n",
      "Requirement already satisfied: gast!=0.5.0,!=0.5.1,!=0.5.2,>=0.2.1 in /home/tntech.edu/lblaurel42/.local/lib/python3.10/site-packages (from tensorflow->-r requirements.txt (line 2)) (0.5.4)\n",
      "Requirement already satisfied: flatbuffers>=23.5.26 in /home/tntech.edu/lblaurel42/.local/lib/python3.10/site-packages (from tensorflow->-r requirements.txt (line 2)) (24.3.7)\n",
      "Requirement already satisfied: ml-dtypes~=0.3.1 in /home/tntech.edu/lblaurel42/.local/lib/python3.10/site-packages (from tensorflow->-r requirements.txt (line 2)) (0.3.2)\n",
      "Requirement already satisfied: keras>=3.0.0 in /home/tntech.edu/lblaurel42/.local/lib/python3.10/site-packages (from tensorflow->-r requirements.txt (line 2)) (3.1.1)\n",
      "Requirement already satisfied: wrapt>=1.11.0 in /home/tntech.edu/lblaurel42/.local/lib/python3.10/site-packages (from tensorflow->-r requirements.txt (line 2)) (1.16.0)\n",
      "Requirement already satisfied: joblib>=1.2.0 in /home/tntech.edu/lblaurel42/.local/lib/python3.10/site-packages (from scikit-learn->-r requirements.txt (line 4)) (1.3.2)\n",
      "Requirement already satisfied: threadpoolctl>=2.0.0 in /home/tntech.edu/lblaurel42/.local/lib/python3.10/site-packages (from scikit-learn->-r requirements.txt (line 4)) (3.4.0)\n",
      "Requirement already satisfied: scipy>=1.6.0 in /home/tntech.edu/lblaurel42/.local/lib/python3.10/site-packages (from scikit-learn->-r requirements.txt (line 4)) (1.12.0)\n",
      "Requirement already satisfied: pandas>=1.1.5 in /home/tntech.edu/lblaurel42/.local/lib/python3.10/site-packages (from nilearn->-r requirements.txt (line 5)) (2.2.1)\n",
      "Requirement already satisfied: lxml in /opt/ohpc/pub/spack/v0.20.1/opt/spack/linux-rocky8-x86_64_v3/gcc-8.5.0/py-lxml-4.9.1-n4mxujk5mt2nxmj2344dyioitsk32d2w/lib/python3.10/site-packages (from nilearn->-r requirements.txt (line 5)) (4.9.1)\n",
      "Requirement already satisfied: wheel<1.0,>=0.23.0 in /opt/ohpc/pub/spack/v0.20.1/opt/spack/linux-rocky8-x86_64_v3/gcc-8.5.0/py-wheel-0.37.1-c5uwc7cvg4tbxge45gpdi4d3252vd7rt/lib/python3.10/site-packages (from astunparse>=1.6.0->tensorflow->-r requirements.txt (line 2)) (0.37.1)\n",
      "Requirement already satisfied: namex in /home/tntech.edu/lblaurel42/.local/lib/python3.10/site-packages (from keras>=3.0.0->tensorflow->-r requirements.txt (line 2)) (0.0.7)\n",
      "Requirement already satisfied: optree in /home/tntech.edu/lblaurel42/.local/lib/python3.10/site-packages (from keras>=3.0.0->tensorflow->-r requirements.txt (line 2)) (0.11.0)\n",
      "Requirement already satisfied: rich in /home/tntech.edu/lblaurel42/.local/lib/python3.10/site-packages (from keras>=3.0.0->tensorflow->-r requirements.txt (line 2)) (13.7.1)\n",
      "Requirement already satisfied: tzdata>=2022.7 in /home/tntech.edu/lblaurel42/.local/lib/python3.10/site-packages (from pandas>=1.1.5->nilearn->-r requirements.txt (line 5)) (2024.1)\n",
      "Requirement already satisfied: pytz>=2020.1 in /home/tntech.edu/lblaurel42/.local/lib/python3.10/site-packages (from pandas>=1.1.5->nilearn->-r requirements.txt (line 5)) (2024.1)\n",
      "Requirement already satisfied: python-dateutil>=2.8.2 in /opt/ohpc/pub/spack/v0.20.1/opt/spack/linux-rocky8-x86_64_v3/gcc-8.5.0/py-python-dateutil-2.8.2-jzo7od4rj3bjnksztda6tzljfalwczcd/lib/python3.10/site-packages (from pandas>=1.1.5->nilearn->-r requirements.txt (line 5)) (2.8.2)\n",
      "Requirement already satisfied: urllib3<3,>=1.21.1 in /home/tntech.edu/lblaurel42/.local/lib/python3.10/site-packages (from requests<3,>=2.21.0->tensorflow->-r requirements.txt (line 2)) (2.2.1)\n",
      "Requirement already satisfied: idna<4,>=2.5 in /home/tntech.edu/lblaurel42/.local/lib/python3.10/site-packages (from requests<3,>=2.21.0->tensorflow->-r requirements.txt (line 2)) (3.6)\n",
      "Requirement already satisfied: charset-normalizer<4,>=2 in /home/tntech.edu/lblaurel42/.local/lib/python3.10/site-packages (from requests<3,>=2.21.0->tensorflow->-r requirements.txt (line 2)) (3.3.2)\n",
      "Requirement already satisfied: certifi>=2017.4.17 in /home/tntech.edu/lblaurel42/.local/lib/python3.10/site-packages (from requests<3,>=2.21.0->tensorflow->-r requirements.txt (line 2)) (2024.2.2)\n",
      "Requirement already satisfied: tensorboard-data-server<0.8.0,>=0.7.0 in /home/tntech.edu/lblaurel42/.local/lib/python3.10/site-packages (from tensorboard<2.17,>=2.16->tensorflow->-r requirements.txt (line 2)) (0.7.2)\n",
      "Requirement already satisfied: werkzeug>=1.0.1 in /home/tntech.edu/lblaurel42/.local/lib/python3.10/site-packages (from tensorboard<2.17,>=2.16->tensorflow->-r requirements.txt (line 2)) (3.0.1)\n",
      "Requirement already satisfied: markdown>=2.6.8 in /home/tntech.edu/lblaurel42/.local/lib/python3.10/site-packages (from tensorboard<2.17,>=2.16->tensorflow->-r requirements.txt (line 2)) (3.6)\n",
      "Requirement already satisfied: MarkupSafe>=2.1.1 in /opt/ohpc/pub/spack/v0.20.1/opt/spack/linux-rocky8-x86_64_v3/gcc-8.5.0/py-markupsafe-2.1.1-cg2ztutnuytp2qg2jotjnfkpochyw5ho/lib/python3.10/site-packages (from werkzeug>=1.0.1->tensorboard<2.17,>=2.16->tensorflow->-r requirements.txt (line 2)) (2.1.1)\n",
      "Requirement already satisfied: pygments<3.0.0,>=2.13.0 in /opt/ohpc/pub/spack/v0.20.1/opt/spack/linux-rocky8-x86_64_v3/gcc-8.5.0/py-pygments-2.13.0-czh52376oa42x7l7vdbl5i5q4xm43yfg/lib/python3.10/site-packages (from rich->keras>=3.0.0->tensorflow->-r requirements.txt (line 2)) (2.13.0)\n",
      "Requirement already satisfied: markdown-it-py>=2.2.0 in /home/tntech.edu/lblaurel42/.local/lib/python3.10/site-packages (from rich->keras>=3.0.0->tensorflow->-r requirements.txt (line 2)) (3.0.0)\n",
      "Requirement already satisfied: mdurl~=0.1 in /home/tntech.edu/lblaurel42/.local/lib/python3.10/site-packages (from markdown-it-py>=2.2.0->rich->keras>=3.0.0->tensorflow->-r requirements.txt (line 2)) (0.1.2)\n",
      "\n",
      "\u001b[1m[\u001b[0m\u001b[34;49mnotice\u001b[0m\u001b[1;39;49m]\u001b[0m\u001b[39;49m A new release of pip is available: \u001b[0m\u001b[31;49m23.0\u001b[0m\u001b[39;49m -> \u001b[0m\u001b[32;49m24.0\u001b[0m\n",
      "\u001b[1m[\u001b[0m\u001b[34;49mnotice\u001b[0m\u001b[1;39;49m]\u001b[0m\u001b[39;49m To update, run: \u001b[0m\u001b[32;49m/opt/ohpc/pub/spack/v0.20.1/opt/spack/linux-rocky8-x86_64_v3/gcc-8.5.0/python-3.10.10-pfj3kn4eqy4hivj33qcmazddy3xivrld/bin/python3.10 -m pip install --upgrade pip\u001b[0m\n",
      "Note: you may need to restart the kernel to use updated packages.\n"
     ]
    }
   ],
   "source": [
    "pip install -r requirements.txt"
   ]
  },
  {
   "cell_type": "code",
   "execution_count": 1,
   "id": "49c90e16",
   "metadata": {},
   "outputs": [
    {
     "name": "stderr",
     "output_type": "stream",
     "text": [
      "2024-03-26 22:58:38.357209: I external/local_tsl/tsl/cuda/cudart_stub.cc:32] Could not find cuda drivers on your machine, GPU will not be used.\n",
      "2024-03-26 22:58:38.359793: I external/local_tsl/tsl/cuda/cudart_stub.cc:32] Could not find cuda drivers on your machine, GPU will not be used.\n",
      "2024-03-26 22:58:38.393327: I tensorflow/core/platform/cpu_feature_guard.cc:210] This TensorFlow binary is optimized to use available CPU instructions in performance-critical operations.\n",
      "To enable the following instructions: AVX2 FMA, in other operations, rebuild TensorFlow with the appropriate compiler flags.\n",
      "2024-03-26 22:58:39.415793: W tensorflow/compiler/tf2tensorrt/utils/py_utils.cc:38] TF-TRT Warning: Could not find TensorRT\n"
     ]
    }
   ],
   "source": [
    "import numpy as np\n",
    "import os\n",
    "import tensorflow as tf\n",
    "import nibabel as nib\n",
    "import nilearn.image as nl_img\n",
    "from sklearn.model_selection import train_test_split\n",
    "from sklearn.preprocessing import LabelEncoder\n",
    "from sklearn.utils import shuffle"
   ]
  },
  {
   "cell_type": "code",
   "execution_count": 16,
   "id": "9bf122ef",
   "metadata": {},
   "outputs": [],
   "source": [
    "def read_nifti_images(directory):\n",
    "    images = []\n",
    "    labels = []\n",
    "# flow of directories- {research group}/{ID}/{x.nii}\n",
    "    x = 0\n",
    "    while x < 10:\n",
    "        for class_folder in os.listdir(directory):\n",
    "            class_folder_path = os.path.join(directory, class_folder)\n",
    "            if os.path.isdir(class_folder_path):\n",
    "               # label as class folder (research group)\n",
    "                label = class_folder\n",
    "               # for each ID, go through and find .nii files\n",
    "                for id_folder in os.listdir(class_folder_path):\n",
    "                    id_folder_path = os.path.join(class_folder_path, id_folder)\n",
    "                    if os.path.isdir(id_folder_path):\n",
    "                        for file in os.listdir(id_folder_path):\n",
    "                            if file.endswith('.nii'):\n",
    "                                nifti_path = os.path.join(id_folder_path, file)\n",
    "                                # Load the NIfTI image\n",
    "                                nifti_data = nib.load(nifti_path)\n",
    "                                x += 1\n",
    "#                             nifti_data_load = nifti_data.get_fdata()\n",
    "#                             print(nifti_data.shape)\n",
    "#                             print(nifti_data)\n",
    "# fix this\n",
    "# kernel dies, probably memory issue\n",
    "# why does X_train.shape return (25,)?\n",
    "                            images.append(nifti_data)\n",
    "                            labels.append(label)\n",
    "    return np.array(images), np.array(labels)"
   ]
  },
  {
   "cell_type": "code",
   "execution_count": 17,
   "id": "6f5d35c2",
   "metadata": {},
   "outputs": [],
   "source": [
    "data_directory = 'ADNI_test'\n",
    "images, labels = read_nifti_images(data_directory)"
   ]
  },
  {
   "cell_type": "code",
   "execution_count": 22,
   "id": "efdcf7b7",
   "metadata": {},
   "outputs": [
    {
     "name": "stdout",
     "output_type": "stream",
     "text": [
      "Shape of X_train: (34,)\n"
     ]
    }
   ],
   "source": [
    "X_train, X_test, y_train, y_test = train_test_split(images, labels, test_size=0.2, random_state=42)\n",
    "\n",
    "# shape of X_train does not include other dimensions (25,) <- doesn't look right!\n",
    "print(\"Shape of X_train:\", X_train.shape)"
   ]
  },
  {
   "cell_type": "code",
   "execution_count": 7,
   "id": "680d8332",
   "metadata": {},
   "outputs": [
    {
     "name": "stdout",
     "output_type": "stream",
     "text": [
      "[<nibabel.nifti1.Nifti1Image object at 0x7f71361b4970>\n",
      " <nibabel.nifti1.Nifti1Image object at 0x7f71ad143100>\n",
      " <nibabel.nifti1.Nifti1Image object at 0x7f7134e9c970>\n",
      " <nibabel.nifti1.Nifti1Image object at 0x7f71ad143130>\n",
      " <nibabel.nifti1.Nifti1Image object at 0x7f7134dab700>\n",
      " <nibabel.nifti1.Nifti1Image object at 0x7f7134dab760>\n",
      " <nibabel.nifti1.Nifti1Image object at 0x7f7134dab9a0>\n",
      " <nibabel.nifti1.Nifti1Image object at 0x7f7134dab400>\n",
      " <nibabel.nifti1.Nifti1Image object at 0x7f7134dabe80>\n",
      " <nibabel.nifti1.Nifti1Image object at 0x7f7134dab580>\n",
      " <nibabel.nifti1.Nifti1Image object at 0x7f7134da9660>\n",
      " <nibabel.nifti1.Nifti1Image object at 0x7f7134daa110>\n",
      " <nibabel.nifti1.Nifti1Image object at 0x7f7134dabca0>\n",
      " <nibabel.nifti1.Nifti1Image object at 0x7f7134dabb50>\n",
      " <nibabel.nifti1.Nifti1Image object at 0x7f7134daa530>\n",
      " <nibabel.nifti1.Nifti1Image object at 0x7f7134daa2f0>\n",
      " <nibabel.nifti1.Nifti1Image object at 0x7f7134daab30>\n",
      " <nibabel.nifti1.Nifti1Image object at 0x7f7134daae00>\n",
      " <nibabel.nifti1.Nifti1Image object at 0x7f7134dab730>\n",
      " <nibabel.nifti1.Nifti1Image object at 0x7f7134dab3a0>\n",
      " <nibabel.nifti1.Nifti1Image object at 0x7f7134da9f30>\n",
      " <nibabel.nifti1.Nifti1Image object at 0x7f7134daa380>\n",
      " <nibabel.nifti1.Nifti1Image object at 0x7f7134da9030>\n",
      " <nibabel.nifti1.Nifti1Image object at 0x7f7134dab280>\n",
      " <nibabel.nifti1.Nifti1Image object at 0x7f7134dab2b0>\n",
      " <nibabel.nifti1.Nifti1Image object at 0x7f7134d1f250>\n",
      " <nibabel.nifti1.Nifti1Image object at 0x7f7134d1f040>\n",
      " <nibabel.nifti1.Nifti1Image object at 0x7f7134d1e860>\n",
      " <nibabel.nifti1.Nifti1Image object at 0x7f7134d1ef80>\n",
      " <nibabel.nifti1.Nifti1Image object at 0x7f7134d1e950>\n",
      " <nibabel.nifti1.Nifti1Image object at 0x7f7134d1e6b0>\n",
      " <nibabel.nifti1.Nifti1Image object at 0x7f7134d1e4d0>]\n"
     ]
    }
   ],
   "source": [
    "print(np.array(images))"
   ]
  },
  {
   "cell_type": "code",
   "execution_count": null,
   "id": "6a613427",
   "metadata": {},
   "outputs": [],
   "source": []
  }
 ],
 "metadata": {
  "kernelspec": {
   "display_name": "Python 3 (ipykernel)",
   "language": "python",
   "name": "python3"
  },
  "language_info": {
   "codemirror_mode": {
    "name": "ipython",
    "version": 3
   },
   "file_extension": ".py",
   "mimetype": "text/x-python",
   "name": "python",
   "nbconvert_exporter": "python",
   "pygments_lexer": "ipython3",
   "version": "3.10.10"
  }
 },
 "nbformat": 4,
 "nbformat_minor": 5
}
