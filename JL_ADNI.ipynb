{
  "nbformat": 4,
  "nbformat_minor": 0,
  "metadata": {
    "colab": {
      "provenance": [],
      "machine_shape": "hm",
      "gpuType": "T4",
      "toc_visible": true
    },
    "kernelspec": {
      "name": "python3",
      "display_name": "Python 3"
    },
    "language_info": {
      "name": "python"
    },
    "accelerator": "GPU"
  },
  "cells": [
    {
      "cell_type": "markdown",
      "source": [
        "\n",
        "\n",
        "\n",
        "# Part 1: Data Preprocessing"
      ],
      "metadata": {
        "id": "RbL_W9Qi7ykh"
      }
    },
    {
      "cell_type": "markdown",
      "source": [
        "## Import Libraries and Data"
      ],
      "metadata": {
        "id": "v1KEtSOs2qLJ"
      }
    },
    {
      "cell_type": "code",
      "source": [
        "!pip install pandas_plink\n",
        "!pip install mrmr-selection"
      ],
      "metadata": {
        "id": "uuIzIv13OPQN"
      },
      "execution_count": null,
      "outputs": []
    },
    {
      "cell_type": "code",
      "execution_count": null,
      "metadata": {
        "id": "Q04NMS9u4kvC",
        "colab": {
          "base_uri": "https://localhost:8080/"
        },
        "outputId": "fe16dd28-eebf-4094-c50e-9221a6fe400e"
      },
      "outputs": [
        {
          "output_type": "stream",
          "name": "stdout",
          "text": [
            "Mounted at /content/drive\n"
          ]
        }
      ],
      "source": [
        "from google.colab import drive\n",
        "drive.mount('/content/drive', force_remount=True)\n"
      ]
    },
    {
      "cell_type": "code",
      "source": [
        "# For data preprocessing\n",
        "import pandas as pd\n",
        "import numpy as np\n",
        "from pandas_plink import read_plink1_bin # for reading in PLINK binary file set\n",
        "import mrmr # for feature selection\n",
        "\n",
        "# For data Visualization\n",
        "import matplotlib.pyplot as plt\n",
        "import seaborn as sns\n",
        "from matplotlib.pyplot import figure\n",
        "\n",
        "# for model building\n",
        "import tensorflow as tf\n"
      ],
      "metadata": {
        "id": "sDcfP7s26s2i"
      },
      "execution_count": null,
      "outputs": []
    },
    {
      "cell_type": "code",
      "source": [
        "fPATH_ADNI_Omni25M = '/content/drive/MyDrive/ADV_DS/ADNI_GENETIC_DATA/ADNI_Omni25M/microarray_SNP_data/WGS_Omni25_BIN.bed'\n",
        "fPATH_INFO= '/content/drive/MyDrive/ADV_DS/ADNI_GENETIC_DATA/ADNI_Omni25M/ADNI_Deletions_Radke/ADNI_IDinfo.txt'"
      ],
      "metadata": {
        "id": "82Xy52d_5PaR"
      },
      "execution_count": null,
      "outputs": []
    },
    {
      "cell_type": "code",
      "source": [
        "DF_idInfo = pd.read_csv(fPATH_INFO, delimiter='\\t', usecols=['ADNI_PTID', 'pheno'])\n",
        "data0 = read_plink1_bin(fPATH_ADNI_Omni25M)"
      ],
      "metadata": {
        "id": "DpsKKUt75X2h",
        "colab": {
          "base_uri": "https://localhost:8080/"
        },
        "outputId": "4d053f0f-275e-4077-df9c-2629290ce99f"
      },
      "execution_count": null,
      "outputs": [
        {
          "output_type": "stream",
          "name": "stderr",
          "text": [
            "Mapping files: 100%|██████████| 3/3 [00:08<00:00,  2.84s/it]\n"
          ]
        }
      ]
    },
    {
      "cell_type": "markdown",
      "source": [
        "## Data Cleaning\n",
        "\n"
      ],
      "metadata": {
        "id": "jQkRcRL5205q"
      }
    },
    {
      "cell_type": "code",
      "source": [
        "iid_arr = data0.sample['iid'].values\n",
        "\n",
        "#find the missing patient ids.\n",
        "setOf_dFrame_ptids = set(DF_idInfo['ADNI_PTID'])\n",
        "setOf_dArray_ptids = set(iid_arr)\n",
        "missing_ids = setOf_dArray_ptids - setOf_dFrame_ptids\n",
        "missing_ids = np.array(list(missing_ids))\n",
        "print(f'Missing Patient Ids:', missing_ids)\n",
        "\n",
        "# sort the dataArray and the idinfo dataframe\n",
        "sorted_dArray = data0.sortby('iid')\n",
        "sorted_df = DF_idInfo.sort_values(by='ADNI_PTID')\n",
        "\n",
        "\n",
        "#drop missing patients from the sorted data array\n",
        "drop_set = set(missing_ids)\n",
        "mask = np.array([iid not in drop_set for iid in sorted_dArray.sample['iid'].values])\n",
        "resized_dArray = sorted_dArray.sel(sample=mask)\n",
        "\n",
        "# replace the empty trait values with the new pheno values from the idInfo dataframe\n",
        "resized_dArray.trait.values = sorted_df['pheno'].to_numpy()\n",
        "data0 = resized_dArray\n",
        "\n",
        "# drop variants with missing genotypes for any single patient:\n",
        "data0 = data0.dropna(dim='variant', how='any')\n",
        "data0"
      ],
      "metadata": {
        "id": "E4QqBG3fUHBG",
        "colab": {
          "base_uri": "https://localhost:8080/",
          "height": 550
        },
        "outputId": "1fac22ec-0b15-4aec-da09-15951878b29e"
      },
      "execution_count": null,
      "outputs": [
        {
          "output_type": "stream",
          "name": "stdout",
          "text": [
            "Missing Patient Ids: ['023_S_0376' '012_S_1212' '137_S_4536' '035_S_0292']\n"
          ]
        },
        {
          "output_type": "execute_result",
          "data": {
            "text/plain": [
              "<xarray.DataArray 'genotype' (sample: 808, variant: 1509435)>\n",
              "dask.array<getitem, shape=(808, 1509435), dtype=float32, chunksize=(808, 741), chunktype=numpy.ndarray>\n",
              "Coordinates: (12/14)\n",
              "  * sample   (sample) object '002_S_0413' '002_S_0685' ... '941_S_4420'\n",
              "  * variant  (variant) <U14 'variant3' 'variant12' ... 'variant2379852'\n",
              "    fid      (sample) object '199' '702' '57' '158' ... '389' '248' '253' '534'\n",
              "    iid      (sample) object '002_S_0413' '002_S_0685' ... '941_S_4420'\n",
              "    father   (sample) object '0' '0' '0' '0' '0' '0' ... '0' '0' '0' '0' '0' '0'\n",
              "    mother   (sample) object '0' '0' '0' '0' '0' '0' ... '0' '0' '0' '0' '0' '0'\n",
              "    ...       ...\n",
              "    chrom    (variant) object '0' '0' '0' '0' '0' ... '26' '26' '26' '26' '26'\n",
              "    snp      (variant) object 'rs35144699' 'rs10085382' ... 'MitoG16393A'\n",
              "    cm       (variant) float64 0.0 0.0 0.0 0.0 0.0 ... 100.0 100.0 100.0 100.0\n",
              "    pos      (variant) int32 0 0 0 0 0 0 ... 15925 15931 16052 16272 16329 16393\n",
              "    a0       (variant) object 'T' 'C' 'A' '0' '0' '0' ... 'A' 'G' 'T' 'T' 'A'\n",
              "    a1       (variant) object 'A' 'T' 'G' 'G' 'C' 'C' ... 'G' 'A' 'C' 'C' 'G'"
            ],
            "text/html": [
              "<div><svg style=\"position: absolute; width: 0; height: 0; overflow: hidden\">\n",
              "<defs>\n",
              "<symbol id=\"icon-database\" viewBox=\"0 0 32 32\">\n",
              "<path d=\"M16 0c-8.837 0-16 2.239-16 5v4c0 2.761 7.163 5 16 5s16-2.239 16-5v-4c0-2.761-7.163-5-16-5z\"></path>\n",
              "<path d=\"M16 17c-8.837 0-16-2.239-16-5v6c0 2.761 7.163 5 16 5s16-2.239 16-5v-6c0 2.761-7.163 5-16 5z\"></path>\n",
              "<path d=\"M16 26c-8.837 0-16-2.239-16-5v6c0 2.761 7.163 5 16 5s16-2.239 16-5v-6c0 2.761-7.163 5-16 5z\"></path>\n",
              "</symbol>\n",
              "<symbol id=\"icon-file-text2\" viewBox=\"0 0 32 32\">\n",
              "<path d=\"M28.681 7.159c-0.694-0.947-1.662-2.053-2.724-3.116s-2.169-2.030-3.116-2.724c-1.612-1.182-2.393-1.319-2.841-1.319h-15.5c-1.378 0-2.5 1.121-2.5 2.5v27c0 1.378 1.122 2.5 2.5 2.5h23c1.378 0 2.5-1.122 2.5-2.5v-19.5c0-0.448-0.137-1.23-1.319-2.841zM24.543 5.457c0.959 0.959 1.712 1.825 2.268 2.543h-4.811v-4.811c0.718 0.556 1.584 1.309 2.543 2.268zM28 29.5c0 0.271-0.229 0.5-0.5 0.5h-23c-0.271 0-0.5-0.229-0.5-0.5v-27c0-0.271 0.229-0.5 0.5-0.5 0 0 15.499-0 15.5 0v7c0 0.552 0.448 1 1 1h7v19.5z\"></path>\n",
              "<path d=\"M23 26h-14c-0.552 0-1-0.448-1-1s0.448-1 1-1h14c0.552 0 1 0.448 1 1s-0.448 1-1 1z\"></path>\n",
              "<path d=\"M23 22h-14c-0.552 0-1-0.448-1-1s0.448-1 1-1h14c0.552 0 1 0.448 1 1s-0.448 1-1 1z\"></path>\n",
              "<path d=\"M23 18h-14c-0.552 0-1-0.448-1-1s0.448-1 1-1h14c0.552 0 1 0.448 1 1s-0.448 1-1 1z\"></path>\n",
              "</symbol>\n",
              "</defs>\n",
              "</svg>\n",
              "<style>/* CSS stylesheet for displaying xarray objects in jupyterlab.\n",
              " *\n",
              " */\n",
              "\n",
              ":root {\n",
              "  --xr-font-color0: var(--jp-content-font-color0, rgba(0, 0, 0, 1));\n",
              "  --xr-font-color2: var(--jp-content-font-color2, rgba(0, 0, 0, 0.54));\n",
              "  --xr-font-color3: var(--jp-content-font-color3, rgba(0, 0, 0, 0.38));\n",
              "  --xr-border-color: var(--jp-border-color2, #e0e0e0);\n",
              "  --xr-disabled-color: var(--jp-layout-color3, #bdbdbd);\n",
              "  --xr-background-color: var(--jp-layout-color0, white);\n",
              "  --xr-background-color-row-even: var(--jp-layout-color1, white);\n",
              "  --xr-background-color-row-odd: var(--jp-layout-color2, #eeeeee);\n",
              "}\n",
              "\n",
              "html[theme=dark],\n",
              "body[data-theme=dark],\n",
              "body.vscode-dark {\n",
              "  --xr-font-color0: rgba(255, 255, 255, 1);\n",
              "  --xr-font-color2: rgba(255, 255, 255, 0.54);\n",
              "  --xr-font-color3: rgba(255, 255, 255, 0.38);\n",
              "  --xr-border-color: #1F1F1F;\n",
              "  --xr-disabled-color: #515151;\n",
              "  --xr-background-color: #111111;\n",
              "  --xr-background-color-row-even: #111111;\n",
              "  --xr-background-color-row-odd: #313131;\n",
              "}\n",
              "\n",
              ".xr-wrap {\n",
              "  display: block !important;\n",
              "  min-width: 300px;\n",
              "  max-width: 700px;\n",
              "}\n",
              "\n",
              ".xr-text-repr-fallback {\n",
              "  /* fallback to plain text repr when CSS is not injected (untrusted notebook) */\n",
              "  display: none;\n",
              "}\n",
              "\n",
              ".xr-header {\n",
              "  padding-top: 6px;\n",
              "  padding-bottom: 6px;\n",
              "  margin-bottom: 4px;\n",
              "  border-bottom: solid 1px var(--xr-border-color);\n",
              "}\n",
              "\n",
              ".xr-header > div,\n",
              ".xr-header > ul {\n",
              "  display: inline;\n",
              "  margin-top: 0;\n",
              "  margin-bottom: 0;\n",
              "}\n",
              "\n",
              ".xr-obj-type,\n",
              ".xr-array-name {\n",
              "  margin-left: 2px;\n",
              "  margin-right: 10px;\n",
              "}\n",
              "\n",
              ".xr-obj-type {\n",
              "  color: var(--xr-font-color2);\n",
              "}\n",
              "\n",
              ".xr-sections {\n",
              "  padding-left: 0 !important;\n",
              "  display: grid;\n",
              "  grid-template-columns: 150px auto auto 1fr 20px 20px;\n",
              "}\n",
              "\n",
              ".xr-section-item {\n",
              "  display: contents;\n",
              "}\n",
              "\n",
              ".xr-section-item input {\n",
              "  display: none;\n",
              "}\n",
              "\n",
              ".xr-section-item input + label {\n",
              "  color: var(--xr-disabled-color);\n",
              "}\n",
              "\n",
              ".xr-section-item input:enabled + label {\n",
              "  cursor: pointer;\n",
              "  color: var(--xr-font-color2);\n",
              "}\n",
              "\n",
              ".xr-section-item input:enabled + label:hover {\n",
              "  color: var(--xr-font-color0);\n",
              "}\n",
              "\n",
              ".xr-section-summary {\n",
              "  grid-column: 1;\n",
              "  color: var(--xr-font-color2);\n",
              "  font-weight: 500;\n",
              "}\n",
              "\n",
              ".xr-section-summary > span {\n",
              "  display: inline-block;\n",
              "  padding-left: 0.5em;\n",
              "}\n",
              "\n",
              ".xr-section-summary-in:disabled + label {\n",
              "  color: var(--xr-font-color2);\n",
              "}\n",
              "\n",
              ".xr-section-summary-in + label:before {\n",
              "  display: inline-block;\n",
              "  content: '►';\n",
              "  font-size: 11px;\n",
              "  width: 15px;\n",
              "  text-align: center;\n",
              "}\n",
              "\n",
              ".xr-section-summary-in:disabled + label:before {\n",
              "  color: var(--xr-disabled-color);\n",
              "}\n",
              "\n",
              ".xr-section-summary-in:checked + label:before {\n",
              "  content: '▼';\n",
              "}\n",
              "\n",
              ".xr-section-summary-in:checked + label > span {\n",
              "  display: none;\n",
              "}\n",
              "\n",
              ".xr-section-summary,\n",
              ".xr-section-inline-details {\n",
              "  padding-top: 4px;\n",
              "  padding-bottom: 4px;\n",
              "}\n",
              "\n",
              ".xr-section-inline-details {\n",
              "  grid-column: 2 / -1;\n",
              "}\n",
              "\n",
              ".xr-section-details {\n",
              "  display: none;\n",
              "  grid-column: 1 / -1;\n",
              "  margin-bottom: 5px;\n",
              "}\n",
              "\n",
              ".xr-section-summary-in:checked ~ .xr-section-details {\n",
              "  display: contents;\n",
              "}\n",
              "\n",
              ".xr-array-wrap {\n",
              "  grid-column: 1 / -1;\n",
              "  display: grid;\n",
              "  grid-template-columns: 20px auto;\n",
              "}\n",
              "\n",
              ".xr-array-wrap > label {\n",
              "  grid-column: 1;\n",
              "  vertical-align: top;\n",
              "}\n",
              "\n",
              ".xr-preview {\n",
              "  color: var(--xr-font-color3);\n",
              "}\n",
              "\n",
              ".xr-array-preview,\n",
              ".xr-array-data {\n",
              "  padding: 0 5px !important;\n",
              "  grid-column: 2;\n",
              "}\n",
              "\n",
              ".xr-array-data,\n",
              ".xr-array-in:checked ~ .xr-array-preview {\n",
              "  display: none;\n",
              "}\n",
              "\n",
              ".xr-array-in:checked ~ .xr-array-data,\n",
              ".xr-array-preview {\n",
              "  display: inline-block;\n",
              "}\n",
              "\n",
              ".xr-dim-list {\n",
              "  display: inline-block !important;\n",
              "  list-style: none;\n",
              "  padding: 0 !important;\n",
              "  margin: 0;\n",
              "}\n",
              "\n",
              ".xr-dim-list li {\n",
              "  display: inline-block;\n",
              "  padding: 0;\n",
              "  margin: 0;\n",
              "}\n",
              "\n",
              ".xr-dim-list:before {\n",
              "  content: '(';\n",
              "}\n",
              "\n",
              ".xr-dim-list:after {\n",
              "  content: ')';\n",
              "}\n",
              "\n",
              ".xr-dim-list li:not(:last-child):after {\n",
              "  content: ',';\n",
              "  padding-right: 5px;\n",
              "}\n",
              "\n",
              ".xr-has-index {\n",
              "  font-weight: bold;\n",
              "}\n",
              "\n",
              ".xr-var-list,\n",
              ".xr-var-item {\n",
              "  display: contents;\n",
              "}\n",
              "\n",
              ".xr-var-item > div,\n",
              ".xr-var-item label,\n",
              ".xr-var-item > .xr-var-name span {\n",
              "  background-color: var(--xr-background-color-row-even);\n",
              "  margin-bottom: 0;\n",
              "}\n",
              "\n",
              ".xr-var-item > .xr-var-name:hover span {\n",
              "  padding-right: 5px;\n",
              "}\n",
              "\n",
              ".xr-var-list > li:nth-child(odd) > div,\n",
              ".xr-var-list > li:nth-child(odd) > label,\n",
              ".xr-var-list > li:nth-child(odd) > .xr-var-name span {\n",
              "  background-color: var(--xr-background-color-row-odd);\n",
              "}\n",
              "\n",
              ".xr-var-name {\n",
              "  grid-column: 1;\n",
              "}\n",
              "\n",
              ".xr-var-dims {\n",
              "  grid-column: 2;\n",
              "}\n",
              "\n",
              ".xr-var-dtype {\n",
              "  grid-column: 3;\n",
              "  text-align: right;\n",
              "  color: var(--xr-font-color2);\n",
              "}\n",
              "\n",
              ".xr-var-preview {\n",
              "  grid-column: 4;\n",
              "}\n",
              "\n",
              ".xr-index-preview {\n",
              "  grid-column: 2 / 5;\n",
              "  color: var(--xr-font-color2);\n",
              "}\n",
              "\n",
              ".xr-var-name,\n",
              ".xr-var-dims,\n",
              ".xr-var-dtype,\n",
              ".xr-preview,\n",
              ".xr-attrs dt {\n",
              "  white-space: nowrap;\n",
              "  overflow: hidden;\n",
              "  text-overflow: ellipsis;\n",
              "  padding-right: 10px;\n",
              "}\n",
              "\n",
              ".xr-var-name:hover,\n",
              ".xr-var-dims:hover,\n",
              ".xr-var-dtype:hover,\n",
              ".xr-attrs dt:hover {\n",
              "  overflow: visible;\n",
              "  width: auto;\n",
              "  z-index: 1;\n",
              "}\n",
              "\n",
              ".xr-var-attrs,\n",
              ".xr-var-data,\n",
              ".xr-index-data {\n",
              "  display: none;\n",
              "  background-color: var(--xr-background-color) !important;\n",
              "  padding-bottom: 5px !important;\n",
              "}\n",
              "\n",
              ".xr-var-attrs-in:checked ~ .xr-var-attrs,\n",
              ".xr-var-data-in:checked ~ .xr-var-data,\n",
              ".xr-index-data-in:checked ~ .xr-index-data {\n",
              "  display: block;\n",
              "}\n",
              "\n",
              ".xr-var-data > table {\n",
              "  float: right;\n",
              "}\n",
              "\n",
              ".xr-var-name span,\n",
              ".xr-var-data,\n",
              ".xr-index-name div,\n",
              ".xr-index-data,\n",
              ".xr-attrs {\n",
              "  padding-left: 25px !important;\n",
              "}\n",
              "\n",
              ".xr-attrs,\n",
              ".xr-var-attrs,\n",
              ".xr-var-data,\n",
              ".xr-index-data {\n",
              "  grid-column: 1 / -1;\n",
              "}\n",
              "\n",
              "dl.xr-attrs {\n",
              "  padding: 0;\n",
              "  margin: 0;\n",
              "  display: grid;\n",
              "  grid-template-columns: 125px auto;\n",
              "}\n",
              "\n",
              ".xr-attrs dt,\n",
              ".xr-attrs dd {\n",
              "  padding: 0;\n",
              "  margin: 0;\n",
              "  float: left;\n",
              "  padding-right: 10px;\n",
              "  width: auto;\n",
              "}\n",
              "\n",
              ".xr-attrs dt {\n",
              "  font-weight: normal;\n",
              "  grid-column: 1;\n",
              "}\n",
              "\n",
              ".xr-attrs dt:hover span {\n",
              "  display: inline-block;\n",
              "  background: var(--xr-background-color);\n",
              "  padding-right: 10px;\n",
              "}\n",
              "\n",
              ".xr-attrs dd {\n",
              "  grid-column: 2;\n",
              "  white-space: pre-wrap;\n",
              "  word-break: break-all;\n",
              "}\n",
              "\n",
              ".xr-icon-database,\n",
              ".xr-icon-file-text2,\n",
              ".xr-no-icon {\n",
              "  display: inline-block;\n",
              "  vertical-align: middle;\n",
              "  width: 1em;\n",
              "  height: 1.5em !important;\n",
              "  stroke-width: 0;\n",
              "  stroke: currentColor;\n",
              "  fill: currentColor;\n",
              "}\n",
              "</style><pre class='xr-text-repr-fallback'>&lt;xarray.DataArray &#x27;genotype&#x27; (sample: 808, variant: 1509435)&gt;\n",
              "dask.array&lt;getitem, shape=(808, 1509435), dtype=float32, chunksize=(808, 741), chunktype=numpy.ndarray&gt;\n",
              "Coordinates: (12/14)\n",
              "  * sample   (sample) object &#x27;002_S_0413&#x27; &#x27;002_S_0685&#x27; ... &#x27;941_S_4420&#x27;\n",
              "  * variant  (variant) &lt;U14 &#x27;variant3&#x27; &#x27;variant12&#x27; ... &#x27;variant2379852&#x27;\n",
              "    fid      (sample) object &#x27;199&#x27; &#x27;702&#x27; &#x27;57&#x27; &#x27;158&#x27; ... &#x27;389&#x27; &#x27;248&#x27; &#x27;253&#x27; &#x27;534&#x27;\n",
              "    iid      (sample) object &#x27;002_S_0413&#x27; &#x27;002_S_0685&#x27; ... &#x27;941_S_4420&#x27;\n",
              "    father   (sample) object &#x27;0&#x27; &#x27;0&#x27; &#x27;0&#x27; &#x27;0&#x27; &#x27;0&#x27; &#x27;0&#x27; ... &#x27;0&#x27; &#x27;0&#x27; &#x27;0&#x27; &#x27;0&#x27; &#x27;0&#x27; &#x27;0&#x27;\n",
              "    mother   (sample) object &#x27;0&#x27; &#x27;0&#x27; &#x27;0&#x27; &#x27;0&#x27; &#x27;0&#x27; &#x27;0&#x27; ... &#x27;0&#x27; &#x27;0&#x27; &#x27;0&#x27; &#x27;0&#x27; &#x27;0&#x27; &#x27;0&#x27;\n",
              "    ...       ...\n",
              "    chrom    (variant) object &#x27;0&#x27; &#x27;0&#x27; &#x27;0&#x27; &#x27;0&#x27; &#x27;0&#x27; ... &#x27;26&#x27; &#x27;26&#x27; &#x27;26&#x27; &#x27;26&#x27; &#x27;26&#x27;\n",
              "    snp      (variant) object &#x27;rs35144699&#x27; &#x27;rs10085382&#x27; ... &#x27;MitoG16393A&#x27;\n",
              "    cm       (variant) float64 0.0 0.0 0.0 0.0 0.0 ... 100.0 100.0 100.0 100.0\n",
              "    pos      (variant) int32 0 0 0 0 0 0 ... 15925 15931 16052 16272 16329 16393\n",
              "    a0       (variant) object &#x27;T&#x27; &#x27;C&#x27; &#x27;A&#x27; &#x27;0&#x27; &#x27;0&#x27; &#x27;0&#x27; ... &#x27;A&#x27; &#x27;G&#x27; &#x27;T&#x27; &#x27;T&#x27; &#x27;A&#x27;\n",
              "    a1       (variant) object &#x27;A&#x27; &#x27;T&#x27; &#x27;G&#x27; &#x27;G&#x27; &#x27;C&#x27; &#x27;C&#x27; ... &#x27;G&#x27; &#x27;A&#x27; &#x27;C&#x27; &#x27;C&#x27; &#x27;G&#x27;</pre><div class='xr-wrap' style='display:none'><div class='xr-header'><div class='xr-obj-type'>xarray.DataArray</div><div class='xr-array-name'>'genotype'</div><ul class='xr-dim-list'><li><span class='xr-has-index'>sample</span>: 808</li><li><span class='xr-has-index'>variant</span>: 1509435</li></ul></div><ul class='xr-sections'><li class='xr-section-item'><div class='xr-array-wrap'><input id='section-7d8003b3-8b96-4638-bf4c-20236ab9b478' class='xr-array-in' type='checkbox' checked><label for='section-7d8003b3-8b96-4638-bf4c-20236ab9b478' title='Show/hide data repr'><svg class='icon xr-icon-database'><use xlink:href='#icon-database'></use></svg></label><div class='xr-array-preview xr-preview'><span>dask.array&lt;chunksize=(808, 403), meta=np.ndarray&gt;</span></div><div class='xr-array-data'><table>\n",
              "    <tr>\n",
              "        <td>\n",
              "            <table style=\"border-collapse: collapse;\">\n",
              "                <thead>\n",
              "                    <tr>\n",
              "                        <td> </td>\n",
              "                        <th> Array </th>\n",
              "                        <th> Chunk </th>\n",
              "                    </tr>\n",
              "                </thead>\n",
              "                <tbody>\n",
              "                    \n",
              "                    <tr>\n",
              "                        <th> Bytes </th>\n",
              "                        <td> 4.54 GiB </td>\n",
              "                        <td> 2.28 MiB </td>\n",
              "                    </tr>\n",
              "                    \n",
              "                    <tr>\n",
              "                        <th> Shape </th>\n",
              "                        <td> (808, 1509435) </td>\n",
              "                        <td> (808, 741) </td>\n",
              "                    </tr>\n",
              "                    <tr>\n",
              "                        <th> Dask graph </th>\n",
              "                        <td colspan=\"2\"> 2325 chunks in 4655 graph layers </td>\n",
              "                    </tr>\n",
              "                    <tr>\n",
              "                        <th> Data type </th>\n",
              "                        <td colspan=\"2\"> float32 numpy.ndarray </td>\n",
              "                    </tr>\n",
              "                </tbody>\n",
              "            </table>\n",
              "        </td>\n",
              "        <td>\n",
              "        <svg width=\"170\" height=\"75\" style=\"stroke:rgb(0,0,0);stroke-width:1\" >\n",
              "\n",
              "  <!-- Horizontal lines -->\n",
              "  <line x1=\"0\" y1=\"0\" x2=\"120\" y2=\"0\" style=\"stroke-width:2\" />\n",
              "  <line x1=\"0\" y1=\"25\" x2=\"120\" y2=\"25\" style=\"stroke-width:2\" />\n",
              "\n",
              "  <!-- Vertical lines -->\n",
              "  <line x1=\"0\" y1=\"0\" x2=\"0\" y2=\"25\" style=\"stroke-width:2\" />\n",
              "  <line x1=\"6\" y1=\"0\" x2=\"6\" y2=\"25\" />\n",
              "  <line x1=\"12\" y1=\"0\" x2=\"12\" y2=\"25\" />\n",
              "  <line x1=\"19\" y1=\"0\" x2=\"19\" y2=\"25\" />\n",
              "  <line x1=\"25\" y1=\"0\" x2=\"25\" y2=\"25\" />\n",
              "  <line x1=\"31\" y1=\"0\" x2=\"31\" y2=\"25\" />\n",
              "  <line x1=\"38\" y1=\"0\" x2=\"38\" y2=\"25\" />\n",
              "  <line x1=\"44\" y1=\"0\" x2=\"44\" y2=\"25\" />\n",
              "  <line x1=\"51\" y1=\"0\" x2=\"51\" y2=\"25\" />\n",
              "  <line x1=\"57\" y1=\"0\" x2=\"57\" y2=\"25\" />\n",
              "  <line x1=\"64\" y1=\"0\" x2=\"64\" y2=\"25\" />\n",
              "  <line x1=\"70\" y1=\"0\" x2=\"70\" y2=\"25\" />\n",
              "  <line x1=\"76\" y1=\"0\" x2=\"76\" y2=\"25\" />\n",
              "  <line x1=\"83\" y1=\"0\" x2=\"83\" y2=\"25\" />\n",
              "  <line x1=\"89\" y1=\"0\" x2=\"89\" y2=\"25\" />\n",
              "  <line x1=\"96\" y1=\"0\" x2=\"96\" y2=\"25\" />\n",
              "  <line x1=\"102\" y1=\"0\" x2=\"102\" y2=\"25\" />\n",
              "  <line x1=\"108\" y1=\"0\" x2=\"108\" y2=\"25\" />\n",
              "  <line x1=\"114\" y1=\"0\" x2=\"114\" y2=\"25\" />\n",
              "  <line x1=\"120\" y1=\"0\" x2=\"120\" y2=\"25\" style=\"stroke-width:2\" />\n",
              "\n",
              "  <!-- Colored Rectangle -->\n",
              "  <polygon points=\"0.0,0.0 120.0,0.0 120.0,25.412616514582485 0.0,25.412616514582485\" style=\"fill:#8B4903A0;stroke-width:0\"/>\n",
              "\n",
              "  <!-- Text -->\n",
              "  <text x=\"60.000000\" y=\"45.412617\" font-size=\"1.0rem\" font-weight=\"100\" text-anchor=\"middle\" >1509435</text>\n",
              "  <text x=\"140.000000\" y=\"12.706308\" font-size=\"1.0rem\" font-weight=\"100\" text-anchor=\"middle\" transform=\"rotate(-90,140.000000,12.706308)\">808</text>\n",
              "</svg>\n",
              "        </td>\n",
              "    </tr>\n",
              "</table></div></div></li><li class='xr-section-item'><input id='section-4d1d9eea-08bb-4d78-af48-491b6b5251e6' class='xr-section-summary-in' type='checkbox'  checked><label for='section-4d1d9eea-08bb-4d78-af48-491b6b5251e6' class='xr-section-summary' >Coordinates: <span>(14)</span></label><div class='xr-section-inline-details'></div><div class='xr-section-details'><ul class='xr-var-list'><li class='xr-var-item'><div class='xr-var-name'><span class='xr-has-index'>sample</span></div><div class='xr-var-dims'>(sample)</div><div class='xr-var-dtype'>object</div><div class='xr-var-preview xr-preview'>&#x27;002_S_0413&#x27; ... &#x27;941_S_4420&#x27;</div><input id='attrs-0c577746-5e2e-4d88-aa76-7bb9de4a5243' class='xr-var-attrs-in' type='checkbox' disabled><label for='attrs-0c577746-5e2e-4d88-aa76-7bb9de4a5243' title='Show/Hide attributes'><svg class='icon xr-icon-file-text2'><use xlink:href='#icon-file-text2'></use></svg></label><input id='data-63832f40-0a02-427e-836b-18b62584a090' class='xr-var-data-in' type='checkbox'><label for='data-63832f40-0a02-427e-836b-18b62584a090' title='Show/Hide data repr'><svg class='icon xr-icon-database'><use xlink:href='#icon-database'></use></svg></label><div class='xr-var-attrs'><dl class='xr-attrs'></dl></div><div class='xr-var-data'><pre>array([&#x27;002_S_0413&#x27;, &#x27;002_S_0685&#x27;, &#x27;002_S_0729&#x27;, ..., &#x27;941_S_4376&#x27;,\n",
              "       &#x27;941_S_4377&#x27;, &#x27;941_S_4420&#x27;], dtype=object)</pre></div></li><li class='xr-var-item'><div class='xr-var-name'><span class='xr-has-index'>variant</span></div><div class='xr-var-dims'>(variant)</div><div class='xr-var-dtype'>&lt;U14</div><div class='xr-var-preview xr-preview'>&#x27;variant3&#x27; ... &#x27;variant2379852&#x27;</div><input id='attrs-6ef56c7a-76d4-4b82-aea4-0706241872f2' class='xr-var-attrs-in' type='checkbox' disabled><label for='attrs-6ef56c7a-76d4-4b82-aea4-0706241872f2' title='Show/Hide attributes'><svg class='icon xr-icon-file-text2'><use xlink:href='#icon-file-text2'></use></svg></label><input id='data-d0804817-501c-495d-a7e6-f1c1b7fe0695' class='xr-var-data-in' type='checkbox'><label for='data-d0804817-501c-495d-a7e6-f1c1b7fe0695' title='Show/Hide data repr'><svg class='icon xr-icon-database'><use xlink:href='#icon-database'></use></svg></label><div class='xr-var-attrs'><dl class='xr-attrs'></dl></div><div class='xr-var-data'><pre>array([&#x27;variant3&#x27;, &#x27;variant12&#x27;, &#x27;variant15&#x27;, ..., &#x27;variant2379842&#x27;,\n",
              "       &#x27;variant2379849&#x27;, &#x27;variant2379852&#x27;], dtype=&#x27;&lt;U14&#x27;)</pre></div></li><li class='xr-var-item'><div class='xr-var-name'><span>fid</span></div><div class='xr-var-dims'>(sample)</div><div class='xr-var-dtype'>object</div><div class='xr-var-preview xr-preview'>&#x27;199&#x27; &#x27;702&#x27; &#x27;57&#x27; ... &#x27;253&#x27; &#x27;534&#x27;</div><input id='attrs-58f3954f-9d61-460a-af0f-4a084015a8a0' class='xr-var-attrs-in' type='checkbox' disabled><label for='attrs-58f3954f-9d61-460a-af0f-4a084015a8a0' title='Show/Hide attributes'><svg class='icon xr-icon-file-text2'><use xlink:href='#icon-file-text2'></use></svg></label><input id='data-9df728a8-735b-49c0-b7eb-12d6499d45cc' class='xr-var-data-in' type='checkbox'><label for='data-9df728a8-735b-49c0-b7eb-12d6499d45cc' title='Show/Hide data repr'><svg class='icon xr-icon-database'><use xlink:href='#icon-database'></use></svg></label><div class='xr-var-attrs'><dl class='xr-attrs'></dl></div><div class='xr-var-data'><pre>array([&#x27;199&#x27;, &#x27;702&#x27;, &#x27;57&#x27;, &#x27;158&#x27;, &#x27;658&#x27;, &#x27;806&#x27;, &#x27;467&#x27;, &#x27;507&#x27;, &#x27;153&#x27;,\n",
              "       &#x27;287&#x27;, &#x27;710&#x27;, &#x27;204&#x27;, &#x27;218&#x27;, &#x27;485&#x27;, &#x27;210&#x27;, &#x27;487&#x27;, &#x27;468&#x27;, &#x27;746&#x27;,\n",
              "       &#x27;594&#x27;, &#x27;241&#x27;, &#x27;346&#x27;, &#x27;255&#x27;, &#x27;428&#x27;, &#x27;18&#x27;, &#x27;505&#x27;, &#x27;369&#x27;, &#x27;563&#x27;,\n",
              "       &#x27;679&#x27;, &#x27;639&#x27;, &#x27;141&#x27;, &#x27;151&#x27;, &#x27;94&#x27;, &#x27;206&#x27;, &#x27;709&#x27;, &#x27;601&#x27;, &#x27;337&#x27;,\n",
              "       &#x27;386&#x27;, &#x27;408&#x27;, &#x27;252&#x27;, &#x27;373&#x27;, &#x27;517&#x27;, &#x27;635&#x27;, &#x27;450&#x27;, &#x27;34&#x27;, &#x27;652&#x27;,\n",
              "       &#x27;646&#x27;, &#x27;283&#x27;, &#x27;802&#x27;, &#x27;784&#x27;, &#x27;394&#x27;, &#x27;449&#x27;, &#x27;180&#x27;, &#x27;564&#x27;, &#x27;701&#x27;,\n",
              "       &#x27;479&#x27;, &#x27;787&#x27;, &#x27;552&#x27;, &#x27;227&#x27;, &#x27;356&#x27;, &#x27;254&#x27;, &#x27;258&#x27;, &#x27;526&#x27;, &#x27;417&#x27;,\n",
              "       &#x27;63&#x27;, &#x27;352&#x27;, &#x27;83&#x27;, &#x27;668&#x27;, &#x27;347&#x27;, &#x27;578&#x27;, &#x27;82&#x27;, &#x27;627&#x27;, &#x27;760&#x27;, &#x27;520&#x27;,\n",
              "       &#x27;183&#x27;, &#x27;383&#x27;, &#x27;427&#x27;, &#x27;415&#x27;, &#x27;370&#x27;, &#x27;267&#x27;, &#x27;559&#x27;, &#x27;585&#x27;, &#x27;714&#x27;,\n",
              "       &#x27;21&#x27;, &#x27;127&#x27;, &#x27;751&#x27;, &#x27;711&#x27;, &#x27;603&#x27;, &#x27;358&#x27;, &#x27;495&#x27;, &#x27;344&#x27;, &#x27;531&#x27;,\n",
              "       &#x27;292&#x27;, &#x27;366&#x27;, &#x27;17&#x27;, &#x27;587&#x27;, &#x27;622&#x27;, &#x27;694&#x27;, &#x27;67&#x27;, &#x27;732&#x27;, &#x27;122&#x27;, &#x27;663&#x27;,\n",
              "       &#x27;395&#x27;, &#x27;706&#x27;, &#x27;178&#x27;, &#x27;471&#x27;, &#x27;314&#x27;, &#x27;774&#x27;, &#x27;260&#x27;, &#x27;198&#x27;, &#x27;676&#x27;,\n",
              "       &#x27;129&#x27;, &#x27;27&#x27;, &#x27;73&#x27;, &#x27;171&#x27;, &#x27;444&#x27;, &#x27;191&#x27;, &#x27;618&#x27;, &#x27;731&#x27;, &#x27;584&#x27;, &#x27;89&#x27;,\n",
              "       &#x27;230&#x27;, &#x27;384&#x27;, &#x27;338&#x27;, &#x27;435&#x27;, &#x27;70&#x27;, &#x27;130&#x27;, &#x27;673&#x27;, &#x27;200&#x27;, &#x27;506&#x27;, &#x27;54&#x27;,\n",
              "       &#x27;61&#x27;, &#x27;675&#x27;, &#x27;547&#x27;, &#x27;515&#x27;, &#x27;330&#x27;, &#x27;134&#x27;, &#x27;312&#x27;, &#x27;400&#x27;, &#x27;143&#x27;,\n",
              "       &#x27;291&#x27;, &#x27;486&#x27;, &#x27;551&#x27;, &#x27;413&#x27;, &#x27;614&#x27;, &#x27;378&#x27;, &#x27;434&#x27;, &#x27;670&#x27;, &#x27;51&#x27;,\n",
              "       &#x27;680&#x27;, &#x27;753&#x27;, &#x27;380&#x27;, &#x27;91&#x27;, &#x27;812&#x27;, &#x27;720&#x27;, &#x27;76&#x27;, &#x27;333&#x27;, &#x27;501&#x27;, &#x27;416&#x27;,\n",
              "       &#x27;529&#x27;, &#x27;623&#x27;, &#x27;19&#x27;, &#x27;250&#x27;, &#x27;509&#x27;, &#x27;229&#x27;, &#x27;764&#x27;, &#x27;288&#x27;, &#x27;249&#x27;,\n",
              "       &#x27;489&#x27;, &#x27;125&#x27;, &#x27;523&#x27;, &#x27;362&#x27;, &#x27;756&#x27;, &#x27;744&#x27;, &#x27;543&#x27;, &#x27;111&#x27;, &#x27;114&#x27;,\n",
              "       &#x27;233&#x27;, &#x27;353&#x27;, &#x27;560&#x27;, &#x27;440&#x27;, &#x27;214&#x27;, &#x27;278&#x27;, &#x27;807&#x27;, &#x27;12&#x27;, &#x27;50&#x27;, &#x27;693&#x27;,\n",
              "...\n",
              "       &#x27;148&#x27;, &#x27;390&#x27;, &#x27;755&#x27;, &#x27;482&#x27;, &#x27;223&#x27;, &#x27;569&#x27;, &#x27;339&#x27;, &#x27;388&#x27;, &#x27;195&#x27;,\n",
              "       &#x27;739&#x27;, &#x27;326&#x27;, &#x27;85&#x27;, &#x27;302&#x27;, &#x27;672&#x27;, &#x27;681&#x27;, &#x27;647&#x27;, &#x27;69&#x27;, &#x27;294&#x27;, &#x27;37&#x27;,\n",
              "       &#x27;508&#x27;, &#x27;457&#x27;, &#x27;725&#x27;, &#x27;211&#x27;, &#x27;59&#x27;, &#x27;208&#x27;, &#x27;557&#x27;, &#x27;596&#x27;, &#x27;533&#x27;,\n",
              "       &#x27;532&#x27;, &#x27;577&#x27;, &#x27;645&#x27;, &#x27;608&#x27;, &#x27;49&#x27;, &#x27;115&#x27;, &#x27;31&#x27;, &#x27;364&#x27;, &#x27;640&#x27;, &#x27;502&#x27;,\n",
              "       &#x27;789&#x27;, &#x27;228&#x27;, &#x27;48&#x27;, &#x27;385&#x27;, &#x27;156&#x27;, &#x27;602&#x27;, &#x27;184&#x27;, &#x27;586&#x27;, &#x27;45&#x27;, &#x27;666&#x27;,\n",
              "       &#x27;678&#x27;, &#x27;650&#x27;, &#x27;289&#x27;, &#x27;713&#x27;, &#x27;336&#x27;, &#x27;116&#x27;, &#x27;511&#x27;, &#x27;715&#x27;, &#x27;530&#x27;,\n",
              "       &#x27;190&#x27;, &#x27;539&#x27;, &#x27;376&#x27;, &#x27;361&#x27;, &#x27;581&#x27;, &#x27;419&#x27;, &#x27;437&#x27;, &#x27;60&#x27;, &#x27;696&#x27;,\n",
              "       &#x27;699&#x27;, &#x27;305&#x27;, &#x27;768&#x27;, &#x27;107&#x27;, &#x27;368&#x27;, &#x27;316&#x27;, &#x27;324&#x27;, &#x27;315&#x27;, &#x27;474&#x27;,\n",
              "       &#x27;128&#x27;, &#x27;16&#x27;, &#x27;757&#x27;, &#x27;396&#x27;, &#x27;466&#x27;, &#x27;132&#x27;, &#x27;567&#x27;, &#x27;503&#x27;, &#x27;240&#x27;,\n",
              "       &#x27;320&#x27;, &#x27;322&#x27;, &#x27;387&#x27;, &#x27;613&#x27;, &#x27;238&#x27;, &#x27;392&#x27;, &#x27;504&#x27;, &#x27;365&#x27;, &#x27;271&#x27;,\n",
              "       &#x27;273&#x27;, &#x27;722&#x27;, &#x27;6&#x27;, &#x27;58&#x27;, &#x27;767&#x27;, &#x27;612&#x27;, &#x27;493&#x27;, &#x27;818&#x27;, &#x27;310&#x27;, &#x27;357&#x27;,\n",
              "       &#x27;382&#x27;, &#x27;377&#x27;, &#x27;371&#x27;, &#x27;616&#x27;, &#x27;674&#x27;, &#x27;592&#x27;, &#x27;307&#x27;, &#x27;52&#x27;, &#x27;55&#x27;, &#x27;290&#x27;,\n",
              "       &#x27;568&#x27;, &#x27;432&#x27;, &#x27;579&#x27;, &#x27;162&#x27;, &#x27;740&#x27;, &#x27;438&#x27;, &#x27;664&#x27;, &#x27;761&#x27;, &#x27;481&#x27;,\n",
              "       &#x27;648&#x27;, &#x27;765&#x27;, &#x27;443&#x27;, &#x27;43&#x27;, &#x27;332&#x27;, &#x27;179&#x27;, &#x27;446&#x27;, &#x27;490&#x27;, &#x27;406&#x27;,\n",
              "       &#x27;359&#x27;, &#x27;196&#x27;, &#x27;354&#x27;, &#x27;372&#x27;, &#x27;582&#x27;, &#x27;39&#x27;, &#x27;213&#x27;, &#x27;733&#x27;, &#x27;593&#x27;,\n",
              "       &#x27;222&#x27;, &#x27;237&#x27;, &#x27;600&#x27;, &#x27;13&#x27;, &#x27;519&#x27;, &#x27;341&#x27;, &#x27;583&#x27;, &#x27;399&#x27;, &#x27;95&#x27;, &#x27;562&#x27;,\n",
              "       &#x27;225&#x27;, &#x27;554&#x27;, &#x27;232&#x27;, &#x27;235&#x27;, &#x27;816&#x27;, &#x27;99&#x27;, &#x27;328&#x27;, &#x27;724&#x27;, &#x27;209&#x27;,\n",
              "       &#x27;175&#x27;, &#x27;80&#x27;, &#x27;205&#x27;, &#x27;783&#x27;, &#x27;525&#x27;, &#x27;239&#x27;, &#x27;272&#x27;, &#x27;20&#x27;, &#x27;145&#x27;, &#x27;165&#x27;,\n",
              "       &#x27;110&#x27;, &#x27;92&#x27;, &#x27;98&#x27;, &#x27;484&#x27;, &#x27;186&#x27;, &#x27;475&#x27;, &#x27;389&#x27;, &#x27;248&#x27;, &#x27;253&#x27;, &#x27;534&#x27;],\n",
              "      dtype=object)</pre></div></li><li class='xr-var-item'><div class='xr-var-name'><span>iid</span></div><div class='xr-var-dims'>(sample)</div><div class='xr-var-dtype'>object</div><div class='xr-var-preview xr-preview'>&#x27;002_S_0413&#x27; ... &#x27;941_S_4420&#x27;</div><input id='attrs-97b69dfb-110c-4041-98c8-fc04d7abfa45' class='xr-var-attrs-in' type='checkbox' disabled><label for='attrs-97b69dfb-110c-4041-98c8-fc04d7abfa45' title='Show/Hide attributes'><svg class='icon xr-icon-file-text2'><use xlink:href='#icon-file-text2'></use></svg></label><input id='data-d2579124-4e57-4888-ab92-4bbf40bc1b0f' class='xr-var-data-in' type='checkbox'><label for='data-d2579124-4e57-4888-ab92-4bbf40bc1b0f' title='Show/Hide data repr'><svg class='icon xr-icon-database'><use xlink:href='#icon-database'></use></svg></label><div class='xr-var-attrs'><dl class='xr-attrs'></dl></div><div class='xr-var-data'><pre>array([&#x27;002_S_0413&#x27;, &#x27;002_S_0685&#x27;, &#x27;002_S_0729&#x27;, &#x27;002_S_1155&#x27;,\n",
              "       &#x27;002_S_1261&#x27;, &#x27;002_S_1268&#x27;, &#x27;002_S_1280&#x27;, &#x27;002_S_2010&#x27;,\n",
              "       &#x27;002_S_2043&#x27;, &#x27;002_S_2073&#x27;, &#x27;002_S_4171&#x27;, &#x27;002_S_4213&#x27;,\n",
              "       &#x27;002_S_4219&#x27;, &#x27;002_S_4225&#x27;, &#x27;002_S_4229&#x27;, &#x27;002_S_4237&#x27;,\n",
              "       &#x27;002_S_4251&#x27;, &#x27;002_S_4262&#x27;, &#x27;002_S_4270&#x27;, &#x27;002_S_4447&#x27;,\n",
              "       &#x27;002_S_4473&#x27;, &#x27;002_S_4521&#x27;, &#x27;002_S_4654&#x27;, &#x27;003_S_0907&#x27;,\n",
              "       &#x27;003_S_0908&#x27;, &#x27;003_S_0981&#x27;, &#x27;003_S_1057&#x27;, &#x27;003_S_1074&#x27;,\n",
              "       &#x27;003_S_1122&#x27;, &#x27;003_S_2374&#x27;, &#x27;003_S_4081&#x27;, &#x27;003_S_4119&#x27;,\n",
              "       &#x27;003_S_4136&#x27;, &#x27;003_S_4152&#x27;, &#x27;003_S_4288&#x27;, &#x27;003_S_4350&#x27;,\n",
              "       &#x27;003_S_4354&#x27;, &#x27;003_S_4373&#x27;, &#x27;003_S_4441&#x27;, &#x27;003_S_4555&#x27;,\n",
              "       &#x27;005_S_0448&#x27;, &#x27;005_S_0546&#x27;, &#x27;005_S_0553&#x27;, &#x27;005_S_0572&#x27;,\n",
              "       &#x27;005_S_0602&#x27;, &#x27;005_S_0610&#x27;, &#x27;005_S_2390&#x27;, &#x27;005_S_4168&#x27;,\n",
              "       &#x27;005_S_4185&#x27;, &#x27;005_S_4707&#x27;, &#x27;006_S_0498&#x27;, &#x27;006_S_0731&#x27;,\n",
              "       &#x27;006_S_1130&#x27;, &#x27;006_S_4150&#x27;, &#x27;006_S_4153&#x27;, &#x27;006_S_4192&#x27;,\n",
              "       &#x27;006_S_4346&#x27;, &#x27;006_S_4357&#x27;, &#x27;006_S_4363&#x27;, &#x27;006_S_4449&#x27;,\n",
              "       &#x27;006_S_4485&#x27;, &#x27;006_S_4515&#x27;, &#x27;006_S_4546&#x27;, &#x27;007_S_0068&#x27;,\n",
              "       &#x27;007_S_0101&#x27;, &#x27;007_S_0128&#x27;, &#x27;007_S_0698&#x27;, &#x27;007_S_1206&#x27;,\n",
              "       &#x27;007_S_1222&#x27;, &#x27;007_S_2058&#x27;, &#x27;007_S_2106&#x27;, &#x27;007_S_2394&#x27;,\n",
              "       &#x27;007_S_4272&#x27;, &#x27;007_S_4387&#x27;, &#x27;007_S_4467&#x27;, &#x27;007_S_4488&#x27;,\n",
              "       &#x27;007_S_4516&#x27;, &#x27;007_S_4568&#x27;, &#x27;007_S_4611&#x27;, &#x27;007_S_4620&#x27;,\n",
              "...\n",
              "       &#x27;135_S_4489&#x27;, &#x27;135_S_4566&#x27;, &#x27;135_S_4598&#x27;, &#x27;135_S_4657&#x27;,\n",
              "       &#x27;135_S_4676&#x27;, &#x27;136_S_0107&#x27;, &#x27;136_S_0186&#x27;, &#x27;136_S_0695&#x27;,\n",
              "       &#x27;136_S_0873&#x27;, &#x27;136_S_4189&#x27;, &#x27;136_S_4269&#x27;, &#x27;136_S_4408&#x27;,\n",
              "       &#x27;136_S_4433&#x27;, &#x27;137_S_0301&#x27;, &#x27;137_S_0459&#x27;, &#x27;137_S_0668&#x27;,\n",
              "       &#x27;137_S_0686&#x27;, &#x27;137_S_0722&#x27;, &#x27;137_S_0800&#x27;, &#x27;137_S_0972&#x27;,\n",
              "       &#x27;137_S_0973&#x27;, &#x27;137_S_0994&#x27;, &#x27;137_S_1414&#x27;, &#x27;137_S_4211&#x27;,\n",
              "       &#x27;137_S_4258&#x27;, &#x27;137_S_4299&#x27;, &#x27;137_S_4303&#x27;, &#x27;137_S_4331&#x27;,\n",
              "       &#x27;137_S_4351&#x27;, &#x27;137_S_4466&#x27;, &#x27;137_S_4482&#x27;, &#x27;137_S_4520&#x27;,\n",
              "       &#x27;137_S_4596&#x27;, &#x27;137_S_4672&#x27;, &#x27;141_S_0697&#x27;, &#x27;141_S_0717&#x27;,\n",
              "       &#x27;141_S_0767&#x27;, &#x27;141_S_0915&#x27;, &#x27;141_S_1004&#x27;, &#x27;141_S_1052&#x27;,\n",
              "       &#x27;141_S_1255&#x27;, &#x27;141_S_1378&#x27;, &#x27;141_S_2210&#x27;, &#x27;141_S_2333&#x27;,\n",
              "       &#x27;141_S_4053&#x27;, &#x27;141_S_4160&#x27;, &#x27;141_S_4232&#x27;, &#x27;141_S_4423&#x27;,\n",
              "       &#x27;141_S_4426&#x27;, &#x27;141_S_4438&#x27;, &#x27;141_S_4456&#x27;, &#x27;153_S_2109&#x27;,\n",
              "       &#x27;153_S_2148&#x27;, &#x27;153_S_4077&#x27;, &#x27;153_S_4125&#x27;, &#x27;153_S_4133&#x27;,\n",
              "       &#x27;153_S_4139&#x27;, &#x27;153_S_4151&#x27;, &#x27;153_S_4159&#x27;, &#x27;153_S_4172&#x27;,\n",
              "       &#x27;153_S_4297&#x27;, &#x27;153_S_4372&#x27;, &#x27;153_S_4621&#x27;, &#x27;941_S_1195&#x27;,\n",
              "       &#x27;941_S_1202&#x27;, &#x27;941_S_1203&#x27;, &#x27;941_S_2060&#x27;, &#x27;941_S_4036&#x27;,\n",
              "       &#x27;941_S_4100&#x27;, &#x27;941_S_4187&#x27;, &#x27;941_S_4255&#x27;, &#x27;941_S_4292&#x27;,\n",
              "       &#x27;941_S_4365&#x27;, &#x27;941_S_4376&#x27;, &#x27;941_S_4377&#x27;, &#x27;941_S_4420&#x27;],\n",
              "      dtype=object)</pre></div></li><li class='xr-var-item'><div class='xr-var-name'><span>father</span></div><div class='xr-var-dims'>(sample)</div><div class='xr-var-dtype'>object</div><div class='xr-var-preview xr-preview'>&#x27;0&#x27; &#x27;0&#x27; &#x27;0&#x27; &#x27;0&#x27; ... &#x27;0&#x27; &#x27;0&#x27; &#x27;0&#x27; &#x27;0&#x27;</div><input id='attrs-b44903ed-4abd-4da8-b03e-33049ed54e40' class='xr-var-attrs-in' type='checkbox' disabled><label for='attrs-b44903ed-4abd-4da8-b03e-33049ed54e40' title='Show/Hide attributes'><svg class='icon xr-icon-file-text2'><use xlink:href='#icon-file-text2'></use></svg></label><input id='data-1668b87d-217e-48a1-aaa8-fa91fa07b998' class='xr-var-data-in' type='checkbox'><label for='data-1668b87d-217e-48a1-aaa8-fa91fa07b998' title='Show/Hide data repr'><svg class='icon xr-icon-database'><use xlink:href='#icon-database'></use></svg></label><div class='xr-var-attrs'><dl class='xr-attrs'></dl></div><div class='xr-var-data'><pre>array([&#x27;0&#x27;, &#x27;0&#x27;, &#x27;0&#x27;, &#x27;0&#x27;, &#x27;0&#x27;, &#x27;0&#x27;, &#x27;0&#x27;, &#x27;0&#x27;, &#x27;0&#x27;, &#x27;0&#x27;, &#x27;0&#x27;, &#x27;0&#x27;, &#x27;0&#x27;,\n",
              "       &#x27;0&#x27;, &#x27;0&#x27;, &#x27;0&#x27;, &#x27;0&#x27;, &#x27;0&#x27;, &#x27;0&#x27;, &#x27;0&#x27;, &#x27;0&#x27;, &#x27;0&#x27;, &#x27;0&#x27;, &#x27;0&#x27;, &#x27;0&#x27;, &#x27;0&#x27;,\n",
              "       &#x27;0&#x27;, &#x27;0&#x27;, &#x27;0&#x27;, &#x27;0&#x27;, &#x27;0&#x27;, &#x27;0&#x27;, &#x27;0&#x27;, &#x27;0&#x27;, &#x27;0&#x27;, &#x27;0&#x27;, &#x27;0&#x27;, &#x27;0&#x27;, &#x27;0&#x27;,\n",
              "       &#x27;0&#x27;, &#x27;0&#x27;, &#x27;0&#x27;, &#x27;0&#x27;, &#x27;0&#x27;, &#x27;0&#x27;, &#x27;0&#x27;, &#x27;0&#x27;, &#x27;0&#x27;, &#x27;0&#x27;, &#x27;0&#x27;, &#x27;0&#x27;, &#x27;0&#x27;,\n",
              "       &#x27;0&#x27;, &#x27;0&#x27;, &#x27;0&#x27;, &#x27;0&#x27;, &#x27;0&#x27;, &#x27;0&#x27;, &#x27;0&#x27;, &#x27;0&#x27;, &#x27;0&#x27;, &#x27;0&#x27;, &#x27;0&#x27;, &#x27;0&#x27;, &#x27;0&#x27;,\n",
              "       &#x27;0&#x27;, &#x27;0&#x27;, &#x27;0&#x27;, &#x27;0&#x27;, &#x27;0&#x27;, &#x27;0&#x27;, &#x27;0&#x27;, &#x27;0&#x27;, &#x27;0&#x27;, &#x27;0&#x27;, &#x27;0&#x27;, &#x27;0&#x27;, &#x27;0&#x27;,\n",
              "       &#x27;0&#x27;, &#x27;0&#x27;, &#x27;0&#x27;, &#x27;0&#x27;, &#x27;0&#x27;, &#x27;0&#x27;, &#x27;0&#x27;, &#x27;0&#x27;, &#x27;0&#x27;, &#x27;0&#x27;, &#x27;0&#x27;, &#x27;0&#x27;, &#x27;0&#x27;,\n",
              "       &#x27;0&#x27;, &#x27;0&#x27;, &#x27;0&#x27;, &#x27;0&#x27;, &#x27;0&#x27;, &#x27;0&#x27;, &#x27;0&#x27;, &#x27;0&#x27;, &#x27;0&#x27;, &#x27;0&#x27;, &#x27;0&#x27;, &#x27;0&#x27;, &#x27;0&#x27;,\n",
              "       &#x27;0&#x27;, &#x27;0&#x27;, &#x27;0&#x27;, &#x27;0&#x27;, &#x27;0&#x27;, &#x27;0&#x27;, &#x27;0&#x27;, &#x27;0&#x27;, &#x27;0&#x27;, &#x27;0&#x27;, &#x27;0&#x27;, &#x27;0&#x27;, &#x27;0&#x27;,\n",
              "       &#x27;0&#x27;, &#x27;0&#x27;, &#x27;0&#x27;, &#x27;0&#x27;, &#x27;0&#x27;, &#x27;0&#x27;, &#x27;0&#x27;, &#x27;0&#x27;, &#x27;0&#x27;, &#x27;0&#x27;, &#x27;0&#x27;, &#x27;0&#x27;, &#x27;0&#x27;,\n",
              "       &#x27;0&#x27;, &#x27;0&#x27;, &#x27;0&#x27;, &#x27;0&#x27;, &#x27;0&#x27;, &#x27;0&#x27;, &#x27;0&#x27;, &#x27;0&#x27;, &#x27;0&#x27;, &#x27;0&#x27;, &#x27;0&#x27;, &#x27;0&#x27;, &#x27;0&#x27;,\n",
              "       &#x27;0&#x27;, &#x27;0&#x27;, &#x27;0&#x27;, &#x27;0&#x27;, &#x27;0&#x27;, &#x27;0&#x27;, &#x27;0&#x27;, &#x27;0&#x27;, &#x27;0&#x27;, &#x27;0&#x27;, &#x27;0&#x27;, &#x27;0&#x27;, &#x27;0&#x27;,\n",
              "       &#x27;0&#x27;, &#x27;0&#x27;, &#x27;0&#x27;, &#x27;0&#x27;, &#x27;0&#x27;, &#x27;0&#x27;, &#x27;0&#x27;, &#x27;0&#x27;, &#x27;0&#x27;, &#x27;0&#x27;, &#x27;0&#x27;, &#x27;0&#x27;, &#x27;0&#x27;,\n",
              "       &#x27;0&#x27;, &#x27;0&#x27;, &#x27;0&#x27;, &#x27;0&#x27;, &#x27;0&#x27;, &#x27;0&#x27;, &#x27;0&#x27;, &#x27;0&#x27;, &#x27;0&#x27;, &#x27;0&#x27;, &#x27;0&#x27;, &#x27;0&#x27;, &#x27;0&#x27;,\n",
              "       &#x27;0&#x27;, &#x27;0&#x27;, &#x27;0&#x27;, &#x27;0&#x27;, &#x27;0&#x27;, &#x27;0&#x27;, &#x27;0&#x27;, &#x27;0&#x27;, &#x27;0&#x27;, &#x27;0&#x27;, &#x27;0&#x27;, &#x27;0&#x27;, &#x27;0&#x27;,\n",
              "       &#x27;0&#x27;, &#x27;0&#x27;, &#x27;0&#x27;, &#x27;0&#x27;, &#x27;0&#x27;, &#x27;0&#x27;, &#x27;0&#x27;, &#x27;0&#x27;, &#x27;0&#x27;, &#x27;0&#x27;, &#x27;0&#x27;, &#x27;0&#x27;, &#x27;0&#x27;,\n",
              "       &#x27;0&#x27;, &#x27;0&#x27;, &#x27;0&#x27;, &#x27;0&#x27;, &#x27;0&#x27;, &#x27;0&#x27;, &#x27;0&#x27;, &#x27;0&#x27;, &#x27;0&#x27;, &#x27;0&#x27;, &#x27;0&#x27;, &#x27;0&#x27;, &#x27;0&#x27;,\n",
              "       &#x27;0&#x27;, &#x27;0&#x27;, &#x27;0&#x27;, &#x27;0&#x27;, &#x27;0&#x27;, &#x27;0&#x27;, &#x27;0&#x27;, &#x27;0&#x27;, &#x27;0&#x27;, &#x27;0&#x27;, &#x27;0&#x27;, &#x27;0&#x27;, &#x27;0&#x27;,\n",
              "       &#x27;0&#x27;, &#x27;0&#x27;, &#x27;0&#x27;, &#x27;0&#x27;, &#x27;0&#x27;, &#x27;0&#x27;, &#x27;0&#x27;, &#x27;0&#x27;, &#x27;0&#x27;, &#x27;0&#x27;, &#x27;0&#x27;, &#x27;0&#x27;, &#x27;0&#x27;,\n",
              "       &#x27;0&#x27;, &#x27;0&#x27;, &#x27;0&#x27;, &#x27;0&#x27;, &#x27;0&#x27;, &#x27;0&#x27;, &#x27;0&#x27;, &#x27;0&#x27;, &#x27;0&#x27;, &#x27;0&#x27;, &#x27;0&#x27;, &#x27;0&#x27;, &#x27;0&#x27;,\n",
              "...\n",
              "       &#x27;0&#x27;, &#x27;0&#x27;, &#x27;0&#x27;, &#x27;0&#x27;, &#x27;0&#x27;, &#x27;0&#x27;, &#x27;0&#x27;, &#x27;0&#x27;, &#x27;0&#x27;, &#x27;0&#x27;, &#x27;0&#x27;, &#x27;0&#x27;, &#x27;0&#x27;,\n",
              "       &#x27;0&#x27;, &#x27;0&#x27;, &#x27;0&#x27;, &#x27;0&#x27;, &#x27;0&#x27;, &#x27;0&#x27;, &#x27;0&#x27;, &#x27;0&#x27;, &#x27;0&#x27;, &#x27;0&#x27;, &#x27;0&#x27;, &#x27;0&#x27;, &#x27;0&#x27;,\n",
              "       &#x27;0&#x27;, &#x27;0&#x27;, &#x27;0&#x27;, &#x27;0&#x27;, &#x27;0&#x27;, &#x27;0&#x27;, &#x27;0&#x27;, &#x27;0&#x27;, &#x27;0&#x27;, &#x27;0&#x27;, &#x27;0&#x27;, &#x27;0&#x27;, &#x27;0&#x27;,\n",
              "       &#x27;0&#x27;, &#x27;0&#x27;, &#x27;0&#x27;, &#x27;0&#x27;, &#x27;0&#x27;, &#x27;0&#x27;, &#x27;0&#x27;, &#x27;0&#x27;, &#x27;0&#x27;, &#x27;0&#x27;, &#x27;0&#x27;, &#x27;0&#x27;, &#x27;0&#x27;,\n",
              "       &#x27;0&#x27;, &#x27;0&#x27;, &#x27;0&#x27;, &#x27;0&#x27;, &#x27;0&#x27;, &#x27;0&#x27;, &#x27;0&#x27;, &#x27;0&#x27;, &#x27;0&#x27;, &#x27;0&#x27;, &#x27;0&#x27;, &#x27;0&#x27;, &#x27;0&#x27;,\n",
              "       &#x27;0&#x27;, &#x27;0&#x27;, &#x27;0&#x27;, &#x27;0&#x27;, &#x27;0&#x27;, &#x27;0&#x27;, &#x27;0&#x27;, &#x27;0&#x27;, &#x27;0&#x27;, &#x27;0&#x27;, &#x27;0&#x27;, &#x27;0&#x27;, &#x27;0&#x27;,\n",
              "       &#x27;0&#x27;, &#x27;0&#x27;, &#x27;0&#x27;, &#x27;0&#x27;, &#x27;0&#x27;, &#x27;0&#x27;, &#x27;0&#x27;, &#x27;0&#x27;, &#x27;0&#x27;, &#x27;0&#x27;, &#x27;0&#x27;, &#x27;0&#x27;, &#x27;0&#x27;,\n",
              "       &#x27;0&#x27;, &#x27;0&#x27;, &#x27;0&#x27;, &#x27;0&#x27;, &#x27;0&#x27;, &#x27;0&#x27;, &#x27;0&#x27;, &#x27;0&#x27;, &#x27;0&#x27;, &#x27;0&#x27;, &#x27;0&#x27;, &#x27;0&#x27;, &#x27;0&#x27;,\n",
              "       &#x27;0&#x27;, &#x27;0&#x27;, &#x27;0&#x27;, &#x27;0&#x27;, &#x27;0&#x27;, &#x27;0&#x27;, &#x27;0&#x27;, &#x27;0&#x27;, &#x27;0&#x27;, &#x27;0&#x27;, &#x27;0&#x27;, &#x27;0&#x27;, &#x27;0&#x27;,\n",
              "       &#x27;0&#x27;, &#x27;0&#x27;, &#x27;0&#x27;, &#x27;0&#x27;, &#x27;0&#x27;, &#x27;0&#x27;, &#x27;0&#x27;, &#x27;0&#x27;, &#x27;0&#x27;, &#x27;0&#x27;, &#x27;0&#x27;, &#x27;0&#x27;, &#x27;0&#x27;,\n",
              "       &#x27;0&#x27;, &#x27;0&#x27;, &#x27;0&#x27;, &#x27;0&#x27;, &#x27;0&#x27;, &#x27;0&#x27;, &#x27;0&#x27;, &#x27;0&#x27;, &#x27;0&#x27;, &#x27;0&#x27;, &#x27;0&#x27;, &#x27;0&#x27;, &#x27;0&#x27;,\n",
              "       &#x27;0&#x27;, &#x27;0&#x27;, &#x27;0&#x27;, &#x27;0&#x27;, &#x27;0&#x27;, &#x27;0&#x27;, &#x27;0&#x27;, &#x27;0&#x27;, &#x27;0&#x27;, &#x27;0&#x27;, &#x27;0&#x27;, &#x27;0&#x27;, &#x27;0&#x27;,\n",
              "       &#x27;0&#x27;, &#x27;0&#x27;, &#x27;0&#x27;, &#x27;0&#x27;, &#x27;0&#x27;, &#x27;0&#x27;, &#x27;0&#x27;, &#x27;0&#x27;, &#x27;0&#x27;, &#x27;0&#x27;, &#x27;0&#x27;, &#x27;0&#x27;, &#x27;0&#x27;,\n",
              "       &#x27;0&#x27;, &#x27;0&#x27;, &#x27;0&#x27;, &#x27;0&#x27;, &#x27;0&#x27;, &#x27;0&#x27;, &#x27;0&#x27;, &#x27;0&#x27;, &#x27;0&#x27;, &#x27;0&#x27;, &#x27;0&#x27;, &#x27;0&#x27;, &#x27;0&#x27;,\n",
              "       &#x27;0&#x27;, &#x27;0&#x27;, &#x27;0&#x27;, &#x27;0&#x27;, &#x27;0&#x27;, &#x27;0&#x27;, &#x27;0&#x27;, &#x27;0&#x27;, &#x27;0&#x27;, &#x27;0&#x27;, &#x27;0&#x27;, &#x27;0&#x27;, &#x27;0&#x27;,\n",
              "       &#x27;0&#x27;, &#x27;0&#x27;, &#x27;0&#x27;, &#x27;0&#x27;, &#x27;0&#x27;, &#x27;0&#x27;, &#x27;0&#x27;, &#x27;0&#x27;, &#x27;0&#x27;, &#x27;0&#x27;, &#x27;0&#x27;, &#x27;0&#x27;, &#x27;0&#x27;,\n",
              "       &#x27;0&#x27;, &#x27;0&#x27;, &#x27;0&#x27;, &#x27;0&#x27;, &#x27;0&#x27;, &#x27;0&#x27;, &#x27;0&#x27;, &#x27;0&#x27;, &#x27;0&#x27;, &#x27;0&#x27;, &#x27;0&#x27;, &#x27;0&#x27;, &#x27;0&#x27;,\n",
              "       &#x27;0&#x27;, &#x27;0&#x27;, &#x27;0&#x27;, &#x27;0&#x27;, &#x27;0&#x27;, &#x27;0&#x27;, &#x27;0&#x27;, &#x27;0&#x27;, &#x27;0&#x27;, &#x27;0&#x27;, &#x27;0&#x27;, &#x27;0&#x27;, &#x27;0&#x27;,\n",
              "       &#x27;0&#x27;, &#x27;0&#x27;, &#x27;0&#x27;, &#x27;0&#x27;, &#x27;0&#x27;, &#x27;0&#x27;, &#x27;0&#x27;, &#x27;0&#x27;, &#x27;0&#x27;, &#x27;0&#x27;, &#x27;0&#x27;, &#x27;0&#x27;, &#x27;0&#x27;,\n",
              "       &#x27;0&#x27;, &#x27;0&#x27;], dtype=object)</pre></div></li><li class='xr-var-item'><div class='xr-var-name'><span>mother</span></div><div class='xr-var-dims'>(sample)</div><div class='xr-var-dtype'>object</div><div class='xr-var-preview xr-preview'>&#x27;0&#x27; &#x27;0&#x27; &#x27;0&#x27; &#x27;0&#x27; ... &#x27;0&#x27; &#x27;0&#x27; &#x27;0&#x27; &#x27;0&#x27;</div><input id='attrs-e6f8a985-9fa0-4258-897e-990327e070ad' class='xr-var-attrs-in' type='checkbox' disabled><label for='attrs-e6f8a985-9fa0-4258-897e-990327e070ad' title='Show/Hide attributes'><svg class='icon xr-icon-file-text2'><use xlink:href='#icon-file-text2'></use></svg></label><input id='data-2accc7b8-31d5-4714-a6c8-9ce593ad570e' class='xr-var-data-in' type='checkbox'><label for='data-2accc7b8-31d5-4714-a6c8-9ce593ad570e' title='Show/Hide data repr'><svg class='icon xr-icon-database'><use xlink:href='#icon-database'></use></svg></label><div class='xr-var-attrs'><dl class='xr-attrs'></dl></div><div class='xr-var-data'><pre>array([&#x27;0&#x27;, &#x27;0&#x27;, &#x27;0&#x27;, &#x27;0&#x27;, &#x27;0&#x27;, &#x27;0&#x27;, &#x27;0&#x27;, &#x27;0&#x27;, &#x27;0&#x27;, &#x27;0&#x27;, &#x27;0&#x27;, &#x27;0&#x27;, &#x27;0&#x27;,\n",
              "       &#x27;0&#x27;, &#x27;0&#x27;, &#x27;0&#x27;, &#x27;0&#x27;, &#x27;0&#x27;, &#x27;0&#x27;, &#x27;0&#x27;, &#x27;0&#x27;, &#x27;0&#x27;, &#x27;0&#x27;, &#x27;0&#x27;, &#x27;0&#x27;, &#x27;0&#x27;,\n",
              "       &#x27;0&#x27;, &#x27;0&#x27;, &#x27;0&#x27;, &#x27;0&#x27;, &#x27;0&#x27;, &#x27;0&#x27;, &#x27;0&#x27;, &#x27;0&#x27;, &#x27;0&#x27;, &#x27;0&#x27;, &#x27;0&#x27;, &#x27;0&#x27;, &#x27;0&#x27;,\n",
              "       &#x27;0&#x27;, &#x27;0&#x27;, &#x27;0&#x27;, &#x27;0&#x27;, &#x27;0&#x27;, &#x27;0&#x27;, &#x27;0&#x27;, &#x27;0&#x27;, &#x27;0&#x27;, &#x27;0&#x27;, &#x27;0&#x27;, &#x27;0&#x27;, &#x27;0&#x27;,\n",
              "       &#x27;0&#x27;, &#x27;0&#x27;, &#x27;0&#x27;, &#x27;0&#x27;, &#x27;0&#x27;, &#x27;0&#x27;, &#x27;0&#x27;, &#x27;0&#x27;, &#x27;0&#x27;, &#x27;0&#x27;, &#x27;0&#x27;, &#x27;0&#x27;, &#x27;0&#x27;,\n",
              "       &#x27;0&#x27;, &#x27;0&#x27;, &#x27;0&#x27;, &#x27;0&#x27;, &#x27;0&#x27;, &#x27;0&#x27;, &#x27;0&#x27;, &#x27;0&#x27;, &#x27;0&#x27;, &#x27;0&#x27;, &#x27;0&#x27;, &#x27;0&#x27;, &#x27;0&#x27;,\n",
              "       &#x27;0&#x27;, &#x27;0&#x27;, &#x27;0&#x27;, &#x27;0&#x27;, &#x27;0&#x27;, &#x27;0&#x27;, &#x27;0&#x27;, &#x27;0&#x27;, &#x27;0&#x27;, &#x27;0&#x27;, &#x27;0&#x27;, &#x27;0&#x27;, &#x27;0&#x27;,\n",
              "       &#x27;0&#x27;, &#x27;0&#x27;, &#x27;0&#x27;, &#x27;0&#x27;, &#x27;0&#x27;, &#x27;0&#x27;, &#x27;0&#x27;, &#x27;0&#x27;, &#x27;0&#x27;, &#x27;0&#x27;, &#x27;0&#x27;, &#x27;0&#x27;, &#x27;0&#x27;,\n",
              "       &#x27;0&#x27;, &#x27;0&#x27;, &#x27;0&#x27;, &#x27;0&#x27;, &#x27;0&#x27;, &#x27;0&#x27;, &#x27;0&#x27;, &#x27;0&#x27;, &#x27;0&#x27;, &#x27;0&#x27;, &#x27;0&#x27;, &#x27;0&#x27;, &#x27;0&#x27;,\n",
              "       &#x27;0&#x27;, &#x27;0&#x27;, &#x27;0&#x27;, &#x27;0&#x27;, &#x27;0&#x27;, &#x27;0&#x27;, &#x27;0&#x27;, &#x27;0&#x27;, &#x27;0&#x27;, &#x27;0&#x27;, &#x27;0&#x27;, &#x27;0&#x27;, &#x27;0&#x27;,\n",
              "       &#x27;0&#x27;, &#x27;0&#x27;, &#x27;0&#x27;, &#x27;0&#x27;, &#x27;0&#x27;, &#x27;0&#x27;, &#x27;0&#x27;, &#x27;0&#x27;, &#x27;0&#x27;, &#x27;0&#x27;, &#x27;0&#x27;, &#x27;0&#x27;, &#x27;0&#x27;,\n",
              "       &#x27;0&#x27;, &#x27;0&#x27;, &#x27;0&#x27;, &#x27;0&#x27;, &#x27;0&#x27;, &#x27;0&#x27;, &#x27;0&#x27;, &#x27;0&#x27;, &#x27;0&#x27;, &#x27;0&#x27;, &#x27;0&#x27;, &#x27;0&#x27;, &#x27;0&#x27;,\n",
              "       &#x27;0&#x27;, &#x27;0&#x27;, &#x27;0&#x27;, &#x27;0&#x27;, &#x27;0&#x27;, &#x27;0&#x27;, &#x27;0&#x27;, &#x27;0&#x27;, &#x27;0&#x27;, &#x27;0&#x27;, &#x27;0&#x27;, &#x27;0&#x27;, &#x27;0&#x27;,\n",
              "       &#x27;0&#x27;, &#x27;0&#x27;, &#x27;0&#x27;, &#x27;0&#x27;, &#x27;0&#x27;, &#x27;0&#x27;, &#x27;0&#x27;, &#x27;0&#x27;, &#x27;0&#x27;, &#x27;0&#x27;, &#x27;0&#x27;, &#x27;0&#x27;, &#x27;0&#x27;,\n",
              "       &#x27;0&#x27;, &#x27;0&#x27;, &#x27;0&#x27;, &#x27;0&#x27;, &#x27;0&#x27;, &#x27;0&#x27;, &#x27;0&#x27;, &#x27;0&#x27;, &#x27;0&#x27;, &#x27;0&#x27;, &#x27;0&#x27;, &#x27;0&#x27;, &#x27;0&#x27;,\n",
              "       &#x27;0&#x27;, &#x27;0&#x27;, &#x27;0&#x27;, &#x27;0&#x27;, &#x27;0&#x27;, &#x27;0&#x27;, &#x27;0&#x27;, &#x27;0&#x27;, &#x27;0&#x27;, &#x27;0&#x27;, &#x27;0&#x27;, &#x27;0&#x27;, &#x27;0&#x27;,\n",
              "       &#x27;0&#x27;, &#x27;0&#x27;, &#x27;0&#x27;, &#x27;0&#x27;, &#x27;0&#x27;, &#x27;0&#x27;, &#x27;0&#x27;, &#x27;0&#x27;, &#x27;0&#x27;, &#x27;0&#x27;, &#x27;0&#x27;, &#x27;0&#x27;, &#x27;0&#x27;,\n",
              "       &#x27;0&#x27;, &#x27;0&#x27;, &#x27;0&#x27;, &#x27;0&#x27;, &#x27;0&#x27;, &#x27;0&#x27;, &#x27;0&#x27;, &#x27;0&#x27;, &#x27;0&#x27;, &#x27;0&#x27;, &#x27;0&#x27;, &#x27;0&#x27;, &#x27;0&#x27;,\n",
              "       &#x27;0&#x27;, &#x27;0&#x27;, &#x27;0&#x27;, &#x27;0&#x27;, &#x27;0&#x27;, &#x27;0&#x27;, &#x27;0&#x27;, &#x27;0&#x27;, &#x27;0&#x27;, &#x27;0&#x27;, &#x27;0&#x27;, &#x27;0&#x27;, &#x27;0&#x27;,\n",
              "       &#x27;0&#x27;, &#x27;0&#x27;, &#x27;0&#x27;, &#x27;0&#x27;, &#x27;0&#x27;, &#x27;0&#x27;, &#x27;0&#x27;, &#x27;0&#x27;, &#x27;0&#x27;, &#x27;0&#x27;, &#x27;0&#x27;, &#x27;0&#x27;, &#x27;0&#x27;,\n",
              "...\n",
              "       &#x27;0&#x27;, &#x27;0&#x27;, &#x27;0&#x27;, &#x27;0&#x27;, &#x27;0&#x27;, &#x27;0&#x27;, &#x27;0&#x27;, &#x27;0&#x27;, &#x27;0&#x27;, &#x27;0&#x27;, &#x27;0&#x27;, &#x27;0&#x27;, &#x27;0&#x27;,\n",
              "       &#x27;0&#x27;, &#x27;0&#x27;, &#x27;0&#x27;, &#x27;0&#x27;, &#x27;0&#x27;, &#x27;0&#x27;, &#x27;0&#x27;, &#x27;0&#x27;, &#x27;0&#x27;, &#x27;0&#x27;, &#x27;0&#x27;, &#x27;0&#x27;, &#x27;0&#x27;,\n",
              "       &#x27;0&#x27;, &#x27;0&#x27;, &#x27;0&#x27;, &#x27;0&#x27;, &#x27;0&#x27;, &#x27;0&#x27;, &#x27;0&#x27;, &#x27;0&#x27;, &#x27;0&#x27;, &#x27;0&#x27;, &#x27;0&#x27;, &#x27;0&#x27;, &#x27;0&#x27;,\n",
              "       &#x27;0&#x27;, &#x27;0&#x27;, &#x27;0&#x27;, &#x27;0&#x27;, &#x27;0&#x27;, &#x27;0&#x27;, &#x27;0&#x27;, &#x27;0&#x27;, &#x27;0&#x27;, &#x27;0&#x27;, &#x27;0&#x27;, &#x27;0&#x27;, &#x27;0&#x27;,\n",
              "       &#x27;0&#x27;, &#x27;0&#x27;, &#x27;0&#x27;, &#x27;0&#x27;, &#x27;0&#x27;, &#x27;0&#x27;, &#x27;0&#x27;, &#x27;0&#x27;, &#x27;0&#x27;, &#x27;0&#x27;, &#x27;0&#x27;, &#x27;0&#x27;, &#x27;0&#x27;,\n",
              "       &#x27;0&#x27;, &#x27;0&#x27;, &#x27;0&#x27;, &#x27;0&#x27;, &#x27;0&#x27;, &#x27;0&#x27;, &#x27;0&#x27;, &#x27;0&#x27;, &#x27;0&#x27;, &#x27;0&#x27;, &#x27;0&#x27;, &#x27;0&#x27;, &#x27;0&#x27;,\n",
              "       &#x27;0&#x27;, &#x27;0&#x27;, &#x27;0&#x27;, &#x27;0&#x27;, &#x27;0&#x27;, &#x27;0&#x27;, &#x27;0&#x27;, &#x27;0&#x27;, &#x27;0&#x27;, &#x27;0&#x27;, &#x27;0&#x27;, &#x27;0&#x27;, &#x27;0&#x27;,\n",
              "       &#x27;0&#x27;, &#x27;0&#x27;, &#x27;0&#x27;, &#x27;0&#x27;, &#x27;0&#x27;, &#x27;0&#x27;, &#x27;0&#x27;, &#x27;0&#x27;, &#x27;0&#x27;, &#x27;0&#x27;, &#x27;0&#x27;, &#x27;0&#x27;, &#x27;0&#x27;,\n",
              "       &#x27;0&#x27;, &#x27;0&#x27;, &#x27;0&#x27;, &#x27;0&#x27;, &#x27;0&#x27;, &#x27;0&#x27;, &#x27;0&#x27;, &#x27;0&#x27;, &#x27;0&#x27;, &#x27;0&#x27;, &#x27;0&#x27;, &#x27;0&#x27;, &#x27;0&#x27;,\n",
              "       &#x27;0&#x27;, &#x27;0&#x27;, &#x27;0&#x27;, &#x27;0&#x27;, &#x27;0&#x27;, &#x27;0&#x27;, &#x27;0&#x27;, &#x27;0&#x27;, &#x27;0&#x27;, &#x27;0&#x27;, &#x27;0&#x27;, &#x27;0&#x27;, &#x27;0&#x27;,\n",
              "       &#x27;0&#x27;, &#x27;0&#x27;, &#x27;0&#x27;, &#x27;0&#x27;, &#x27;0&#x27;, &#x27;0&#x27;, &#x27;0&#x27;, &#x27;0&#x27;, &#x27;0&#x27;, &#x27;0&#x27;, &#x27;0&#x27;, &#x27;0&#x27;, &#x27;0&#x27;,\n",
              "       &#x27;0&#x27;, &#x27;0&#x27;, &#x27;0&#x27;, &#x27;0&#x27;, &#x27;0&#x27;, &#x27;0&#x27;, &#x27;0&#x27;, &#x27;0&#x27;, &#x27;0&#x27;, &#x27;0&#x27;, &#x27;0&#x27;, &#x27;0&#x27;, &#x27;0&#x27;,\n",
              "       &#x27;0&#x27;, &#x27;0&#x27;, &#x27;0&#x27;, &#x27;0&#x27;, &#x27;0&#x27;, &#x27;0&#x27;, &#x27;0&#x27;, &#x27;0&#x27;, &#x27;0&#x27;, &#x27;0&#x27;, &#x27;0&#x27;, &#x27;0&#x27;, &#x27;0&#x27;,\n",
              "       &#x27;0&#x27;, &#x27;0&#x27;, &#x27;0&#x27;, &#x27;0&#x27;, &#x27;0&#x27;, &#x27;0&#x27;, &#x27;0&#x27;, &#x27;0&#x27;, &#x27;0&#x27;, &#x27;0&#x27;, &#x27;0&#x27;, &#x27;0&#x27;, &#x27;0&#x27;,\n",
              "       &#x27;0&#x27;, &#x27;0&#x27;, &#x27;0&#x27;, &#x27;0&#x27;, &#x27;0&#x27;, &#x27;0&#x27;, &#x27;0&#x27;, &#x27;0&#x27;, &#x27;0&#x27;, &#x27;0&#x27;, &#x27;0&#x27;, &#x27;0&#x27;, &#x27;0&#x27;,\n",
              "       &#x27;0&#x27;, &#x27;0&#x27;, &#x27;0&#x27;, &#x27;0&#x27;, &#x27;0&#x27;, &#x27;0&#x27;, &#x27;0&#x27;, &#x27;0&#x27;, &#x27;0&#x27;, &#x27;0&#x27;, &#x27;0&#x27;, &#x27;0&#x27;, &#x27;0&#x27;,\n",
              "       &#x27;0&#x27;, &#x27;0&#x27;, &#x27;0&#x27;, &#x27;0&#x27;, &#x27;0&#x27;, &#x27;0&#x27;, &#x27;0&#x27;, &#x27;0&#x27;, &#x27;0&#x27;, &#x27;0&#x27;, &#x27;0&#x27;, &#x27;0&#x27;, &#x27;0&#x27;,\n",
              "       &#x27;0&#x27;, &#x27;0&#x27;, &#x27;0&#x27;, &#x27;0&#x27;, &#x27;0&#x27;, &#x27;0&#x27;, &#x27;0&#x27;, &#x27;0&#x27;, &#x27;0&#x27;, &#x27;0&#x27;, &#x27;0&#x27;, &#x27;0&#x27;, &#x27;0&#x27;,\n",
              "       &#x27;0&#x27;, &#x27;0&#x27;, &#x27;0&#x27;, &#x27;0&#x27;, &#x27;0&#x27;, &#x27;0&#x27;, &#x27;0&#x27;, &#x27;0&#x27;, &#x27;0&#x27;, &#x27;0&#x27;, &#x27;0&#x27;, &#x27;0&#x27;, &#x27;0&#x27;,\n",
              "       &#x27;0&#x27;, &#x27;0&#x27;], dtype=object)</pre></div></li><li class='xr-var-item'><div class='xr-var-name'><span>gender</span></div><div class='xr-var-dims'>(sample)</div><div class='xr-var-dtype'>object</div><div class='xr-var-preview xr-preview'>&#x27;2&#x27; &#x27;2&#x27; &#x27;2&#x27; &#x27;1&#x27; ... &#x27;1&#x27; &#x27;2&#x27; &#x27;2&#x27; &#x27;1&#x27;</div><input id='attrs-139a095c-5796-4b4c-be0e-63ea875c6ad0' class='xr-var-attrs-in' type='checkbox' disabled><label for='attrs-139a095c-5796-4b4c-be0e-63ea875c6ad0' title='Show/Hide attributes'><svg class='icon xr-icon-file-text2'><use xlink:href='#icon-file-text2'></use></svg></label><input id='data-b36b55aa-ca8d-4107-9954-be0520c5d09d' class='xr-var-data-in' type='checkbox'><label for='data-b36b55aa-ca8d-4107-9954-be0520c5d09d' title='Show/Hide data repr'><svg class='icon xr-icon-database'><use xlink:href='#icon-database'></use></svg></label><div class='xr-var-attrs'><dl class='xr-attrs'></dl></div><div class='xr-var-data'><pre>array([&#x27;2&#x27;, &#x27;2&#x27;, &#x27;2&#x27;, &#x27;1&#x27;, &#x27;2&#x27;, &#x27;1&#x27;, &#x27;2&#x27;, &#x27;2&#x27;, &#x27;2&#x27;, &#x27;2&#x27;, &#x27;1&#x27;, &#x27;2&#x27;, &#x27;2&#x27;,\n",
              "       &#x27;1&#x27;, &#x27;1&#x27;, &#x27;2&#x27;, &#x27;1&#x27;, &#x27;2&#x27;, &#x27;2&#x27;, &#x27;2&#x27;, &#x27;1&#x27;, &#x27;1&#x27;, &#x27;2&#x27;, &#x27;2&#x27;, &#x27;2&#x27;, &#x27;2&#x27;,\n",
              "       &#x27;2&#x27;, &#x27;2&#x27;, &#x27;2&#x27;, &#x27;2&#x27;, &#x27;2&#x27;, &#x27;1&#x27;, &#x27;1&#x27;, &#x27;1&#x27;, &#x27;2&#x27;, &#x27;1&#x27;, &#x27;1&#x27;, &#x27;2&#x27;, &#x27;2&#x27;,\n",
              "       &#x27;2&#x27;, &#x27;1&#x27;, &#x27;1&#x27;, &#x27;1&#x27;, &#x27;1&#x27;, &#x27;1&#x27;, &#x27;1&#x27;, &#x27;2&#x27;, &#x27;1&#x27;, &#x27;1&#x27;, &#x27;1&#x27;, &#x27;1&#x27;, &#x27;1&#x27;,\n",
              "       &#x27;2&#x27;, &#x27;1&#x27;, &#x27;1&#x27;, &#x27;1&#x27;, &#x27;1&#x27;, &#x27;2&#x27;, &#x27;2&#x27;, &#x27;2&#x27;, &#x27;1&#x27;, &#x27;1&#x27;, &#x27;1&#x27;, &#x27;2&#x27;, &#x27;1&#x27;,\n",
              "       &#x27;2&#x27;, &#x27;1&#x27;, &#x27;1&#x27;, &#x27;2&#x27;, &#x27;2&#x27;, &#x27;1&#x27;, &#x27;1&#x27;, &#x27;1&#x27;, &#x27;2&#x27;, &#x27;2&#x27;, &#x27;1&#x27;, &#x27;1&#x27;, &#x27;2&#x27;,\n",
              "       &#x27;1&#x27;, &#x27;1&#x27;, &#x27;2&#x27;, &#x27;1&#x27;, &#x27;1&#x27;, &#x27;1&#x27;, &#x27;1&#x27;, &#x27;2&#x27;, &#x27;1&#x27;, &#x27;1&#x27;, &#x27;1&#x27;, &#x27;1&#x27;, &#x27;2&#x27;,\n",
              "       &#x27;2&#x27;, &#x27;2&#x27;, &#x27;1&#x27;, &#x27;2&#x27;, &#x27;2&#x27;, &#x27;1&#x27;, &#x27;1&#x27;, &#x27;2&#x27;, &#x27;1&#x27;, &#x27;1&#x27;, &#x27;2&#x27;, &#x27;2&#x27;, &#x27;2&#x27;,\n",
              "       &#x27;1&#x27;, &#x27;1&#x27;, &#x27;1&#x27;, &#x27;1&#x27;, &#x27;2&#x27;, &#x27;2&#x27;, &#x27;2&#x27;, &#x27;1&#x27;, &#x27;2&#x27;, &#x27;2&#x27;, &#x27;1&#x27;, &#x27;2&#x27;, &#x27;2&#x27;,\n",
              "       &#x27;1&#x27;, &#x27;2&#x27;, &#x27;2&#x27;, &#x27;2&#x27;, &#x27;2&#x27;, &#x27;2&#x27;, &#x27;1&#x27;, &#x27;2&#x27;, &#x27;1&#x27;, &#x27;2&#x27;, &#x27;2&#x27;, &#x27;1&#x27;, &#x27;1&#x27;,\n",
              "       &#x27;1&#x27;, &#x27;1&#x27;, &#x27;1&#x27;, &#x27;1&#x27;, &#x27;1&#x27;, &#x27;2&#x27;, &#x27;2&#x27;, &#x27;2&#x27;, &#x27;2&#x27;, &#x27;1&#x27;, &#x27;2&#x27;, &#x27;2&#x27;, &#x27;2&#x27;,\n",
              "       &#x27;1&#x27;, &#x27;1&#x27;, &#x27;1&#x27;, &#x27;2&#x27;, &#x27;1&#x27;, &#x27;2&#x27;, &#x27;1&#x27;, &#x27;2&#x27;, &#x27;1&#x27;, &#x27;1&#x27;, &#x27;1&#x27;, &#x27;2&#x27;, &#x27;1&#x27;,\n",
              "       &#x27;2&#x27;, &#x27;2&#x27;, &#x27;2&#x27;, &#x27;1&#x27;, &#x27;1&#x27;, &#x27;2&#x27;, &#x27;1&#x27;, &#x27;2&#x27;, &#x27;2&#x27;, &#x27;1&#x27;, &#x27;2&#x27;, &#x27;2&#x27;, &#x27;2&#x27;,\n",
              "       &#x27;1&#x27;, &#x27;2&#x27;, &#x27;2&#x27;, &#x27;2&#x27;, &#x27;1&#x27;, &#x27;1&#x27;, &#x27;2&#x27;, &#x27;2&#x27;, &#x27;1&#x27;, &#x27;1&#x27;, &#x27;1&#x27;, &#x27;2&#x27;, &#x27;1&#x27;,\n",
              "       &#x27;1&#x27;, &#x27;1&#x27;, &#x27;1&#x27;, &#x27;1&#x27;, &#x27;2&#x27;, &#x27;2&#x27;, &#x27;2&#x27;, &#x27;2&#x27;, &#x27;1&#x27;, &#x27;1&#x27;, &#x27;2&#x27;, &#x27;2&#x27;, &#x27;2&#x27;,\n",
              "       &#x27;2&#x27;, &#x27;2&#x27;, &#x27;2&#x27;, &#x27;2&#x27;, &#x27;1&#x27;, &#x27;1&#x27;, &#x27;1&#x27;, &#x27;1&#x27;, &#x27;2&#x27;, &#x27;1&#x27;, &#x27;1&#x27;, &#x27;1&#x27;, &#x27;1&#x27;,\n",
              "       &#x27;1&#x27;, &#x27;2&#x27;, &#x27;1&#x27;, &#x27;2&#x27;, &#x27;2&#x27;, &#x27;2&#x27;, &#x27;1&#x27;, &#x27;2&#x27;, &#x27;1&#x27;, &#x27;1&#x27;, &#x27;2&#x27;, &#x27;2&#x27;, &#x27;2&#x27;,\n",
              "       &#x27;2&#x27;, &#x27;1&#x27;, &#x27;2&#x27;, &#x27;2&#x27;, &#x27;1&#x27;, &#x27;2&#x27;, &#x27;1&#x27;, &#x27;1&#x27;, &#x27;2&#x27;, &#x27;2&#x27;, &#x27;1&#x27;, &#x27;1&#x27;, &#x27;1&#x27;,\n",
              "       &#x27;2&#x27;, &#x27;1&#x27;, &#x27;2&#x27;, &#x27;1&#x27;, &#x27;2&#x27;, &#x27;1&#x27;, &#x27;2&#x27;, &#x27;2&#x27;, &#x27;2&#x27;, &#x27;1&#x27;, &#x27;2&#x27;, &#x27;1&#x27;, &#x27;1&#x27;,\n",
              "       &#x27;1&#x27;, &#x27;1&#x27;, &#x27;1&#x27;, &#x27;1&#x27;, &#x27;1&#x27;, &#x27;1&#x27;, &#x27;1&#x27;, &#x27;1&#x27;, &#x27;1&#x27;, &#x27;1&#x27;, &#x27;2&#x27;, &#x27;1&#x27;, &#x27;1&#x27;,\n",
              "...\n",
              "       &#x27;1&#x27;, &#x27;2&#x27;, &#x27;1&#x27;, &#x27;2&#x27;, &#x27;1&#x27;, &#x27;1&#x27;, &#x27;2&#x27;, &#x27;2&#x27;, &#x27;1&#x27;, &#x27;1&#x27;, &#x27;1&#x27;, &#x27;1&#x27;, &#x27;1&#x27;,\n",
              "       &#x27;1&#x27;, &#x27;1&#x27;, &#x27;2&#x27;, &#x27;1&#x27;, &#x27;2&#x27;, &#x27;1&#x27;, &#x27;1&#x27;, &#x27;2&#x27;, &#x27;1&#x27;, &#x27;1&#x27;, &#x27;1&#x27;, &#x27;2&#x27;, &#x27;1&#x27;,\n",
              "       &#x27;2&#x27;, &#x27;2&#x27;, &#x27;2&#x27;, &#x27;1&#x27;, &#x27;2&#x27;, &#x27;2&#x27;, &#x27;2&#x27;, &#x27;1&#x27;, &#x27;2&#x27;, &#x27;1&#x27;, &#x27;2&#x27;, &#x27;2&#x27;, &#x27;1&#x27;,\n",
              "       &#x27;2&#x27;, &#x27;1&#x27;, &#x27;2&#x27;, &#x27;1&#x27;, &#x27;2&#x27;, &#x27;1&#x27;, &#x27;2&#x27;, &#x27;2&#x27;, &#x27;1&#x27;, &#x27;1&#x27;, &#x27;1&#x27;, &#x27;2&#x27;, &#x27;1&#x27;,\n",
              "       &#x27;1&#x27;, &#x27;2&#x27;, &#x27;1&#x27;, &#x27;2&#x27;, &#x27;1&#x27;, &#x27;2&#x27;, &#x27;1&#x27;, &#x27;1&#x27;, &#x27;1&#x27;, &#x27;2&#x27;, &#x27;1&#x27;, &#x27;1&#x27;, &#x27;1&#x27;,\n",
              "       &#x27;2&#x27;, &#x27;2&#x27;, &#x27;1&#x27;, &#x27;2&#x27;, &#x27;1&#x27;, &#x27;1&#x27;, &#x27;1&#x27;, &#x27;1&#x27;, &#x27;2&#x27;, &#x27;2&#x27;, &#x27;2&#x27;, &#x27;1&#x27;, &#x27;1&#x27;,\n",
              "       &#x27;2&#x27;, &#x27;1&#x27;, &#x27;1&#x27;, &#x27;1&#x27;, &#x27;2&#x27;, &#x27;2&#x27;, &#x27;2&#x27;, &#x27;1&#x27;, &#x27;1&#x27;, &#x27;1&#x27;, &#x27;2&#x27;, &#x27;2&#x27;, &#x27;2&#x27;,\n",
              "       &#x27;1&#x27;, &#x27;1&#x27;, &#x27;2&#x27;, &#x27;1&#x27;, &#x27;1&#x27;, &#x27;1&#x27;, &#x27;2&#x27;, &#x27;1&#x27;, &#x27;2&#x27;, &#x27;2&#x27;, &#x27;1&#x27;, &#x27;1&#x27;, &#x27;2&#x27;,\n",
              "       &#x27;2&#x27;, &#x27;2&#x27;, &#x27;2&#x27;, &#x27;1&#x27;, &#x27;2&#x27;, &#x27;1&#x27;, &#x27;1&#x27;, &#x27;1&#x27;, &#x27;1&#x27;, &#x27;1&#x27;, &#x27;2&#x27;, &#x27;2&#x27;, &#x27;1&#x27;,\n",
              "       &#x27;1&#x27;, &#x27;2&#x27;, &#x27;2&#x27;, &#x27;2&#x27;, &#x27;1&#x27;, &#x27;2&#x27;, &#x27;1&#x27;, &#x27;1&#x27;, &#x27;1&#x27;, &#x27;2&#x27;, &#x27;1&#x27;, &#x27;1&#x27;, &#x27;2&#x27;,\n",
              "       &#x27;2&#x27;, &#x27;2&#x27;, &#x27;2&#x27;, &#x27;2&#x27;, &#x27;1&#x27;, &#x27;1&#x27;, &#x27;2&#x27;, &#x27;1&#x27;, &#x27;1&#x27;, &#x27;2&#x27;, &#x27;2&#x27;, &#x27;1&#x27;, &#x27;1&#x27;,\n",
              "       &#x27;2&#x27;, &#x27;2&#x27;, &#x27;1&#x27;, &#x27;1&#x27;, &#x27;1&#x27;, &#x27;2&#x27;, &#x27;2&#x27;, &#x27;2&#x27;, &#x27;2&#x27;, &#x27;1&#x27;, &#x27;2&#x27;, &#x27;1&#x27;, &#x27;1&#x27;,\n",
              "       &#x27;1&#x27;, &#x27;2&#x27;, &#x27;1&#x27;, &#x27;2&#x27;, &#x27;2&#x27;, &#x27;2&#x27;, &#x27;2&#x27;, &#x27;2&#x27;, &#x27;2&#x27;, &#x27;1&#x27;, &#x27;1&#x27;, &#x27;2&#x27;, &#x27;2&#x27;,\n",
              "       &#x27;1&#x27;, &#x27;1&#x27;, &#x27;1&#x27;, &#x27;2&#x27;, &#x27;1&#x27;, &#x27;2&#x27;, &#x27;2&#x27;, &#x27;2&#x27;, &#x27;1&#x27;, &#x27;2&#x27;, &#x27;2&#x27;, &#x27;1&#x27;, &#x27;2&#x27;,\n",
              "       &#x27;2&#x27;, &#x27;2&#x27;, &#x27;1&#x27;, &#x27;2&#x27;, &#x27;2&#x27;, &#x27;1&#x27;, &#x27;1&#x27;, &#x27;1&#x27;, &#x27;1&#x27;, &#x27;1&#x27;, &#x27;1&#x27;, &#x27;1&#x27;, &#x27;2&#x27;,\n",
              "       &#x27;1&#x27;, &#x27;2&#x27;, &#x27;1&#x27;, &#x27;2&#x27;, &#x27;2&#x27;, &#x27;2&#x27;, &#x27;2&#x27;, &#x27;1&#x27;, &#x27;2&#x27;, &#x27;1&#x27;, &#x27;1&#x27;, &#x27;1&#x27;, &#x27;1&#x27;,\n",
              "       &#x27;1&#x27;, &#x27;2&#x27;, &#x27;2&#x27;, &#x27;2&#x27;, &#x27;2&#x27;, &#x27;2&#x27;, &#x27;2&#x27;, &#x27;2&#x27;, &#x27;1&#x27;, &#x27;1&#x27;, &#x27;1&#x27;, &#x27;1&#x27;, &#x27;1&#x27;,\n",
              "       &#x27;1&#x27;, &#x27;1&#x27;, &#x27;1&#x27;, &#x27;1&#x27;, &#x27;2&#x27;, &#x27;1&#x27;, &#x27;2&#x27;, &#x27;1&#x27;, &#x27;2&#x27;, &#x27;1&#x27;, &#x27;2&#x27;, &#x27;1&#x27;, &#x27;1&#x27;,\n",
              "       &#x27;2&#x27;, &#x27;1&#x27;, &#x27;1&#x27;, &#x27;1&#x27;, &#x27;1&#x27;, &#x27;2&#x27;, &#x27;1&#x27;, &#x27;2&#x27;, &#x27;1&#x27;, &#x27;1&#x27;, &#x27;1&#x27;, &#x27;1&#x27;, &#x27;2&#x27;,\n",
              "       &#x27;2&#x27;, &#x27;1&#x27;], dtype=object)</pre></div></li><li class='xr-var-item'><div class='xr-var-name'><span>trait</span></div><div class='xr-var-dims'>(sample)</div><div class='xr-var-dtype'>int64</div><div class='xr-var-preview xr-preview'>1 1 3 2 1 3 1 1 ... 1 2 1 1 1 1 2 2</div><input id='attrs-e58245a2-c4be-4d7a-b9df-387959fb4ae2' class='xr-var-attrs-in' type='checkbox' disabled><label for='attrs-e58245a2-c4be-4d7a-b9df-387959fb4ae2' title='Show/Hide attributes'><svg class='icon xr-icon-file-text2'><use xlink:href='#icon-file-text2'></use></svg></label><input id='data-60d91e46-e49c-4562-9087-55827dac4ee3' class='xr-var-data-in' type='checkbox'><label for='data-60d91e46-e49c-4562-9087-55827dac4ee3' title='Show/Hide data repr'><svg class='icon xr-icon-database'><use xlink:href='#icon-database'></use></svg></label><div class='xr-var-attrs'><dl class='xr-attrs'></dl></div><div class='xr-var-data'><pre>array([1, 1, 3, 2, 1, 3, 1, 1, 2, 2, 3, 1, 2, 1, 2, 2, 2, 2, 1, 2, 2, 2,\n",
              "       2, 1, 2, 1, 3, 2, 2, 2, 1, 1, 3, 3, 2, 1, 2, 3, 1, 1, 2, 2, 1, 3,\n",
              "       2, 1, 2, 2, 2, 3, 1, 1, 3, 1, 3, 3, 2, 1, 2, 1, 1, 3, 3, 1, 3, 3,\n",
              "       2, 1, 1, 2, 2, 2, 2, 1, 2, 1, 1, 3, 2, 1, 1, 2, 3, 2, 2, 3, 1, 2,\n",
              "       1, 3, 2, 2, 1, 1, 1, 1, 1, 3, 3, 2, 1, 1, 1, 1, 2, 1, 3, 2, 1, 1,\n",
              "       2, 1, 3, 2, 2, 1, 1, 2, 2, 2, 1, 2, 1, 3, 2, 1, 2, 3, 2, 3, 3, 3,\n",
              "       2, 2, 3, 3, 3, 1, 1, 3, 2, 1, 1, 2, 3, 3, 1, 3, 3, 3, 1, 2, 2, 3,\n",
              "       1, 1, 3, 2, 3, 2, 2, 2, 2, 2, 2, 1, 1, 1, 1, 1, 2, 3, 3, 2, 3, 1,\n",
              "       3, 2, 3, 1, 1, 2, 2, 1, 2, 3, 2, 2, 2, 2, 2, 2, 1, 1, 1, 3, 1, 1,\n",
              "       1, 2, 1, 1, 3, 3, 3, 2, 2, 1, 2, 1, 1, 1, 1, 1, 2, 1, 3, 1, 3, 3,\n",
              "       3, 3, 3, 3, 1, 2, 2, 2, 1, 2, 3, 2, 2, 1, 2, 3, 1, 3, 3, 3, 2, 2,\n",
              "       1, 1, 2, 3, 3, 2, 1, 2, 1, 1, 3, 2, 3, 2, 3, 2, 3, 2, 2, 2, 2, 1,\n",
              "       2, 1, 3, 2, 2, 3, 2, 2, 1, 1, 3, 2, 1, 2, 3, 2, 1, 3, 2, 3, 1, 1,\n",
              "       2, 3, 1, 3, 2, 1, 3, 2, 2, 3, 2, 2, 2, 1, 2, 3, 1, 1, 3, 2, 2, 2,\n",
              "       2, 2, 1, 1, 1, 3, 1, 1, 3, 2, 3, 1, 1, 1, 3, 1, 1, 1, 1, 1, 2, 2,\n",
              "       3, 2, 2, 2, 1, 3, 2, 3, 1, 2, 1, 2, 1, 3, 3, 1, 2, 2, 3, 1, 2, 2,\n",
              "       1, 2, 2, 3, 2, 3, 3, 3, 3, 3, 3, 3, 1, 2, 2, 2, 2, 2, 1, 1, 1, 3,\n",
              "       1, 2, 3, 2, 2, 3, 2, 1, 1, 3, 2, 1, 2, 2, 1, 2, 1, 2, 2, 2, 2, 2,\n",
              "       2, 2, 3, 3, 1, 3, 2, 1, 3, 1, 2, 2, 2, 2, 2, 2, 1, 1, 3, 2, 3, 1,\n",
              "       1, 1, 2, 2, 1, 2, 1, 2, 2, 1, 1, 2, 2, 1, 2, 3, 2, 2, 2, 2, 2, 3,\n",
              "       2, 3, 2, 2, 2, 1, 2, 2, 2, 1, 1, 2, 3, 1, 2, 2, 2, 2, 2, 2, 2, 2,\n",
              "       2, 2, 2, 3, 2, 3, 1, 3, 2, 2, 2, 2, 1, 2, 2, 2, 2, 2, 2, 2, 2, 1,\n",
              "       1, 2, 2, 2, 2, 2, 2, 2, 1, 2, 2, 2, 2, 2, 2, 1, 1, 2, 2, 2, 1, 1,\n",
              "       2, 3, 1, 2, 2, 2, 1, 1, 1, 2, 1, 1, 2, 1, 3, 2, 2, 3, 3, 1, 3, 2,\n",
              "       1, 1, 3, 2, 1, 3, 3, 1, 3, 2, 2, 1, 1, 1, 2, 3, 3, 3, 1, 1, 3, 1,\n",
              "       1, 2, 2, 2, 1, 2, 2, 1, 1, 1, 2, 2, 2, 2, 2, 2, 2, 2, 2, 2, 1, 1,\n",
              "       2, 2, 1, 1, 2, 2, 2, 2, 2, 1, 2, 3, 1, 3, 1, 3, 2, 1, 3, 2, 3, 1,\n",
              "       3, 1, 3, 3, 1, 3, 2, 3, 1, 1, 2, 3, 2, 3, 2, 3, 3, 1, 1, 3, 2, 1,\n",
              "       2, 3, 1, 1, 2, 2, 2, 3, 2, 2, 3, 2, 2, 2, 2, 2, 2, 2, 3, 3, 3, 2,\n",
              "       3, 2, 1, 1, 2, 1, 2, 2, 2, 3, 2, 1, 1, 2, 1, 2, 3, 2, 3, 1, 1, 3,\n",
              "       1, 2, 1, 2, 3, 1, 3, 1, 1, 1, 2, 1, 3, 3, 3, 2, 2, 2, 2, 2, 2, 2,\n",
              "       2, 2, 2, 2, 2, 1, 2, 2, 1, 2, 2, 3, 2, 2, 2, 2, 2, 2, 1, 1, 1, 1,\n",
              "       2, 2, 3, 1, 2, 2, 2, 3, 2, 1, 1, 2, 3, 2, 2, 3, 3, 2, 3, 3, 3, 1,\n",
              "       1, 2, 2, 2, 3, 1, 2, 1, 1, 3, 3, 2, 1, 3, 3, 3, 1, 2, 1, 1, 2, 1,\n",
              "       1, 1, 2, 2, 3, 3, 2, 3, 3, 2, 2, 2, 1, 1, 1, 1, 2, 3, 3, 2, 1, 3,\n",
              "       3, 2, 3, 2, 2, 2, 2, 2, 2, 2, 2, 2, 2, 2, 2, 2, 1, 2, 1, 1, 2, 3,\n",
              "       2, 1, 2, 1, 2, 2, 2, 2, 1, 2, 1, 1, 1, 1, 2, 2])</pre></div></li><li class='xr-var-item'><div class='xr-var-name'><span>chrom</span></div><div class='xr-var-dims'>(variant)</div><div class='xr-var-dtype'>object</div><div class='xr-var-preview xr-preview'>&#x27;0&#x27; &#x27;0&#x27; &#x27;0&#x27; &#x27;0&#x27; ... &#x27;26&#x27; &#x27;26&#x27; &#x27;26&#x27;</div><input id='attrs-22cf2274-224f-4945-8588-eea2a8e94f17' class='xr-var-attrs-in' type='checkbox' disabled><label for='attrs-22cf2274-224f-4945-8588-eea2a8e94f17' title='Show/Hide attributes'><svg class='icon xr-icon-file-text2'><use xlink:href='#icon-file-text2'></use></svg></label><input id='data-dc6e9b98-0de5-4e1a-b3c7-b15d03ce3796' class='xr-var-data-in' type='checkbox'><label for='data-dc6e9b98-0de5-4e1a-b3c7-b15d03ce3796' title='Show/Hide data repr'><svg class='icon xr-icon-database'><use xlink:href='#icon-database'></use></svg></label><div class='xr-var-attrs'><dl class='xr-attrs'></dl></div><div class='xr-var-data'><pre>array([&#x27;0&#x27;, &#x27;0&#x27;, &#x27;0&#x27;, ..., &#x27;26&#x27;, &#x27;26&#x27;, &#x27;26&#x27;], dtype=object)</pre></div></li><li class='xr-var-item'><div class='xr-var-name'><span>snp</span></div><div class='xr-var-dims'>(variant)</div><div class='xr-var-dtype'>object</div><div class='xr-var-preview xr-preview'>&#x27;rs35144699&#x27; ... &#x27;MitoG16393A&#x27;</div><input id='attrs-1de726dd-52c0-4d25-a273-f735b263f24a' class='xr-var-attrs-in' type='checkbox' disabled><label for='attrs-1de726dd-52c0-4d25-a273-f735b263f24a' title='Show/Hide attributes'><svg class='icon xr-icon-file-text2'><use xlink:href='#icon-file-text2'></use></svg></label><input id='data-e68efb41-d2b5-44f5-a75d-45d10882cab0' class='xr-var-data-in' type='checkbox'><label for='data-e68efb41-d2b5-44f5-a75d-45d10882cab0' title='Show/Hide data repr'><svg class='icon xr-icon-database'><use xlink:href='#icon-database'></use></svg></label><div class='xr-var-attrs'><dl class='xr-attrs'></dl></div><div class='xr-var-data'><pre>array([&#x27;rs35144699&#x27;, &#x27;rs10085382&#x27;, &#x27;rs10155688&#x27;, ..., &#x27;MitoC16272T&#x27;,\n",
              "       &#x27;MitoC16329T&#x27;, &#x27;MitoG16393A&#x27;], dtype=object)</pre></div></li><li class='xr-var-item'><div class='xr-var-name'><span>cm</span></div><div class='xr-var-dims'>(variant)</div><div class='xr-var-dtype'>float64</div><div class='xr-var-preview xr-preview'>0.0 0.0 0.0 ... 100.0 100.0 100.0</div><input id='attrs-548c244a-81c3-4b75-88a3-35feb02a8961' class='xr-var-attrs-in' type='checkbox' disabled><label for='attrs-548c244a-81c3-4b75-88a3-35feb02a8961' title='Show/Hide attributes'><svg class='icon xr-icon-file-text2'><use xlink:href='#icon-file-text2'></use></svg></label><input id='data-195eb2ff-3c52-4173-8691-c42886faae09' class='xr-var-data-in' type='checkbox'><label for='data-195eb2ff-3c52-4173-8691-c42886faae09' title='Show/Hide data repr'><svg class='icon xr-icon-database'><use xlink:href='#icon-database'></use></svg></label><div class='xr-var-attrs'><dl class='xr-attrs'></dl></div><div class='xr-var-data'><pre>array([  0.,   0.,   0., ..., 100., 100., 100.])</pre></div></li><li class='xr-var-item'><div class='xr-var-name'><span>pos</span></div><div class='xr-var-dims'>(variant)</div><div class='xr-var-dtype'>int32</div><div class='xr-var-preview xr-preview'>0 0 0 0 ... 16052 16272 16329 16393</div><input id='attrs-cb0b11e3-371a-4f30-9701-4b8f59368651' class='xr-var-attrs-in' type='checkbox' disabled><label for='attrs-cb0b11e3-371a-4f30-9701-4b8f59368651' title='Show/Hide attributes'><svg class='icon xr-icon-file-text2'><use xlink:href='#icon-file-text2'></use></svg></label><input id='data-e2496f27-5f73-4ccb-8178-745e7ce48aeb' class='xr-var-data-in' type='checkbox'><label for='data-e2496f27-5f73-4ccb-8178-745e7ce48aeb' title='Show/Hide data repr'><svg class='icon xr-icon-database'><use xlink:href='#icon-database'></use></svg></label><div class='xr-var-attrs'><dl class='xr-attrs'></dl></div><div class='xr-var-data'><pre>array([    0,     0,     0, ..., 16272, 16329, 16393], dtype=int32)</pre></div></li><li class='xr-var-item'><div class='xr-var-name'><span>a0</span></div><div class='xr-var-dims'>(variant)</div><div class='xr-var-dtype'>object</div><div class='xr-var-preview xr-preview'>&#x27;T&#x27; &#x27;C&#x27; &#x27;A&#x27; &#x27;0&#x27; ... &#x27;G&#x27; &#x27;T&#x27; &#x27;T&#x27; &#x27;A&#x27;</div><input id='attrs-97f32aad-bfb7-4a1b-98ce-3924daea4be7' class='xr-var-attrs-in' type='checkbox' disabled><label for='attrs-97f32aad-bfb7-4a1b-98ce-3924daea4be7' title='Show/Hide attributes'><svg class='icon xr-icon-file-text2'><use xlink:href='#icon-file-text2'></use></svg></label><input id='data-cf3fb42f-3d19-4eb7-a6e0-0a7c86cd1796' class='xr-var-data-in' type='checkbox'><label for='data-cf3fb42f-3d19-4eb7-a6e0-0a7c86cd1796' title='Show/Hide data repr'><svg class='icon xr-icon-database'><use xlink:href='#icon-database'></use></svg></label><div class='xr-var-attrs'><dl class='xr-attrs'></dl></div><div class='xr-var-data'><pre>array([&#x27;T&#x27;, &#x27;C&#x27;, &#x27;A&#x27;, ..., &#x27;T&#x27;, &#x27;T&#x27;, &#x27;A&#x27;], dtype=object)</pre></div></li><li class='xr-var-item'><div class='xr-var-name'><span>a1</span></div><div class='xr-var-dims'>(variant)</div><div class='xr-var-dtype'>object</div><div class='xr-var-preview xr-preview'>&#x27;A&#x27; &#x27;T&#x27; &#x27;G&#x27; &#x27;G&#x27; ... &#x27;A&#x27; &#x27;C&#x27; &#x27;C&#x27; &#x27;G&#x27;</div><input id='attrs-758e4a87-00d9-46a9-a5b5-7c602e0dbd7c' class='xr-var-attrs-in' type='checkbox' disabled><label for='attrs-758e4a87-00d9-46a9-a5b5-7c602e0dbd7c' title='Show/Hide attributes'><svg class='icon xr-icon-file-text2'><use xlink:href='#icon-file-text2'></use></svg></label><input id='data-3d8f4926-2279-43f5-9a63-ad9aa34a6680' class='xr-var-data-in' type='checkbox'><label for='data-3d8f4926-2279-43f5-9a63-ad9aa34a6680' title='Show/Hide data repr'><svg class='icon xr-icon-database'><use xlink:href='#icon-database'></use></svg></label><div class='xr-var-attrs'><dl class='xr-attrs'></dl></div><div class='xr-var-data'><pre>array([&#x27;A&#x27;, &#x27;T&#x27;, &#x27;G&#x27;, ..., &#x27;C&#x27;, &#x27;C&#x27;, &#x27;G&#x27;], dtype=object)</pre></div></li></ul></div></li><li class='xr-section-item'><input id='section-f4afa56a-de35-4f7c-80dc-60662e95ae1d' class='xr-section-summary-in' type='checkbox'  ><label for='section-f4afa56a-de35-4f7c-80dc-60662e95ae1d' class='xr-section-summary' >Indexes: <span>(2)</span></label><div class='xr-section-inline-details'></div><div class='xr-section-details'><ul class='xr-var-list'><li class='xr-var-item'><div class='xr-index-name'><div>sample</div></div><div class='xr-index-preview'>PandasIndex</div><div></div><input id='index-d55ad1a6-2d9c-4bc0-97ec-69c664baaaff' class='xr-index-data-in' type='checkbox'/><label for='index-d55ad1a6-2d9c-4bc0-97ec-69c664baaaff' title='Show/Hide index repr'><svg class='icon xr-icon-database'><use xlink:href='#icon-database'></use></svg></label><div class='xr-index-data'><pre>PandasIndex(Index([&#x27;002_S_0413&#x27;, &#x27;002_S_0685&#x27;, &#x27;002_S_0729&#x27;, &#x27;002_S_1155&#x27;, &#x27;002_S_1261&#x27;,\n",
              "       &#x27;002_S_1268&#x27;, &#x27;002_S_1280&#x27;, &#x27;002_S_2010&#x27;, &#x27;002_S_2043&#x27;, &#x27;002_S_2073&#x27;,\n",
              "       ...\n",
              "       &#x27;941_S_2060&#x27;, &#x27;941_S_4036&#x27;, &#x27;941_S_4100&#x27;, &#x27;941_S_4187&#x27;, &#x27;941_S_4255&#x27;,\n",
              "       &#x27;941_S_4292&#x27;, &#x27;941_S_4365&#x27;, &#x27;941_S_4376&#x27;, &#x27;941_S_4377&#x27;, &#x27;941_S_4420&#x27;],\n",
              "      dtype=&#x27;object&#x27;, name=&#x27;sample&#x27;, length=808))</pre></div></li><li class='xr-var-item'><div class='xr-index-name'><div>variant</div></div><div class='xr-index-preview'>PandasIndex</div><div></div><input id='index-2be4494d-0b43-4677-bbae-a27be2cce85d' class='xr-index-data-in' type='checkbox'/><label for='index-2be4494d-0b43-4677-bbae-a27be2cce85d' title='Show/Hide index repr'><svg class='icon xr-icon-database'><use xlink:href='#icon-database'></use></svg></label><div class='xr-index-data'><pre>PandasIndex(Index([&#x27;variant3&#x27;, &#x27;variant12&#x27;, &#x27;variant15&#x27;, &#x27;variant17&#x27;, &#x27;variant18&#x27;,\n",
              "       &#x27;variant19&#x27;, &#x27;variant20&#x27;, &#x27;variant21&#x27;, &#x27;variant26&#x27;, &#x27;variant27&#x27;,\n",
              "       ...\n",
              "       &#x27;variant2379818&#x27;, &#x27;variant2379820&#x27;, &#x27;variant2379821&#x27;, &#x27;variant2379825&#x27;,\n",
              "       &#x27;variant2379826&#x27;, &#x27;variant2379828&#x27;, &#x27;variant2379829&#x27;, &#x27;variant2379842&#x27;,\n",
              "       &#x27;variant2379849&#x27;, &#x27;variant2379852&#x27;],\n",
              "      dtype=&#x27;object&#x27;, name=&#x27;variant&#x27;, length=1509435))</pre></div></li></ul></div></li><li class='xr-section-item'><input id='section-bc4ebb9f-f2aa-4471-8c2c-b48a84113b36' class='xr-section-summary-in' type='checkbox' disabled ><label for='section-bc4ebb9f-f2aa-4471-8c2c-b48a84113b36' class='xr-section-summary'  title='Expand/collapse section'>Attributes: <span>(0)</span></label><div class='xr-section-inline-details'></div><div class='xr-section-details'><dl class='xr-attrs'></dl></div></li></ul></div></div>"
            ]
          },
          "metadata": {},
          "execution_count": 34
        }
      ]
    },
    {
      "cell_type": "markdown",
      "source": [
        "## Feature Selection With MRMR algorithm"
      ],
      "metadata": {
        "id": "8EY6x1vz26XT"
      }
    },
    {
      "cell_type": "code",
      "source": [
        "# selection of features via minimum redundancy maximum relavence.\n",
        "def mrmr_feature_selection(features: pd.DataFrame, labels: pd.Series, n: int) -> np.array:\n",
        "  # n is the number of parts the feature dataframe is spliced into before doing\n",
        "  # performing mrmr algorithm on each part.\n",
        "\n",
        "  q = (features.shape[1]//n)\n",
        "  vars = list()\n",
        "  i = 0\n",
        "\n",
        "  while i < (n-1):\n",
        "    a = features.iloc[:,i*q:(i+1)*q]\n",
        "    temp = mrmr.mrmr_classif(X=a, y=labels, K=10)\n",
        "    vars.append(temp)\n",
        "    i+=1\n",
        "\n",
        "  i+=1\n",
        "  a = features.iloc[:, i*q:features.shape[1]] # to make sure all features in the data set are included\n",
        "  temp = mrmr.mrmr_classif(X=a, y=labels, K=10)\n",
        "  vars.append(temp)\n",
        "  vars = np.array(vars)\n",
        "  vars = vars.flatten()\n",
        "\n",
        "  return vars # k*n = the total number of features selected.\n"
      ],
      "metadata": {
        "id": "cRIwCEIE_xig"
      },
      "execution_count": null,
      "outputs": []
    },
    {
      "cell_type": "code",
      "source": [
        "df = data0.to_pandas()\n",
        "df = df.rename_axis(index=None, columns=None)\n",
        "df = df.reset_index(drop=True)\n",
        "\n",
        "labels = data0.trait.to_pandas()\n",
        "labels = labels.rename_axis(index=None)\n",
        "labels = labels.reset_index(drop=True)\n"
      ],
      "metadata": {
        "id": "PLnA2wZ6Fhme"
      },
      "execution_count": null,
      "outputs": []
    },
    {
      "cell_type": "code",
      "source": [
        "selected_features = mrmr_feature_selection(features=df, labels=labels, n=50)"
      ],
      "metadata": {
        "id": "teURs9qPywZG"
      },
      "execution_count": null,
      "outputs": []
    },
    {
      "cell_type": "code",
      "source": [
        "data1 = data0.sel(variant=selected_features)\n",
        "mrmr_df = data1.to_pandas()\n",
        "\n",
        "mrmr_df = mrmr_df.rename_axis(index=None, columns=None)\n",
        "mrmr_df = mrmr_df.reset_index(drop=True)"
      ],
      "metadata": {
        "id": "T1Cw5euDEn3k"
      },
      "execution_count": null,
      "outputs": []
    },
    {
      "cell_type": "code",
      "source": [
        "# saving the features to a csv so that I will not need to open the full dataset again.\n",
        "#mrmr_df.to_csv('/content/drive/MyDrive/ADV_DS/mrmr_features.csv')"
      ],
      "metadata": {
        "id": "MFuf6TY_V1pX"
      },
      "execution_count": null,
      "outputs": []
    },
    {
      "cell_type": "markdown",
      "source": [
        "<hr>\n",
        "<br>\n"
      ],
      "metadata": {
        "id": "EVEYp6qXV5cW"
      }
    },
    {
      "cell_type": "markdown",
      "source": [
        "# Part 2: Data Exploration"
      ],
      "metadata": {
        "id": "o7GVjdEtV6yz"
      }
    },
    {
      "cell_type": "markdown",
      "source": [
        "## Data Exploration"
      ],
      "metadata": {
        "id": "Nun-0Uqu8Y4U"
      }
    },
    {
      "cell_type": "code",
      "source": [
        "#!pip install pandas_plink\n",
        "!pip install mrmr-selection"
      ],
      "metadata": {
        "id": "anJkQNEOVezY",
        "colab": {
          "base_uri": "https://localhost:8080/"
        },
        "outputId": "723d8fa7-e17c-49f1-a740-58c22a45b097"
      },
      "execution_count": null,
      "outputs": [
        {
          "output_type": "stream",
          "name": "stdout",
          "text": [
            "Collecting mrmr-selection\n",
            "  Downloading mrmr_selection-0.2.8-py3-none-any.whl (15 kB)\n",
            "Collecting category-encoders (from mrmr-selection)\n",
            "  Downloading category_encoders-2.6.3-py2.py3-none-any.whl (81 kB)\n",
            "\u001b[?25l     \u001b[90m━━━━━━━━━━━━━━━━━━━━━━━━━━━━━━━━━━━━━━━━\u001b[0m \u001b[32m0.0/81.9 kB\u001b[0m \u001b[31m?\u001b[0m eta \u001b[36m-:--:--\u001b[0m\r\u001b[2K     \u001b[90m━━━━━━━━━━━━━━━━━━━━━━━━━━━━━━━━━━━━━━━━\u001b[0m \u001b[32m81.9/81.9 kB\u001b[0m \u001b[31m2.8 MB/s\u001b[0m eta \u001b[36m0:00:00\u001b[0m\n",
            "\u001b[?25hRequirement already satisfied: jinja2 in /usr/local/lib/python3.10/dist-packages (from mrmr-selection) (3.1.3)\n",
            "Requirement already satisfied: tqdm in /usr/local/lib/python3.10/dist-packages (from mrmr-selection) (4.66.2)\n",
            "Requirement already satisfied: joblib in /usr/local/lib/python3.10/dist-packages (from mrmr-selection) (1.4.0)\n",
            "Requirement already satisfied: pandas>=1.0.3 in /usr/local/lib/python3.10/dist-packages (from mrmr-selection) (2.0.3)\n",
            "Requirement already satisfied: numpy>=1.18.1 in /usr/local/lib/python3.10/dist-packages (from mrmr-selection) (1.25.2)\n",
            "Requirement already satisfied: scikit-learn in /usr/local/lib/python3.10/dist-packages (from mrmr-selection) (1.2.2)\n",
            "Requirement already satisfied: scipy in /usr/local/lib/python3.10/dist-packages (from mrmr-selection) (1.11.4)\n",
            "Requirement already satisfied: polars>=0.12.5 in /usr/local/lib/python3.10/dist-packages (from mrmr-selection) (0.20.2)\n",
            "Requirement already satisfied: python-dateutil>=2.8.2 in /usr/local/lib/python3.10/dist-packages (from pandas>=1.0.3->mrmr-selection) (2.8.2)\n",
            "Requirement already satisfied: pytz>=2020.1 in /usr/local/lib/python3.10/dist-packages (from pandas>=1.0.3->mrmr-selection) (2023.4)\n",
            "Requirement already satisfied: tzdata>=2022.1 in /usr/local/lib/python3.10/dist-packages (from pandas>=1.0.3->mrmr-selection) (2024.1)\n",
            "Requirement already satisfied: statsmodels>=0.9.0 in /usr/local/lib/python3.10/dist-packages (from category-encoders->mrmr-selection) (0.14.2)\n",
            "Requirement already satisfied: patsy>=0.5.1 in /usr/local/lib/python3.10/dist-packages (from category-encoders->mrmr-selection) (0.5.6)\n",
            "Requirement already satisfied: threadpoolctl>=2.0.0 in /usr/local/lib/python3.10/dist-packages (from scikit-learn->mrmr-selection) (3.4.0)\n",
            "Requirement already satisfied: MarkupSafe>=2.0 in /usr/local/lib/python3.10/dist-packages (from jinja2->mrmr-selection) (2.1.5)\n",
            "Requirement already satisfied: six in /usr/local/lib/python3.10/dist-packages (from patsy>=0.5.1->category-encoders->mrmr-selection) (1.16.0)\n",
            "Requirement already satisfied: packaging>=21.3 in /usr/local/lib/python3.10/dist-packages (from statsmodels>=0.9.0->category-encoders->mrmr-selection) (24.0)\n",
            "Installing collected packages: category-encoders, mrmr-selection\n",
            "Successfully installed category-encoders-2.6.3 mrmr-selection-0.2.8\n"
          ]
        }
      ]
    },
    {
      "cell_type": "code",
      "source": [
        "\n",
        "# For data preprocessing\n",
        "import pandas as pd\n",
        "import numpy as np\n",
        "#from pandas_plink import read_plink1_bin # for reading in PLINK binary file set\n",
        "import mrmr # for feature selection\n",
        "\n",
        "# For data Visualization\n",
        "import matplotlib.pyplot as plt\n",
        "import seaborn as sns\n",
        "from matplotlib.pyplot import figure\n",
        "\n",
        "# for model building\n",
        "import tensorflow as tf\n",
        "import keras\n",
        "\n",
        "from sklearn.model_selection import train_test_split\n",
        "from sklearn.svm import SVC"
      ],
      "metadata": {
        "id": "06R5JZ5h6C24"
      },
      "execution_count": null,
      "outputs": []
    },
    {
      "cell_type": "code",
      "source": [
        "from google.colab import drive\n",
        "drive.mount('/content/drive', force_remount=True)\n"
      ],
      "metadata": {
        "colab": {
          "base_uri": "https://localhost:8080/"
        },
        "id": "7liCqrlYVNw3",
        "outputId": "8f842bf6-a2e6-4a7c-e49b-4220f85d262f"
      },
      "execution_count": null,
      "outputs": [
        {
          "output_type": "stream",
          "name": "stdout",
          "text": [
            "Mounted at /content/drive\n"
          ]
        }
      ]
    },
    {
      "cell_type": "code",
      "source": [
        "# saved to folder so i never have to sit through that again\n",
        "path_mrmr_features = '/content/drive/MyDrive/ADV_DS/mrmr_features.csv'\n",
        "fPATH_INFO= '/content/drive/MyDrive/ADV_DS/ADNI_GENETIC_DATA/ADNI_Omni25M/ADNI_Deletions_Radke/ADNI_IDinfo.txt'\n"
      ],
      "metadata": {
        "id": "xAsTbdh9xmZ8"
      },
      "execution_count": null,
      "outputs": []
    },
    {
      "cell_type": "code",
      "source": [
        "df = pd.read_csv(path_mrmr_features, index_col=False)\n",
        "df.drop(columns=['Unnamed: 0'], inplace=True)"
      ],
      "metadata": {
        "id": "yG0SiDA18_h5"
      },
      "execution_count": null,
      "outputs": []
    },
    {
      "cell_type": "code",
      "source": [
        "DF_idInfo = pd.read_csv(fPATH_INFO, delimiter='\\t', usecols=['ADNI_PTID', 'pheno'])\n",
        "labels = DF_idInfo['pheno']"
      ],
      "metadata": {
        "id": "O8xVFS7yVj5K"
      },
      "execution_count": null,
      "outputs": []
    },
    {
      "cell_type": "code",
      "source": [
        "selected_features, relevance_scores_, redundancy_matrix = mrmr.mrmr_classif(X=df, y=labels, return_scores=True, K=50)"
      ],
      "metadata": {
        "colab": {
          "base_uri": "https://localhost:8080/"
        },
        "id": "w_2yh2NbXN4R",
        "outputId": "0a9ddcd5-8ee1-4d04-eace-ae170460a58d"
      },
      "execution_count": null,
      "outputs": [
        {
          "output_type": "stream",
          "name": "stderr",
          "text": [
            "100%|██████████| 50/50 [00:10<00:00,  4.83it/s]\n"
          ]
        }
      ]
    },
    {
      "cell_type": "code",
      "source": [
        "sns.heatmap(redundancy_matrix[selected_features].loc[selected_features], cmap='coolwarm')"
      ],
      "metadata": {
        "colab": {
          "base_uri": "https://localhost:8080/",
          "height": 548
        },
        "id": "SIDLI2sdX72n",
        "outputId": "27c9cd1b-04ef-404b-f661-5d873ad33a9d"
      },
      "execution_count": null,
      "outputs": [
        {
          "output_type": "execute_result",
          "data": {
            "text/plain": [
              "<Axes: >"
            ]
          },
          "metadata": {},
          "execution_count": 11
        },
        {
          "output_type": "display_data",
          "data": {
            "text/plain": [
              "<Figure size 640x480 with 2 Axes>"
            ],
            "image/png": "[encoded data removed]"
          },
          "metadata": {}
        }
      ]
    },
    {
      "cell_type": "code",
      "source": [
        "rel_array = np.asarray(relevance_scores_[selected_features])"
      ],
      "metadata": {
        "id": "FeOKXtERZlgg"
      },
      "execution_count": null,
      "outputs": []
    },
    {
      "cell_type": "code",
      "source": [
        "# get the interesting half of the heatmap\n",
        "lower_diagonal = np.tril(redundancy_matrix[selected_features].loc[selected_features])\n",
        "flattened_diagonal = lower_diagonal.flatten()[lower_diagonal.flatten() != 0]\n",
        "red_array = flattened_diagonal"
      ],
      "metadata": {
        "id": "21oEe9P2ZDf6"
      },
      "execution_count": null,
      "outputs": []
    },
    {
      "cell_type": "code",
      "source": [
        "from sklearn.preprocessing import StandardScaler\n",
        "scaler = StandardScaler()\n",
        "rel_scaled = scaler.fit_transform(rel_array.reshape(-1, 1)).flatten()\n",
        "red_scaled = scaler.fit_transform(red_array.reshape(-1,1)).flatten()\n",
        "\n",
        "\n",
        "plt.figure(figsize=(10, 6))\n",
        "sns.kdeplot(data=rel_scaled, shade=True, color='blue', alpha=0.2, label='Relevance Scores')\n",
        "plt.xlabel('')\n",
        "plt.ylabel('Density')\n",
        "plt.title('Scaled Density Plots of Correlation Coeff. and Relevance Scores')\n",
        "sns.kdeplot(data=red_scaled, shade=True, color='red', label='Correlation Coefficients')\n",
        "plt.tight_layout()\n",
        "plt.legend()\n",
        "plt.show()"
      ],
      "metadata": {
        "colab": {
          "base_uri": "https://localhost:8080/",
          "height": 607
        },
        "id": "-Hiw_crmvsMF",
        "outputId": "18c0ee31-a222-49f7-d233-8aecac136cc4"
      },
      "execution_count": null,
      "outputs": [
        {
          "output_type": "display_data",
          "data": {
            "text/plain": [
              "<Figure size 1000x600 with 1 Axes>"
            ],
            "image/png": "[encoded data removed]"
          },
          "metadata": {}
        }
      ]
    },
    {
      "cell_type": "markdown",
      "source": [
        "<hr>\n",
        "<br>\n"
      ],
      "metadata": {
        "id": "z2gxvsAVELn0"
      }
    },
    {
      "cell_type": "markdown",
      "source": [
        "# Part 3: Modeling"
      ],
      "metadata": {
        "id": "Y6SOV0WmABDa"
      }
    },
    {
      "cell_type": "markdown",
      "source": [
        "## Models With set of 50 mRMR features\n",
        "\n",
        "\n",
        "\n"
      ],
      "metadata": {
        "id": "U_NOUFji-J3c"
      }
    },
    {
      "cell_type": "code",
      "source": [
        "xtrain, xtest, ytrain, ytest = train_test_split(df[selected_features], labels, test_size=0.2, random_state=42)"
      ],
      "metadata": {
        "id": "vdvipbNP6hg-",
        "colab": {
          "base_uri": "https://localhost:8080/",
          "height": 144
        },
        "outputId": "4576e9bb-9699-4b1d-fdf6-7fb6a80dcb39"
      },
      "execution_count": null,
      "outputs": [
        {
          "output_type": "error",
          "ename": "NameError",
          "evalue": "name 'selected_features' is not defined",
          "traceback": [
            "\u001b[0;31m---------------------------------------------------------------------------\u001b[0m",
            "\u001b[0;31mNameError\u001b[0m                                 Traceback (most recent call last)",
            "\u001b[0;32m<ipython-input-245-e8856ac40289>\u001b[0m in \u001b[0;36m<cell line: 1>\u001b[0;34m()\u001b[0m\n\u001b[0;32m----> 1\u001b[0;31m \u001b[0mxtrain\u001b[0m\u001b[0;34m,\u001b[0m \u001b[0mxtest\u001b[0m\u001b[0;34m,\u001b[0m \u001b[0mytrain\u001b[0m\u001b[0;34m,\u001b[0m \u001b[0mytest\u001b[0m \u001b[0;34m=\u001b[0m \u001b[0mtrain_test_split\u001b[0m\u001b[0;34m(\u001b[0m\u001b[0mdf\u001b[0m\u001b[0;34m[\u001b[0m\u001b[0mselected_features\u001b[0m\u001b[0;34m]\u001b[0m\u001b[0;34m,\u001b[0m \u001b[0mlabels\u001b[0m\u001b[0;34m,\u001b[0m \u001b[0mtest_size\u001b[0m\u001b[0;34m=\u001b[0m\u001b[0;36m0.2\u001b[0m\u001b[0;34m,\u001b[0m \u001b[0mrandom_state\u001b[0m\u001b[0;34m=\u001b[0m\u001b[0;36m42\u001b[0m\u001b[0;34m)\u001b[0m\u001b[0;34m\u001b[0m\u001b[0;34m\u001b[0m\u001b[0m\n\u001b[0m",
            "\u001b[0;31mNameError\u001b[0m: name 'selected_features' is not defined"
          ]
        }
      ]
    },
    {
      "cell_type": "markdown",
      "source": [
        "### SVM Classification"
      ],
      "metadata": {
        "id": "FhATSZK1vj3K"
      }
    },
    {
      "cell_type": "code",
      "source": [
        "# Define parameter grid\n",
        "from sklearn.model_selection import RandomizedSearchCV, RepeatedKFold, GridSearchCV\n",
        "from sklearn.metrics import classification_report\n",
        "\n",
        "param_grid = {\n",
        "  'C': [.001, 0.1, 1, 10, 100],\n",
        "  'gamma': [1, 0.1, 0.01, 0.001, 0.0001],\n",
        "  'kernel': ['rbf', 'poly', 'linear', 'sigmoid']\n",
        "}\n",
        "\n",
        "\n",
        "#define Grid searchCV for hyperparameter fine tuning\n",
        "search = GridSearchCV(SVC(), param_grid, scoring='accuracy', n_jobs=-1, cv=2)# Perform random search\n",
        "\n",
        "result = search.fit(xtrain, ytrain)\n",
        "# Get best parameters and best accuracy\n",
        "best_params = result.best_params_\n",
        "best_accuracy = result.best_score_\n",
        "\n",
        "# summarize result\n",
        "print('Best Score: %s' % result.best_score_)\n",
        "print('Best Hyperparameters: %s' % result.best_params_)"
      ],
      "metadata": {
        "id": "lhGgfVYx6wKQ",
        "colab": {
          "base_uri": "https://localhost:8080/"
        },
        "outputId": "8574df04-ab73-475e-c6d7-72b3a95ec18d"
      },
      "execution_count": null,
      "outputs": [
        {
          "output_type": "stream",
          "name": "stdout",
          "text": [
            "Best Score: 0.5046439628482973\n",
            "Best Hyperparameters: {'C': 0.001, 'gamma': 0.1, 'kernel': 'poly'}\n"
          ]
        }
      ]
    },
    {
      "cell_type": "code",
      "source": [
        "model_opt = result.best_estimator_\n",
        "model_opt.fit(xtrain, ytrain)"
      ],
      "metadata": {
        "colab": {
          "base_uri": "https://localhost:8080/",
          "height": 75
        },
        "id": "Fa9QfqY8zh1F",
        "outputId": "a6a9ee73-ebba-4136-985a-9572f1cecdbe"
      },
      "execution_count": null,
      "outputs": [
        {
          "output_type": "execute_result",
          "data": {
            "text/plain": [
              "SVC(C=0.001, gamma=0.1, kernel='poly')"
            ],
            "text/html": [
              "<style>#sk-container-id-1 {color: black;background-color: white;}#sk-container-id-1 pre{padding: 0;}#sk-container-id-1 div.sk-toggleable {background-color: white;}#sk-container-id-1 label.sk-toggleable__label {cursor: pointer;display: block;width: 100%;margin-bottom: 0;padding: 0.3em;box-sizing: border-box;text-align: center;}#sk-container-id-1 label.sk-toggleable__label-arrow:before {content: \"▸\";float: left;margin-right: 0.25em;color: #696969;}#sk-container-id-1 label.sk-toggleable__label-arrow:hover:before {color: black;}#sk-container-id-1 div.sk-estimator:hover label.sk-toggleable__label-arrow:before {color: black;}#sk-container-id-1 div.sk-toggleable__content {max-height: 0;max-width: 0;overflow: hidden;text-align: left;background-color: #f0f8ff;}#sk-container-id-1 div.sk-toggleable__content pre {margin: 0.2em;color: black;border-radius: 0.25em;background-color: #f0f8ff;}#sk-container-id-1 input.sk-toggleable__control:checked~div.sk-toggleable__content {max-height: 200px;max-width: 100%;overflow: auto;}#sk-container-id-1 input.sk-toggleable__control:checked~label.sk-toggleable__label-arrow:before {content: \"▾\";}#sk-container-id-1 div.sk-estimator input.sk-toggleable__control:checked~label.sk-toggleable__label {background-color: #d4ebff;}#sk-container-id-1 div.sk-label input.sk-toggleable__control:checked~label.sk-toggleable__label {background-color: #d4ebff;}#sk-container-id-1 input.sk-hidden--visually {border: 0;clip: rect(1px 1px 1px 1px);clip: rect(1px, 1px, 1px, 1px);height: 1px;margin: -1px;overflow: hidden;padding: 0;position: absolute;width: 1px;}#sk-container-id-1 div.sk-estimator {font-family: monospace;background-color: #f0f8ff;border: 1px dotted black;border-radius: 0.25em;box-sizing: border-box;margin-bottom: 0.5em;}#sk-container-id-1 div.sk-estimator:hover {background-color: #d4ebff;}#sk-container-id-1 div.sk-parallel-item::after {content: \"\";width: 100%;border-bottom: 1px solid gray;flex-grow: 1;}#sk-container-id-1 div.sk-label:hover label.sk-toggleable__label {background-color: #d4ebff;}#sk-container-id-1 div.sk-serial::before {content: \"\";position: absolute;border-left: 1px solid gray;box-sizing: border-box;top: 0;bottom: 0;left: 50%;z-index: 0;}#sk-container-id-1 div.sk-serial {display: flex;flex-direction: column;align-items: center;background-color: white;padding-right: 0.2em;padding-left: 0.2em;position: relative;}#sk-container-id-1 div.sk-item {position: relative;z-index: 1;}#sk-container-id-1 div.sk-parallel {display: flex;align-items: stretch;justify-content: center;background-color: white;position: relative;}#sk-container-id-1 div.sk-item::before, #sk-container-id-1 div.sk-parallel-item::before {content: \"\";position: absolute;border-left: 1px solid gray;box-sizing: border-box;top: 0;bottom: 0;left: 50%;z-index: -1;}#sk-container-id-1 div.sk-parallel-item {display: flex;flex-direction: column;z-index: 1;position: relative;background-color: white;}#sk-container-id-1 div.sk-parallel-item:first-child::after {align-self: flex-end;width: 50%;}#sk-container-id-1 div.sk-parallel-item:last-child::after {align-self: flex-start;width: 50%;}#sk-container-id-1 div.sk-parallel-item:only-child::after {width: 0;}#sk-container-id-1 div.sk-dashed-wrapped {border: 1px dashed gray;margin: 0 0.4em 0.5em 0.4em;box-sizing: border-box;padding-bottom: 0.4em;background-color: white;}#sk-container-id-1 div.sk-label label {font-family: monospace;font-weight: bold;display: inline-block;line-height: 1.2em;}#sk-container-id-1 div.sk-label-container {text-align: center;}#sk-container-id-1 div.sk-container {/* jupyter's `normalize.less` sets `[hidden] { display: none; }` but bootstrap.min.css set `[hidden] { display: none !important; }` so we also need the `!important` here to be able to override the default hidden behavior on the sphinx rendered scikit-learn.org. See: https://github.com/scikit-learn/scikit-learn/issues/21755 */display: inline-block !important;position: relative;}#sk-container-id-1 div.sk-text-repr-fallback {display: none;}</style><div id=\"sk-container-id-1\" class=\"sk-top-container\"><div class=\"sk-text-repr-fallback\"><pre>SVC(C=0.001, gamma=0.1, kernel=&#x27;poly&#x27;)</pre><b>In a Jupyter environment, please rerun this cell to show the HTML representation or trust the notebook. <br />On GitHub, the HTML representation is unable to render, please try loading this page with nbviewer.org.</b></div><div class=\"sk-container\" hidden><div class=\"sk-item\"><div class=\"sk-estimator sk-toggleable\"><input class=\"sk-toggleable__control sk-hidden--visually\" id=\"sk-estimator-id-1\" type=\"checkbox\" checked><label for=\"sk-estimator-id-1\" class=\"sk-toggleable__label sk-toggleable__label-arrow\">SVC</label><div class=\"sk-toggleable__content\"><pre>SVC(C=0.001, gamma=0.1, kernel=&#x27;poly&#x27;)</pre></div></div></div></div></div>"
            ]
          },
          "metadata": {},
          "execution_count": 19
        }
      ]
    },
    {
      "cell_type": "code",
      "source": [
        "# SVM Model Results\n",
        "y_pred = model_opt.predict(xtest)"
      ],
      "metadata": {
        "id": "hvS1Ihwvzj6l"
      },
      "execution_count": null,
      "outputs": []
    },
    {
      "cell_type": "code",
      "source": [
        "print(classification_report(ytest, y_pred))"
      ],
      "metadata": {
        "colab": {
          "base_uri": "https://localhost:8080/"
        },
        "id": "dma-sAxjyrIB",
        "outputId": "7785d27f-6f75-4c69-8021-d38549a8060a"
      },
      "execution_count": null,
      "outputs": [
        {
          "output_type": "stream",
          "name": "stdout",
          "text": [
            "              precision    recall  f1-score   support\n",
            "\n",
            "           1       0.50      0.38      0.43        53\n",
            "           2       0.50      0.72      0.59        72\n",
            "           3       0.41      0.19      0.26        37\n",
            "\n",
            "    accuracy                           0.49       162\n",
            "   macro avg       0.47      0.43      0.43       162\n",
            "weighted avg       0.48      0.49      0.46       162\n",
            "\n"
          ]
        }
      ]
    },
    {
      "cell_type": "markdown",
      "source": [
        "Model is overfitting so lets try again with a higher regularization param\n",
        "best parameters according to GridSearch { 'C': 1000, 'gamma': 1, 'kernel': 'linear' }"
      ],
      "metadata": {
        "id": "QNSX0v0PJk2H"
      }
    },
    {
      "cell_type": "code",
      "source": [
        "model = SVC(C=.001, gamma=1, kernel='poly', degree=5)\n",
        "f = model.fit(xtrain, ytrain)\n",
        "y_pred = f.predict(xtest)\n"
      ],
      "metadata": {
        "id": "a-J3J0KqFL7r"
      },
      "execution_count": null,
      "outputs": []
    },
    {
      "cell_type": "code",
      "source": [
        "print(classification_report(ytest, y_pred))"
      ],
      "metadata": {
        "colab": {
          "base_uri": "https://localhost:8080/"
        },
        "id": "dat0Ga76GBa1",
        "outputId": "6a2dc941-6540-45e5-d55a-c35a79b9eeb5"
      },
      "execution_count": null,
      "outputs": [
        {
          "output_type": "stream",
          "name": "stdout",
          "text": [
            "              precision    recall  f1-score   support\n",
            "\n",
            "           1       0.45      0.43      0.44        53\n",
            "           2       0.50      0.50      0.50        72\n",
            "           3       0.41      0.43      0.42        37\n",
            "\n",
            "    accuracy                           0.46       162\n",
            "   macro avg       0.45      0.46      0.45       162\n",
            "weighted avg       0.46      0.46      0.46       162\n",
            "\n"
          ]
        }
      ]
    },
    {
      "cell_type": "markdown",
      "source": [
        "After playing around with the values myself, I believe that gridsearch is likely not working correctly due to the small sample size of the training data. This could possibly be due to the way I use Repeated Kfold to determine CV. I recognized that there was an issue due to the large regularization parameter."
      ],
      "metadata": {
        "id": "fiiQVX-kJMAW"
      }
    },
    {
      "cell_type": "markdown",
      "source": [
        "<hr>"
      ],
      "metadata": {
        "id": "gaoTp1Gt7QJT"
      }
    },
    {
      "cell_type": "markdown",
      "source": [
        "### Gaussian Naive **Bayes**"
      ],
      "metadata": {
        "id": "JLJYVKVj-8Cq"
      }
    },
    {
      "cell_type": "code",
      "source": [
        "from sklearn.naive_bayes import GaussianNB\n",
        "from sklearn.metrics import accuracy_score\n",
        "nb_classifier = GaussianNB()\n",
        "\n",
        "nb_classifier.fit(xtrain, ytrain)\n",
        "\n",
        "y_pred = nb_classifier.predict(xtest)"
      ],
      "metadata": {
        "id": "sSZtJbP-zzYI"
      },
      "execution_count": null,
      "outputs": []
    },
    {
      "cell_type": "code",
      "source": [
        "print(classification_report(ytest, y_pred))"
      ],
      "metadata": {
        "colab": {
          "base_uri": "https://localhost:8080/"
        },
        "id": "x2hknPOE0ZBo",
        "outputId": "44076532-eb1f-47ed-9b27-68937eadbfca"
      },
      "execution_count": null,
      "outputs": [
        {
          "output_type": "stream",
          "name": "stdout",
          "text": [
            "              precision    recall  f1-score   support\n",
            "\n",
            "           1       0.48      0.64      0.55        53\n",
            "           2       0.58      0.51      0.54        72\n",
            "           3       0.37      0.27      0.31        37\n",
            "\n",
            "    accuracy                           0.50       162\n",
            "   macro avg       0.48      0.48      0.47       162\n",
            "weighted avg       0.50      0.50      0.49       162\n",
            "\n"
          ]
        }
      ]
    },
    {
      "cell_type": "markdown",
      "source": [
        "###  Multi-nomial Logistic Regression"
      ],
      "metadata": {
        "id": "g81UfyJB_BWw"
      }
    },
    {
      "cell_type": "code",
      "source": [
        "from sklearn.linear_model import LogisticRegression\n",
        "param_grid = {\n",
        "    'C': [.001, .01, .1, 10, 100],\n",
        "    'multi_class': ['multinomial'],\n",
        "    'solver': ['lbfgs','sag', 'saga', 'newton-cg'], # for multinomial classification only\n",
        "    'penalty': ['l1', 'l2']\n",
        "  }\n",
        "\n",
        "# initialize model\n",
        "lr = LogisticRegression(max_iter=100)\n",
        "\n",
        "\n",
        "\n",
        "# define Grid searchCV for hyperparameter fine tuning\n",
        "search = GridSearchCV(lr, param_grid, scoring='accuracy', n_jobs=-1, cv=2)\n",
        "\n",
        "result = search.fit(xtrain, ytrain)\n",
        "\n",
        "\n",
        "print('Best Score: %s' % result.best_score_)\n",
        "print('Best Hyperparameters: %s' % result.best_params_)"
      ],
      "metadata": {
        "colab": {
          "base_uri": "https://localhost:8080/"
        },
        "id": "GjmPwiJJ2DH8",
        "outputId": "baca627d-6ad2-48c7-8bef-e8c045a6f945"
      },
      "execution_count": null,
      "outputs": [
        {
          "output_type": "stream",
          "name": "stdout",
          "text": [
            "Best Score: 0.5046439628482973\n",
            "Best Hyperparameters: {'C': 0.1, 'multi_class': 'multinomial', 'penalty': 'l2', 'solver': 'saga'}\n"
          ]
        }
      ]
    },
    {
      "cell_type": "code",
      "source": [
        "#'C': 0.1, 'multi_class': 'multinomial', 'penalty': 'l2', 'solver': 'saga'"
      ],
      "metadata": {
        "id": "BssKylMdJ_wa"
      },
      "execution_count": null,
      "outputs": []
    },
    {
      "cell_type": "code",
      "source": [
        "model = LogisticRegression(C=.1, multi_class='multinomial', penalty='l2', solver='saga')\n",
        "f = model.fit(xtrain, ytrain)\n",
        "y_pred = f.predict(xtest)\n",
        "print(classification_report(ytest, y_pred))"
      ],
      "metadata": {
        "colab": {
          "base_uri": "https://localhost:8080/"
        },
        "id": "2gTvzSNcKA4z",
        "outputId": "c4fdd831-b251-45ea-f1e7-94fb523c3aa1"
      },
      "execution_count": null,
      "outputs": [
        {
          "output_type": "stream",
          "name": "stdout",
          "text": [
            "              precision    recall  f1-score   support\n",
            "\n",
            "           1       0.45      0.36      0.40        53\n",
            "           2       0.48      0.65      0.56        72\n",
            "           3       0.35      0.22      0.27        37\n",
            "\n",
            "    accuracy                           0.46       162\n",
            "   macro avg       0.43      0.41      0.41       162\n",
            "weighted avg       0.44      0.46      0.44       162\n",
            "\n"
          ]
        }
      ]
    },
    {
      "cell_type": "code",
      "source": [
        "model = LogisticRegression(C=.01, multi_class='multinomial', penalty='l2', solver='sag')\n",
        "f = model.fit(xtrain, ytrain)\n",
        "y_pred = f.predict(xtest)\n",
        "print(classification_report(ytest, y_pred))"
      ],
      "metadata": {
        "colab": {
          "base_uri": "https://localhost:8080/"
        },
        "id": "6CXtR-BEKeWW",
        "outputId": "47fcc1f5-f2cb-4675-957d-4bc852fe61ad"
      },
      "execution_count": null,
      "outputs": [
        {
          "output_type": "stream",
          "name": "stdout",
          "text": [
            "              precision    recall  f1-score   support\n",
            "\n",
            "           1       0.54      0.28      0.37        53\n",
            "           2       0.48      0.86      0.62        72\n",
            "           3       0.40      0.05      0.10        37\n",
            "\n",
            "    accuracy                           0.49       162\n",
            "   macro avg       0.47      0.40      0.36       162\n",
            "weighted avg       0.48      0.49      0.42       162\n",
            "\n"
          ]
        }
      ]
    },
    {
      "cell_type": "code",
      "source": [
        "model = LogisticRegression(C=.01, multi_class='multinomial', penalty='l2', solver='lbfgs')\n",
        "f = model.fit(xtrain, ytrain)\n",
        "y_pred = f.predict(xtest)\n",
        "print(classification_report(ytest, y_pred))"
      ],
      "metadata": {
        "colab": {
          "base_uri": "https://localhost:8080/"
        },
        "id": "rlBeVbvhLqDT",
        "outputId": "0a0c95cb-1d15-4282-b939-b788dbc7cf76"
      },
      "execution_count": null,
      "outputs": [
        {
          "output_type": "stream",
          "name": "stdout",
          "text": [
            "              precision    recall  f1-score   support\n",
            "\n",
            "           1       0.54      0.28      0.37        53\n",
            "           2       0.48      0.86      0.62        72\n",
            "           3       0.40      0.05      0.10        37\n",
            "\n",
            "    accuracy                           0.49       162\n",
            "   macro avg       0.47      0.40      0.36       162\n",
            "weighted avg       0.48      0.49      0.42       162\n",
            "\n"
          ]
        }
      ]
    },
    {
      "cell_type": "markdown",
      "source": [
        "### Convolutional Neural Network"
      ],
      "metadata": {
        "id": "3pgjMZS8M2uO"
      }
    },
    {
      "cell_type": "code",
      "source": [
        "data = df[selected_features].to_numpy()\n",
        "data = to_categorical(data)"
      ],
      "metadata": {
        "id": "-MD-h-vFK9zl"
      },
      "execution_count": null,
      "outputs": []
    },
    {
      "cell_type": "code",
      "source": [
        "data = data.reshape(808,5,10,3)"
      ],
      "metadata": {
        "id": "fU-W01enMOTP"
      },
      "execution_count": null,
      "outputs": []
    },
    {
      "cell_type": "code",
      "source": [
        "labels-=1\n",
        "l=to_categorical(labels)"
      ],
      "metadata": {
        "id": "Itk7u5j9LrMH"
      },
      "execution_count": null,
      "outputs": []
    },
    {
      "cell_type": "code",
      "source": [
        "xtrain, xtest, ytrain, ytest = train_test_split(data, l, test_size=.2)"
      ],
      "metadata": {
        "id": "-fa3hUPFLZjx"
      },
      "execution_count": null,
      "outputs": []
    },
    {
      "cell_type": "code",
      "source": [
        "xtrain.shape"
      ],
      "metadata": {
        "colab": {
          "base_uri": "https://localhost:8080/"
        },
        "id": "yeWt71TELoMR",
        "outputId": "ab4c303b-b809-48fe-d929-d1c75f3551a0"
      },
      "execution_count": null,
      "outputs": [
        {
          "output_type": "execute_result",
          "data": {
            "text/plain": [
              "(646, 5, 10, 3)"
            ]
          },
          "metadata": {},
          "execution_count": 273
        }
      ]
    },
    {
      "cell_type": "code",
      "source": [
        "dropout = .01\n",
        "lr = .90\n",
        "# Define input shape\n",
        "# Create a Sequential model\n",
        "input_shape = (5,10,3)\n",
        "model = Sequential()\n",
        "\n",
        "model.add(Input(shape=input_shape))\n",
        "\n",
        "model.add(Conv2D(20, kernel_size=(3, 3), activation='relu', input_shape=input_shape, padding='same'))\n",
        "model.add(MaxPooling2D(pool_size=(2, 2)))\n",
        "model.add(Dropout(rate=dropout))\n",
        "\n",
        "model.add(Conv2D(32, kernel_size=(3, 3), activation='relu', padding='same'))\n",
        "model.add(MaxPooling2D(pool_size=(2, 2)))\n",
        "model.add(Dropout(rate=dropout))\n",
        "\n",
        "model.add(Conv2D(64, kernel_size=(3, 3), activation='relu', padding='same'))\n",
        "model.add(MaxPooling2D(pool_size=(1, 2)))\n",
        "model.add(Dropout(rate=dropout))\n",
        "\n",
        "# Flatten layer to convert 2D feature maps into a 1D vector\n",
        "model.add(Flatten())\n",
        "# Output layer\n",
        "model.add(Dense(3, activation='softmax'))\n",
        "\n",
        "# Compile the model\n",
        "with tf.device('/GPU:0'):\n",
        "  model.compile(loss='categorical_crossentropy', optimizer=Adam(learning_rate=lr), metrics=['accuracy'])\n",
        "model.summary()\n"
      ],
      "metadata": {
        "colab": {
          "base_uri": "https://localhost:8080/"
        },
        "id": "1H7trtlOKSW5",
        "outputId": "bab1ff70-a3bc-4cfe-c42a-860e93978394"
      },
      "execution_count": null,
      "outputs": [
        {
          "output_type": "stream",
          "name": "stdout",
          "text": [
            "Model: \"sequential_80\"\n",
            "_________________________________________________________________\n",
            " Layer (type)                Output Shape              Param #   \n",
            "=================================================================\n",
            " conv2d_356 (Conv2D)         (None, 5, 10, 20)         560       \n",
            "                                                                 \n",
            " max_pooling2d_237 (MaxPool  (None, 2, 5, 20)          0         \n",
            " ing2D)                                                          \n",
            "                                                                 \n",
            " dropout_241 (Dropout)       (None, 2, 5, 20)          0         \n",
            "                                                                 \n",
            " conv2d_357 (Conv2D)         (None, 2, 5, 32)          5792      \n",
            "                                                                 \n",
            " max_pooling2d_238 (MaxPool  (None, 1, 2, 32)          0         \n",
            " ing2D)                                                          \n",
            "                                                                 \n",
            " dropout_242 (Dropout)       (None, 1, 2, 32)          0         \n",
            "                                                                 \n",
            " conv2d_358 (Conv2D)         (None, 1, 2, 64)          18496     \n",
            "                                                                 \n",
            " max_pooling2d_239 (MaxPool  (None, 1, 1, 64)          0         \n",
            " ing2D)                                                          \n",
            "                                                                 \n",
            " dropout_243 (Dropout)       (None, 1, 1, 64)          0         \n",
            "                                                                 \n",
            " flatten_78 (Flatten)        (None, 64)                0         \n",
            "                                                                 \n",
            " dense_115 (Dense)           (None, 3)                 195       \n",
            "                                                                 \n",
            "=================================================================\n",
            "Total params: 25043 (97.82 KB)\n",
            "Trainable params: 25043 (97.82 KB)\n",
            "Non-trainable params: 0 (0.00 Byte)\n",
            "_________________________________________________________________\n"
          ]
        }
      ]
    },
    {
      "cell_type": "code",
      "source": [
        "with tf.device('/GPU:0'):\n",
        "  model.fit(xtrain, ytrain, epochs=300, batch_size=50)"
      ],
      "metadata": {
        "colab": {
          "base_uri": "https://localhost:8080/"
        },
        "id": "1rDZzFz7KmLr",
        "outputId": "9d9188a4-62c5-48de-aea8-1ba0b62e2312"
      },
      "execution_count": null,
      "outputs": [
        {
          "output_type": "stream",
          "name": "stdout",
          "text": [
            "Epoch 1/300\n",
            "13/13 [==============================] - 3s 50ms/step - loss: 12583.7969 - accuracy: 0.3901\n",
            "Epoch 2/300\n",
            "13/13 [==============================] - 0s 4ms/step - loss: 1.2017 - accuracy: 0.3622\n",
            "Epoch 3/300\n",
            "13/13 [==============================] - 0s 4ms/step - loss: 1.1285 - accuracy: 0.4381\n",
            "Epoch 4/300\n",
            "13/13 [==============================] - 0s 4ms/step - loss: 1.1176 - accuracy: 0.3824\n",
            "Epoch 5/300\n",
            "13/13 [==============================] - 0s 4ms/step - loss: 1.0777 - accuracy: 0.4195\n",
            "Epoch 6/300\n",
            "13/13 [==============================] - 0s 4ms/step - loss: 1.0792 - accuracy: 0.4009\n",
            "Epoch 7/300\n",
            "13/13 [==============================] - 0s 4ms/step - loss: 1.0732 - accuracy: 0.4303\n",
            "Epoch 8/300\n",
            "13/13 [==============================] - 0s 4ms/step - loss: 1.0769 - accuracy: 0.4551\n",
            "Epoch 9/300\n",
            "13/13 [==============================] - 0s 4ms/step - loss: 1.0810 - accuracy: 0.4195\n",
            "Epoch 10/300\n",
            "13/13 [==============================] - 0s 4ms/step - loss: 1.0734 - accuracy: 0.4118\n",
            "Epoch 11/300\n",
            "13/13 [==============================] - 0s 4ms/step - loss: 1.0878 - accuracy: 0.4381\n",
            "Epoch 12/300\n",
            "13/13 [==============================] - 0s 4ms/step - loss: 1.0695 - accuracy: 0.4195\n",
            "Epoch 13/300\n",
            "13/13 [==============================] - 0s 4ms/step - loss: 1.0831 - accuracy: 0.4536\n",
            "Epoch 14/300\n",
            "13/13 [==============================] - 0s 4ms/step - loss: 1.0811 - accuracy: 0.4536\n",
            "Epoch 15/300\n",
            "13/13 [==============================] - 0s 4ms/step - loss: 1.1018 - accuracy: 0.3885\n",
            "Epoch 16/300\n",
            "13/13 [==============================] - 0s 4ms/step - loss: 1.0894 - accuracy: 0.4180\n",
            "Epoch 17/300\n",
            "13/13 [==============================] - 0s 4ms/step - loss: 1.0690 - accuracy: 0.4536\n",
            "Epoch 18/300\n",
            "13/13 [==============================] - 0s 4ms/step - loss: 1.0674 - accuracy: 0.4536\n",
            "Epoch 19/300\n",
            "13/13 [==============================] - 0s 4ms/step - loss: 1.0776 - accuracy: 0.4536\n",
            "Epoch 20/300\n",
            "13/13 [==============================] - 0s 4ms/step - loss: 1.0881 - accuracy: 0.4536\n",
            "Epoch 21/300\n",
            "13/13 [==============================] - 0s 4ms/step - loss: 1.0840 - accuracy: 0.4536\n",
            "Epoch 22/300\n",
            "13/13 [==============================] - 0s 4ms/step - loss: 1.0693 - accuracy: 0.4319\n",
            "Epoch 23/300\n",
            "13/13 [==============================] - 0s 4ms/step - loss: 1.0985 - accuracy: 0.4334\n",
            "Epoch 24/300\n",
            "13/13 [==============================] - 0s 4ms/step - loss: 1.0826 - accuracy: 0.4489\n",
            "Epoch 25/300\n",
            "13/13 [==============================] - 0s 4ms/step - loss: 1.0846 - accuracy: 0.4303\n",
            "Epoch 26/300\n",
            "13/13 [==============================] - 0s 4ms/step - loss: 1.0982 - accuracy: 0.4164\n",
            "Epoch 27/300\n",
            "13/13 [==============================] - 0s 4ms/step - loss: 1.0898 - accuracy: 0.4133\n",
            "Epoch 28/300\n",
            "13/13 [==============================] - 0s 4ms/step - loss: 1.0818 - accuracy: 0.4133\n",
            "Epoch 29/300\n",
            "13/13 [==============================] - 0s 4ms/step - loss: 1.0800 - accuracy: 0.4149\n",
            "Epoch 30/300\n",
            "13/13 [==============================] - 0s 4ms/step - loss: 1.0767 - accuracy: 0.4536\n",
            "Epoch 31/300\n",
            "13/13 [==============================] - 0s 4ms/step - loss: 1.0969 - accuracy: 0.4226\n",
            "Epoch 32/300\n",
            "13/13 [==============================] - 0s 4ms/step - loss: 1.0821 - accuracy: 0.4536\n",
            "Epoch 33/300\n",
            "13/13 [==============================] - 0s 4ms/step - loss: 1.0799 - accuracy: 0.4272\n",
            "Epoch 34/300\n",
            "13/13 [==============================] - 0s 4ms/step - loss: 1.0737 - accuracy: 0.4241\n",
            "Epoch 35/300\n",
            "13/13 [==============================] - 0s 4ms/step - loss: 1.0759 - accuracy: 0.4396\n",
            "Epoch 36/300\n",
            "13/13 [==============================] - 0s 4ms/step - loss: 1.0876 - accuracy: 0.4025\n",
            "Epoch 37/300\n",
            "13/13 [==============================] - 0s 4ms/step - loss: 1.0832 - accuracy: 0.4180\n",
            "Epoch 38/300\n",
            "13/13 [==============================] - 0s 4ms/step - loss: 1.0914 - accuracy: 0.3870\n",
            "Epoch 39/300\n",
            "13/13 [==============================] - 0s 4ms/step - loss: 1.0915 - accuracy: 0.4536\n",
            "Epoch 40/300\n",
            "13/13 [==============================] - 0s 4ms/step - loss: 1.0782 - accuracy: 0.4412\n",
            "Epoch 41/300\n",
            "13/13 [==============================] - 0s 4ms/step - loss: 1.0856 - accuracy: 0.3777\n",
            "Epoch 42/300\n",
            "13/13 [==============================] - 0s 4ms/step - loss: 1.1214 - accuracy: 0.4056\n",
            "Epoch 43/300\n",
            "13/13 [==============================] - 0s 4ms/step - loss: 1.0786 - accuracy: 0.4118\n",
            "Epoch 44/300\n",
            "13/13 [==============================] - 0s 4ms/step - loss: 1.0871 - accuracy: 0.4226\n",
            "Epoch 45/300\n",
            "13/13 [==============================] - 0s 4ms/step - loss: 1.0753 - accuracy: 0.4180\n",
            "Epoch 46/300\n",
            "13/13 [==============================] - 0s 5ms/step - loss: 1.0767 - accuracy: 0.4536\n",
            "Epoch 47/300\n",
            "13/13 [==============================] - 0s 4ms/step - loss: 1.1003 - accuracy: 0.3808\n",
            "Epoch 48/300\n",
            "13/13 [==============================] - 0s 4ms/step - loss: 1.0971 - accuracy: 0.4536\n",
            "Epoch 49/300\n",
            "13/13 [==============================] - 0s 4ms/step - loss: 1.0721 - accuracy: 0.4334\n",
            "Epoch 50/300\n",
            "13/13 [==============================] - 0s 4ms/step - loss: 1.0841 - accuracy: 0.4536\n",
            "Epoch 51/300\n",
            "13/13 [==============================] - 0s 4ms/step - loss: 1.1112 - accuracy: 0.3978\n",
            "Epoch 52/300\n",
            "13/13 [==============================] - 0s 4ms/step - loss: 1.1173 - accuracy: 0.4257\n",
            "Epoch 53/300\n",
            "13/13 [==============================] - 0s 4ms/step - loss: 1.0765 - accuracy: 0.4149\n",
            "Epoch 54/300\n",
            "13/13 [==============================] - 0s 4ms/step - loss: 1.1177 - accuracy: 0.4195\n",
            "Epoch 55/300\n",
            "13/13 [==============================] - 0s 4ms/step - loss: 1.1104 - accuracy: 0.4334\n",
            "Epoch 56/300\n",
            "13/13 [==============================] - 0s 4ms/step - loss: 1.0957 - accuracy: 0.4211\n",
            "Epoch 57/300\n",
            "13/13 [==============================] - 0s 4ms/step - loss: 1.1014 - accuracy: 0.3994\n",
            "Epoch 58/300\n",
            "13/13 [==============================] - 0s 4ms/step - loss: 1.0775 - accuracy: 0.4334\n",
            "Epoch 59/300\n",
            "13/13 [==============================] - 0s 4ms/step - loss: 1.0738 - accuracy: 0.4303\n",
            "Epoch 60/300\n",
            "13/13 [==============================] - 0s 4ms/step - loss: 1.0888 - accuracy: 0.4102\n",
            "Epoch 61/300\n",
            "13/13 [==============================] - 0s 4ms/step - loss: 1.1307 - accuracy: 0.4025\n",
            "Epoch 62/300\n",
            "13/13 [==============================] - 0s 4ms/step - loss: 1.1357 - accuracy: 0.4195\n",
            "Epoch 63/300\n",
            "13/13 [==============================] - 0s 4ms/step - loss: 1.1294 - accuracy: 0.3622\n",
            "Epoch 64/300\n",
            "13/13 [==============================] - 0s 4ms/step - loss: 1.1198 - accuracy: 0.3762\n",
            "Epoch 65/300\n",
            "13/13 [==============================] - 0s 4ms/step - loss: 1.0996 - accuracy: 0.4226\n",
            "Epoch 66/300\n",
            "13/13 [==============================] - 0s 4ms/step - loss: 1.0791 - accuracy: 0.4133\n",
            "Epoch 67/300\n",
            "13/13 [==============================] - 0s 4ms/step - loss: 1.0951 - accuracy: 0.4025\n",
            "Epoch 68/300\n",
            "13/13 [==============================] - 0s 4ms/step - loss: 1.0929 - accuracy: 0.4257\n",
            "Epoch 69/300\n",
            "13/13 [==============================] - 0s 4ms/step - loss: 1.0958 - accuracy: 0.4288\n",
            "Epoch 70/300\n",
            "13/13 [==============================] - 0s 4ms/step - loss: 1.0919 - accuracy: 0.4536\n",
            "Epoch 71/300\n",
            "13/13 [==============================] - 0s 4ms/step - loss: 1.0815 - accuracy: 0.4272\n",
            "Epoch 72/300\n",
            "13/13 [==============================] - 0s 4ms/step - loss: 1.0873 - accuracy: 0.4071\n",
            "Epoch 73/300\n",
            "13/13 [==============================] - 0s 4ms/step - loss: 1.0937 - accuracy: 0.3978\n",
            "Epoch 74/300\n",
            "13/13 [==============================] - 0s 4ms/step - loss: 1.0746 - accuracy: 0.4257\n",
            "Epoch 75/300\n",
            "13/13 [==============================] - 0s 4ms/step - loss: 1.0832 - accuracy: 0.4303\n",
            "Epoch 76/300\n",
            "13/13 [==============================] - 0s 4ms/step - loss: 1.0805 - accuracy: 0.4365\n",
            "Epoch 77/300\n",
            "13/13 [==============================] - 0s 4ms/step - loss: 1.0723 - accuracy: 0.4241\n",
            "Epoch 78/300\n",
            "13/13 [==============================] - 0s 4ms/step - loss: 1.0966 - accuracy: 0.4536\n",
            "Epoch 79/300\n",
            "13/13 [==============================] - 0s 4ms/step - loss: 1.0741 - accuracy: 0.4474\n",
            "Epoch 80/300\n",
            "13/13 [==============================] - 0s 4ms/step - loss: 1.1087 - accuracy: 0.3731\n",
            "Epoch 81/300\n",
            "13/13 [==============================] - 0s 4ms/step - loss: 1.0996 - accuracy: 0.4118\n",
            "Epoch 82/300\n",
            "13/13 [==============================] - 0s 4ms/step - loss: 1.0749 - accuracy: 0.4396\n",
            "Epoch 83/300\n",
            "13/13 [==============================] - 0s 4ms/step - loss: 1.0846 - accuracy: 0.4536\n",
            "Epoch 84/300\n",
            "13/13 [==============================] - 0s 4ms/step - loss: 1.0901 - accuracy: 0.4319\n",
            "Epoch 85/300\n",
            "13/13 [==============================] - 0s 4ms/step - loss: 1.0765 - accuracy: 0.4613\n",
            "Epoch 86/300\n",
            "13/13 [==============================] - 0s 4ms/step - loss: 1.1114 - accuracy: 0.3947\n",
            "Epoch 87/300\n",
            "13/13 [==============================] - 0s 4ms/step - loss: 1.0940 - accuracy: 0.4334\n",
            "Epoch 88/300\n",
            "13/13 [==============================] - 0s 4ms/step - loss: 1.0826 - accuracy: 0.4365\n",
            "Epoch 89/300\n",
            "13/13 [==============================] - 0s 4ms/step - loss: 1.1054 - accuracy: 0.3963\n",
            "Epoch 90/300\n",
            "13/13 [==============================] - 0s 4ms/step - loss: 1.0807 - accuracy: 0.4489\n",
            "Epoch 91/300\n",
            "13/13 [==============================] - 0s 4ms/step - loss: 1.0962 - accuracy: 0.4133\n",
            "Epoch 92/300\n",
            "13/13 [==============================] - 0s 4ms/step - loss: 1.0816 - accuracy: 0.4350\n",
            "Epoch 93/300\n",
            "13/13 [==============================] - 0s 4ms/step - loss: 1.0870 - accuracy: 0.4102\n",
            "Epoch 94/300\n",
            "13/13 [==============================] - 0s 4ms/step - loss: 1.0987 - accuracy: 0.3994\n",
            "Epoch 95/300\n",
            "13/13 [==============================] - 0s 4ms/step - loss: 1.0877 - accuracy: 0.4133\n",
            "Epoch 96/300\n",
            "13/13 [==============================] - 0s 4ms/step - loss: 1.0848 - accuracy: 0.4257\n",
            "Epoch 97/300\n",
            "13/13 [==============================] - 0s 4ms/step - loss: 1.0690 - accuracy: 0.4536\n",
            "Epoch 98/300\n",
            "13/13 [==============================] - 0s 4ms/step - loss: 1.0719 - accuracy: 0.4536\n",
            "Epoch 99/300\n",
            "13/13 [==============================] - 0s 4ms/step - loss: 1.0789 - accuracy: 0.4489\n",
            "Epoch 100/300\n",
            "13/13 [==============================] - 0s 4ms/step - loss: 1.0872 - accuracy: 0.4040\n",
            "Epoch 101/300\n",
            "13/13 [==============================] - 0s 4ms/step - loss: 1.1218 - accuracy: 0.4241\n",
            "Epoch 102/300\n",
            "13/13 [==============================] - 0s 4ms/step - loss: 1.0934 - accuracy: 0.3932\n",
            "Epoch 103/300\n",
            "13/13 [==============================] - 0s 4ms/step - loss: 1.1223 - accuracy: 0.3669\n",
            "Epoch 104/300\n",
            "13/13 [==============================] - 0s 4ms/step - loss: 1.0989 - accuracy: 0.4226\n",
            "Epoch 105/300\n",
            "13/13 [==============================] - 0s 4ms/step - loss: 1.0729 - accuracy: 0.4536\n",
            "Epoch 106/300\n",
            "13/13 [==============================] - 0s 4ms/step - loss: 1.0733 - accuracy: 0.4303\n",
            "Epoch 107/300\n",
            "13/13 [==============================] - 0s 4ms/step - loss: 1.0688 - accuracy: 0.4536\n",
            "Epoch 108/300\n",
            "13/13 [==============================] - 0s 4ms/step - loss: 1.0752 - accuracy: 0.4536\n",
            "Epoch 109/300\n",
            "13/13 [==============================] - 0s 4ms/step - loss: 1.1046 - accuracy: 0.3947\n",
            "Epoch 110/300\n",
            "13/13 [==============================] - 0s 4ms/step - loss: 1.0924 - accuracy: 0.4195\n",
            "Epoch 111/300\n",
            "13/13 [==============================] - 0s 4ms/step - loss: 1.1143 - accuracy: 0.4056\n",
            "Epoch 112/300\n",
            "13/13 [==============================] - 0s 4ms/step - loss: 1.0838 - accuracy: 0.4536\n",
            "Epoch 113/300\n",
            "13/13 [==============================] - 0s 4ms/step - loss: 1.0797 - accuracy: 0.4396\n",
            "Epoch 114/300\n",
            "13/13 [==============================] - 0s 4ms/step - loss: 1.1134 - accuracy: 0.4118\n",
            "Epoch 115/300\n",
            "13/13 [==============================] - 0s 4ms/step - loss: 1.0744 - accuracy: 0.4334\n",
            "Epoch 116/300\n",
            "13/13 [==============================] - 0s 4ms/step - loss: 1.0886 - accuracy: 0.4536\n",
            "Epoch 117/300\n",
            "13/13 [==============================] - 0s 4ms/step - loss: 1.0883 - accuracy: 0.4211\n",
            "Epoch 118/300\n",
            "13/13 [==============================] - 0s 4ms/step - loss: 1.0734 - accuracy: 0.4536\n",
            "Epoch 119/300\n",
            "13/13 [==============================] - 0s 4ms/step - loss: 1.0861 - accuracy: 0.4536\n",
            "Epoch 120/300\n",
            "13/13 [==============================] - 0s 4ms/step - loss: 1.0788 - accuracy: 0.4334\n",
            "Epoch 121/300\n",
            "13/13 [==============================] - 0s 4ms/step - loss: 1.1086 - accuracy: 0.4195\n",
            "Epoch 122/300\n",
            "13/13 [==============================] - 0s 4ms/step - loss: 1.0813 - accuracy: 0.4350\n",
            "Epoch 123/300\n",
            "13/13 [==============================] - 0s 4ms/step - loss: 1.0786 - accuracy: 0.4536\n",
            "Epoch 124/300\n",
            "13/13 [==============================] - 0s 4ms/step - loss: 1.0904 - accuracy: 0.4257\n",
            "Epoch 125/300\n",
            "13/13 [==============================] - 0s 4ms/step - loss: 1.0725 - accuracy: 0.4381\n",
            "Epoch 126/300\n",
            "13/13 [==============================] - 0s 4ms/step - loss: 1.0666 - accuracy: 0.4536\n",
            "Epoch 127/300\n",
            "13/13 [==============================] - 0s 4ms/step - loss: 1.0747 - accuracy: 0.4536\n",
            "Epoch 128/300\n",
            "13/13 [==============================] - 0s 4ms/step - loss: 1.0844 - accuracy: 0.4536\n",
            "Epoch 129/300\n",
            "13/13 [==============================] - 0s 4ms/step - loss: 1.1297 - accuracy: 0.4040\n",
            "Epoch 130/300\n",
            "13/13 [==============================] - 0s 4ms/step - loss: 1.0861 - accuracy: 0.4164\n",
            "Epoch 131/300\n",
            "13/13 [==============================] - 0s 4ms/step - loss: 1.0874 - accuracy: 0.4288\n",
            "Epoch 132/300\n",
            "13/13 [==============================] - 0s 4ms/step - loss: 1.0880 - accuracy: 0.4195\n",
            "Epoch 133/300\n",
            "13/13 [==============================] - 0s 4ms/step - loss: 1.0824 - accuracy: 0.3932\n",
            "Epoch 134/300\n",
            "13/13 [==============================] - 0s 4ms/step - loss: 1.0819 - accuracy: 0.4226\n",
            "Epoch 135/300\n",
            "13/13 [==============================] - 0s 4ms/step - loss: 1.1081 - accuracy: 0.3808\n",
            "Epoch 136/300\n",
            "13/13 [==============================] - 0s 4ms/step - loss: 1.1011 - accuracy: 0.3901\n",
            "Epoch 137/300\n",
            "13/13 [==============================] - 0s 4ms/step - loss: 1.0769 - accuracy: 0.4211\n",
            "Epoch 138/300\n",
            "13/13 [==============================] - 0s 4ms/step - loss: 1.0766 - accuracy: 0.4427\n",
            "Epoch 139/300\n",
            "13/13 [==============================] - 0s 4ms/step - loss: 1.0821 - accuracy: 0.4319\n",
            "Epoch 140/300\n",
            "13/13 [==============================] - 0s 4ms/step - loss: 1.0883 - accuracy: 0.3777\n",
            "Epoch 141/300\n",
            "13/13 [==============================] - 0s 4ms/step - loss: 1.0807 - accuracy: 0.4458\n",
            "Epoch 142/300\n",
            "13/13 [==============================] - 0s 4ms/step - loss: 1.1559 - accuracy: 0.3854\n",
            "Epoch 143/300\n",
            "13/13 [==============================] - 0s 4ms/step - loss: 1.1005 - accuracy: 0.4009\n",
            "Epoch 144/300\n",
            "13/13 [==============================] - 0s 4ms/step - loss: 1.0842 - accuracy: 0.4350\n",
            "Epoch 145/300\n",
            "13/13 [==============================] - 0s 4ms/step - loss: 1.0916 - accuracy: 0.4056\n",
            "Epoch 146/300\n",
            "13/13 [==============================] - 0s 4ms/step - loss: 1.1545 - accuracy: 0.3406\n",
            "Epoch 147/300\n",
            "13/13 [==============================] - 0s 4ms/step - loss: 1.1960 - accuracy: 0.4211\n",
            "Epoch 148/300\n",
            "13/13 [==============================] - 0s 4ms/step - loss: 1.1407 - accuracy: 0.4180\n",
            "Epoch 149/300\n",
            "13/13 [==============================] - 0s 4ms/step - loss: 1.1027 - accuracy: 0.3885\n",
            "Epoch 150/300\n",
            "13/13 [==============================] - 0s 4ms/step - loss: 1.0823 - accuracy: 0.4133\n",
            "Epoch 151/300\n",
            "13/13 [==============================] - 0s 4ms/step - loss: 1.0837 - accuracy: 0.4133\n",
            "Epoch 152/300\n",
            "13/13 [==============================] - 0s 4ms/step - loss: 1.0974 - accuracy: 0.3978\n",
            "Epoch 153/300\n",
            "13/13 [==============================] - 0s 4ms/step - loss: 1.0807 - accuracy: 0.4350\n",
            "Epoch 154/300\n",
            "13/13 [==============================] - 0s 4ms/step - loss: 1.0832 - accuracy: 0.4350\n",
            "Epoch 155/300\n",
            "13/13 [==============================] - 0s 4ms/step - loss: 1.0993 - accuracy: 0.3994\n",
            "Epoch 156/300\n",
            "13/13 [==============================] - 0s 4ms/step - loss: 1.0772 - accuracy: 0.4180\n",
            "Epoch 157/300\n",
            "13/13 [==============================] - 0s 4ms/step - loss: 1.0684 - accuracy: 0.4536\n",
            "Epoch 158/300\n",
            "13/13 [==============================] - 0s 4ms/step - loss: 1.0798 - accuracy: 0.4536\n",
            "Epoch 159/300\n",
            "13/13 [==============================] - 0s 4ms/step - loss: 1.0896 - accuracy: 0.4040\n",
            "Epoch 160/300\n",
            "13/13 [==============================] - 0s 4ms/step - loss: 1.0689 - accuracy: 0.4536\n",
            "Epoch 161/300\n",
            "13/13 [==============================] - 0s 4ms/step - loss: 1.1035 - accuracy: 0.4195\n",
            "Epoch 162/300\n",
            "13/13 [==============================] - 0s 4ms/step - loss: 1.1000 - accuracy: 0.4536\n",
            "Epoch 163/300\n",
            "13/13 [==============================] - 0s 4ms/step - loss: 1.0737 - accuracy: 0.4536\n",
            "Epoch 164/300\n",
            "13/13 [==============================] - 0s 4ms/step - loss: 1.0979 - accuracy: 0.3994\n",
            "Epoch 165/300\n",
            "13/13 [==============================] - 0s 4ms/step - loss: 1.0942 - accuracy: 0.4257\n",
            "Epoch 166/300\n",
            "13/13 [==============================] - 0s 4ms/step - loss: 1.1008 - accuracy: 0.4009\n",
            "Epoch 167/300\n",
            "13/13 [==============================] - 0s 4ms/step - loss: 1.0841 - accuracy: 0.4241\n",
            "Epoch 168/300\n",
            "13/13 [==============================] - 0s 4ms/step - loss: 1.0738 - accuracy: 0.4536\n",
            "Epoch 169/300\n",
            "13/13 [==============================] - 0s 4ms/step - loss: 1.0868 - accuracy: 0.4288\n",
            "Epoch 170/300\n",
            "13/13 [==============================] - 0s 4ms/step - loss: 1.0876 - accuracy: 0.4180\n",
            "Epoch 171/300\n",
            "13/13 [==============================] - 0s 4ms/step - loss: 1.1113 - accuracy: 0.4087\n",
            "Epoch 172/300\n",
            "13/13 [==============================] - 0s 4ms/step - loss: 1.1410 - accuracy: 0.4087\n",
            "Epoch 173/300\n",
            "13/13 [==============================] - 0s 4ms/step - loss: 1.1048 - accuracy: 0.4025\n",
            "Epoch 174/300\n",
            "13/13 [==============================] - 0s 4ms/step - loss: 1.0708 - accuracy: 0.4613\n",
            "Epoch 175/300\n",
            "13/13 [==============================] - 0s 4ms/step - loss: 1.1268 - accuracy: 0.3916\n",
            "Epoch 176/300\n",
            "13/13 [==============================] - 0s 4ms/step - loss: 1.1105 - accuracy: 0.4133\n",
            "Epoch 177/300\n",
            "13/13 [==============================] - 0s 4ms/step - loss: 1.0802 - accuracy: 0.4381\n",
            "Epoch 178/300\n",
            "13/13 [==============================] - 0s 4ms/step - loss: 1.0927 - accuracy: 0.3901\n",
            "Epoch 179/300\n",
            "13/13 [==============================] - 0s 4ms/step - loss: 1.1025 - accuracy: 0.4241\n",
            "Epoch 180/300\n",
            "13/13 [==============================] - 0s 4ms/step - loss: 1.0854 - accuracy: 0.4226\n",
            "Epoch 181/300\n",
            "13/13 [==============================] - 0s 4ms/step - loss: 1.0776 - accuracy: 0.4211\n",
            "Epoch 182/300\n",
            "13/13 [==============================] - 0s 4ms/step - loss: 1.1132 - accuracy: 0.4056\n",
            "Epoch 183/300\n",
            "13/13 [==============================] - 0s 4ms/step - loss: 1.1186 - accuracy: 0.3715\n",
            "Epoch 184/300\n",
            "13/13 [==============================] - 0s 4ms/step - loss: 1.1009 - accuracy: 0.4040\n",
            "Epoch 185/300\n",
            "13/13 [==============================] - 0s 4ms/step - loss: 1.0916 - accuracy: 0.4241\n",
            "Epoch 186/300\n",
            "13/13 [==============================] - 0s 4ms/step - loss: 1.0756 - accuracy: 0.4334\n",
            "Epoch 187/300\n",
            "13/13 [==============================] - 0s 4ms/step - loss: 1.1043 - accuracy: 0.4319\n",
            "Epoch 188/300\n",
            "13/13 [==============================] - 0s 4ms/step - loss: 1.1020 - accuracy: 0.3854\n",
            "Epoch 189/300\n",
            "13/13 [==============================] - 0s 4ms/step - loss: 1.0823 - accuracy: 0.4195\n",
            "Epoch 190/300\n",
            "13/13 [==============================] - 0s 4ms/step - loss: 1.0759 - accuracy: 0.4257\n",
            "Epoch 191/300\n",
            "13/13 [==============================] - 0s 4ms/step - loss: 1.1019 - accuracy: 0.4087\n",
            "Epoch 192/300\n",
            "13/13 [==============================] - 0s 4ms/step - loss: 1.1233 - accuracy: 0.4211\n",
            "Epoch 193/300\n",
            "13/13 [==============================] - 0s 4ms/step - loss: 1.0734 - accuracy: 0.4536\n",
            "Epoch 194/300\n",
            "13/13 [==============================] - 0s 4ms/step - loss: 1.0889 - accuracy: 0.4241\n",
            "Epoch 195/300\n",
            "13/13 [==============================] - 0s 4ms/step - loss: 1.0780 - accuracy: 0.4334\n",
            "Epoch 196/300\n",
            "13/13 [==============================] - 0s 4ms/step - loss: 1.0908 - accuracy: 0.4334\n",
            "Epoch 197/300\n",
            "13/13 [==============================] - 0s 4ms/step - loss: 1.0968 - accuracy: 0.4056\n",
            "Epoch 198/300\n",
            "13/13 [==============================] - 0s 4ms/step - loss: 1.0851 - accuracy: 0.4087\n",
            "Epoch 199/300\n",
            "13/13 [==============================] - 0s 4ms/step - loss: 1.1429 - accuracy: 0.3684\n",
            "Epoch 200/300\n",
            "13/13 [==============================] - 0s 4ms/step - loss: 1.0986 - accuracy: 0.4040\n",
            "Epoch 201/300\n",
            "13/13 [==============================] - 0s 4ms/step - loss: 1.0701 - accuracy: 0.4118\n",
            "Epoch 202/300\n",
            "13/13 [==============================] - 0s 4ms/step - loss: 1.0809 - accuracy: 0.4241\n",
            "Epoch 203/300\n",
            "13/13 [==============================] - 0s 4ms/step - loss: 1.0678 - accuracy: 0.4427\n",
            "Epoch 204/300\n",
            "13/13 [==============================] - 0s 4ms/step - loss: 1.0886 - accuracy: 0.4118\n",
            "Epoch 205/300\n",
            "13/13 [==============================] - 0s 4ms/step - loss: 1.0964 - accuracy: 0.4180\n",
            "Epoch 206/300\n",
            "13/13 [==============================] - 0s 4ms/step - loss: 1.0917 - accuracy: 0.3947\n",
            "Epoch 207/300\n",
            "13/13 [==============================] - 0s 4ms/step - loss: 1.1104 - accuracy: 0.3994\n",
            "Epoch 208/300\n",
            "13/13 [==============================] - 0s 4ms/step - loss: 1.0809 - accuracy: 0.4396\n",
            "Epoch 209/300\n",
            "13/13 [==============================] - 0s 4ms/step - loss: 1.0800 - accuracy: 0.4195\n",
            "Epoch 210/300\n",
            "13/13 [==============================] - 0s 4ms/step - loss: 1.0977 - accuracy: 0.4133\n",
            "Epoch 211/300\n",
            "13/13 [==============================] - 0s 4ms/step - loss: 1.0930 - accuracy: 0.4474\n",
            "Epoch 212/300\n",
            "13/13 [==============================] - 0s 4ms/step - loss: 1.0812 - accuracy: 0.4164\n",
            "Epoch 213/300\n",
            "13/13 [==============================] - 0s 4ms/step - loss: 1.0785 - accuracy: 0.4381\n",
            "Epoch 214/300\n",
            "13/13 [==============================] - 0s 4ms/step - loss: 1.0928 - accuracy: 0.4536\n",
            "Epoch 215/300\n",
            "13/13 [==============================] - 0s 4ms/step - loss: 1.0980 - accuracy: 0.4025\n",
            "Epoch 216/300\n",
            "13/13 [==============================] - 0s 4ms/step - loss: 1.0902 - accuracy: 0.4257\n",
            "Epoch 217/300\n",
            "13/13 [==============================] - 0s 4ms/step - loss: 1.0751 - accuracy: 0.4536\n",
            "Epoch 218/300\n",
            "13/13 [==============================] - 0s 4ms/step - loss: 1.0806 - accuracy: 0.4536\n",
            "Epoch 219/300\n",
            "13/13 [==============================] - 0s 4ms/step - loss: 1.0976 - accuracy: 0.4211\n",
            "Epoch 220/300\n",
            "13/13 [==============================] - 0s 4ms/step - loss: 1.0682 - accuracy: 0.4536\n",
            "Epoch 221/300\n",
            "13/13 [==============================] - 0s 4ms/step - loss: 1.0700 - accuracy: 0.4288\n",
            "Epoch 222/300\n",
            "13/13 [==============================] - 1s 4ms/step - loss: 1.0882 - accuracy: 0.3978\n",
            "Epoch 223/300\n",
            "13/13 [==============================] - 0s 4ms/step - loss: 1.0844 - accuracy: 0.4241\n",
            "Epoch 224/300\n",
            "13/13 [==============================] - 0s 4ms/step - loss: 1.0758 - accuracy: 0.4149\n",
            "Epoch 225/300\n",
            "13/13 [==============================] - 0s 4ms/step - loss: 1.0932 - accuracy: 0.4536\n",
            "Epoch 226/300\n",
            "13/13 [==============================] - 0s 4ms/step - loss: 1.0810 - accuracy: 0.4350\n",
            "Epoch 227/300\n",
            "13/13 [==============================] - 0s 4ms/step - loss: 1.0830 - accuracy: 0.4365\n",
            "Epoch 228/300\n",
            "13/13 [==============================] - 0s 4ms/step - loss: 1.1164 - accuracy: 0.3669\n",
            "Epoch 229/300\n",
            "13/13 [==============================] - 0s 4ms/step - loss: 1.0777 - accuracy: 0.4319\n",
            "Epoch 230/300\n",
            "13/13 [==============================] - 0s 4ms/step - loss: 1.0926 - accuracy: 0.4149\n",
            "Epoch 231/300\n",
            "13/13 [==============================] - 0s 4ms/step - loss: 1.0965 - accuracy: 0.4087\n",
            "Epoch 232/300\n",
            "13/13 [==============================] - 0s 4ms/step - loss: 1.0905 - accuracy: 0.3854\n",
            "Epoch 233/300\n",
            "13/13 [==============================] - 0s 4ms/step - loss: 1.1217 - accuracy: 0.4025\n",
            "Epoch 234/300\n",
            "13/13 [==============================] - 0s 4ms/step - loss: 1.1119 - accuracy: 0.4241\n",
            "Epoch 235/300\n",
            "13/13 [==============================] - 0s 4ms/step - loss: 1.0871 - accuracy: 0.4427\n",
            "Epoch 236/300\n",
            "13/13 [==============================] - 0s 4ms/step - loss: 1.0881 - accuracy: 0.4536\n",
            "Epoch 237/300\n",
            "13/13 [==============================] - 0s 4ms/step - loss: 1.0884 - accuracy: 0.4536\n",
            "Epoch 238/300\n",
            "13/13 [==============================] - 0s 4ms/step - loss: 1.1149 - accuracy: 0.3777\n",
            "Epoch 239/300\n",
            "13/13 [==============================] - 0s 4ms/step - loss: 1.0864 - accuracy: 0.4272\n",
            "Epoch 240/300\n",
            "13/13 [==============================] - 0s 4ms/step - loss: 1.0856 - accuracy: 0.4288\n",
            "Epoch 241/300\n",
            "13/13 [==============================] - 0s 4ms/step - loss: 1.0885 - accuracy: 0.4241\n",
            "Epoch 242/300\n",
            "13/13 [==============================] - 0s 4ms/step - loss: 1.0823 - accuracy: 0.4536\n",
            "Epoch 243/300\n",
            "13/13 [==============================] - 0s 4ms/step - loss: 1.1123 - accuracy: 0.4056\n",
            "Epoch 244/300\n",
            "13/13 [==============================] - 0s 4ms/step - loss: 1.1131 - accuracy: 0.3963\n",
            "Epoch 245/300\n",
            "13/13 [==============================] - 0s 4ms/step - loss: 1.0680 - accuracy: 0.4303\n",
            "Epoch 246/300\n",
            "13/13 [==============================] - 0s 4ms/step - loss: 1.0831 - accuracy: 0.4226\n",
            "Epoch 247/300\n",
            "13/13 [==============================] - 0s 4ms/step - loss: 1.1145 - accuracy: 0.3994\n",
            "Epoch 248/300\n",
            "13/13 [==============================] - 0s 4ms/step - loss: 1.1375 - accuracy: 0.3777\n",
            "Epoch 249/300\n",
            "13/13 [==============================] - 0s 4ms/step - loss: 1.0942 - accuracy: 0.4180\n",
            "Epoch 250/300\n",
            "13/13 [==============================] - 0s 4ms/step - loss: 1.0841 - accuracy: 0.4164\n",
            "Epoch 251/300\n",
            "13/13 [==============================] - 0s 4ms/step - loss: 1.0798 - accuracy: 0.4118\n",
            "Epoch 252/300\n",
            "13/13 [==============================] - 0s 4ms/step - loss: 1.0866 - accuracy: 0.4443\n",
            "Epoch 253/300\n",
            "13/13 [==============================] - 0s 4ms/step - loss: 1.0830 - accuracy: 0.4180\n",
            "Epoch 254/300\n",
            "13/13 [==============================] - 0s 4ms/step - loss: 1.0798 - accuracy: 0.4303\n",
            "Epoch 255/300\n",
            "13/13 [==============================] - 0s 4ms/step - loss: 1.0803 - accuracy: 0.4536\n",
            "Epoch 256/300\n",
            "13/13 [==============================] - 0s 4ms/step - loss: 1.0681 - accuracy: 0.4536\n",
            "Epoch 257/300\n",
            "13/13 [==============================] - 0s 4ms/step - loss: 1.0761 - accuracy: 0.4536\n",
            "Epoch 258/300\n",
            "13/13 [==============================] - 0s 4ms/step - loss: 1.0917 - accuracy: 0.4319\n",
            "Epoch 259/300\n",
            "13/13 [==============================] - 0s 4ms/step - loss: 1.1301 - accuracy: 0.3978\n",
            "Epoch 260/300\n",
            "13/13 [==============================] - 0s 4ms/step - loss: 1.0780 - accuracy: 0.4180\n",
            "Epoch 261/300\n",
            "13/13 [==============================] - 0s 4ms/step - loss: 1.0829 - accuracy: 0.4536\n",
            "Epoch 262/300\n",
            "13/13 [==============================] - 0s 4ms/step - loss: 1.1136 - accuracy: 0.3467\n",
            "Epoch 263/300\n",
            "13/13 [==============================] - 0s 4ms/step - loss: 1.0770 - accuracy: 0.4226\n",
            "Epoch 264/300\n",
            "13/13 [==============================] - 0s 4ms/step - loss: 1.0791 - accuracy: 0.4133\n",
            "Epoch 265/300\n",
            "13/13 [==============================] - 0s 4ms/step - loss: 1.0989 - accuracy: 0.4133\n",
            "Epoch 266/300\n",
            "13/13 [==============================] - 0s 4ms/step - loss: 1.0884 - accuracy: 0.4303\n",
            "Epoch 267/300\n",
            "13/13 [==============================] - 0s 4ms/step - loss: 1.0646 - accuracy: 0.4551\n",
            "Epoch 268/300\n",
            "13/13 [==============================] - 0s 4ms/step - loss: 1.1339 - accuracy: 0.3839\n",
            "Epoch 269/300\n",
            "13/13 [==============================] - 0s 4ms/step - loss: 1.0896 - accuracy: 0.3994\n",
            "Epoch 270/300\n",
            "13/13 [==============================] - 0s 4ms/step - loss: 1.0872 - accuracy: 0.4381\n",
            "Epoch 271/300\n",
            "13/13 [==============================] - 0s 4ms/step - loss: 1.0987 - accuracy: 0.4009\n",
            "Epoch 272/300\n",
            "13/13 [==============================] - 0s 4ms/step - loss: 1.0853 - accuracy: 0.4133\n",
            "Epoch 273/300\n",
            "13/13 [==============================] - 0s 4ms/step - loss: 1.0823 - accuracy: 0.4056\n",
            "Epoch 274/300\n",
            "13/13 [==============================] - 0s 4ms/step - loss: 1.0976 - accuracy: 0.4211\n",
            "Epoch 275/300\n",
            "13/13 [==============================] - 0s 4ms/step - loss: 1.0932 - accuracy: 0.4087\n",
            "Epoch 276/300\n",
            "13/13 [==============================] - 0s 4ms/step - loss: 1.1097 - accuracy: 0.4087\n",
            "Epoch 277/300\n",
            "13/13 [==============================] - 0s 4ms/step - loss: 1.0733 - accuracy: 0.4350\n",
            "Epoch 278/300\n",
            "13/13 [==============================] - 0s 4ms/step - loss: 1.0766 - accuracy: 0.4536\n",
            "Epoch 279/300\n",
            "13/13 [==============================] - 0s 4ms/step - loss: 1.0672 - accuracy: 0.4536\n",
            "Epoch 280/300\n",
            "13/13 [==============================] - 0s 4ms/step - loss: 1.0932 - accuracy: 0.4412\n",
            "Epoch 281/300\n",
            "13/13 [==============================] - 0s 4ms/step - loss: 1.0961 - accuracy: 0.3885\n",
            "Epoch 282/300\n",
            "13/13 [==============================] - 0s 4ms/step - loss: 1.0879 - accuracy: 0.3947\n",
            "Epoch 283/300\n",
            "13/13 [==============================] - 0s 4ms/step - loss: 1.0727 - accuracy: 0.4536\n",
            "Epoch 284/300\n",
            "13/13 [==============================] - 0s 4ms/step - loss: 1.0762 - accuracy: 0.4536\n",
            "Epoch 285/300\n",
            "13/13 [==============================] - 0s 4ms/step - loss: 1.0781 - accuracy: 0.4288\n",
            "Epoch 286/300\n",
            "13/13 [==============================] - 0s 4ms/step - loss: 1.0782 - accuracy: 0.4149\n",
            "Epoch 287/300\n",
            "13/13 [==============================] - 0s 4ms/step - loss: 1.0900 - accuracy: 0.4536\n",
            "Epoch 288/300\n",
            "13/13 [==============================] - 0s 4ms/step - loss: 1.1351 - accuracy: 0.3715\n",
            "Epoch 289/300\n",
            "13/13 [==============================] - 0s 4ms/step - loss: 1.0914 - accuracy: 0.4211\n",
            "Epoch 290/300\n",
            "13/13 [==============================] - 0s 4ms/step - loss: 1.0818 - accuracy: 0.4319\n",
            "Epoch 291/300\n",
            "13/13 [==============================] - 0s 4ms/step - loss: 1.0856 - accuracy: 0.4133\n",
            "Epoch 292/300\n",
            "13/13 [==============================] - 0s 4ms/step - loss: 1.0769 - accuracy: 0.4427\n",
            "Epoch 293/300\n",
            "13/13 [==============================] - 0s 4ms/step - loss: 1.0850 - accuracy: 0.4365\n",
            "Epoch 294/300\n",
            "13/13 [==============================] - 0s 4ms/step - loss: 1.0891 - accuracy: 0.4133\n",
            "Epoch 295/300\n",
            "13/13 [==============================] - 0s 4ms/step - loss: 1.0953 - accuracy: 0.4056\n",
            "Epoch 296/300\n",
            "13/13 [==============================] - 0s 4ms/step - loss: 1.1143 - accuracy: 0.3916\n",
            "Epoch 297/300\n",
            "13/13 [==============================] - 0s 4ms/step - loss: 1.0814 - accuracy: 0.4427\n",
            "Epoch 298/300\n",
            "13/13 [==============================] - 0s 4ms/step - loss: 1.0754 - accuracy: 0.4226\n",
            "Epoch 299/300\n",
            "13/13 [==============================] - 0s 4ms/step - loss: 1.1061 - accuracy: 0.4102\n",
            "Epoch 300/300\n",
            "13/13 [==============================] - 0s 4ms/step - loss: 1.1537 - accuracy: 0.3793\n"
          ]
        }
      ]
    },
    {
      "cell_type": "code",
      "source": [
        "from keras.utils import to_categorical\n",
        "from sklearn.metrics import accuracy_score\n",
        "y = model.predict(xtest)\n",
        "\n",
        "yp = [np.argmax(y[i]) for i in range(len(y))]\n",
        "yp = to_categorical(yp, num_classes=3)\n",
        "accuracy_score(y_true=ytest, y_pred=yp)"
      ],
      "metadata": {
        "colab": {
          "base_uri": "https://localhost:8080/"
        },
        "id": "t1ftjRl1NFm6",
        "outputId": "20b42a62-a311-4b9d-af52-09badf8ac79b"
      },
      "execution_count": null,
      "outputs": [
        {
          "output_type": "stream",
          "name": "stdout",
          "text": [
            "6/6 [==============================] - 1s 167ms/step\n"
          ]
        },
        {
          "output_type": "execute_result",
          "data": {
            "text/plain": [
              "0.4691358024691358"
            ]
          },
          "metadata": {},
          "execution_count": 320
        }
      ]
    },
    {
      "cell_type": "markdown",
      "source": [],
      "metadata": {
        "id": "YtTvsLwtKZ9Q"
      }
    },
    {
      "cell_type": "markdown",
      "source": [
        "## Models with Set of 500 Mrmr Features"
      ],
      "metadata": {
        "id": "QDoIXyhT-jTE"
      }
    },
    {
      "cell_type": "code",
      "source": [
        "xtrain, xtest, ytrain, ytest = train_test_split(df, labels, test_size=0.2, random_state=42)"
      ],
      "metadata": {
        "id": "RPs7su7G_zeV"
      },
      "execution_count": null,
      "outputs": []
    },
    {
      "cell_type": "markdown",
      "source": [
        "### SVM Classification"
      ],
      "metadata": {
        "id": "mJO_baMw_YSA"
      }
    },
    {
      "cell_type": "code",
      "source": [
        "# Define parameter grid\n",
        "from sklearn.model_selection import RandomizedSearchCV, RepeatedKFold, GridSearchCV\n",
        "from sklearn.metrics import classification_report\n",
        "\n",
        "param_grid = {\n",
        "  'C': [0.1, 1, 10, 100, 1000],\n",
        "  'gamma': [1, 0.1, 0.01, 0.001, 0.0001],\n",
        "  'kernel': ['rbf', 'poly', 'linear', 'sigmoid']\n",
        "}\n",
        "\n",
        "\n",
        "#define Grid searchCV for hyperparameter fine tuning\n",
        "search = GridSearchCV(SVC(), param_grid, scoring='accuracy', n_jobs=-1, cv=2)# Perform random search\n",
        "\n",
        "result = search.fit(xtrain, ytrain)\n",
        "# Get best parameters and best accuracy\n",
        "best_params = result.best_params_\n",
        "best_accuracy = result.best_score_\n",
        "\n",
        "# summarize result\n",
        "print('Best Score: %s' % result.best_score_)\n",
        "print('Best Hyperparameters: %s' % result.best_params_)"
      ],
      "metadata": {
        "colab": {
          "base_uri": "https://localhost:8080/"
        },
        "id": "cfZX3b5fAQ6r",
        "outputId": "2aa56f4c-d3e0-4984-9bde-0f0b937e8f61"
      },
      "execution_count": null,
      "outputs": [
        {
          "output_type": "stream",
          "name": "stdout",
          "text": [
            "Best Score: 0.45975232198142413\n",
            "Best Hyperparameters: {'C': 0.1, 'gamma': 1, 'kernel': 'rbf'}\n"
          ]
        }
      ]
    },
    {
      "cell_type": "code",
      "source": [
        "model_opt = result.best_estimator_\n",
        "model_opt.fit(xtrain, ytrain)"
      ],
      "metadata": {
        "colab": {
          "base_uri": "https://localhost:8080/",
          "height": 74
        },
        "id": "_Hhgc_IuAcY2",
        "outputId": "5bf412b7-712e-4fb1-c5cd-61ec812922ca"
      },
      "execution_count": null,
      "outputs": [
        {
          "output_type": "execute_result",
          "data": {
            "text/plain": [
              "SVC(C=0.1, gamma=1)"
            ],
            "text/html": [
              "<style>#sk-container-id-15 {color: black;background-color: white;}#sk-container-id-15 pre{padding: 0;}#sk-container-id-15 div.sk-toggleable {background-color: white;}#sk-container-id-15 label.sk-toggleable__label {cursor: pointer;display: block;width: 100%;margin-bottom: 0;padding: 0.3em;box-sizing: border-box;text-align: center;}#sk-container-id-15 label.sk-toggleable__label-arrow:before {content: \"▸\";float: left;margin-right: 0.25em;color: #696969;}#sk-container-id-15 label.sk-toggleable__label-arrow:hover:before {color: black;}#sk-container-id-15 div.sk-estimator:hover label.sk-toggleable__label-arrow:before {color: black;}#sk-container-id-15 div.sk-toggleable__content {max-height: 0;max-width: 0;overflow: hidden;text-align: left;background-color: #f0f8ff;}#sk-container-id-15 div.sk-toggleable__content pre {margin: 0.2em;color: black;border-radius: 0.25em;background-color: #f0f8ff;}#sk-container-id-15 input.sk-toggleable__control:checked~div.sk-toggleable__content {max-height: 200px;max-width: 100%;overflow: auto;}#sk-container-id-15 input.sk-toggleable__control:checked~label.sk-toggleable__label-arrow:before {content: \"▾\";}#sk-container-id-15 div.sk-estimator input.sk-toggleable__control:checked~label.sk-toggleable__label {background-color: #d4ebff;}#sk-container-id-15 div.sk-label input.sk-toggleable__control:checked~label.sk-toggleable__label {background-color: #d4ebff;}#sk-container-id-15 input.sk-hidden--visually {border: 0;clip: rect(1px 1px 1px 1px);clip: rect(1px, 1px, 1px, 1px);height: 1px;margin: -1px;overflow: hidden;padding: 0;position: absolute;width: 1px;}#sk-container-id-15 div.sk-estimator {font-family: monospace;background-color: #f0f8ff;border: 1px dotted black;border-radius: 0.25em;box-sizing: border-box;margin-bottom: 0.5em;}#sk-container-id-15 div.sk-estimator:hover {background-color: #d4ebff;}#sk-container-id-15 div.sk-parallel-item::after {content: \"\";width: 100%;border-bottom: 1px solid gray;flex-grow: 1;}#sk-container-id-15 div.sk-label:hover label.sk-toggleable__label {background-color: #d4ebff;}#sk-container-id-15 div.sk-serial::before {content: \"\";position: absolute;border-left: 1px solid gray;box-sizing: border-box;top: 0;bottom: 0;left: 50%;z-index: 0;}#sk-container-id-15 div.sk-serial {display: flex;flex-direction: column;align-items: center;background-color: white;padding-right: 0.2em;padding-left: 0.2em;position: relative;}#sk-container-id-15 div.sk-item {position: relative;z-index: 1;}#sk-container-id-15 div.sk-parallel {display: flex;align-items: stretch;justify-content: center;background-color: white;position: relative;}#sk-container-id-15 div.sk-item::before, #sk-container-id-15 div.sk-parallel-item::before {content: \"\";position: absolute;border-left: 1px solid gray;box-sizing: border-box;top: 0;bottom: 0;left: 50%;z-index: -1;}#sk-container-id-15 div.sk-parallel-item {display: flex;flex-direction: column;z-index: 1;position: relative;background-color: white;}#sk-container-id-15 div.sk-parallel-item:first-child::after {align-self: flex-end;width: 50%;}#sk-container-id-15 div.sk-parallel-item:last-child::after {align-self: flex-start;width: 50%;}#sk-container-id-15 div.sk-parallel-item:only-child::after {width: 0;}#sk-container-id-15 div.sk-dashed-wrapped {border: 1px dashed gray;margin: 0 0.4em 0.5em 0.4em;box-sizing: border-box;padding-bottom: 0.4em;background-color: white;}#sk-container-id-15 div.sk-label label {font-family: monospace;font-weight: bold;display: inline-block;line-height: 1.2em;}#sk-container-id-15 div.sk-label-container {text-align: center;}#sk-container-id-15 div.sk-container {/* jupyter's `normalize.less` sets `[hidden] { display: none; }` but bootstrap.min.css set `[hidden] { display: none !important; }` so we also need the `!important` here to be able to override the default hidden behavior on the sphinx rendered scikit-learn.org. See: https://github.com/scikit-learn/scikit-learn/issues/21755 */display: inline-block !important;position: relative;}#sk-container-id-15 div.sk-text-repr-fallback {display: none;}</style><div id=\"sk-container-id-15\" class=\"sk-top-container\"><div class=\"sk-text-repr-fallback\"><pre>SVC(C=0.1, gamma=1)</pre><b>In a Jupyter environment, please rerun this cell to show the HTML representation or trust the notebook. <br />On GitHub, the HTML representation is unable to render, please try loading this page with nbviewer.org.</b></div><div class=\"sk-container\" hidden><div class=\"sk-item\"><div class=\"sk-estimator sk-toggleable\"><input class=\"sk-toggleable__control sk-hidden--visually\" id=\"sk-estimator-id-15\" type=\"checkbox\" checked><label for=\"sk-estimator-id-15\" class=\"sk-toggleable__label sk-toggleable__label-arrow\">SVC</label><div class=\"sk-toggleable__content\"><pre>SVC(C=0.1, gamma=1)</pre></div></div></div></div></div>"
            ]
          },
          "metadata": {},
          "execution_count": 559
        }
      ]
    },
    {
      "cell_type": "code",
      "source": [
        "y_pred = model_opt.predict(xtest)"
      ],
      "metadata": {
        "id": "qfUMoVBUAhCF"
      },
      "execution_count": null,
      "outputs": []
    },
    {
      "cell_type": "code",
      "source": [
        "print(classification_report(ytest, y_pred))"
      ],
      "metadata": {
        "colab": {
          "base_uri": "https://localhost:8080/"
        },
        "id": "Q883qJqoAsB0",
        "outputId": "1a736b15-dc79-48b3-96eb-e0041878f8a8"
      },
      "execution_count": null,
      "outputs": [
        {
          "output_type": "stream",
          "name": "stdout",
          "text": [
            "              precision    recall  f1-score   support\n",
            "\n",
            "           1       0.00      0.00      0.00        53\n",
            "           2       0.44      1.00      0.62        72\n",
            "           3       0.00      0.00      0.00        37\n",
            "\n",
            "    accuracy                           0.44       162\n",
            "   macro avg       0.15      0.33      0.21       162\n",
            "weighted avg       0.20      0.44      0.27       162\n",
            "\n"
          ]
        }
      ]
    },
    {
      "cell_type": "code",
      "source": [
        "model = SVC(C=.01, gamma=1, kernel='poly')\n",
        "f = model.fit(xtrain, ytrain)\n",
        "y_pred = f.predict(xtest)\n"
      ],
      "metadata": {
        "id": "rFAB5ihtODl1"
      },
      "execution_count": null,
      "outputs": []
    },
    {
      "cell_type": "code",
      "source": [
        "print(classification_report(ytest, y_pred))"
      ],
      "metadata": {
        "colab": {
          "base_uri": "https://localhost:8080/"
        },
        "id": "hrCDWQ68N8GC",
        "outputId": "333ff355-e625-4e8a-b2e0-74bad3d7ebc1"
      },
      "execution_count": null,
      "outputs": [
        {
          "output_type": "stream",
          "name": "stdout",
          "text": [
            "              precision    recall  f1-score   support\n",
            "\n",
            "           1       0.31      0.34      0.32        53\n",
            "           2       0.48      0.46      0.47        72\n",
            "           3       0.24      0.22      0.23        37\n",
            "\n",
            "    accuracy                           0.36       162\n",
            "   macro avg       0.34      0.34      0.34       162\n",
            "weighted avg       0.37      0.36      0.36       162\n",
            "\n"
          ]
        }
      ]
    },
    {
      "cell_type": "markdown",
      "source": [
        "Not really learning!"
      ],
      "metadata": {
        "id": "Kt7oqQBQRhpA"
      }
    },
    {
      "cell_type": "markdown",
      "source": [
        "### Gausian Naive Bayes"
      ],
      "metadata": {
        "id": "CaDgtH1a_bYn"
      }
    },
    {
      "cell_type": "code",
      "source": [
        "from sklearn.naive_bayes import GaussianNB\n",
        "from sklearn.metrics import accuracy_score\n",
        "nb_classifier = GaussianNB()\n",
        "\n",
        "nb_classifier.fit(xtrain, ytrain)\n",
        "\n",
        "y_pred = nb_classifier.predict(xtest)"
      ],
      "metadata": {
        "id": "5oYwhfvx_hNq"
      },
      "execution_count": null,
      "outputs": []
    },
    {
      "cell_type": "code",
      "source": [
        "print(classification_report(ytest, y_pred))"
      ],
      "metadata": {
        "colab": {
          "base_uri": "https://localhost:8080/"
        },
        "id": "ePtOPConAubW",
        "outputId": "ea1b0a52-4663-4d06-b335-18f2254bb1a8"
      },
      "execution_count": null,
      "outputs": [
        {
          "output_type": "stream",
          "name": "stdout",
          "text": [
            "              precision    recall  f1-score   support\n",
            "\n",
            "           1       0.37      0.13      0.19        53\n",
            "           2       0.41      0.24      0.30        72\n",
            "           3       0.21      0.57      0.30        37\n",
            "\n",
            "    accuracy                           0.28       162\n",
            "   macro avg       0.33      0.31      0.27       162\n",
            "weighted avg       0.35      0.28      0.27       162\n",
            "\n"
          ]
        }
      ]
    },
    {
      "cell_type": "markdown",
      "source": [
        "### Multi-nomial Logistic Regression"
      ],
      "metadata": {
        "id": "1aSL76e5_jIY"
      }
    },
    {
      "cell_type": "code",
      "source": [
        "# Define parameter grid\n",
        "from sklearn.model_selection import RandomizedSearchCV, RepeatedKFold, GridSearchCV\n",
        "from sklearn.metrics import classification_report\n",
        "\n",
        "param_grid = {\n",
        "    'C': [.001, .01, .1, 10, 100],\n",
        "    'multi_class': ['multinomial'],\n",
        "    'solver': ['lbfgs','sag', 'saga', 'newton-cg'], # for multinomial classification only\n",
        "    'penalty': ['l1', 'l2']\n",
        "  }\n",
        "\n",
        "lr = LogisticRegression(max_iter=100)\n",
        "\n",
        "#define Grid searchCV for hyperparameter fine tuning\n",
        "search = GridSearchCV(lr, param_grid, scoring='accuracy', n_jobs=-1)# Perform random search\n",
        "\n",
        "result = search.fit(xtrain, ytrain)\n",
        "# Get best parameters and best accuracy\n",
        "best_params = result.best_params_\n",
        "best_accuracy = result.best_score_\n",
        "\n",
        "# summarize result\n",
        "print('Best Score: %s' % result.best_score_)\n",
        "print('Best Hyperparameters: %s' % result.best_params_)"
      ],
      "metadata": {
        "colab": {
          "base_uri": "https://localhost:8080/"
        },
        "id": "v28pEP7qA2AC",
        "outputId": "cffb4c41-4026-4bc4-d305-ec82aacbfb07"
      },
      "execution_count": null,
      "outputs": [
        {
          "output_type": "stream",
          "name": "stdout",
          "text": [
            "Best Score: 0.45976147883124624\n",
            "Best Hyperparameters: {'C': 0.001, 'multi_class': 'multinomial', 'penalty': 'l1', 'solver': 'saga'}\n"
          ]
        }
      ]
    },
    {
      "cell_type": "code",
      "source": [
        "best_fit = result.best_estimator_.fit(xtrain,ytrain)\n",
        "y_pred = best_fit.predict(xtest)\n",
        "print(classification_report(ytest, y_pred))"
      ],
      "metadata": {
        "colab": {
          "base_uri": "https://localhost:8080/"
        },
        "id": "J4PND2liA_TC",
        "outputId": "629a47fe-38b2-4c65-fed9-32504a8fba92"
      },
      "execution_count": null,
      "outputs": [
        {
          "output_type": "stream",
          "name": "stdout",
          "text": [
            "              precision    recall  f1-score   support\n",
            "\n",
            "           1       0.00      0.00      0.00        53\n",
            "           2       0.44      1.00      0.62        72\n",
            "           3       0.00      0.00      0.00        37\n",
            "\n",
            "    accuracy                           0.44       162\n",
            "   macro avg       0.15      0.33      0.21       162\n",
            "weighted avg       0.20      0.44      0.27       162\n",
            "\n"
          ]
        }
      ]
    },
    {
      "cell_type": "code",
      "source": [
        "model = LogisticRegression(max_iter=10000, C=.1, multi_class='multinomial', penalty='l2', solver='saga')\n",
        "best_fit =model.fit(xtrain,ytrain)"
      ],
      "metadata": {
        "id": "nvE6k8SASM6M"
      },
      "execution_count": null,
      "outputs": []
    },
    {
      "cell_type": "code",
      "source": [
        "y_pred = best_fit.predict(xtest)\n",
        "print(classification_report(ytest, y_pred))"
      ],
      "metadata": {
        "colab": {
          "base_uri": "https://localhost:8080/"
        },
        "id": "EJ6cZMBaTVmS",
        "outputId": "7f6c10d0-4040-4480-96a6-5612d3c0cfa0"
      },
      "execution_count": null,
      "outputs": [
        {
          "output_type": "stream",
          "name": "stdout",
          "text": [
            "              precision    recall  f1-score   support\n",
            "\n",
            "           1       0.29      0.26      0.28        53\n",
            "           2       0.47      0.54      0.50        72\n",
            "           3       0.19      0.16      0.18        37\n",
            "\n",
            "    accuracy                           0.36       162\n",
            "   macro avg       0.32      0.32      0.32       162\n",
            "weighted avg       0.35      0.36      0.35       162\n",
            "\n"
          ]
        }
      ]
    },
    {
      "cell_type": "markdown",
      "source": [
        "<hr>\n",
        "<br>"
      ],
      "metadata": {
        "id": "dE0QXB4sJ8KJ"
      }
    },
    {
      "cell_type": "markdown",
      "source": [
        "### Convulutional Neural Network"
      ],
      "metadata": {
        "id": "ogsndRk2wusA"
      }
    },
    {
      "cell_type": "code",
      "source": [],
      "metadata": {
        "id": "nVz0kmiywt9f"
      },
      "execution_count": null,
      "outputs": []
    },
    {
      "cell_type": "code",
      "source": [
        "from keras.utils import to_categorical\n",
        "from sklearn.metrics import accuracy_score\n",
        "s = to_categorical(df)\n",
        "traits = {'trait': np.asarray(labels)}\n",
        "traits = pd.DataFrame(traits)"
      ],
      "metadata": {
        "id": "Lu8H78sOU1Wi"
      },
      "execution_count": null,
      "outputs": []
    },
    {
      "cell_type": "code",
      "source": [],
      "metadata": {
        "id": "KUwsyyVFajS_"
      },
      "execution_count": null,
      "outputs": []
    },
    {
      "cell_type": "code",
      "source": [
        "traits.shape"
      ],
      "metadata": {
        "colab": {
          "base_uri": "https://localhost:8080/"
        },
        "id": "CEC-Il6Lbz8x",
        "outputId": "4bb96314-0857-4335-983d-aebc4e999d0f"
      },
      "execution_count": null,
      "outputs": [
        {
          "output_type": "execute_result",
          "data": {
            "text/plain": [
              "(808, 1)"
            ]
          },
          "metadata": {},
          "execution_count": 133
        }
      ]
    },
    {
      "cell_type": "code",
      "source": [
        "df.shape"
      ],
      "metadata": {
        "colab": {
          "base_uri": "https://localhost:8080/"
        },
        "id": "wSSPjFdvbrzP",
        "outputId": "b6be4bc7-55ff-4aa9-e819-c82d77ec871b"
      },
      "execution_count": null,
      "outputs": [
        {
          "output_type": "execute_result",
          "data": {
            "text/plain": [
              "(808, 500)"
            ]
          },
          "metadata": {},
          "execution_count": 134
        }
      ]
    },
    {
      "cell_type": "code",
      "source": [
        "tdf = pd.concat([traits, df], axis=1)"
      ],
      "metadata": {
        "id": "h_5Gq3cQaJsE"
      },
      "execution_count": null,
      "outputs": []
    },
    {
      "cell_type": "code",
      "source": [
        "tdf"
      ],
      "metadata": {
        "colab": {
          "base_uri": "https://localhost:8080/",
          "height": 444
        },
        "id": "fXk36ZxfZ0E7",
        "outputId": "92371eb9-d2eb-4fa1-8b32-ef18ac02cb4c"
      },
      "execution_count": null,
      "outputs": [
        {
          "output_type": "execute_result",
          "data": {
            "text/plain": [
              "     trait  variant19162  variant29244  variant41665  variant25562  ...  \\\n",
              "0        3           0.0           1.0           2.0           2.0  ...   \n",
              "1        2           1.0           2.0           1.0           1.0  ...   \n",
              "2        3           2.0           1.0           2.0           1.0  ...   \n",
              "3        3           1.0           1.0           2.0           2.0  ...   \n",
              "4        1           2.0           1.0           2.0           1.0  ...   \n",
              "..     ...           ...           ...           ...           ...  ...   \n",
              "803      2           0.0           2.0           2.0           2.0  ...   \n",
              "804      3           2.0           2.0           2.0           1.0  ...   \n",
              "805      2           2.0           1.0           2.0           1.0  ...   \n",
              "806      1           2.0           1.0           2.0           1.0  ...   \n",
              "807      2           1.0           1.0           2.0           2.0  ...   \n",
              "\n",
              "     variant2379797  variant2379780  variant2379767  variant2379804  \\\n",
              "0               2.0             2.0             2.0             2.0   \n",
              "1               2.0             2.0             2.0             2.0   \n",
              "2               2.0             2.0             2.0             2.0   \n",
              "3               2.0             2.0             2.0             2.0   \n",
              "4               2.0             2.0             2.0             2.0   \n",
              "..              ...             ...             ...             ...   \n",
              "803             2.0             2.0             2.0             2.0   \n",
              "804             2.0             2.0             2.0             2.0   \n",
              "805             2.0             2.0             2.0             2.0   \n",
              "806             2.0             2.0             2.0             2.0   \n",
              "807             2.0             2.0             2.0             2.0   \n",
              "\n",
              "     variant2379803  \n",
              "0               2.0  \n",
              "1               2.0  \n",
              "2               2.0  \n",
              "3               2.0  \n",
              "4               2.0  \n",
              "..              ...  \n",
              "803             2.0  \n",
              "804             2.0  \n",
              "805             2.0  \n",
              "806             2.0  \n",
              "807             2.0  \n",
              "\n",
              "[808 rows x 501 columns]"
            ],
            "text/html": [
              "\n",
              "  <div id=\"df-b15abc3d-3134-4a88-b28d-e29106ae6d8e\" class=\"colab-df-container\">\n",
              "    <div>\n",
              "<style scoped>\n",
              "    .dataframe tbody tr th:only-of-type {\n",
              "        vertical-align: middle;\n",
              "    }\n",
              "\n",
              "    .dataframe tbody tr th {\n",
              "        vertical-align: top;\n",
              "    }\n",
              "\n",
              "    .dataframe thead th {\n",
              "        text-align: right;\n",
              "    }\n",
              "</style>\n",
              "<table border=\"1\" class=\"dataframe\">\n",
              "  <thead>\n",
              "    <tr style=\"text-align: right;\">\n",
              "      <th></th>\n",
              "      <th>trait</th>\n",
              "      <th>variant19162</th>\n",
              "      <th>variant29244</th>\n",
              "      <th>variant41665</th>\n",
              "      <th>variant25562</th>\n",
              "      <th>...</th>\n",
              "      <th>variant2379797</th>\n",
              "      <th>variant2379780</th>\n",
              "      <th>variant2379767</th>\n",
              "      <th>variant2379804</th>\n",
              "      <th>variant2379803</th>\n",
              "    </tr>\n",
              "  </thead>\n",
              "  <tbody>\n",
              "    <tr>\n",
              "      <th>0</th>\n",
              "      <td>3</td>\n",
              "      <td>0.0</td>\n",
              "      <td>1.0</td>\n",
              "      <td>2.0</td>\n",
              "      <td>2.0</td>\n",
              "      <td>...</td>\n",
              "      <td>2.0</td>\n",
              "      <td>2.0</td>\n",
              "      <td>2.0</td>\n",
              "      <td>2.0</td>\n",
              "      <td>2.0</td>\n",
              "    </tr>\n",
              "    <tr>\n",
              "      <th>1</th>\n",
              "      <td>2</td>\n",
              "      <td>1.0</td>\n",
              "      <td>2.0</td>\n",
              "      <td>1.0</td>\n",
              "      <td>1.0</td>\n",
              "      <td>...</td>\n",
              "      <td>2.0</td>\n",
              "      <td>2.0</td>\n",
              "      <td>2.0</td>\n",
              "      <td>2.0</td>\n",
              "      <td>2.0</td>\n",
              "    </tr>\n",
              "    <tr>\n",
              "      <th>2</th>\n",
              "      <td>3</td>\n",
              "      <td>2.0</td>\n",
              "      <td>1.0</td>\n",
              "      <td>2.0</td>\n",
              "      <td>1.0</td>\n",
              "      <td>...</td>\n",
              "      <td>2.0</td>\n",
              "      <td>2.0</td>\n",
              "      <td>2.0</td>\n",
              "      <td>2.0</td>\n",
              "      <td>2.0</td>\n",
              "    </tr>\n",
              "    <tr>\n",
              "      <th>3</th>\n",
              "      <td>3</td>\n",
              "      <td>1.0</td>\n",
              "      <td>1.0</td>\n",
              "      <td>2.0</td>\n",
              "      <td>2.0</td>\n",
              "      <td>...</td>\n",
              "      <td>2.0</td>\n",
              "      <td>2.0</td>\n",
              "      <td>2.0</td>\n",
              "      <td>2.0</td>\n",
              "      <td>2.0</td>\n",
              "    </tr>\n",
              "    <tr>\n",
              "      <th>4</th>\n",
              "      <td>1</td>\n",
              "      <td>2.0</td>\n",
              "      <td>1.0</td>\n",
              "      <td>2.0</td>\n",
              "      <td>1.0</td>\n",
              "      <td>...</td>\n",
              "      <td>2.0</td>\n",
              "      <td>2.0</td>\n",
              "      <td>2.0</td>\n",
              "      <td>2.0</td>\n",
              "      <td>2.0</td>\n",
              "    </tr>\n",
              "    <tr>\n",
              "      <th>...</th>\n",
              "      <td>...</td>\n",
              "      <td>...</td>\n",
              "      <td>...</td>\n",
              "      <td>...</td>\n",
              "      <td>...</td>\n",
              "      <td>...</td>\n",
              "      <td>...</td>\n",
              "      <td>...</td>\n",
              "      <td>...</td>\n",
              "      <td>...</td>\n",
              "      <td>...</td>\n",
              "    </tr>\n",
              "    <tr>\n",
              "      <th>803</th>\n",
              "      <td>2</td>\n",
              "      <td>0.0</td>\n",
              "      <td>2.0</td>\n",
              "      <td>2.0</td>\n",
              "      <td>2.0</td>\n",
              "      <td>...</td>\n",
              "      <td>2.0</td>\n",
              "      <td>2.0</td>\n",
              "      <td>2.0</td>\n",
              "      <td>2.0</td>\n",
              "      <td>2.0</td>\n",
              "    </tr>\n",
              "    <tr>\n",
              "      <th>804</th>\n",
              "      <td>3</td>\n",
              "      <td>2.0</td>\n",
              "      <td>2.0</td>\n",
              "      <td>2.0</td>\n",
              "      <td>1.0</td>\n",
              "      <td>...</td>\n",
              "      <td>2.0</td>\n",
              "      <td>2.0</td>\n",
              "      <td>2.0</td>\n",
              "      <td>2.0</td>\n",
              "      <td>2.0</td>\n",
              "    </tr>\n",
              "    <tr>\n",
              "      <th>805</th>\n",
              "      <td>2</td>\n",
              "      <td>2.0</td>\n",
              "      <td>1.0</td>\n",
              "      <td>2.0</td>\n",
              "      <td>1.0</td>\n",
              "      <td>...</td>\n",
              "      <td>2.0</td>\n",
              "      <td>2.0</td>\n",
              "      <td>2.0</td>\n",
              "      <td>2.0</td>\n",
              "      <td>2.0</td>\n",
              "    </tr>\n",
              "    <tr>\n",
              "      <th>806</th>\n",
              "      <td>1</td>\n",
              "      <td>2.0</td>\n",
              "      <td>1.0</td>\n",
              "      <td>2.0</td>\n",
              "      <td>1.0</td>\n",
              "      <td>...</td>\n",
              "      <td>2.0</td>\n",
              "      <td>2.0</td>\n",
              "      <td>2.0</td>\n",
              "      <td>2.0</td>\n",
              "      <td>2.0</td>\n",
              "    </tr>\n",
              "    <tr>\n",
              "      <th>807</th>\n",
              "      <td>2</td>\n",
              "      <td>1.0</td>\n",
              "      <td>1.0</td>\n",
              "      <td>2.0</td>\n",
              "      <td>2.0</td>\n",
              "      <td>...</td>\n",
              "      <td>2.0</td>\n",
              "      <td>2.0</td>\n",
              "      <td>2.0</td>\n",
              "      <td>2.0</td>\n",
              "      <td>2.0</td>\n",
              "    </tr>\n",
              "  </tbody>\n",
              "</table>\n",
              "<p>808 rows × 501 columns</p>\n",
              "</div>\n",
              "    <div class=\"colab-df-buttons\">\n",
              "\n",
              "  <div class=\"colab-df-container\">\n",
              "    <button class=\"colab-df-convert\" onclick=\"convertToInteractive('df-b15abc3d-3134-4a88-b28d-e29106ae6d8e')\"\n",
              "            title=\"Convert this dataframe to an interactive table.\"\n",
              "            style=\"display:none;\">\n",
              "\n",
              "  <svg xmlns=\"http://www.w3.org/2000/svg\" height=\"24px\" viewBox=\"0 -960 960 960\">\n",
              "    <path d=\"M120-120v-720h720v720H120Zm60-500h600v-160H180v160Zm220 220h160v-160H400v160Zm0 220h160v-160H400v160ZM180-400h160v-160H180v160Zm440 0h160v-160H620v160ZM180-180h160v-160H180v160Zm440 0h160v-160H620v160Z\"/>\n",
              "  </svg>\n",
              "    </button>\n",
              "\n",
              "  <style>\n",
              "    .colab-df-container {\n",
              "      display:flex;\n",
              "      gap: 12px;\n",
              "    }\n",
              "\n",
              "    .colab-df-convert {\n",
              "      background-color: #E8F0FE;\n",
              "      border: none;\n",
              "      border-radius: 50%;\n",
              "      cursor: pointer;\n",
              "      display: none;\n",
              "      fill: #1967D2;\n",
              "      height: 32px;\n",
              "      padding: 0 0 0 0;\n",
              "      width: 32px;\n",
              "    }\n",
              "\n",
              "    .colab-df-convert:hover {\n",
              "      background-color: #E2EBFA;\n",
              "      box-shadow: 0px 1px 2px rgba(60, 64, 67, 0.3), 0px 1px 3px 1px rgba(60, 64, 67, 0.15);\n",
              "      fill: #174EA6;\n",
              "    }\n",
              "\n",
              "    .colab-df-buttons div {\n",
              "      margin-bottom: 4px;\n",
              "    }\n",
              "\n",
              "    [theme=dark] .colab-df-convert {\n",
              "      background-color: #3B4455;\n",
              "      fill: #D2E3FC;\n",
              "    }\n",
              "\n",
              "    [theme=dark] .colab-df-convert:hover {\n",
              "      background-color: #434B5C;\n",
              "      box-shadow: 0px 1px 3px 1px rgba(0, 0, 0, 0.15);\n",
              "      filter: drop-shadow(0px 1px 2px rgba(0, 0, 0, 0.3));\n",
              "      fill: #FFFFFF;\n",
              "    }\n",
              "  </style>\n",
              "\n",
              "    <script>\n",
              "      const buttonEl =\n",
              "        document.querySelector('#df-b15abc3d-3134-4a88-b28d-e29106ae6d8e button.colab-df-convert');\n",
              "      buttonEl.style.display =\n",
              "        google.colab.kernel.accessAllowed ? 'block' : 'none';\n",
              "\n",
              "      async function convertToInteractive(key) {\n",
              "        const element = document.querySelector('#df-b15abc3d-3134-4a88-b28d-e29106ae6d8e');\n",
              "        const dataTable =\n",
              "          await google.colab.kernel.invokeFunction('convertToInteractive',\n",
              "                                                    [key], {});\n",
              "        if (!dataTable) return;\n",
              "\n",
              "        const docLinkHtml = 'Like what you see? Visit the ' +\n",
              "          '<a target=\"_blank\" href=https://colab.research.google.com/notebooks/data_table.ipynb>data table notebook</a>'\n",
              "          + ' to learn more about interactive tables.';\n",
              "        element.innerHTML = '';\n",
              "        dataTable['output_type'] = 'display_data';\n",
              "        await google.colab.output.renderOutput(dataTable, element);\n",
              "        const docLink = document.createElement('div');\n",
              "        docLink.innerHTML = docLinkHtml;\n",
              "        element.appendChild(docLink);\n",
              "      }\n",
              "    </script>\n",
              "  </div>\n",
              "\n",
              "\n",
              "<div id=\"df-898b0e17-bfe1-4b7d-9df2-86db1a4c7a37\">\n",
              "  <button class=\"colab-df-quickchart\" onclick=\"quickchart('df-898b0e17-bfe1-4b7d-9df2-86db1a4c7a37')\"\n",
              "            title=\"Suggest charts\"\n",
              "            style=\"display:none;\">\n",
              "\n",
              "<svg xmlns=\"http://www.w3.org/2000/svg\" height=\"24px\"viewBox=\"0 0 24 24\"\n",
              "     width=\"24px\">\n",
              "    <g>\n",
              "        <path d=\"M19 3H5c-1.1 0-2 .9-2 2v14c0 1.1.9 2 2 2h14c1.1 0 2-.9 2-2V5c0-1.1-.9-2-2-2zM9 17H7v-7h2v7zm4 0h-2V7h2v10zm4 0h-2v-4h2v4z\"/>\n",
              "    </g>\n",
              "</svg>\n",
              "  </button>\n",
              "\n",
              "<style>\n",
              "  .colab-df-quickchart {\n",
              "      --bg-color: #E8F0FE;\n",
              "      --fill-color: #1967D2;\n",
              "      --hover-bg-color: #E2EBFA;\n",
              "      --hover-fill-color: #174EA6;\n",
              "      --disabled-fill-color: #AAA;\n",
              "      --disabled-bg-color: #DDD;\n",
              "  }\n",
              "\n",
              "  [theme=dark] .colab-df-quickchart {\n",
              "      --bg-color: #3B4455;\n",
              "      --fill-color: #D2E3FC;\n",
              "      --hover-bg-color: #434B5C;\n",
              "      --hover-fill-color: #FFFFFF;\n",
              "      --disabled-bg-color: #3B4455;\n",
              "      --disabled-fill-color: #666;\n",
              "  }\n",
              "\n",
              "  .colab-df-quickchart {\n",
              "    background-color: var(--bg-color);\n",
              "    border: none;\n",
              "    border-radius: 50%;\n",
              "    cursor: pointer;\n",
              "    display: none;\n",
              "    fill: var(--fill-color);\n",
              "    height: 32px;\n",
              "    padding: 0;\n",
              "    width: 32px;\n",
              "  }\n",
              "\n",
              "  .colab-df-quickchart:hover {\n",
              "    background-color: var(--hover-bg-color);\n",
              "    box-shadow: 0 1px 2px rgba(60, 64, 67, 0.3), 0 1px 3px 1px rgba(60, 64, 67, 0.15);\n",
              "    fill: var(--button-hover-fill-color);\n",
              "  }\n",
              "\n",
              "  .colab-df-quickchart-complete:disabled,\n",
              "  .colab-df-quickchart-complete:disabled:hover {\n",
              "    background-color: var(--disabled-bg-color);\n",
              "    fill: var(--disabled-fill-color);\n",
              "    box-shadow: none;\n",
              "  }\n",
              "\n",
              "  .colab-df-spinner {\n",
              "    border: 2px solid var(--fill-color);\n",
              "    border-color: transparent;\n",
              "    border-bottom-color: var(--fill-color);\n",
              "    animation:\n",
              "      spin 1s steps(1) infinite;\n",
              "  }\n",
              "\n",
              "  @keyframes spin {\n",
              "    0% {\n",
              "      border-color: transparent;\n",
              "      border-bottom-color: var(--fill-color);\n",
              "      border-left-color: var(--fill-color);\n",
              "    }\n",
              "    20% {\n",
              "      border-color: transparent;\n",
              "      border-left-color: var(--fill-color);\n",
              "      border-top-color: var(--fill-color);\n",
              "    }\n",
              "    30% {\n",
              "      border-color: transparent;\n",
              "      border-left-color: var(--fill-color);\n",
              "      border-top-color: var(--fill-color);\n",
              "      border-right-color: var(--fill-color);\n",
              "    }\n",
              "    40% {\n",
              "      border-color: transparent;\n",
              "      border-right-color: var(--fill-color);\n",
              "      border-top-color: var(--fill-color);\n",
              "    }\n",
              "    60% {\n",
              "      border-color: transparent;\n",
              "      border-right-color: var(--fill-color);\n",
              "    }\n",
              "    80% {\n",
              "      border-color: transparent;\n",
              "      border-right-color: var(--fill-color);\n",
              "      border-bottom-color: var(--fill-color);\n",
              "    }\n",
              "    90% {\n",
              "      border-color: transparent;\n",
              "      border-bottom-color: var(--fill-color);\n",
              "    }\n",
              "  }\n",
              "</style>\n",
              "\n",
              "  <script>\n",
              "    async function quickchart(key) {\n",
              "      const quickchartButtonEl =\n",
              "        document.querySelector('#' + key + ' button');\n",
              "      quickchartButtonEl.disabled = true;  // To prevent multiple clicks.\n",
              "      quickchartButtonEl.classList.add('colab-df-spinner');\n",
              "      try {\n",
              "        const charts = await google.colab.kernel.invokeFunction(\n",
              "            'suggestCharts', [key], {});\n",
              "      } catch (error) {\n",
              "        console.error('Error during call to suggestCharts:', error);\n",
              "      }\n",
              "      quickchartButtonEl.classList.remove('colab-df-spinner');\n",
              "      quickchartButtonEl.classList.add('colab-df-quickchart-complete');\n",
              "    }\n",
              "    (() => {\n",
              "      let quickchartButtonEl =\n",
              "        document.querySelector('#df-898b0e17-bfe1-4b7d-9df2-86db1a4c7a37 button');\n",
              "      quickchartButtonEl.style.display =\n",
              "        google.colab.kernel.accessAllowed ? 'block' : 'none';\n",
              "    })();\n",
              "  </script>\n",
              "</div>\n",
              "\n",
              "  <div id=\"id_c542e781-55b0-47d1-ac96-c2cc083600ca\">\n",
              "    <style>\n",
              "      .colab-df-generate {\n",
              "        background-color: #E8F0FE;\n",
              "        border: none;\n",
              "        border-radius: 50%;\n",
              "        cursor: pointer;\n",
              "        display: none;\n",
              "        fill: #1967D2;\n",
              "        height: 32px;\n",
              "        padding: 0 0 0 0;\n",
              "        width: 32px;\n",
              "      }\n",
              "\n",
              "      .colab-df-generate:hover {\n",
              "        background-color: #E2EBFA;\n",
              "        box-shadow: 0px 1px 2px rgba(60, 64, 67, 0.3), 0px 1px 3px 1px rgba(60, 64, 67, 0.15);\n",
              "        fill: #174EA6;\n",
              "      }\n",
              "\n",
              "      [theme=dark] .colab-df-generate {\n",
              "        background-color: #3B4455;\n",
              "        fill: #D2E3FC;\n",
              "      }\n",
              "\n",
              "      [theme=dark] .colab-df-generate:hover {\n",
              "        background-color: #434B5C;\n",
              "        box-shadow: 0px 1px 3px 1px rgba(0, 0, 0, 0.15);\n",
              "        filter: drop-shadow(0px 1px 2px rgba(0, 0, 0, 0.3));\n",
              "        fill: #FFFFFF;\n",
              "      }\n",
              "    </style>\n",
              "    <button class=\"colab-df-generate\" onclick=\"generateWithVariable('tdf')\"\n",
              "            title=\"Generate code using this dataframe.\"\n",
              "            style=\"display:none;\">\n",
              "\n",
              "  <svg xmlns=\"http://www.w3.org/2000/svg\" height=\"24px\"viewBox=\"0 0 24 24\"\n",
              "       width=\"24px\">\n",
              "    <path d=\"M7,19H8.4L18.45,9,17,7.55,7,17.6ZM5,21V16.75L18.45,3.32a2,2,0,0,1,2.83,0l1.4,1.43a1.91,1.91,0,0,1,.58,1.4,1.91,1.91,0,0,1-.58,1.4L9.25,21ZM18.45,9,17,7.55Zm-12,3A5.31,5.31,0,0,0,4.9,8.1,5.31,5.31,0,0,0,1,6.5,5.31,5.31,0,0,0,4.9,4.9,5.31,5.31,0,0,0,6.5,1,5.31,5.31,0,0,0,8.1,4.9,5.31,5.31,0,0,0,12,6.5,5.46,5.46,0,0,0,6.5,12Z\"/>\n",
              "  </svg>\n",
              "    </button>\n",
              "    <script>\n",
              "      (() => {\n",
              "      const buttonEl =\n",
              "        document.querySelector('#id_c542e781-55b0-47d1-ac96-c2cc083600ca button.colab-df-generate');\n",
              "      buttonEl.style.display =\n",
              "        google.colab.kernel.accessAllowed ? 'block' : 'none';\n",
              "\n",
              "      buttonEl.onclick = () => {\n",
              "        google.colab.notebook.generateWithVariable('tdf');\n",
              "      }\n",
              "      })();\n",
              "    </script>\n",
              "  </div>\n",
              "\n",
              "    </div>\n",
              "  </div>\n"
            ],
            "application/vnd.google.colaboratory.intrinsic+json": {
              "type": "dataframe",
              "variable_name": "tdf"
            }
          },
          "metadata": {},
          "execution_count": 185
        }
      ]
    },
    {
      "cell_type": "markdown",
      "source": [
        "Lets see what happens when we give the model genetic data reshaped to look like images."
      ],
      "metadata": {
        "id": "QMKjMb-zmwK0"
      }
    },
    {
      "cell_type": "code",
      "source": [
        "# get one of each trait:\n",
        "t123 = [0, 1, 4]\n",
        "sample = df.loc[t123]\n",
        "sImgs = to_categorical(sample)\n",
        "sImgs = sImgs.reshape(3, 20, 25, 3)\n",
        "\n",
        "plt.figure(figsize=(100,300))\n",
        "for i in range(0,3):\n",
        "  plt.subplot(20, 25, i+1)\n",
        "  plt.imshow(sImgs[i])\n",
        "  plt.title(('Trait:' + str(tdf['trait'].loc[t123[i]])))"
      ],
      "metadata": {
        "colab": {
          "base_uri": "https://localhost:8080/",
          "height": 291
        },
        "id": "V1JSGgtJcRqy",
        "outputId": "79e788c1-bf78-4fd6-c27b-c8082db6c59a"
      },
      "execution_count": null,
      "outputs": [
        {
          "output_type": "display_data",
          "data": {
            "text/plain": [
              "<Figure size 10000x30000 with 3 Axes>"
            ],
            "image/png": "[encoded data removed]"
          },
          "metadata": {}
        }
      ]
    },
    {
      "cell_type": "code",
      "source": [
        "encoded_variants = to_categorical(df)\n"
      ],
      "metadata": {
        "id": "jyMsUzNPnNyS"
      },
      "execution_count": null,
      "outputs": []
    },
    {
      "cell_type": "code",
      "source": [
        "adj = labels-1\n",
        "encoded_labels = to_categorical(adj)\n",
        "encoded_labels.shape"
      ],
      "metadata": {
        "colab": {
          "base_uri": "https://localhost:8080/"
        },
        "id": "IzwT-eBUsgtr",
        "outputId": "d547ce92-dbc3-4997-e4af-a28ab196bf53"
      },
      "execution_count": null,
      "outputs": [
        {
          "output_type": "execute_result",
          "data": {
            "text/plain": [
              "(808, 3)"
            ]
          },
          "metadata": {},
          "execution_count": 11
        }
      ]
    },
    {
      "cell_type": "code",
      "source": [
        "data = encoded_variants.reshape(808, 20,25,3)"
      ],
      "metadata": {
        "id": "g3-vAOhuoED5"
      },
      "execution_count": null,
      "outputs": []
    },
    {
      "cell_type": "code",
      "source": [
        "xtrain, xtest, ytrain, ytest = train_test_split(data, encoded_labels, test_size=.2)"
      ],
      "metadata": {
        "id": "A-oqL2Xcoae3"
      },
      "execution_count": null,
      "outputs": []
    },
    {
      "cell_type": "code",
      "source": [
        "!pip install keras-tuner"
      ],
      "metadata": {
        "colab": {
          "base_uri": "https://localhost:8080/"
        },
        "id": "_1co55Bcw7YW",
        "outputId": "73745fb7-cdfe-4044-f256-070a89feebcf"
      },
      "execution_count": null,
      "outputs": [
        {
          "output_type": "stream",
          "name": "stdout",
          "text": [
            "Collecting keras-tuner\n",
            "  Downloading keras_tuner-1.4.7-py3-none-any.whl (129 kB)\n",
            "\u001b[?25l     \u001b[90m━━━━━━━━━━━━━━━━━━━━━━━━━━━━━━━━━━━━━━━━\u001b[0m \u001b[32m0.0/129.1 kB\u001b[0m \u001b[31m?\u001b[0m eta \u001b[36m-:--:--\u001b[0m\r\u001b[2K     \u001b[91m━━━━━━━━━━━━━━━━━━━━━━━━━━━━━━━━━━━━━━\u001b[0m\u001b[90m╺\u001b[0m\u001b[90m━\u001b[0m \u001b[32m122.9/129.1 kB\u001b[0m \u001b[31m3.8 MB/s\u001b[0m eta \u001b[36m0:00:01\u001b[0m\r\u001b[2K     \u001b[90m━━━━━━━━━━━━━━━━━━━━━━━━━━━━━━━━━━━━━━━━\u001b[0m \u001b[32m129.1/129.1 kB\u001b[0m \u001b[31m3.3 MB/s\u001b[0m eta \u001b[36m0:00:00\u001b[0m\n",
            "\u001b[?25hRequirement already satisfied: keras in /usr/local/lib/python3.10/dist-packages (from keras-tuner) (2.15.0)\n",
            "Requirement already satisfied: packaging in /usr/local/lib/python3.10/dist-packages (from keras-tuner) (24.0)\n",
            "Requirement already satisfied: requests in /usr/local/lib/python3.10/dist-packages (from keras-tuner) (2.31.0)\n",
            "Collecting kt-legacy (from keras-tuner)\n",
            "  Downloading kt_legacy-1.0.5-py3-none-any.whl (9.6 kB)\n",
            "Requirement already satisfied: charset-normalizer<4,>=2 in /usr/local/lib/python3.10/dist-packages (from requests->keras-tuner) (3.3.2)\n",
            "Requirement already satisfied: idna<4,>=2.5 in /usr/local/lib/python3.10/dist-packages (from requests->keras-tuner) (3.7)\n",
            "Requirement already satisfied: urllib3<3,>=1.21.1 in /usr/local/lib/python3.10/dist-packages (from requests->keras-tuner) (2.0.7)\n",
            "Requirement already satisfied: certifi>=2017.4.17 in /usr/local/lib/python3.10/dist-packages (from requests->keras-tuner) (2024.2.2)\n",
            "Installing collected packages: kt-legacy, keras-tuner\n",
            "Successfully installed keras-tuner-1.4.7 kt-legacy-1.0.5\n"
          ]
        }
      ]
    },
    {
      "cell_type": "code",
      "source": [
        "import tensorflow as tf\n",
        "import numpy as np\n",
        "import os\n",
        "from tensorflow import keras\n",
        "from keras.optimizers import Adam\n",
        "from keras import Sequential\n",
        "import keras_tuner\n",
        "from keras.layers import Input, Conv2D, MaxPooling2D, Flatten, Dense, Dropout"
      ],
      "metadata": {
        "id": "10rTd0eRw_HL"
      },
      "execution_count": null,
      "outputs": []
    },
    {
      "cell_type": "code",
      "source": [],
      "metadata": {
        "id": "yc_1bYoLsK4a"
      },
      "execution_count": null,
      "outputs": []
    },
    {
      "cell_type": "code",
      "source": [
        "dropout = .001\n",
        "lr = 1\n",
        "# Define input shape\n",
        "# Create a Sequential model\n",
        "input_shape = (20,25,3)\n",
        "model = Sequential()\n",
        "\n",
        "model.add(Input(shape=input_shape))\n",
        "\n",
        "# Add Convolutional layers with larger kernel sizes and 'same' padding\n",
        "model.add(Conv2D(32, kernel_size=(3, 3), activation='relu', input_shape=input_shape, padding='same'))\n",
        "\n",
        "model.add(MaxPooling2D(pool_size=(3, 3)))\n",
        "model.add(Dropout(rate=dropout))\n",
        "\n",
        "model.add(Conv2D(64, kernel_size=(3, 3), activation='relu', padding='same'))\n",
        "model.add(Conv2D(64, kernel_size=(3, 3), activation='relu', padding='same'))\n",
        "model.add(Conv2D(64, kernel_size=(3, 3), activation='relu', padding='same'))\n",
        "model.add(MaxPooling2D(pool_size=(3, 3)))\n",
        "model.add(Dropout(rate=dropout))\n",
        "\n",
        "model.add(Conv2D(128, kernel_size=(3, 3), activation='relu', padding='same'))\n",
        "model.add(MaxPooling2D(pool_size=(2, 2)))\n",
        "model.add(Dropout(rate=dropout))\n",
        "\n",
        "# Flatten layer to convert 2D feature maps into a 1D vector\n",
        "model.add(Flatten())\n",
        "# Output layer\n",
        "model.add(Dense(3, activation='softmax'))\n",
        "\n",
        "# Compile the model\n",
        "with tf.device('/GPU:0'):\n",
        "  model.compile(loss='categorical_crossentropy', optimizer=Adam(learning_rate=lr), metrics=['accuracy'])\n",
        "model.summary()"
      ],
      "metadata": {
        "id": "C_IZO4v_mIAF",
        "colab": {
          "base_uri": "https://localhost:8080/"
        },
        "outputId": "972bb73f-b7ac-447a-98f4-ed524b4616cf"
      },
      "execution_count": null,
      "outputs": [
        {
          "output_type": "stream",
          "name": "stdout",
          "text": [
            "Model: \"sequential_68\"\n",
            "_________________________________________________________________\n",
            " Layer (type)                Output Shape              Param #   \n",
            "=================================================================\n",
            " conv2d_310 (Conv2D)         (None, 20, 25, 32)        896       \n",
            "                                                                 \n",
            " max_pooling2d_202 (MaxPool  (None, 6, 8, 32)          0         \n",
            " ing2D)                                                          \n",
            "                                                                 \n",
            " dropout_208 (Dropout)       (None, 6, 8, 32)          0         \n",
            "                                                                 \n",
            " conv2d_311 (Conv2D)         (None, 6, 8, 64)          18496     \n",
            "                                                                 \n",
            " conv2d_312 (Conv2D)         (None, 6, 8, 64)          36928     \n",
            "                                                                 \n",
            " conv2d_313 (Conv2D)         (None, 6, 8, 64)          36928     \n",
            "                                                                 \n",
            " max_pooling2d_203 (MaxPool  (None, 2, 2, 64)          0         \n",
            " ing2D)                                                          \n",
            "                                                                 \n",
            " dropout_209 (Dropout)       (None, 2, 2, 64)          0         \n",
            "                                                                 \n",
            " conv2d_314 (Conv2D)         (None, 2, 2, 128)         73856     \n",
            "                                                                 \n",
            " max_pooling2d_204 (MaxPool  (None, 1, 1, 128)         0         \n",
            " ing2D)                                                          \n",
            "                                                                 \n",
            " dropout_210 (Dropout)       (None, 1, 1, 128)         0         \n",
            "                                                                 \n",
            " flatten_68 (Flatten)        (None, 128)               0         \n",
            "                                                                 \n",
            " dense_105 (Dense)           (None, 3)                 387       \n",
            "                                                                 \n",
            "=================================================================\n",
            "Total params: 167491 (654.26 KB)\n",
            "Trainable params: 167491 (654.26 KB)\n",
            "Non-trainable params: 0 (0.00 Byte)\n",
            "_________________________________________________________________\n"
          ]
        }
      ]
    },
    {
      "cell_type": "markdown",
      "source": [],
      "metadata": {
        "id": "MWCmlKtMKLc-"
      }
    },
    {
      "cell_type": "markdown",
      "source": [],
      "metadata": {
        "id": "VJBnDs8e1LUu"
      }
    },
    {
      "cell_type": "code",
      "source": [
        "model.fit(xtrain, ytrain, epochs=100, batch_size=10)"
      ],
      "metadata": {
        "colab": {
          "base_uri": "https://localhost:8080/"
        },
        "id": "yeL78k9cDyv9",
        "outputId": "104d1c42-2723-4ba1-947f-d284ce64d9a6"
      },
      "execution_count": null,
      "outputs": [
        {
          "output_type": "stream",
          "name": "stdout",
          "text": [
            "Epoch 1/100\n",
            "65/65 [==============================] - 0s 4ms/step - loss: 1.1578 - accuracy: 0.3963\n",
            "Epoch 2/100\n",
            "65/65 [==============================] - 0s 4ms/step - loss: 1.1929 - accuracy: 0.3994\n",
            "Epoch 3/100\n",
            "65/65 [==============================] - 2s 30ms/step - loss: 1.1179 - accuracy: 0.4056\n",
            "Epoch 4/100\n",
            "65/65 [==============================] - 1s 9ms/step - loss: 1.1411 - accuracy: 0.3808\n",
            "Epoch 5/100\n",
            "65/65 [==============================] - 0s 4ms/step - loss: 1.1147 - accuracy: 0.4211\n",
            "Epoch 6/100\n",
            "65/65 [==============================] - 0s 4ms/step - loss: 1.1444 - accuracy: 0.4257\n",
            "Epoch 7/100\n",
            "65/65 [==============================] - 0s 4ms/step - loss: 1.1667 - accuracy: 0.3978\n",
            "Epoch 8/100\n",
            "65/65 [==============================] - 0s 4ms/step - loss: 1.1266 - accuracy: 0.4025\n",
            "Epoch 9/100\n",
            "65/65 [==============================] - 3s 51ms/step - loss: 1.1428 - accuracy: 0.4164\n",
            "Epoch 10/100\n",
            "65/65 [==============================] - 0s 4ms/step - loss: 1.1573 - accuracy: 0.3932\n",
            "Epoch 11/100\n",
            "65/65 [==============================] - 0s 4ms/step - loss: 1.2371 - accuracy: 0.3746\n",
            "Epoch 12/100\n",
            "65/65 [==============================] - 1s 9ms/step - loss: 1.2477 - accuracy: 0.3901\n",
            "Epoch 13/100\n",
            "65/65 [==============================] - 0s 5ms/step - loss: 1.1521 - accuracy: 0.3715\n",
            "Epoch 14/100\n",
            "65/65 [==============================] - 0s 5ms/step - loss: 1.1339 - accuracy: 0.3746\n",
            "Epoch 15/100\n",
            "65/65 [==============================] - 1s 21ms/step - loss: 1.1111 - accuracy: 0.3963\n",
            "Epoch 16/100\n",
            "65/65 [==============================] - 0s 5ms/step - loss: 1.1483 - accuracy: 0.3947\n",
            "Epoch 17/100\n",
            "65/65 [==============================] - 0s 5ms/step - loss: 1.1934 - accuracy: 0.3638\n",
            "Epoch 18/100\n",
            "65/65 [==============================] - 0s 5ms/step - loss: 1.2024 - accuracy: 0.4025\n",
            "Epoch 19/100\n",
            "65/65 [==============================] - 0s 4ms/step - loss: 1.1358 - accuracy: 0.3591\n",
            "Epoch 20/100\n",
            "65/65 [==============================] - 1s 18ms/step - loss: 1.1748 - accuracy: 0.4180\n",
            "Epoch 21/100\n",
            "65/65 [==============================] - 1s 21ms/step - loss: 1.1545 - accuracy: 0.3916\n",
            "Epoch 22/100\n",
            "65/65 [==============================] - 0s 5ms/step - loss: 1.1429 - accuracy: 0.4025\n",
            "Epoch 23/100\n",
            "65/65 [==============================] - 0s 5ms/step - loss: 1.1128 - accuracy: 0.4118\n",
            "Epoch 24/100\n",
            "65/65 [==============================] - 2s 30ms/step - loss: 1.1095 - accuracy: 0.4164\n",
            "Epoch 25/100\n",
            "65/65 [==============================] - 1s 9ms/step - loss: 1.1158 - accuracy: 0.3916\n",
            "Epoch 26/100\n",
            "65/65 [==============================] - 0s 5ms/step - loss: 1.1715 - accuracy: 0.3777\n",
            "Epoch 27/100\n",
            "65/65 [==============================] - 0s 5ms/step - loss: 1.1341 - accuracy: 0.4180\n",
            "Epoch 28/100\n",
            "65/65 [==============================] - 2s 33ms/step - loss: 1.1067 - accuracy: 0.4087\n",
            "Epoch 29/100\n",
            "65/65 [==============================] - 0s 4ms/step - loss: 1.1230 - accuracy: 0.4195\n",
            "Epoch 30/100\n",
            "65/65 [==============================] - 0s 4ms/step - loss: 1.1593 - accuracy: 0.4009\n",
            "Epoch 31/100\n",
            "65/65 [==============================] - 0s 4ms/step - loss: 1.1180 - accuracy: 0.3808\n",
            "Epoch 32/100\n",
            "65/65 [==============================] - 1s 21ms/step - loss: 1.1439 - accuracy: 0.3824\n",
            "Epoch 33/100\n",
            "65/65 [==============================] - 0s 5ms/step - loss: 1.1453 - accuracy: 0.4025\n",
            "Epoch 34/100\n",
            "65/65 [==============================] - 1s 9ms/step - loss: 1.1181 - accuracy: 0.3978\n",
            "Epoch 35/100\n",
            "65/65 [==============================] - 0s 4ms/step - loss: 1.1742 - accuracy: 0.3854\n",
            "Epoch 36/100\n",
            "65/65 [==============================] - 0s 4ms/step - loss: 1.1815 - accuracy: 0.3406\n",
            "Epoch 37/100\n",
            "65/65 [==============================] - 0s 4ms/step - loss: 1.1601 - accuracy: 0.3669\n",
            "Epoch 38/100\n",
            "65/65 [==============================] - 2s 33ms/step - loss: 1.1464 - accuracy: 0.4149\n",
            "Epoch 39/100\n",
            "65/65 [==============================] - 0s 5ms/step - loss: 1.1659 - accuracy: 0.3839\n",
            "Epoch 40/100\n",
            "65/65 [==============================] - 0s 5ms/step - loss: 1.1695 - accuracy: 0.3777\n",
            "Epoch 41/100\n",
            "65/65 [==============================] - 1s 17ms/step - loss: 1.1009 - accuracy: 0.4319\n",
            "Epoch 42/100\n",
            "65/65 [==============================] - 1s 8ms/step - loss: 1.1769 - accuracy: 0.3808\n",
            "Epoch 43/100\n",
            "65/65 [==============================] - 0s 5ms/step - loss: 1.1611 - accuracy: 0.3885\n",
            "Epoch 44/100\n",
            "65/65 [==============================] - 0s 5ms/step - loss: 1.1318 - accuracy: 0.4195\n",
            "Epoch 45/100\n",
            "65/65 [==============================] - 2s 30ms/step - loss: 1.1100 - accuracy: 0.4381\n",
            "Epoch 46/100\n",
            "65/65 [==============================] - 0s 4ms/step - loss: 1.1715 - accuracy: 0.3622\n",
            "Epoch 47/100\n",
            "65/65 [==============================] - 0s 4ms/step - loss: 1.1421 - accuracy: 0.4288\n",
            "Epoch 48/100\n",
            "65/65 [==============================] - 1s 9ms/step - loss: 1.1587 - accuracy: 0.3870\n",
            "Epoch 49/100\n",
            "65/65 [==============================] - 0s 4ms/step - loss: 1.1168 - accuracy: 0.3885\n",
            "Epoch 50/100\n",
            "65/65 [==============================] - 0s 5ms/step - loss: 1.1697 - accuracy: 0.4164\n",
            "Epoch 51/100\n",
            "65/65 [==============================] - 1s 22ms/step - loss: 1.1123 - accuracy: 0.3916\n",
            "Epoch 52/100\n",
            "65/65 [==============================] - 0s 4ms/step - loss: 1.1306 - accuracy: 0.4056\n",
            "Epoch 53/100\n",
            "65/65 [==============================] - 0s 5ms/step - loss: 1.1828 - accuracy: 0.3839\n",
            "Epoch 54/100\n",
            "65/65 [==============================] - 1s 16ms/step - loss: 1.1404 - accuracy: 0.3947\n",
            "Epoch 55/100\n",
            "65/65 [==============================] - 1s 22ms/step - loss: 1.1140 - accuracy: 0.4102\n",
            "Epoch 56/100\n",
            "65/65 [==============================] - 0s 4ms/step - loss: 1.1173 - accuracy: 0.4056\n",
            "Epoch 57/100\n",
            "65/65 [==============================] - 0s 5ms/step - loss: 1.1902 - accuracy: 0.3793\n",
            "Epoch 58/100\n",
            "65/65 [==============================] - 1s 16ms/step - loss: 1.1629 - accuracy: 0.3824\n",
            "Epoch 59/100\n",
            "65/65 [==============================] - 1s 22ms/step - loss: 1.1625 - accuracy: 0.4040\n",
            "Epoch 60/100\n",
            "65/65 [==============================] - 0s 5ms/step - loss: 1.1428 - accuracy: 0.3777\n",
            "Epoch 61/100\n",
            "65/65 [==============================] - 0s 5ms/step - loss: 1.1528 - accuracy: 0.3529\n",
            "Epoch 62/100\n",
            "65/65 [==============================] - 2s 29ms/step - loss: 1.1506 - accuracy: 0.3978\n",
            "Epoch 63/100\n",
            "65/65 [==============================] - 1s 10ms/step - loss: 1.1242 - accuracy: 0.3963\n",
            "Epoch 64/100\n",
            "65/65 [==============================] - 0s 5ms/step - loss: 1.1304 - accuracy: 0.3994\n",
            "Epoch 65/100\n",
            "65/65 [==============================] - 1s 16ms/step - loss: 1.1686 - accuracy: 0.3793\n",
            "Epoch 66/100\n",
            "65/65 [==============================] - 1s 21ms/step - loss: 1.1844 - accuracy: 0.3746\n",
            "Epoch 67/100\n",
            "65/65 [==============================] - 0s 4ms/step - loss: 1.1464 - accuracy: 0.4025\n",
            "Epoch 68/100\n",
            "65/65 [==============================] - 1s 9ms/step - loss: 1.1552 - accuracy: 0.4056\n",
            "Epoch 69/100\n",
            "65/65 [==============================] - 0s 4ms/step - loss: 1.2555 - accuracy: 0.3824\n",
            "Epoch 70/100\n",
            "65/65 [==============================] - 0s 4ms/step - loss: 1.3131 - accuracy: 0.3700\n",
            "Epoch 71/100\n",
            "65/65 [==============================] - 0s 4ms/step - loss: 1.2255 - accuracy: 0.4009\n",
            "Epoch 72/100\n",
            "65/65 [==============================] - 1s 20ms/step - loss: 1.1080 - accuracy: 0.4056\n",
            "Epoch 73/100\n",
            "65/65 [==============================] - 0s 4ms/step - loss: 1.1851 - accuracy: 0.3622\n",
            "Epoch 74/100\n",
            "65/65 [==============================] - 0s 5ms/step - loss: 1.1319 - accuracy: 0.4133\n",
            "Epoch 75/100\n",
            "65/65 [==============================] - 1s 18ms/step - loss: 1.1439 - accuracy: 0.4056\n",
            "Epoch 76/100\n",
            "65/65 [==============================] - 1s 21ms/step - loss: 1.1130 - accuracy: 0.3901\n",
            "Epoch 77/100\n",
            "65/65 [==============================] - 0s 4ms/step - loss: 1.1018 - accuracy: 0.4365\n",
            "Epoch 78/100\n",
            "65/65 [==============================] - 0s 4ms/step - loss: 1.1420 - accuracy: 0.4087\n",
            "Epoch 79/100\n",
            "65/65 [==============================] - 2s 30ms/step - loss: 1.1178 - accuracy: 0.4149\n",
            "Epoch 80/100\n",
            "65/65 [==============================] - 1s 9ms/step - loss: 1.1229 - accuracy: 0.3824\n",
            "Epoch 81/100\n",
            "65/65 [==============================] - 0s 5ms/step - loss: 1.2150 - accuracy: 0.4025\n",
            "Epoch 82/100\n",
            "65/65 [==============================] - 0s 5ms/step - loss: 1.1038 - accuracy: 0.4334\n",
            "Epoch 83/100\n",
            "65/65 [==============================] - 1s 21ms/step - loss: 1.1964 - accuracy: 0.4226\n",
            "Epoch 84/100\n",
            "65/65 [==============================] - 0s 5ms/step - loss: 1.0881 - accuracy: 0.4303\n",
            "Epoch 85/100\n",
            "65/65 [==============================] - 1s 9ms/step - loss: 1.0980 - accuracy: 0.4241\n",
            "Epoch 86/100\n",
            "65/65 [==============================] - 0s 5ms/step - loss: 1.1157 - accuracy: 0.4040\n",
            "Epoch 87/100\n",
            "65/65 [==============================] - 0s 5ms/step - loss: 1.0982 - accuracy: 0.4288\n",
            "Epoch 88/100\n",
            "65/65 [==============================] - 1s 18ms/step - loss: 1.1079 - accuracy: 0.4288\n",
            "Epoch 89/100\n",
            "65/65 [==============================] - 0s 4ms/step - loss: 1.1573 - accuracy: 0.3854\n",
            "Epoch 90/100\n",
            "65/65 [==============================] - 0s 4ms/step - loss: 1.1425 - accuracy: 0.3870\n",
            "Epoch 91/100\n",
            "65/65 [==============================] - 0s 5ms/step - loss: 1.2093 - accuracy: 0.3885\n",
            "Epoch 92/100\n",
            "65/65 [==============================] - 2s 33ms/step - loss: 1.1437 - accuracy: 0.4087\n",
            "Epoch 93/100\n",
            "65/65 [==============================] - 0s 4ms/step - loss: 1.1663 - accuracy: 0.3715\n",
            "Epoch 94/100\n",
            "65/65 [==============================] - 0s 4ms/step - loss: 1.1728 - accuracy: 0.3622\n",
            "Epoch 95/100\n",
            "65/65 [==============================] - 0s 4ms/step - loss: 1.1454 - accuracy: 0.4102\n",
            "Epoch 96/100\n",
            "65/65 [==============================] - 2s 33ms/step - loss: 1.2158 - accuracy: 0.3746\n",
            "Epoch 97/100\n",
            "65/65 [==============================] - 0s 5ms/step - loss: 1.1321 - accuracy: 0.4226\n",
            "Epoch 98/100\n",
            "65/65 [==============================] - 0s 5ms/step - loss: 1.1210 - accuracy: 0.4071\n",
            "Epoch 99/100\n",
            "65/65 [==============================] - 1s 8ms/step - loss: 1.1564 - accuracy: 0.4025\n",
            "Epoch 100/100\n",
            "65/65 [==============================] - 0s 5ms/step - loss: 1.1343 - accuracy: 0.3947\n"
          ]
        },
        {
          "output_type": "execute_result",
          "data": {
            "text/plain": [
              "<keras.src.callbacks.History at 0x7adfd89871f0>"
            ]
          },
          "metadata": {},
          "execution_count": 243
        }
      ]
    },
    {
      "cell_type": "code",
      "source": [
        "from keras.utils import to_categorical\n",
        "from sklearn.metrics import accuracy_score\n",
        "y = model.predict(xtest)\n",
        "\n",
        "yp = [np.argmax(y[i]) for i in range(len(y))]\n",
        "yp = to_categorical(yp, num_classes=3)\n",
        "accuracy_score(y_true=ytest, y_pred=yp)\n"
      ],
      "metadata": {
        "colab": {
          "base_uri": "https://localhost:8080/"
        },
        "id": "78VQ0UpMJea-",
        "outputId": "95e3be00-4a61-4a15-af17-a8d8cf648dbe"
      },
      "execution_count": null,
      "outputs": [
        {
          "output_type": "stream",
          "name": "stdout",
          "text": [
            "6/6 [==============================] - 0s 2ms/step\n"
          ]
        },
        {
          "output_type": "execute_result",
          "data": {
            "text/plain": [
              "0.4444444444444444"
            ]
          },
          "metadata": {},
          "execution_count": 244
        }
      ]
    },
    {
      "cell_type": "code",
      "source": [],
      "metadata": {
        "colab": {
          "base_uri": "https://localhost:8080/"
        },
        "id": "hItOBEtxJjA3",
        "outputId": "6dcfcf10-fd89-4d17-e8c2-c951d25d021a"
      },
      "execution_count": null,
      "outputs": [
        {
          "output_type": "execute_result",
          "data": {
            "text/plain": [
              "0.4444444444444444"
            ]
          },
          "metadata": {},
          "execution_count": 236
        }
      ]
    },
    {
      "cell_type": "code",
      "source": [
        "tuner.get_best_hyperparameters"
      ],
      "metadata": {
        "colab": {
          "base_uri": "https://localhost:8080/"
        },
        "id": "BQgwTqfEL2wA",
        "outputId": "3345a223-a912-464e-8c65-4acce07394ed"
      },
      "execution_count": null,
      "outputs": [
        {
          "output_type": "execute_result",
          "data": {
            "text/plain": [
              "<keras.src.engine.sequential.Sequential at 0x7e362f6e1cc0>"
            ]
          },
          "metadata": {},
          "execution_count": 256
        }
      ]
    },
    {
      "cell_type": "code",
      "source": [
        "p = best_model.predict(xtest)"
      ],
      "metadata": {
        "colab": {
          "base_uri": "https://localhost:8080/"
        },
        "id": "o_y4qeyTMeDn",
        "outputId": "d16784da-cbea-40bb-b1ef-48e40798b783"
      },
      "execution_count": null,
      "outputs": [
        {
          "output_type": "stream",
          "name": "stdout",
          "text": [
            "6/6 [==============================] - 0s 3ms/step\n"
          ]
        }
      ]
    },
    {
      "cell_type": "code",
      "source": [
        "y = [np.argmax(p[i]) for i in range(len(p))]"
      ],
      "metadata": {
        "id": "B2-y-CyrMj79"
      },
      "execution_count": null,
      "outputs": []
    },
    {
      "cell_type": "code",
      "source": [
        "yp=to_categorical(y)"
      ],
      "metadata": {
        "id": "MYxgzWMONg63"
      },
      "execution_count": null,
      "outputs": []
    },
    {
      "cell_type": "code",
      "source": [
        "from sklearn.metrics import classification_report\n",
        "print(classification_report(y_true=ytest, y_pred=yp))"
      ],
      "metadata": {
        "colab": {
          "base_uri": "https://localhost:8080/"
        },
        "id": "834PIvN-MpOt",
        "outputId": "9e2f4db4-8584-4992-d6d6-3227eb7c3f64"
      },
      "execution_count": null,
      "outputs": [
        {
          "output_type": "stream",
          "name": "stdout",
          "text": [
            "              precision    recall  f1-score   support\n",
            "\n",
            "           0       0.26      0.16      0.20        56\n",
            "           1       0.45      0.60      0.51        77\n",
            "           2       0.20      0.17      0.19        29\n",
            "\n",
            "   micro avg       0.37      0.37      0.37       162\n",
            "   macro avg       0.30      0.31      0.30       162\n",
            "weighted avg       0.34      0.37      0.35       162\n",
            " samples avg       0.37      0.37      0.37       162\n",
            "\n"
          ]
        }
      ]
    },
    {
      "cell_type": "code",
      "source": [
        "p"
      ],
      "metadata": {
        "colab": {
          "base_uri": "https://localhost:8080/"
        },
        "id": "7kX-m_NaMtCM",
        "outputId": "4f1130a2-6b06-42b8-ab98-878a53c6dcf7"
      },
      "execution_count": null,
      "outputs": [
        {
          "output_type": "execute_result",
          "data": {
            "text/plain": [
              "85"
            ]
          },
          "metadata": {},
          "execution_count": 234
        }
      ]
    }
  ]
}